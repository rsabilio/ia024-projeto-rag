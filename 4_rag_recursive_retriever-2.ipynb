{
  "cells": [
    {
      "cell_type": "markdown",
      "metadata": {
        "id": "view-in-github"
      },
      "source": [
        "<a href=\"https://colab.research.google.com/github/rsabilio/ia024-projeto-rag/blob/main/4_rag_recursive_retriever.ipynb\" target=\"_parent\"><img src=\"https://colab.research.google.com/assets/colab-badge.svg\" alt=\"Open In Colab\"/></a>"
      ]
    },
    {
      "cell_type": "markdown",
      "metadata": {
        "id": "EGYXWXpPkr1B"
      },
      "source": [
        "# Instruções\n",
        "\n",
        "* Estratégia\n",
        "    * Usar segmentação por similaridade\n",
        "    * Busca densa\n",
        "    * Recursive Retriver"
      ]
    },
    {
      "cell_type": "markdown",
      "metadata": {
        "id": "jUcir-zQ3zd0"
      },
      "source": [
        "# Instalando pacotes"
      ]
    },
    {
      "cell_type": "code",
      "execution_count": 12,
      "metadata": {
        "id": "62agRBPA31E3"
      },
      "outputs": [],
      "source": [
        "!pip install -q llama-index llama-index-llms-groq sentence-transformers llama-index-embeddings-huggingface transformers"
      ]
    },
    {
      "cell_type": "markdown",
      "metadata": {
        "id": "jCeNEFrrn1Np"
      },
      "source": [
        "# Importando pacotes"
      ]
    },
    {
      "cell_type": "code",
      "execution_count": 13,
      "metadata": {
        "id": "yZVJgqj7BRvx"
      },
      "outputs": [],
      "source": [
        "import os\n",
        "from google.colab import userdata\n",
        "\n",
        "os.environ['GROQ_API_KEY'] = userdata.get('GROQ_API_KEY')"
      ]
    },
    {
      "cell_type": "code",
      "execution_count": 14,
      "metadata": {
        "id": "jUOm1M0ln32U"
      },
      "outputs": [],
      "source": [
        "from llama_index.core import Settings, VectorStoreIndex, PromptTemplate\n",
        "from llama_index.embeddings.huggingface import HuggingFaceEmbedding\n",
        "from llama_index.llms.groq import Groq\n",
        "from llama_index.core.schema import TextNode, IndexNode\n",
        "from llama_index.core.node_parser import SentenceSplitter\n",
        "from llama_index.core.retrievers import RecursiveRetriever\n",
        "from llama_index.core.query_engine import RetrieverQueryEngine\n",
        "from llama_index.core.evaluation import FaithfulnessEvaluator, CorrectnessEvaluator, RelevancyEvaluator\n",
        "from llama_index.core.response.notebook_utils import display_source_node, display_response\n",
        "import json\n",
        "import pandas as pd\n",
        "from rich.pretty import pprint\n",
        "from tqdm import tqdm\n",
        "from IPython.display import Markdown, display\n",
        "\n",
        "import nest_asyncio\n",
        "nest_asyncio.apply()\n"
      ]
    },
    {
      "cell_type": "markdown",
      "metadata": {
        "id": "Fg6BXeWrV7YM"
      },
      "source": [
        "# GitHub"
      ]
    },
    {
      "cell_type": "code",
      "source": [
        "GITHUB_TOKEN      = userdata.get('GITHUB_TOKEN')\n",
        "GITHUB_USER_EMAIL = userdata.get('GITHUB_USER_EMAIL')\n",
        "GITHUB_USER_NAME  = userdata.get('GITHUB_USER_NAME')\n",
        "\n",
        "!git config --global user.email '''{GITHUB_USER_EMAIL}'''\n",
        "!git config --global user.name '''{GITHUB_USER_NAME}'''\n",
        "\n",
        "# Clonar o repositório GitHub\n",
        "!git clone https://{GITHUB_TOKEN}@github.com/rsabilio/ia024-projeto-rag.git"
      ],
      "metadata": {
        "colab": {
          "base_uri": "https://localhost:8080/"
        },
        "id": "ye7MaWIUU1hx",
        "outputId": "90328c79-030d-4d2f-a1b9-c62b539f2d11"
      },
      "execution_count": 15,
      "outputs": [
        {
          "output_type": "stream",
          "name": "stdout",
          "text": [
            "fatal: destination path 'ia024-projeto-rag' already exists and is not an empty directory.\n"
          ]
        }
      ]
    },
    {
      "cell_type": "code",
      "execution_count": 16,
      "metadata": {
        "id": "O9-YfaN807lj"
      },
      "outputs": [],
      "source": [
        "DATA_DIR = '/content/ia024-projeto-rag'"
      ]
    },
    {
      "cell_type": "code",
      "source": [
        "def save_on_git(msg):\n",
        "\n",
        "    %cd /content/ia024-projeto-rag\n",
        "\n",
        "    !git remote set-url origin https://{GITHUB_TOKEN}@github.com/rsabilio/ia024-projeto-rag\n",
        "\n",
        "    !git pull origin main\n",
        "\n",
        "    !git add .\n",
        "\n",
        "    !git commit -m '''{msg}'''\n",
        "\n",
        "    !git push origin main"
      ],
      "metadata": {
        "id": "dWdpB2OFUvvs"
      },
      "execution_count": 17,
      "outputs": []
    },
    {
      "cell_type": "code",
      "source": [
        "def update_local_repo():\n",
        "    %cd /content/ia024-projeto-rag\n",
        "\n",
        "    !git remote set-url origin https://{GITHUB_TOKEN}@github.com/rsabilio/ia024-projeto-rag\n",
        "\n",
        "    !git pull origin main"
      ],
      "metadata": {
        "id": "u1rfE4O25rXL"
      },
      "execution_count": 18,
      "outputs": []
    },
    {
      "cell_type": "code",
      "source": [
        "update_local_repo()"
      ],
      "metadata": {
        "id": "Ql6NAeMryyLY",
        "colab": {
          "base_uri": "https://localhost:8080/"
        },
        "outputId": "414dd59a-9c29-417d-fbab-55c1982f8c41"
      },
      "execution_count": 19,
      "outputs": [
        {
          "output_type": "stream",
          "name": "stdout",
          "text": [
            "/content/ia024-projeto-rag\n",
            "From https://github.com/rsabilio/ia024-projeto-rag\n",
            " * branch            main       -> FETCH_HEAD\n",
            "Already up to date.\n"
          ]
        }
      ]
    },
    {
      "cell_type": "markdown",
      "source": [
        "# RAG - Recursive Retriever"
      ],
      "metadata": {
        "id": "IbABX87M92gs"
      }
    },
    {
      "cell_type": "markdown",
      "source": [
        "## Preparando dados"
      ],
      "metadata": {
        "id": "fbu_llHJzQnm"
      }
    },
    {
      "cell_type": "code",
      "source": [
        "embed_model = HuggingFaceEmbedding(model_name=\"alfaneo/bertimbau-base-portuguese-sts\")\n",
        "\n",
        "Settings.embed_model = embed_model\n",
        "Settings.llm         = Groq(model=\"llama3-70b-8192\")\n"
      ],
      "metadata": {
        "colab": {
          "base_uri": "https://localhost:8080/"
        },
        "id": "8y8TxvElYXvT",
        "outputId": "acc255f6-2e95-46c3-b4c3-7b77d2e2e2ca"
      },
      "execution_count": 20,
      "outputs": [
        {
          "output_type": "stream",
          "name": "stderr",
          "text": [
            "/usr/local/lib/python3.10/dist-packages/huggingface_hub/utils/_token.py:89: UserWarning: \n",
            "The secret `HF_TOKEN` does not exist in your Colab secrets.\n",
            "To authenticate with the Hugging Face Hub, create a token in your settings tab (https://huggingface.co/settings/tokens), set it as secret in your Google Colab and restart your session.\n",
            "You will be able to reuse this secret in all of your notebooks.\n",
            "Please note that authentication is recommended but still optional to access public models or datasets.\n",
            "  warnings.warn(\n",
            "/usr/local/lib/python3.10/dist-packages/huggingface_hub/file_download.py:1132: FutureWarning: `resume_download` is deprecated and will be removed in version 1.0.0. Downloads always resume when possible. If you want to force a new download, use `force_download=True`.\n",
            "  warnings.warn(\n"
          ]
        }
      ]
    },
    {
      "cell_type": "code",
      "source": [
        "import glob\n",
        "\n",
        "def get_json_files(directory):\n",
        "    return glob.glob(os.path.join(directory, \"*.json\"))\n",
        "\n",
        "\n",
        "base_nodes     = []\n",
        "\n",
        "print(f\"Carregando Estatuto e Organizações Didáticas...\")\n",
        "directory_path = f\"{DATA_DIR}/2-dataset/\"\n",
        "json_files     = get_json_files(directory_path)\n",
        "\n",
        "for json_file in json_files:\n",
        "    print(f\"Carregando: {json_file}\")\n",
        "    with open(json_file, 'r') as f:\n",
        "        documento = json.load(f)\n",
        "\n",
        "    documento_titulo = documento['titulo']\n",
        "    documento_texto  = documento['texto_compacto']\n",
        "\n",
        "    for parte in documento['partes']:\n",
        "        metadata = {}\n",
        "        metadata[\"documento\"] = documento_titulo\n",
        "\n",
        "        titulo_nome    = parte['titulo']\n",
        "        titulo_artigos = parte['artigos']\n",
        "        capitulos      = parte['capitulos']\n",
        "\n",
        "        metadata[\"titulo\"] = titulo_nome\n",
        "        if titulo_artigos != \"\":\n",
        "            node = TextNode(text=titulo_artigos, metadata=metadata)\n",
        "            base_nodes.append(node)\n",
        "\n",
        "        for capitulo in capitulos:\n",
        "            cap_titulo  = capitulo['titulo']\n",
        "            cap_artigos = capitulo['artigos']\n",
        "\n",
        "            metadata[\"capitulo\"] = cap_titulo\n",
        "            node = TextNode(text=cap_artigos, metadata=metadata)\n",
        "            base_nodes.append(node)\n",
        "    print(f\"{len(base_nodes)} nodes carregados\")\n",
        "\n",
        "print(f\"Carregando portarias: {directory_path}\")\n",
        "directory_path = f\"{DATA_DIR}/2-dataset/2-boituva/portarias\"\n",
        "json_files     = get_json_files(directory_path)\n",
        "\n",
        "for json_file in json_files:\n",
        "    print(f\"Carregando: {json_file}\")\n",
        "    with open(json_file, 'r') as f:\n",
        "        documento = json.load(f)\n",
        "\n",
        "    for portaria in documento:\n",
        "\n",
        "        portaria_titulo = portaria['title:']\n",
        "        portaria_texto  = portaria['texto_completo']\n",
        "\n",
        "        metadata = {}\n",
        "        metadata[\"campus\"]    = portaria['campus']\n",
        "        metadata[\"documento\"] = portaria_titulo\n",
        "        node = TextNode(text=portaria_texto, metadata=metadata)\n",
        "        base_nodes.append(node)\n",
        "\n",
        "    print(f\"{len(base_nodes)} nodes carregados\")\n",
        "\n",
        "for i, node in enumerate(base_nodes):\n",
        "    node.id_ = f\"node_{i}\"\n",
        "\n",
        "print(f\"Total de nodes carregados: {len(base_nodes)}\")"
      ],
      "metadata": {
        "colab": {
          "base_uri": "https://localhost:8080/"
        },
        "id": "8F4GF8M6zTOR",
        "outputId": "89e1a994-aa73-4711-8530-b71f969f4f87"
      },
      "execution_count": 21,
      "outputs": [
        {
          "output_type": "stream",
          "name": "stdout",
          "text": [
            "Carregando Estatuto e Organizações Didáticas...\n",
            "Carregando: /content/ia024-projeto-rag/2-dataset/estatuto.json\n",
            "17 nodes carregados\n",
            "Carregando: /content/ia024-projeto-rag/2-dataset/organização_didática_da_educação_básica.json\n",
            "47 nodes carregados\n",
            "Carregando: /content/ia024-projeto-rag/2-dataset/organização_didática_dos_cursos_de_graduação.json\n",
            "76 nodes carregados\n",
            "Carregando portarias: /content/ia024-projeto-rag/2-dataset/\n",
            "Carregando: /content/ia024-projeto-rag/2-dataset/2-boituva/portarias/boituva-2015.json\n",
            "78 nodes carregados\n",
            "Carregando: /content/ia024-projeto-rag/2-dataset/2-boituva/portarias/boituva-2023.json\n",
            "145 nodes carregados\n",
            "Carregando: /content/ia024-projeto-rag/2-dataset/2-boituva/portarias/boituva-2020.json\n",
            "162 nodes carregados\n",
            "Carregando: /content/ia024-projeto-rag/2-dataset/2-boituva/portarias/boituva-2021.json\n",
            "248 nodes carregados\n",
            "Carregando: /content/ia024-projeto-rag/2-dataset/2-boituva/portarias/boituva-2018.json\n",
            "396 nodes carregados\n",
            "Carregando: /content/ia024-projeto-rag/2-dataset/2-boituva/portarias/boituva-2014.json\n",
            "428 nodes carregados\n",
            "Carregando: /content/ia024-projeto-rag/2-dataset/2-boituva/portarias/boituva-2024.json\n",
            "453 nodes carregados\n",
            "Total de nodes carregados: 453\n"
          ]
        }
      ]
    },
    {
      "cell_type": "code",
      "source": [
        "pprint(base_nodes[-5:])"
      ],
      "metadata": {
        "colab": {
          "base_uri": "https://localhost:8080/",
          "height": 1000
        },
        "id": "qDwT1A3Gk14v",
        "outputId": "12c53b68-17b7-4de7-cf90-4c6459eaa9bb"
      },
      "execution_count": 22,
      "outputs": [
        {
          "output_type": "display_data",
          "data": {
            "text/plain": [
              "\u001b[1m[\u001b[0m\n",
              "\u001b[2;32m│   \u001b[0m\u001b[1;35mTextNode\u001b[0m\u001b[1m(\u001b[0m\n",
              "\u001b[2;32m│   │   \u001b[0m\u001b[33mid_\u001b[0m=\u001b[32m'node_448'\u001b[0m,\n",
              "\u001b[2;32m│   │   \u001b[0m\u001b[33membedding\u001b[0m=\u001b[3;35mNone\u001b[0m,\n",
              "\u001b[2;32m│   │   \u001b[0m\u001b[33mmetadata\u001b[0m=\u001b[1m{\u001b[0m\u001b[32m'campus'\u001b[0m: \u001b[32m'boituva'\u001b[0m, \u001b[32m'documento'\u001b[0m: \u001b[32m'Portaria nº 3.903, de 04 de novembro de 2015'\u001b[0m\u001b[1m}\u001b[0m,\n",
              "\u001b[2;32m│   │   \u001b[0m\u001b[33mexcluded_embed_metadata_keys\u001b[0m=\u001b[1m[\u001b[0m\u001b[1m]\u001b[0m,\n",
              "\u001b[2;32m│   │   \u001b[0m\u001b[33mexcluded_llm_metadata_keys\u001b[0m=\u001b[1m[\u001b[0m\u001b[1m]\u001b[0m,\n",
              "\u001b[2;32m│   │   \u001b[0m\u001b[33mrelationships\u001b[0m=\u001b[1m{\u001b[0m\u001b[1m}\u001b[0m,\n",
              "\u001b[2;32m│   │   \u001b[0m\u001b[33mtext\u001b[0m=\u001b[32m'MINISTÉRIO DA EDUCAÇÃO. INSTITUTO FEDERAL DE EDUCAÇÃO, CIÊNCIA E TECNOLOGIA DE SÃO PAULO. CAMPUS BOITUVA. PORTARIA Nº 33/2024 - DRG/BTV/IFSP DE 2 DE MAIO DE 2024 O DIRETOR GERAL DO CAMPUS BOITUVA, DO INSTITUTO FEDERAL DE EDUCAÇÃO, CIÊNCIA E TECNOLOGIA DE SÃO PAULO, no uso de suas atribuições legais delegadas pela Portaria nº 3.903, de 04 de novembro de 2015, RESOLVE: Art 1.º - DESIGNAR, o servidor Rafael Augusto Rocha Maia; CPF: XXX.444.188-XX como titular e, como substituto o servidor Helio Falci Junior; CPF: XXX.991.188-XX para nos termos do artigo 117 da Lei nº 14.133/2021, exercer a fiscalização e acompanhamento do contrato abaixo relacionado:. |Contrato n°|Empresa|Objeto| |---|---|---| |02710/2024|Ragnar Segurança Ltda,|Prestação de serviço continuado de vigilância patrimonial desarmada;|. Art 2.º - ATRIBUIÇÕES DO FISCAL: acompanhar e fiscalizar o fiel cumprimento do Contrato de cláusulas avençadas, opinar sobre a oportunidade e conveniência de prorrogação de vigência ou aditamento de objeto, bem como comunicar as irregularidades eventualmente constatadas à Coordenadoria de Contratos e Convênios. Art 3º - Esta Portaria tem vigência até 01/05/2025. Art 4º - Esta Portaria entra em vigor na data de sua publicação. De ciência. Publique-se. Documento assinado eletronicamente. FELIPE AUGUSTO FERREIRA DE ALMEIDA Publicado no site institucional em 02.05.2024. Documento assinado eletronicamente por:. Felipe Augusto Ferreira de Almeida Felipe Augusto Ferreira de Almeida, DIRETOR\u001b[0m\u001b[32m(\u001b[0m\u001b[32mA\u001b[0m\u001b[32m)\u001b[0m\u001b[32m GERAL - CD2 - DRG/BTV, em 02/05/2024 18:19:00. Este documento foi emitido pelo SUAP em 02/05/2024. Para comprovar sua autenticidade, faça a leitura do QRCode ao lado ou acesse https://suap.ifsp.edu.br/autenticar-documento/ e forneça os dados abaixo:. |Código Verificador:|741820| |---|---| |Código de Autenticação:|f347eaa4df|. PORTARIA Nº 33/2024 - DRG/BTV/IFSP. PORTARIA Nº 33/2024 - DRG/BTV/IFSP'\u001b[0m,\n",
              "\u001b[2;32m│   │   \u001b[0m\u001b[33mmimetype\u001b[0m=\u001b[32m'text/plain'\u001b[0m,\n",
              "\u001b[2;32m│   │   \u001b[0m\u001b[33mstart_char_idx\u001b[0m=\u001b[3;35mNone\u001b[0m,\n",
              "\u001b[2;32m│   │   \u001b[0m\u001b[33mend_char_idx\u001b[0m=\u001b[3;35mNone\u001b[0m,\n",
              "\u001b[2;32m│   │   \u001b[0m\u001b[33mtext_template\u001b[0m=\u001b[32m'\u001b[0m\u001b[32m{\u001b[0m\u001b[32mmetadata_str\u001b[0m\u001b[32m}\u001b[0m\u001b[32m\\n\\n\u001b[0m\u001b[32m{\u001b[0m\u001b[32mcontent\u001b[0m\u001b[32m}\u001b[0m\u001b[32m'\u001b[0m,\n",
              "\u001b[2;32m│   │   \u001b[0m\u001b[33mmetadata_template\u001b[0m=\u001b[32m'\u001b[0m\u001b[32m{\u001b[0m\u001b[32mkey\u001b[0m\u001b[32m}\u001b[0m\u001b[32m: \u001b[0m\u001b[32m{\u001b[0m\u001b[32mvalue\u001b[0m\u001b[32m}\u001b[0m\u001b[32m'\u001b[0m,\n",
              "\u001b[2;32m│   │   \u001b[0m\u001b[33mmetadata_seperator\u001b[0m=\u001b[32m'\\n'\u001b[0m\n",
              "\u001b[2;32m│   \u001b[0m\u001b[1m)\u001b[0m,\n",
              "\u001b[2;32m│   \u001b[0m\u001b[1;35mTextNode\u001b[0m\u001b[1m(\u001b[0m\n",
              "\u001b[2;32m│   │   \u001b[0m\u001b[33mid_\u001b[0m=\u001b[32m'node_449'\u001b[0m,\n",
              "\u001b[2;32m│   │   \u001b[0m\u001b[33membedding\u001b[0m=\u001b[3;35mNone\u001b[0m,\n",
              "\u001b[2;32m│   │   \u001b[0m\u001b[33mmetadata\u001b[0m=\u001b[1m{\u001b[0m\u001b[32m'campus'\u001b[0m: \u001b[32m'boituva'\u001b[0m, \u001b[32m'documento'\u001b[0m: \u001b[32m'Portaria nº 3.903, de 04 de novembro de 2015'\u001b[0m\u001b[1m}\u001b[0m,\n",
              "\u001b[2;32m│   │   \u001b[0m\u001b[33mexcluded_embed_metadata_keys\u001b[0m=\u001b[1m[\u001b[0m\u001b[1m]\u001b[0m,\n",
              "\u001b[2;32m│   │   \u001b[0m\u001b[33mexcluded_llm_metadata_keys\u001b[0m=\u001b[1m[\u001b[0m\u001b[1m]\u001b[0m,\n",
              "\u001b[2;32m│   │   \u001b[0m\u001b[33mrelationships\u001b[0m=\u001b[1m{\u001b[0m\u001b[1m}\u001b[0m,\n",
              "\u001b[2;32m│   │   \u001b[0m\u001b[33mtext\u001b[0m=\u001b[32m'MINISTÉRIO DA EDUCAÇÃO. INSTITUTO FEDERAL DE EDUCAÇÃO, CIÊNCIA E TECNOLOGIA DE SÃO PAULO. CAMPUS BOITUVA. PORTARIA Nº 1/2024 - DRG/BTV/IFSP DE 5 DE JANEIRO DE 2024 O DIRETOR-GERAL EM EXERCÍCIO DO CAMPUS BOITUVA, DO INSTITUTO FEDERAL DE EDUCAÇÃO, CIÊNCIA E TECNOLOGIA DE SÃO PAULO, no uso de suas atribuições legais delegadas pela Portaria nº 3.903, de 04 de novembro de 2015 e o que diz a PORTARIA Nº 6583/IFSP, de 20 de dezembro de 2021, RESOLVE: Art 1.º - INSTITUIR, a Comissão de Matrícula do Campus Boituva \u001b[0m\u001b[32m(\u001b[0m\u001b[32mCM\u001b[0m\u001b[32m)\u001b[0m\u001b[32m, para auxílio a Coordenadoria de Registros Acadêmicos nos períodos de matrícula dos processos seletivos ofertados, para ingressantes no primeiro semestre de 2024. Art 2.º - DESIGNAR, os servidores abaixo relacionados para, sob a Presidência do primeiro, compor a comissão supracitada. Mariane de Almeida Silva Lara Felipe Gobo Bruno Lívia Pereira de Paula Mariangela Alves Dias Fernando Maffeis Leumas Castelli Miriam Cristina Peruzzi Soares Belote Bruno Fortunato Lima Patrícia da Costa Oliveira Art 3º - Esta Portaria tem vigência até o dia 30 de abril de 2024. Art 4º - Esta Portaria entra em vigor na data de sua publicação. De ciência. Publique-se. Documento assinado eletronicamente. FELIPE GOBO BRUNO Publicado no site institucional em 05.01.2024. Documento assinado eletronicamente por: Felipe Gobo Bruno Felipe Gobo Bruno, COORDENADOR\u001b[0m\u001b[32m(\u001b[0m\u001b[32mA\u001b[0m\u001b[32m)\u001b[0m\u001b[32m - FG2 - CDI-BTVCOORDENADOR\u001b[0m\u001b[32m(\u001b[0m\u001b[32mA\u001b[0m\u001b[32m)\u001b[0m\u001b[32m - FG2 - CDI-BTV, em 05/01/2024 17:30:16. Este documento foi emitido pelo SUAP em 05/01/2024. Para comprovar sua autenticidade, faça a leitura do QRCode ao lado ou acesse https://suap.ifsp.edu.br/autenticar-documento/ e forneça os dados abaixo: Código Verificador: 676742 Código de Autenticação: 5a7e50732a PORTARIA Nº 1/2024 - DRG/BTV/IFSP PORTARIA Nº 1/2024 - DRG/BTV/IFSP'\u001b[0m,\n",
              "\u001b[2;32m│   │   \u001b[0m\u001b[33mmimetype\u001b[0m=\u001b[32m'text/plain'\u001b[0m,\n",
              "\u001b[2;32m│   │   \u001b[0m\u001b[33mstart_char_idx\u001b[0m=\u001b[3;35mNone\u001b[0m,\n",
              "\u001b[2;32m│   │   \u001b[0m\u001b[33mend_char_idx\u001b[0m=\u001b[3;35mNone\u001b[0m,\n",
              "\u001b[2;32m│   │   \u001b[0m\u001b[33mtext_template\u001b[0m=\u001b[32m'\u001b[0m\u001b[32m{\u001b[0m\u001b[32mmetadata_str\u001b[0m\u001b[32m}\u001b[0m\u001b[32m\\n\\n\u001b[0m\u001b[32m{\u001b[0m\u001b[32mcontent\u001b[0m\u001b[32m}\u001b[0m\u001b[32m'\u001b[0m,\n",
              "\u001b[2;32m│   │   \u001b[0m\u001b[33mmetadata_template\u001b[0m=\u001b[32m'\u001b[0m\u001b[32m{\u001b[0m\u001b[32mkey\u001b[0m\u001b[32m}\u001b[0m\u001b[32m: \u001b[0m\u001b[32m{\u001b[0m\u001b[32mvalue\u001b[0m\u001b[32m}\u001b[0m\u001b[32m'\u001b[0m,\n",
              "\u001b[2;32m│   │   \u001b[0m\u001b[33mmetadata_seperator\u001b[0m=\u001b[32m'\\n'\u001b[0m\n",
              "\u001b[2;32m│   \u001b[0m\u001b[1m)\u001b[0m,\n",
              "\u001b[2;32m│   \u001b[0m\u001b[1;35mTextNode\u001b[0m\u001b[1m(\u001b[0m\n",
              "\u001b[2;32m│   │   \u001b[0m\u001b[33mid_\u001b[0m=\u001b[32m'node_450'\u001b[0m,\n",
              "\u001b[2;32m│   │   \u001b[0m\u001b[33membedding\u001b[0m=\u001b[3;35mNone\u001b[0m,\n",
              "\u001b[2;32m│   │   \u001b[0m\u001b[33mmetadata\u001b[0m=\u001b[1m{\u001b[0m\u001b[32m'campus'\u001b[0m: \u001b[32m'boituva'\u001b[0m, \u001b[32m'documento'\u001b[0m: \u001b[32m'Portaria nº 3.903, de 04 de novembro de 2015'\u001b[0m\u001b[1m}\u001b[0m,\n",
              "\u001b[2;32m│   │   \u001b[0m\u001b[33mexcluded_embed_metadata_keys\u001b[0m=\u001b[1m[\u001b[0m\u001b[1m]\u001b[0m,\n",
              "\u001b[2;32m│   │   \u001b[0m\u001b[33mexcluded_llm_metadata_keys\u001b[0m=\u001b[1m[\u001b[0m\u001b[1m]\u001b[0m,\n",
              "\u001b[2;32m│   │   \u001b[0m\u001b[33mrelationships\u001b[0m=\u001b[1m{\u001b[0m\u001b[1m}\u001b[0m,\n",
              "\u001b[2;32m│   │   \u001b[0m\u001b[33mtext\u001b[0m=\u001b[32m'MINISTÉRIO DA EDUCAÇÃO. INSTITUTO FEDERAL DE EDUCAÇÃO, CIÊNCIA E TECNOLOGIA DE SÃO PAULO. CAMPUS BOITUVA. PORTARIA Nº 3/2024 - DRG/BTV/IFSP DE 24 DE JANEIRO DE 2024 O DIRETOR-GERAL EM EXERCÍCIO DO CAMPUS BOITUVA DO INSTITUTO FEDERAL DE EDUCAÇÃO, CIÊNCIA E TECNOLOGIA DE SÃO PAULO, no uso de suas atribuições legais delegadas pela Portaria nº 3.903, de 04 de novembro de 2015, e considerando o Manual de Inventário Anual aprovado pela Portaria no 5.656, de 22 de outubro de 2014, RESOLVE: Art 1º - DESIGNAR, os servidores abaixo relacionados para constituírem, a Comissão de Inventário do Campus Boituva. Fernando Maffeis – Assistente de Alunos; Osiel Veigman Gomes – Assistente de Alunos; Bruno Fortunato de Lima – Técnico de Laboratório. Art 2º - Esta Portaria tem vigência até 30 de junho de 2024. Art 3º - Esta Portaria entra em vigor a partir de sua publicação. De ciência. Publique-se. Documento assinado eletronicamente. FELIPE GOBO BRUNO Publicado no site institucional em 24.01.2024 Documento assinado eletronicamente por: Felipe Gobo Bruno, COORDENADOR\u001b[0m\u001b[32m(\u001b[0m\u001b[32mA\u001b[0m\u001b[32m)\u001b[0m\u001b[32m - FG2 - CDI-BTV, em 24/01/2024 11:10:10. Felipe Gobo BrunoCOORDENADOR\u001b[0m\u001b[32m(\u001b[0m\u001b[32mA\u001b[0m\u001b[32m)\u001b[0m\u001b[32m - FG2 - CDI-BTV Este documento foi emitido pelo SUAP em 11/01/2024. Para comprovar sua autenticidade, faça a leitura do QRCode ao lado ou acesse https://suap.ifsp.edu.br/autenticar-documento/ e forneça os dados abaixo: Código Verificador:678446 Código de Autenticação:c311f6a3a8 PORTARIA Nº 3/2024 - DRG/BTV/IFSP'\u001b[0m,\n",
              "\u001b[2;32m│   │   \u001b[0m\u001b[33mmimetype\u001b[0m=\u001b[32m'text/plain'\u001b[0m,\n",
              "\u001b[2;32m│   │   \u001b[0m\u001b[33mstart_char_idx\u001b[0m=\u001b[3;35mNone\u001b[0m,\n",
              "\u001b[2;32m│   │   \u001b[0m\u001b[33mend_char_idx\u001b[0m=\u001b[3;35mNone\u001b[0m,\n",
              "\u001b[2;32m│   │   \u001b[0m\u001b[33mtext_template\u001b[0m=\u001b[32m'\u001b[0m\u001b[32m{\u001b[0m\u001b[32mmetadata_str\u001b[0m\u001b[32m}\u001b[0m\u001b[32m\\n\\n\u001b[0m\u001b[32m{\u001b[0m\u001b[32mcontent\u001b[0m\u001b[32m}\u001b[0m\u001b[32m'\u001b[0m,\n",
              "\u001b[2;32m│   │   \u001b[0m\u001b[33mmetadata_template\u001b[0m=\u001b[32m'\u001b[0m\u001b[32m{\u001b[0m\u001b[32mkey\u001b[0m\u001b[32m}\u001b[0m\u001b[32m: \u001b[0m\u001b[32m{\u001b[0m\u001b[32mvalue\u001b[0m\u001b[32m}\u001b[0m\u001b[32m'\u001b[0m,\n",
              "\u001b[2;32m│   │   \u001b[0m\u001b[33mmetadata_seperator\u001b[0m=\u001b[32m'\\n'\u001b[0m\n",
              "\u001b[2;32m│   \u001b[0m\u001b[1m)\u001b[0m,\n",
              "\u001b[2;32m│   \u001b[0m\u001b[1;35mTextNode\u001b[0m\u001b[1m(\u001b[0m\n",
              "\u001b[2;32m│   │   \u001b[0m\u001b[33mid_\u001b[0m=\u001b[32m'node_451'\u001b[0m,\n",
              "\u001b[2;32m│   │   \u001b[0m\u001b[33membedding\u001b[0m=\u001b[3;35mNone\u001b[0m,\n",
              "\u001b[2;32m│   │   \u001b[0m\u001b[33mmetadata\u001b[0m=\u001b[1m{\u001b[0m\u001b[32m'campus'\u001b[0m: \u001b[32m'boituva'\u001b[0m, \u001b[32m'documento'\u001b[0m: \u001b[32m'Portaria nº 3.903, de 04 de novembro de 2015'\u001b[0m\u001b[1m}\u001b[0m,\n",
              "\u001b[2;32m│   │   \u001b[0m\u001b[33mexcluded_embed_metadata_keys\u001b[0m=\u001b[1m[\u001b[0m\u001b[1m]\u001b[0m,\n",
              "\u001b[2;32m│   │   \u001b[0m\u001b[33mexcluded_llm_metadata_keys\u001b[0m=\u001b[1m[\u001b[0m\u001b[1m]\u001b[0m,\n",
              "\u001b[2;32m│   │   \u001b[0m\u001b[33mrelationships\u001b[0m=\u001b[1m{\u001b[0m\u001b[1m}\u001b[0m,\n",
              "\u001b[2;32m│   │   \u001b[0m\u001b[33mtext\u001b[0m=\u001b[32m'MINISTÉRIO DA EDUCAÇÃO. INSTITUTO FEDERAL DE EDUCAÇÃO, CIÊNCIA E TECNOLOGIA DE SÃO PAULO. CAMPUS BOITUVA. PORTARIA Nº 4/2024 - DRG/BTV/IFSP DE 24 DE JANEIRO DE 2024 O DIRETOR-GERAL EM EXERCÍCIO DO CAMPUS BOITUVA, DO INSTITUTO FEDERAL DE EDUCAÇÃO, CIÊNCIA E TECNOLOGIA DE SÃO PAULO, no uso de suas atribuições legais delegadas pela Portaria nº 3.903, de 04 de novembro de 2015 e o que diz a PORTARIA Nº 6583/IFSP, de 20 de dezembro de 2021, RESOLVE: Art 1.º - INSTITUIR, a Comissão de Matrícula do Campus Boituva \u001b[0m\u001b[32m(\u001b[0m\u001b[32mCM\u001b[0m\u001b[32m)\u001b[0m\u001b[32m, para auxílio a Coordenadoria de Registros Acadêmicos nos períodos de matrícula dos processos seletivos ofertados, para ingressantes no primeiro semestre de 2024. Art 2.º - DESIGNAR, os servidores abaixo relacionados para, sob a Presidência do primeiro, compor a comissão supracitada. Mariane de Almeida Silva Lara Felipe Gobo Bruno Fernando Maffeis Miriam Cristina Peruzzi Soares Belote Bruno Fortunato Lima Art 3º - REVOGAR, a PORTARIA Nº 1/2024 - DRG/BTV/IFSP de 5 de janeiro de 2024. Art 4º - Esta Portaria tem vigência até o dia 30 de abril de 2024. Art 5º - Esta Portaria entra em vigor na data de sua publicação. De ciência. Publique-se. Documento assinado eletronicamente. FELIPE GOBO BRUNO Publicado no site institucional em 24.01.2024. Documento assinado eletronicamente por: Felipe Gobo Bruno, COORDENADOR\u001b[0m\u001b[32m(\u001b[0m\u001b[32mA\u001b[0m\u001b[32m)\u001b[0m\u001b[32m - FG2 - CDI-BTV, em 24/01/2024 11:14:40. Felipe Gobo Bruno COORDENADOR\u001b[0m\u001b[32m(\u001b[0m\u001b[32mA\u001b[0m\u001b[32m)\u001b[0m\u001b[32m - FG2 - CDI-BTV Este documento foi emitido pelo SUAP em 24/01/2024. Para comprovar sua autenticidade, faça a leitura do QRCode ao lado ou acesse https://suap.ifsp.edu.br/autenticar-documento/ e forneça os dados abaixo:. |Código Verificador:|683395| |---|---| |Código de Autenticação:|8069f471e7|. PORTARIA Nº 4/2024 - DRG/BTV/IFSP PORTARIA Nº 4/2024 - DRG/BTV/IFSP'\u001b[0m,\n",
              "\u001b[2;32m│   │   \u001b[0m\u001b[33mmimetype\u001b[0m=\u001b[32m'text/plain'\u001b[0m,\n",
              "\u001b[2;32m│   │   \u001b[0m\u001b[33mstart_char_idx\u001b[0m=\u001b[3;35mNone\u001b[0m,\n",
              "\u001b[2;32m│   │   \u001b[0m\u001b[33mend_char_idx\u001b[0m=\u001b[3;35mNone\u001b[0m,\n",
              "\u001b[2;32m│   │   \u001b[0m\u001b[33mtext_template\u001b[0m=\u001b[32m'\u001b[0m\u001b[32m{\u001b[0m\u001b[32mmetadata_str\u001b[0m\u001b[32m}\u001b[0m\u001b[32m\\n\\n\u001b[0m\u001b[32m{\u001b[0m\u001b[32mcontent\u001b[0m\u001b[32m}\u001b[0m\u001b[32m'\u001b[0m,\n",
              "\u001b[2;32m│   │   \u001b[0m\u001b[33mmetadata_template\u001b[0m=\u001b[32m'\u001b[0m\u001b[32m{\u001b[0m\u001b[32mkey\u001b[0m\u001b[32m}\u001b[0m\u001b[32m: \u001b[0m\u001b[32m{\u001b[0m\u001b[32mvalue\u001b[0m\u001b[32m}\u001b[0m\u001b[32m'\u001b[0m,\n",
              "\u001b[2;32m│   │   \u001b[0m\u001b[33mmetadata_seperator\u001b[0m=\u001b[32m'\\n'\u001b[0m\n",
              "\u001b[2;32m│   \u001b[0m\u001b[1m)\u001b[0m,\n",
              "\u001b[2;32m│   \u001b[0m\u001b[1;35mTextNode\u001b[0m\u001b[1m(\u001b[0m\n",
              "\u001b[2;32m│   │   \u001b[0m\u001b[33mid_\u001b[0m=\u001b[32m'node_452'\u001b[0m,\n",
              "\u001b[2;32m│   │   \u001b[0m\u001b[33membedding\u001b[0m=\u001b[3;35mNone\u001b[0m,\n",
              "\u001b[2;32m│   │   \u001b[0m\u001b[33mmetadata\u001b[0m=\u001b[1m{\u001b[0m\u001b[32m'campus'\u001b[0m: \u001b[32m'boituva'\u001b[0m, \u001b[32m'documento'\u001b[0m: \u001b[32m'Portaria nº 3.903, de 04 de novembro de 2015'\u001b[0m\u001b[1m}\u001b[0m,\n",
              "\u001b[2;32m│   │   \u001b[0m\u001b[33mexcluded_embed_metadata_keys\u001b[0m=\u001b[1m[\u001b[0m\u001b[1m]\u001b[0m,\n",
              "\u001b[2;32m│   │   \u001b[0m\u001b[33mexcluded_llm_metadata_keys\u001b[0m=\u001b[1m[\u001b[0m\u001b[1m]\u001b[0m,\n",
              "\u001b[2;32m│   │   \u001b[0m\u001b[33mrelationships\u001b[0m=\u001b[1m{\u001b[0m\u001b[1m}\u001b[0m,\n",
              "\u001b[2;32m│   │   \u001b[0m\u001b[33mtext\u001b[0m=\u001b[32m'MINISTÉRIO DA EDUCAÇÃO. INSTITUTO FEDERAL DE EDUCAÇÃO, CIÊNCIA E TECNOLOGIA DE SÃO PAULO. CAMPUS BOITUVA. PORTARIA Nº 2/2024 - DRG/BTV/IFSP DE 8 DE JANEIRO DE 2024 O DIRETOR GERAL EM EXERCÍCIO DO CAMPUS BOITUVA, DO INSTITUTO FEDERAL DE EDUCAÇÃO, CIÊNCIA E TECNOLOGIA DE SÃO PAULO, no uso de suas atribuições legais delegadas pela Portaria nº 3.903, de 04 de novembro de 2015, RESOLVE: Art 1.º - DESIGNAR, o servidor Diego Saturnino Araujo da Silva; CPF: XXX.192.058-XX como titular e, como substituto o servidor Helio Falci Junior; CPF: XXX.991.188-XX para nos termos do artigo 67 da Lei nº 8.666/93, exercer a fiscalização e acompanhamento do contrato abaixo relacionado:. |Contrato n°|Empresa|Objeto| |---|---|---| |01710/2023|A3 Locação de Mão de Obra e Serviços Ltda, CNPJ: 23.080.111/0001-50;|Contratação de serviço continuado de portaria, com dedicação exclusiva de mão de obra;|. Art 2.º - ATRIBUIÇÕES DO FISCAL: acompanhar e fiscalizar o fiel cumprimento do Contrato de cláusulas avençadas, opinar sobre a oportunidade e conveniência de prorrogação de vigência ou aditamento de objeto, bem como comunicar as irregularidades eventualmente constatadas à Coordenadoria de Contratos e Convênios. Art 3º - Esta Portaria tem vigência até 31/12/2024. Art 4º - Esta Portaria entra em vigor na data de sua publicação. De ciência. Publique-se. Documento assinado eletronicamente. FELIPE GOBO BRUNO Publicado no site institucional em 08.01.2024. Documento assinado eletronicamente por:. Felipe Gobo Bruno Felipe Gobo Bruno, COORDENADOR\u001b[0m\u001b[32m(\u001b[0m\u001b[32mA\u001b[0m\u001b[32m)\u001b[0m\u001b[32m - FG2 - CDI-BTVCOORDENADOR\u001b[0m\u001b[32m(\u001b[0m\u001b[32mA\u001b[0m\u001b[32m)\u001b[0m\u001b[32m - FG2 - CDI-BTV, em 08/01/2024 16:48:11. Este documento foi emitido pelo SUAP em 08/01/2024. Para comprovar sua autenticidade, faça a leitura do QRCode ao lado ou acesse https://suap.ifsp.edu.br/autenticar-documento/ e forneça os dados abaixo:. |Código Verificador:|677015| |---|---| |Código de Autenticação:|838e98bf5f|. PORTARIA Nº 2/2024 - DRG/BTV/IFSP. PORTARIA Nº 2/2024 - DRG/BTV/IFSP'\u001b[0m,\n",
              "\u001b[2;32m│   │   \u001b[0m\u001b[33mmimetype\u001b[0m=\u001b[32m'text/plain'\u001b[0m,\n",
              "\u001b[2;32m│   │   \u001b[0m\u001b[33mstart_char_idx\u001b[0m=\u001b[3;35mNone\u001b[0m,\n",
              "\u001b[2;32m│   │   \u001b[0m\u001b[33mend_char_idx\u001b[0m=\u001b[3;35mNone\u001b[0m,\n",
              "\u001b[2;32m│   │   \u001b[0m\u001b[33mtext_template\u001b[0m=\u001b[32m'\u001b[0m\u001b[32m{\u001b[0m\u001b[32mmetadata_str\u001b[0m\u001b[32m}\u001b[0m\u001b[32m\\n\\n\u001b[0m\u001b[32m{\u001b[0m\u001b[32mcontent\u001b[0m\u001b[32m}\u001b[0m\u001b[32m'\u001b[0m,\n",
              "\u001b[2;32m│   │   \u001b[0m\u001b[33mmetadata_template\u001b[0m=\u001b[32m'\u001b[0m\u001b[32m{\u001b[0m\u001b[32mkey\u001b[0m\u001b[32m}\u001b[0m\u001b[32m: \u001b[0m\u001b[32m{\u001b[0m\u001b[32mvalue\u001b[0m\u001b[32m}\u001b[0m\u001b[32m'\u001b[0m,\n",
              "\u001b[2;32m│   │   \u001b[0m\u001b[33mmetadata_seperator\u001b[0m=\u001b[32m'\\n'\u001b[0m\n",
              "\u001b[2;32m│   \u001b[0m\u001b[1m)\u001b[0m\n",
              "\u001b[1m]\u001b[0m\n"
            ],
            "text/html": [
              "<pre style=\"white-space:pre;overflow-x:auto;line-height:normal;font-family:Menlo,'DejaVu Sans Mono',consolas,'Courier New',monospace\"><span style=\"font-weight: bold\">[</span>\n",
              "<span style=\"color: #7fbf7f; text-decoration-color: #7fbf7f\">│   </span><span style=\"color: #800080; text-decoration-color: #800080; font-weight: bold\">TextNode</span><span style=\"font-weight: bold\">(</span>\n",
              "<span style=\"color: #7fbf7f; text-decoration-color: #7fbf7f\">│   │   </span><span style=\"color: #808000; text-decoration-color: #808000\">id_</span>=<span style=\"color: #008000; text-decoration-color: #008000\">'node_448'</span>,\n",
              "<span style=\"color: #7fbf7f; text-decoration-color: #7fbf7f\">│   │   </span><span style=\"color: #808000; text-decoration-color: #808000\">embedding</span>=<span style=\"color: #800080; text-decoration-color: #800080; font-style: italic\">None</span>,\n",
              "<span style=\"color: #7fbf7f; text-decoration-color: #7fbf7f\">│   │   </span><span style=\"color: #808000; text-decoration-color: #808000\">metadata</span>=<span style=\"font-weight: bold\">{</span><span style=\"color: #008000; text-decoration-color: #008000\">'campus'</span>: <span style=\"color: #008000; text-decoration-color: #008000\">'boituva'</span>, <span style=\"color: #008000; text-decoration-color: #008000\">'documento'</span>: <span style=\"color: #008000; text-decoration-color: #008000\">'Portaria nº 3.903, de 04 de novembro de 2015'</span><span style=\"font-weight: bold\">}</span>,\n",
              "<span style=\"color: #7fbf7f; text-decoration-color: #7fbf7f\">│   │   </span><span style=\"color: #808000; text-decoration-color: #808000\">excluded_embed_metadata_keys</span>=<span style=\"font-weight: bold\">[]</span>,\n",
              "<span style=\"color: #7fbf7f; text-decoration-color: #7fbf7f\">│   │   </span><span style=\"color: #808000; text-decoration-color: #808000\">excluded_llm_metadata_keys</span>=<span style=\"font-weight: bold\">[]</span>,\n",
              "<span style=\"color: #7fbf7f; text-decoration-color: #7fbf7f\">│   │   </span><span style=\"color: #808000; text-decoration-color: #808000\">relationships</span>=<span style=\"font-weight: bold\">{}</span>,\n",
              "<span style=\"color: #7fbf7f; text-decoration-color: #7fbf7f\">│   │   </span><span style=\"color: #808000; text-decoration-color: #808000\">text</span>=<span style=\"color: #008000; text-decoration-color: #008000\">'MINISTÉRIO DA EDUCAÇÃO. INSTITUTO FEDERAL DE EDUCAÇÃO, CIÊNCIA E TECNOLOGIA DE SÃO PAULO. CAMPUS BOITUVA. PORTARIA Nº 33/2024 - DRG/BTV/IFSP DE 2 DE MAIO DE 2024 O DIRETOR GERAL DO CAMPUS BOITUVA, DO INSTITUTO FEDERAL DE EDUCAÇÃO, CIÊNCIA E TECNOLOGIA DE SÃO PAULO, no uso de suas atribuições legais delegadas pela Portaria nº 3.903, de 04 de novembro de 2015, RESOLVE: Art 1.º - DESIGNAR, o servidor Rafael Augusto Rocha Maia; CPF: XXX.444.188-XX como titular e, como substituto o servidor Helio Falci Junior; CPF: XXX.991.188-XX para nos termos do artigo 117 da Lei nº 14.133/2021, exercer a fiscalização e acompanhamento do contrato abaixo relacionado:. |Contrato n°|Empresa|Objeto| |---|---|---| |02710/2024|Ragnar Segurança Ltda,|Prestação de serviço continuado de vigilância patrimonial desarmada;|. Art 2.º - ATRIBUIÇÕES DO FISCAL: acompanhar e fiscalizar o fiel cumprimento do Contrato de cláusulas avençadas, opinar sobre a oportunidade e conveniência de prorrogação de vigência ou aditamento de objeto, bem como comunicar as irregularidades eventualmente constatadas à Coordenadoria de Contratos e Convênios. Art 3º - Esta Portaria tem vigência até 01/05/2025. Art 4º - Esta Portaria entra em vigor na data de sua publicação. De ciência. Publique-se. Documento assinado eletronicamente. FELIPE AUGUSTO FERREIRA DE ALMEIDA Publicado no site institucional em 02.05.2024. Documento assinado eletronicamente por:. Felipe Augusto Ferreira de Almeida Felipe Augusto Ferreira de Almeida, DIRETOR(A) GERAL - CD2 - DRG/BTV, em 02/05/2024 18:19:00. Este documento foi emitido pelo SUAP em 02/05/2024. Para comprovar sua autenticidade, faça a leitura do QRCode ao lado ou acesse https://suap.ifsp.edu.br/autenticar-documento/ e forneça os dados abaixo:. |Código Verificador:|741820| |---|---| |Código de Autenticação:|f347eaa4df|. PORTARIA Nº 33/2024 - DRG/BTV/IFSP. PORTARIA Nº 33/2024 - DRG/BTV/IFSP'</span>,\n",
              "<span style=\"color: #7fbf7f; text-decoration-color: #7fbf7f\">│   │   </span><span style=\"color: #808000; text-decoration-color: #808000\">mimetype</span>=<span style=\"color: #008000; text-decoration-color: #008000\">'text/plain'</span>,\n",
              "<span style=\"color: #7fbf7f; text-decoration-color: #7fbf7f\">│   │   </span><span style=\"color: #808000; text-decoration-color: #808000\">start_char_idx</span>=<span style=\"color: #800080; text-decoration-color: #800080; font-style: italic\">None</span>,\n",
              "<span style=\"color: #7fbf7f; text-decoration-color: #7fbf7f\">│   │   </span><span style=\"color: #808000; text-decoration-color: #808000\">end_char_idx</span>=<span style=\"color: #800080; text-decoration-color: #800080; font-style: italic\">None</span>,\n",
              "<span style=\"color: #7fbf7f; text-decoration-color: #7fbf7f\">│   │   </span><span style=\"color: #808000; text-decoration-color: #808000\">text_template</span>=<span style=\"color: #008000; text-decoration-color: #008000\">'{metadata_str}\\n\\n{content}'</span>,\n",
              "<span style=\"color: #7fbf7f; text-decoration-color: #7fbf7f\">│   │   </span><span style=\"color: #808000; text-decoration-color: #808000\">metadata_template</span>=<span style=\"color: #008000; text-decoration-color: #008000\">'{key}: {value}'</span>,\n",
              "<span style=\"color: #7fbf7f; text-decoration-color: #7fbf7f\">│   │   </span><span style=\"color: #808000; text-decoration-color: #808000\">metadata_seperator</span>=<span style=\"color: #008000; text-decoration-color: #008000\">'\\n'</span>\n",
              "<span style=\"color: #7fbf7f; text-decoration-color: #7fbf7f\">│   </span><span style=\"font-weight: bold\">)</span>,\n",
              "<span style=\"color: #7fbf7f; text-decoration-color: #7fbf7f\">│   </span><span style=\"color: #800080; text-decoration-color: #800080; font-weight: bold\">TextNode</span><span style=\"font-weight: bold\">(</span>\n",
              "<span style=\"color: #7fbf7f; text-decoration-color: #7fbf7f\">│   │   </span><span style=\"color: #808000; text-decoration-color: #808000\">id_</span>=<span style=\"color: #008000; text-decoration-color: #008000\">'node_449'</span>,\n",
              "<span style=\"color: #7fbf7f; text-decoration-color: #7fbf7f\">│   │   </span><span style=\"color: #808000; text-decoration-color: #808000\">embedding</span>=<span style=\"color: #800080; text-decoration-color: #800080; font-style: italic\">None</span>,\n",
              "<span style=\"color: #7fbf7f; text-decoration-color: #7fbf7f\">│   │   </span><span style=\"color: #808000; text-decoration-color: #808000\">metadata</span>=<span style=\"font-weight: bold\">{</span><span style=\"color: #008000; text-decoration-color: #008000\">'campus'</span>: <span style=\"color: #008000; text-decoration-color: #008000\">'boituva'</span>, <span style=\"color: #008000; text-decoration-color: #008000\">'documento'</span>: <span style=\"color: #008000; text-decoration-color: #008000\">'Portaria nº 3.903, de 04 de novembro de 2015'</span><span style=\"font-weight: bold\">}</span>,\n",
              "<span style=\"color: #7fbf7f; text-decoration-color: #7fbf7f\">│   │   </span><span style=\"color: #808000; text-decoration-color: #808000\">excluded_embed_metadata_keys</span>=<span style=\"font-weight: bold\">[]</span>,\n",
              "<span style=\"color: #7fbf7f; text-decoration-color: #7fbf7f\">│   │   </span><span style=\"color: #808000; text-decoration-color: #808000\">excluded_llm_metadata_keys</span>=<span style=\"font-weight: bold\">[]</span>,\n",
              "<span style=\"color: #7fbf7f; text-decoration-color: #7fbf7f\">│   │   </span><span style=\"color: #808000; text-decoration-color: #808000\">relationships</span>=<span style=\"font-weight: bold\">{}</span>,\n",
              "<span style=\"color: #7fbf7f; text-decoration-color: #7fbf7f\">│   │   </span><span style=\"color: #808000; text-decoration-color: #808000\">text</span>=<span style=\"color: #008000; text-decoration-color: #008000\">'MINISTÉRIO DA EDUCAÇÃO. INSTITUTO FEDERAL DE EDUCAÇÃO, CIÊNCIA E TECNOLOGIA DE SÃO PAULO. CAMPUS BOITUVA. PORTARIA Nº 1/2024 - DRG/BTV/IFSP DE 5 DE JANEIRO DE 2024 O DIRETOR-GERAL EM EXERCÍCIO DO CAMPUS BOITUVA, DO INSTITUTO FEDERAL DE EDUCAÇÃO, CIÊNCIA E TECNOLOGIA DE SÃO PAULO, no uso de suas atribuições legais delegadas pela Portaria nº 3.903, de 04 de novembro de 2015 e o que diz a PORTARIA Nº 6583/IFSP, de 20 de dezembro de 2021, RESOLVE: Art 1.º - INSTITUIR, a Comissão de Matrícula do Campus Boituva (CM), para auxílio a Coordenadoria de Registros Acadêmicos nos períodos de matrícula dos processos seletivos ofertados, para ingressantes no primeiro semestre de 2024. Art 2.º - DESIGNAR, os servidores abaixo relacionados para, sob a Presidência do primeiro, compor a comissão supracitada. Mariane de Almeida Silva Lara Felipe Gobo Bruno Lívia Pereira de Paula Mariangela Alves Dias Fernando Maffeis Leumas Castelli Miriam Cristina Peruzzi Soares Belote Bruno Fortunato Lima Patrícia da Costa Oliveira Art 3º - Esta Portaria tem vigência até o dia 30 de abril de 2024. Art 4º - Esta Portaria entra em vigor na data de sua publicação. De ciência. Publique-se. Documento assinado eletronicamente. FELIPE GOBO BRUNO Publicado no site institucional em 05.01.2024. Documento assinado eletronicamente por: Felipe Gobo Bruno Felipe Gobo Bruno, COORDENADOR(A) - FG2 - CDI-BTVCOORDENADOR(A) - FG2 - CDI-BTV, em 05/01/2024 17:30:16. Este documento foi emitido pelo SUAP em 05/01/2024. Para comprovar sua autenticidade, faça a leitura do QRCode ao lado ou acesse https://suap.ifsp.edu.br/autenticar-documento/ e forneça os dados abaixo: Código Verificador: 676742 Código de Autenticação: 5a7e50732a PORTARIA Nº 1/2024 - DRG/BTV/IFSP PORTARIA Nº 1/2024 - DRG/BTV/IFSP'</span>,\n",
              "<span style=\"color: #7fbf7f; text-decoration-color: #7fbf7f\">│   │   </span><span style=\"color: #808000; text-decoration-color: #808000\">mimetype</span>=<span style=\"color: #008000; text-decoration-color: #008000\">'text/plain'</span>,\n",
              "<span style=\"color: #7fbf7f; text-decoration-color: #7fbf7f\">│   │   </span><span style=\"color: #808000; text-decoration-color: #808000\">start_char_idx</span>=<span style=\"color: #800080; text-decoration-color: #800080; font-style: italic\">None</span>,\n",
              "<span style=\"color: #7fbf7f; text-decoration-color: #7fbf7f\">│   │   </span><span style=\"color: #808000; text-decoration-color: #808000\">end_char_idx</span>=<span style=\"color: #800080; text-decoration-color: #800080; font-style: italic\">None</span>,\n",
              "<span style=\"color: #7fbf7f; text-decoration-color: #7fbf7f\">│   │   </span><span style=\"color: #808000; text-decoration-color: #808000\">text_template</span>=<span style=\"color: #008000; text-decoration-color: #008000\">'{metadata_str}\\n\\n{content}'</span>,\n",
              "<span style=\"color: #7fbf7f; text-decoration-color: #7fbf7f\">│   │   </span><span style=\"color: #808000; text-decoration-color: #808000\">metadata_template</span>=<span style=\"color: #008000; text-decoration-color: #008000\">'{key}: {value}'</span>,\n",
              "<span style=\"color: #7fbf7f; text-decoration-color: #7fbf7f\">│   │   </span><span style=\"color: #808000; text-decoration-color: #808000\">metadata_seperator</span>=<span style=\"color: #008000; text-decoration-color: #008000\">'\\n'</span>\n",
              "<span style=\"color: #7fbf7f; text-decoration-color: #7fbf7f\">│   </span><span style=\"font-weight: bold\">)</span>,\n",
              "<span style=\"color: #7fbf7f; text-decoration-color: #7fbf7f\">│   </span><span style=\"color: #800080; text-decoration-color: #800080; font-weight: bold\">TextNode</span><span style=\"font-weight: bold\">(</span>\n",
              "<span style=\"color: #7fbf7f; text-decoration-color: #7fbf7f\">│   │   </span><span style=\"color: #808000; text-decoration-color: #808000\">id_</span>=<span style=\"color: #008000; text-decoration-color: #008000\">'node_450'</span>,\n",
              "<span style=\"color: #7fbf7f; text-decoration-color: #7fbf7f\">│   │   </span><span style=\"color: #808000; text-decoration-color: #808000\">embedding</span>=<span style=\"color: #800080; text-decoration-color: #800080; font-style: italic\">None</span>,\n",
              "<span style=\"color: #7fbf7f; text-decoration-color: #7fbf7f\">│   │   </span><span style=\"color: #808000; text-decoration-color: #808000\">metadata</span>=<span style=\"font-weight: bold\">{</span><span style=\"color: #008000; text-decoration-color: #008000\">'campus'</span>: <span style=\"color: #008000; text-decoration-color: #008000\">'boituva'</span>, <span style=\"color: #008000; text-decoration-color: #008000\">'documento'</span>: <span style=\"color: #008000; text-decoration-color: #008000\">'Portaria nº 3.903, de 04 de novembro de 2015'</span><span style=\"font-weight: bold\">}</span>,\n",
              "<span style=\"color: #7fbf7f; text-decoration-color: #7fbf7f\">│   │   </span><span style=\"color: #808000; text-decoration-color: #808000\">excluded_embed_metadata_keys</span>=<span style=\"font-weight: bold\">[]</span>,\n",
              "<span style=\"color: #7fbf7f; text-decoration-color: #7fbf7f\">│   │   </span><span style=\"color: #808000; text-decoration-color: #808000\">excluded_llm_metadata_keys</span>=<span style=\"font-weight: bold\">[]</span>,\n",
              "<span style=\"color: #7fbf7f; text-decoration-color: #7fbf7f\">│   │   </span><span style=\"color: #808000; text-decoration-color: #808000\">relationships</span>=<span style=\"font-weight: bold\">{}</span>,\n",
              "<span style=\"color: #7fbf7f; text-decoration-color: #7fbf7f\">│   │   </span><span style=\"color: #808000; text-decoration-color: #808000\">text</span>=<span style=\"color: #008000; text-decoration-color: #008000\">'MINISTÉRIO DA EDUCAÇÃO. INSTITUTO FEDERAL DE EDUCAÇÃO, CIÊNCIA E TECNOLOGIA DE SÃO PAULO. CAMPUS BOITUVA. PORTARIA Nº 3/2024 - DRG/BTV/IFSP DE 24 DE JANEIRO DE 2024 O DIRETOR-GERAL EM EXERCÍCIO DO CAMPUS BOITUVA DO INSTITUTO FEDERAL DE EDUCAÇÃO, CIÊNCIA E TECNOLOGIA DE SÃO PAULO, no uso de suas atribuições legais delegadas pela Portaria nº 3.903, de 04 de novembro de 2015, e considerando o Manual de Inventário Anual aprovado pela Portaria no 5.656, de 22 de outubro de 2014, RESOLVE: Art 1º - DESIGNAR, os servidores abaixo relacionados para constituírem, a Comissão de Inventário do Campus Boituva. Fernando Maffeis – Assistente de Alunos; Osiel Veigman Gomes – Assistente de Alunos; Bruno Fortunato de Lima – Técnico de Laboratório. Art 2º - Esta Portaria tem vigência até 30 de junho de 2024. Art 3º - Esta Portaria entra em vigor a partir de sua publicação. De ciência. Publique-se. Documento assinado eletronicamente. FELIPE GOBO BRUNO Publicado no site institucional em 24.01.2024 Documento assinado eletronicamente por: Felipe Gobo Bruno, COORDENADOR(A) - FG2 - CDI-BTV, em 24/01/2024 11:10:10. Felipe Gobo BrunoCOORDENADOR(A) - FG2 - CDI-BTV Este documento foi emitido pelo SUAP em 11/01/2024. Para comprovar sua autenticidade, faça a leitura do QRCode ao lado ou acesse https://suap.ifsp.edu.br/autenticar-documento/ e forneça os dados abaixo: Código Verificador:678446 Código de Autenticação:c311f6a3a8 PORTARIA Nº 3/2024 - DRG/BTV/IFSP'</span>,\n",
              "<span style=\"color: #7fbf7f; text-decoration-color: #7fbf7f\">│   │   </span><span style=\"color: #808000; text-decoration-color: #808000\">mimetype</span>=<span style=\"color: #008000; text-decoration-color: #008000\">'text/plain'</span>,\n",
              "<span style=\"color: #7fbf7f; text-decoration-color: #7fbf7f\">│   │   </span><span style=\"color: #808000; text-decoration-color: #808000\">start_char_idx</span>=<span style=\"color: #800080; text-decoration-color: #800080; font-style: italic\">None</span>,\n",
              "<span style=\"color: #7fbf7f; text-decoration-color: #7fbf7f\">│   │   </span><span style=\"color: #808000; text-decoration-color: #808000\">end_char_idx</span>=<span style=\"color: #800080; text-decoration-color: #800080; font-style: italic\">None</span>,\n",
              "<span style=\"color: #7fbf7f; text-decoration-color: #7fbf7f\">│   │   </span><span style=\"color: #808000; text-decoration-color: #808000\">text_template</span>=<span style=\"color: #008000; text-decoration-color: #008000\">'{metadata_str}\\n\\n{content}'</span>,\n",
              "<span style=\"color: #7fbf7f; text-decoration-color: #7fbf7f\">│   │   </span><span style=\"color: #808000; text-decoration-color: #808000\">metadata_template</span>=<span style=\"color: #008000; text-decoration-color: #008000\">'{key}: {value}'</span>,\n",
              "<span style=\"color: #7fbf7f; text-decoration-color: #7fbf7f\">│   │   </span><span style=\"color: #808000; text-decoration-color: #808000\">metadata_seperator</span>=<span style=\"color: #008000; text-decoration-color: #008000\">'\\n'</span>\n",
              "<span style=\"color: #7fbf7f; text-decoration-color: #7fbf7f\">│   </span><span style=\"font-weight: bold\">)</span>,\n",
              "<span style=\"color: #7fbf7f; text-decoration-color: #7fbf7f\">│   </span><span style=\"color: #800080; text-decoration-color: #800080; font-weight: bold\">TextNode</span><span style=\"font-weight: bold\">(</span>\n",
              "<span style=\"color: #7fbf7f; text-decoration-color: #7fbf7f\">│   │   </span><span style=\"color: #808000; text-decoration-color: #808000\">id_</span>=<span style=\"color: #008000; text-decoration-color: #008000\">'node_451'</span>,\n",
              "<span style=\"color: #7fbf7f; text-decoration-color: #7fbf7f\">│   │   </span><span style=\"color: #808000; text-decoration-color: #808000\">embedding</span>=<span style=\"color: #800080; text-decoration-color: #800080; font-style: italic\">None</span>,\n",
              "<span style=\"color: #7fbf7f; text-decoration-color: #7fbf7f\">│   │   </span><span style=\"color: #808000; text-decoration-color: #808000\">metadata</span>=<span style=\"font-weight: bold\">{</span><span style=\"color: #008000; text-decoration-color: #008000\">'campus'</span>: <span style=\"color: #008000; text-decoration-color: #008000\">'boituva'</span>, <span style=\"color: #008000; text-decoration-color: #008000\">'documento'</span>: <span style=\"color: #008000; text-decoration-color: #008000\">'Portaria nº 3.903, de 04 de novembro de 2015'</span><span style=\"font-weight: bold\">}</span>,\n",
              "<span style=\"color: #7fbf7f; text-decoration-color: #7fbf7f\">│   │   </span><span style=\"color: #808000; text-decoration-color: #808000\">excluded_embed_metadata_keys</span>=<span style=\"font-weight: bold\">[]</span>,\n",
              "<span style=\"color: #7fbf7f; text-decoration-color: #7fbf7f\">│   │   </span><span style=\"color: #808000; text-decoration-color: #808000\">excluded_llm_metadata_keys</span>=<span style=\"font-weight: bold\">[]</span>,\n",
              "<span style=\"color: #7fbf7f; text-decoration-color: #7fbf7f\">│   │   </span><span style=\"color: #808000; text-decoration-color: #808000\">relationships</span>=<span style=\"font-weight: bold\">{}</span>,\n",
              "<span style=\"color: #7fbf7f; text-decoration-color: #7fbf7f\">│   │   </span><span style=\"color: #808000; text-decoration-color: #808000\">text</span>=<span style=\"color: #008000; text-decoration-color: #008000\">'MINISTÉRIO DA EDUCAÇÃO. INSTITUTO FEDERAL DE EDUCAÇÃO, CIÊNCIA E TECNOLOGIA DE SÃO PAULO. CAMPUS BOITUVA. PORTARIA Nº 4/2024 - DRG/BTV/IFSP DE 24 DE JANEIRO DE 2024 O DIRETOR-GERAL EM EXERCÍCIO DO CAMPUS BOITUVA, DO INSTITUTO FEDERAL DE EDUCAÇÃO, CIÊNCIA E TECNOLOGIA DE SÃO PAULO, no uso de suas atribuições legais delegadas pela Portaria nº 3.903, de 04 de novembro de 2015 e o que diz a PORTARIA Nº 6583/IFSP, de 20 de dezembro de 2021, RESOLVE: Art 1.º - INSTITUIR, a Comissão de Matrícula do Campus Boituva (CM), para auxílio a Coordenadoria de Registros Acadêmicos nos períodos de matrícula dos processos seletivos ofertados, para ingressantes no primeiro semestre de 2024. Art 2.º - DESIGNAR, os servidores abaixo relacionados para, sob a Presidência do primeiro, compor a comissão supracitada. Mariane de Almeida Silva Lara Felipe Gobo Bruno Fernando Maffeis Miriam Cristina Peruzzi Soares Belote Bruno Fortunato Lima Art 3º - REVOGAR, a PORTARIA Nº 1/2024 - DRG/BTV/IFSP de 5 de janeiro de 2024. Art 4º - Esta Portaria tem vigência até o dia 30 de abril de 2024. Art 5º - Esta Portaria entra em vigor na data de sua publicação. De ciência. Publique-se. Documento assinado eletronicamente. FELIPE GOBO BRUNO Publicado no site institucional em 24.01.2024. Documento assinado eletronicamente por: Felipe Gobo Bruno, COORDENADOR(A) - FG2 - CDI-BTV, em 24/01/2024 11:14:40. Felipe Gobo Bruno COORDENADOR(A) - FG2 - CDI-BTV Este documento foi emitido pelo SUAP em 24/01/2024. Para comprovar sua autenticidade, faça a leitura do QRCode ao lado ou acesse https://suap.ifsp.edu.br/autenticar-documento/ e forneça os dados abaixo:. |Código Verificador:|683395| |---|---| |Código de Autenticação:|8069f471e7|. PORTARIA Nº 4/2024 - DRG/BTV/IFSP PORTARIA Nº 4/2024 - DRG/BTV/IFSP'</span>,\n",
              "<span style=\"color: #7fbf7f; text-decoration-color: #7fbf7f\">│   │   </span><span style=\"color: #808000; text-decoration-color: #808000\">mimetype</span>=<span style=\"color: #008000; text-decoration-color: #008000\">'text/plain'</span>,\n",
              "<span style=\"color: #7fbf7f; text-decoration-color: #7fbf7f\">│   │   </span><span style=\"color: #808000; text-decoration-color: #808000\">start_char_idx</span>=<span style=\"color: #800080; text-decoration-color: #800080; font-style: italic\">None</span>,\n",
              "<span style=\"color: #7fbf7f; text-decoration-color: #7fbf7f\">│   │   </span><span style=\"color: #808000; text-decoration-color: #808000\">end_char_idx</span>=<span style=\"color: #800080; text-decoration-color: #800080; font-style: italic\">None</span>,\n",
              "<span style=\"color: #7fbf7f; text-decoration-color: #7fbf7f\">│   │   </span><span style=\"color: #808000; text-decoration-color: #808000\">text_template</span>=<span style=\"color: #008000; text-decoration-color: #008000\">'{metadata_str}\\n\\n{content}'</span>,\n",
              "<span style=\"color: #7fbf7f; text-decoration-color: #7fbf7f\">│   │   </span><span style=\"color: #808000; text-decoration-color: #808000\">metadata_template</span>=<span style=\"color: #008000; text-decoration-color: #008000\">'{key}: {value}'</span>,\n",
              "<span style=\"color: #7fbf7f; text-decoration-color: #7fbf7f\">│   │   </span><span style=\"color: #808000; text-decoration-color: #808000\">metadata_seperator</span>=<span style=\"color: #008000; text-decoration-color: #008000\">'\\n'</span>\n",
              "<span style=\"color: #7fbf7f; text-decoration-color: #7fbf7f\">│   </span><span style=\"font-weight: bold\">)</span>,\n",
              "<span style=\"color: #7fbf7f; text-decoration-color: #7fbf7f\">│   </span><span style=\"color: #800080; text-decoration-color: #800080; font-weight: bold\">TextNode</span><span style=\"font-weight: bold\">(</span>\n",
              "<span style=\"color: #7fbf7f; text-decoration-color: #7fbf7f\">│   │   </span><span style=\"color: #808000; text-decoration-color: #808000\">id_</span>=<span style=\"color: #008000; text-decoration-color: #008000\">'node_452'</span>,\n",
              "<span style=\"color: #7fbf7f; text-decoration-color: #7fbf7f\">│   │   </span><span style=\"color: #808000; text-decoration-color: #808000\">embedding</span>=<span style=\"color: #800080; text-decoration-color: #800080; font-style: italic\">None</span>,\n",
              "<span style=\"color: #7fbf7f; text-decoration-color: #7fbf7f\">│   │   </span><span style=\"color: #808000; text-decoration-color: #808000\">metadata</span>=<span style=\"font-weight: bold\">{</span><span style=\"color: #008000; text-decoration-color: #008000\">'campus'</span>: <span style=\"color: #008000; text-decoration-color: #008000\">'boituva'</span>, <span style=\"color: #008000; text-decoration-color: #008000\">'documento'</span>: <span style=\"color: #008000; text-decoration-color: #008000\">'Portaria nº 3.903, de 04 de novembro de 2015'</span><span style=\"font-weight: bold\">}</span>,\n",
              "<span style=\"color: #7fbf7f; text-decoration-color: #7fbf7f\">│   │   </span><span style=\"color: #808000; text-decoration-color: #808000\">excluded_embed_metadata_keys</span>=<span style=\"font-weight: bold\">[]</span>,\n",
              "<span style=\"color: #7fbf7f; text-decoration-color: #7fbf7f\">│   │   </span><span style=\"color: #808000; text-decoration-color: #808000\">excluded_llm_metadata_keys</span>=<span style=\"font-weight: bold\">[]</span>,\n",
              "<span style=\"color: #7fbf7f; text-decoration-color: #7fbf7f\">│   │   </span><span style=\"color: #808000; text-decoration-color: #808000\">relationships</span>=<span style=\"font-weight: bold\">{}</span>,\n",
              "<span style=\"color: #7fbf7f; text-decoration-color: #7fbf7f\">│   │   </span><span style=\"color: #808000; text-decoration-color: #808000\">text</span>=<span style=\"color: #008000; text-decoration-color: #008000\">'MINISTÉRIO DA EDUCAÇÃO. INSTITUTO FEDERAL DE EDUCAÇÃO, CIÊNCIA E TECNOLOGIA DE SÃO PAULO. CAMPUS BOITUVA. PORTARIA Nº 2/2024 - DRG/BTV/IFSP DE 8 DE JANEIRO DE 2024 O DIRETOR GERAL EM EXERCÍCIO DO CAMPUS BOITUVA, DO INSTITUTO FEDERAL DE EDUCAÇÃO, CIÊNCIA E TECNOLOGIA DE SÃO PAULO, no uso de suas atribuições legais delegadas pela Portaria nº 3.903, de 04 de novembro de 2015, RESOLVE: Art 1.º - DESIGNAR, o servidor Diego Saturnino Araujo da Silva; CPF: XXX.192.058-XX como titular e, como substituto o servidor Helio Falci Junior; CPF: XXX.991.188-XX para nos termos do artigo 67 da Lei nº 8.666/93, exercer a fiscalização e acompanhamento do contrato abaixo relacionado:. |Contrato n°|Empresa|Objeto| |---|---|---| |01710/2023|A3 Locação de Mão de Obra e Serviços Ltda, CNPJ: 23.080.111/0001-50;|Contratação de serviço continuado de portaria, com dedicação exclusiva de mão de obra;|. Art 2.º - ATRIBUIÇÕES DO FISCAL: acompanhar e fiscalizar o fiel cumprimento do Contrato de cláusulas avençadas, opinar sobre a oportunidade e conveniência de prorrogação de vigência ou aditamento de objeto, bem como comunicar as irregularidades eventualmente constatadas à Coordenadoria de Contratos e Convênios. Art 3º - Esta Portaria tem vigência até 31/12/2024. Art 4º - Esta Portaria entra em vigor na data de sua publicação. De ciência. Publique-se. Documento assinado eletronicamente. FELIPE GOBO BRUNO Publicado no site institucional em 08.01.2024. Documento assinado eletronicamente por:. Felipe Gobo Bruno Felipe Gobo Bruno, COORDENADOR(A) - FG2 - CDI-BTVCOORDENADOR(A) - FG2 - CDI-BTV, em 08/01/2024 16:48:11. Este documento foi emitido pelo SUAP em 08/01/2024. Para comprovar sua autenticidade, faça a leitura do QRCode ao lado ou acesse https://suap.ifsp.edu.br/autenticar-documento/ e forneça os dados abaixo:. |Código Verificador:|677015| |---|---| |Código de Autenticação:|838e98bf5f|. PORTARIA Nº 2/2024 - DRG/BTV/IFSP. PORTARIA Nº 2/2024 - DRG/BTV/IFSP'</span>,\n",
              "<span style=\"color: #7fbf7f; text-decoration-color: #7fbf7f\">│   │   </span><span style=\"color: #808000; text-decoration-color: #808000\">mimetype</span>=<span style=\"color: #008000; text-decoration-color: #008000\">'text/plain'</span>,\n",
              "<span style=\"color: #7fbf7f; text-decoration-color: #7fbf7f\">│   │   </span><span style=\"color: #808000; text-decoration-color: #808000\">start_char_idx</span>=<span style=\"color: #800080; text-decoration-color: #800080; font-style: italic\">None</span>,\n",
              "<span style=\"color: #7fbf7f; text-decoration-color: #7fbf7f\">│   │   </span><span style=\"color: #808000; text-decoration-color: #808000\">end_char_idx</span>=<span style=\"color: #800080; text-decoration-color: #800080; font-style: italic\">None</span>,\n",
              "<span style=\"color: #7fbf7f; text-decoration-color: #7fbf7f\">│   │   </span><span style=\"color: #808000; text-decoration-color: #808000\">text_template</span>=<span style=\"color: #008000; text-decoration-color: #008000\">'{metadata_str}\\n\\n{content}'</span>,\n",
              "<span style=\"color: #7fbf7f; text-decoration-color: #7fbf7f\">│   │   </span><span style=\"color: #808000; text-decoration-color: #808000\">metadata_template</span>=<span style=\"color: #008000; text-decoration-color: #008000\">'{key}: {value}'</span>,\n",
              "<span style=\"color: #7fbf7f; text-decoration-color: #7fbf7f\">│   │   </span><span style=\"color: #808000; text-decoration-color: #808000\">metadata_seperator</span>=<span style=\"color: #008000; text-decoration-color: #008000\">'\\n'</span>\n",
              "<span style=\"color: #7fbf7f; text-decoration-color: #7fbf7f\">│   </span><span style=\"font-weight: bold\">)</span>\n",
              "<span style=\"font-weight: bold\">]</span>\n",
              "</pre>\n"
            ]
          },
          "metadata": {}
        }
      ]
    },
    {
      "cell_type": "markdown",
      "source": [
        "## Construindo Retriever e Query Engine"
      ],
      "metadata": {
        "id": "I24dP3mHep5N"
      }
    },
    {
      "cell_type": "code",
      "source": [
        "# Set Up Recursive Retriever\n",
        "sub_chunk_sizes = [128, 256, 512]\n",
        "sub_node_parsers = [SentenceSplitter(chunk_size=c, chunk_overlap=20) for c in sub_chunk_sizes]\n",
        "\n",
        "all_nodes = []\n",
        "for base_node in base_nodes:\n",
        "\n",
        "    for n in sub_node_parsers:\n",
        "        sub_nodes = n.get_nodes_from_documents([base_node])\n",
        "        sub_inodes = [IndexNode.from_text_node(sn, base_node.node_id) for sn in sub_nodes]\n",
        "        all_nodes.extend(sub_inodes)\n",
        "\n",
        "    original_node = IndexNode.from_text_node(base_node, base_node.node_id)\n",
        "    all_nodes.append(original_node)\n",
        "\n",
        "all_nodes_dict = {n.node_id: n for n in all_nodes}\n",
        "\n",
        "print(f\"Total de nodes: {len(all_nodes)}\")"
      ],
      "metadata": {
        "id": "lpf0ic2SewZN",
        "colab": {
          "base_uri": "https://localhost:8080/"
        },
        "outputId": "88669448-db6d-44e8-f7ec-2db659ddc8ac"
      },
      "execution_count": 23,
      "outputs": [
        {
          "output_type": "stream",
          "name": "stdout",
          "text": [
            "Metadata length (85) is close to chunk size (128). Resulting chunks are less than 50 tokens. Consider increasing the chunk size or decreasing the size of your metadata to avoid this.\n",
            "Metadata length (80) is close to chunk size (128). Resulting chunks are less than 50 tokens. Consider increasing the chunk size or decreasing the size of your metadata to avoid this.\n",
            "Metadata length (95) is close to chunk size (128). Resulting chunks are less than 50 tokens. Consider increasing the chunk size or decreasing the size of your metadata to avoid this.\n",
            "Metadata length (98) is close to chunk size (128). Resulting chunks are less than 50 tokens. Consider increasing the chunk size or decreasing the size of your metadata to avoid this.\n",
            "Total de nodes: 7912\n"
          ]
        }
      ]
    },
    {
      "cell_type": "code",
      "source": [
        "pprint(all_nodes[-2])"
      ],
      "metadata": {
        "colab": {
          "base_uri": "https://localhost:8080/",
          "height": 520
        },
        "id": "cFV0ZdBAayz-",
        "outputId": "bd9cf667-6f30-431a-b6e3-f97c0c1d49e4"
      },
      "execution_count": 24,
      "outputs": [
        {
          "output_type": "display_data",
          "data": {
            "text/plain": [
              "\u001b[1;35mIndexNode\u001b[0m\u001b[1m(\u001b[0m\n",
              "\u001b[2;32m│   \u001b[0m\u001b[33mid_\u001b[0m=\u001b[32m'321efebd-be72-4643-bf06-140dcc08549f'\u001b[0m,\n",
              "\u001b[2;32m│   \u001b[0m\u001b[33membedding\u001b[0m=\u001b[3;35mNone\u001b[0m,\n",
              "\u001b[2;32m│   \u001b[0m\u001b[33mmetadata\u001b[0m=\u001b[1m{\u001b[0m\u001b[32m'campus'\u001b[0m: \u001b[32m'boituva'\u001b[0m, \u001b[32m'documento'\u001b[0m: \u001b[32m'Portaria nº 3.903, de 04 de novembro de 2015'\u001b[0m\u001b[1m}\u001b[0m,\n",
              "\u001b[2;32m│   \u001b[0m\u001b[33mexcluded_embed_metadata_keys\u001b[0m=\u001b[1m[\u001b[0m\u001b[1m]\u001b[0m,\n",
              "\u001b[2;32m│   \u001b[0m\u001b[33mexcluded_llm_metadata_keys\u001b[0m=\u001b[1m[\u001b[0m\u001b[1m]\u001b[0m,\n",
              "\u001b[2;32m│   \u001b[0m\u001b[33mrelationships\u001b[0m=\u001b[1m{\u001b[0m\n",
              "\u001b[2;32m│   │   \u001b[0m\u001b[1m<\u001b[0m\u001b[1;95mNodeRelationship.SOURCE:\u001b[0m\u001b[39m \u001b[0m\u001b[32m'1'\u001b[0m\u001b[39m>: \u001b[0m\u001b[1;35mRelatedNodeInfo\u001b[0m\u001b[1;39m(\u001b[0m\n",
              "\u001b[2;32m│   │   │   \u001b[0m\u001b[33mnode_id\u001b[0m\u001b[39m=\u001b[0m\u001b[32m'node_452'\u001b[0m\u001b[39m,\u001b[0m\n",
              "\u001b[2;32m│   │   │   \u001b[0m\u001b[33mnode_type\u001b[0m\u001b[39m=<ObjectType.TEXT: \u001b[0m\u001b[32m'1'\u001b[0m\u001b[39m>,\u001b[0m\n",
              "\u001b[2;32m│   │   │   \u001b[0m\u001b[33mmetadata\u001b[0m\u001b[39m=\u001b[0m\u001b[1;39m{\u001b[0m\u001b[32m'campus'\u001b[0m\u001b[39m: \u001b[0m\u001b[32m'boituva'\u001b[0m\u001b[39m, \u001b[0m\u001b[32m'documento'\u001b[0m\u001b[39m: \u001b[0m\u001b[32m'Portaria nº 3.903, de 04 de novembro de 2015'\u001b[0m\u001b[1;39m}\u001b[0m\u001b[39m,\u001b[0m\n",
              "\u001b[2;32m│   │   │   \u001b[0m\u001b[33mhash\u001b[0m\u001b[39m=\u001b[0m\u001b[32m'067a3b53bb3a814315b3a42bd06bc2dfb673e043a3be452cb468c9ff00b180b2'\u001b[0m\n",
              "\u001b[2;32m│   │   \u001b[0m\u001b[1;39m)\u001b[0m\u001b[39m,\u001b[0m\n",
              "\u001b[2;32m│   │   \u001b[0m\u001b[39m<NodeRelationship.PREVIOUS: \u001b[0m\u001b[32m'2'\u001b[0m\u001b[39m>: \u001b[0m\u001b[1;35mRelatedNodeInfo\u001b[0m\u001b[1;39m(\u001b[0m\n",
              "\u001b[2;32m│   │   │   \u001b[0m\u001b[33mnode_id\u001b[0m\u001b[39m=\u001b[0m\u001b[32m'f9af0eea-6ab1-40b6-a867-a8c87e6698d1'\u001b[0m\u001b[39m,\u001b[0m\n",
              "\u001b[2;32m│   │   │   \u001b[0m\u001b[33mnode_type\u001b[0m\u001b[39m=<ObjectType.TEXT: \u001b[0m\u001b[32m'1'\u001b[0m\u001b[1m>\u001b[0m,\n",
              "\u001b[2;32m│   │   │   \u001b[0m\u001b[33mmetadata\u001b[0m=\u001b[1m{\u001b[0m\u001b[32m'campus'\u001b[0m: \u001b[32m'boituva'\u001b[0m, \u001b[32m'documento'\u001b[0m: \u001b[32m'Portaria nº 3.903, de 04 de novembro de 2015'\u001b[0m\u001b[1m}\u001b[0m,\n",
              "\u001b[2;32m│   │   │   \u001b[0m\u001b[33mhash\u001b[0m=\u001b[32m'40d49a4da1da31ae95b463b40ce1fe24a4a357d27166363766705aa8f8aeacf7'\u001b[0m\n",
              "\u001b[2;32m│   │   \u001b[0m\u001b[1m)\u001b[0m\n",
              "\u001b[2;32m│   \u001b[0m\u001b[1m}\u001b[0m,\n",
              "\u001b[2;32m│   \u001b[0m\u001b[33mtext\u001b[0m=\u001b[32m'De ciência. Publique-se. Documento assinado eletronicamente. FELIPE GOBO BRUNO Publicado no site institucional em 08.01.2024. Documento assinado eletronicamente por:. Felipe Gobo Bruno Felipe Gobo Bruno, COORDENADOR\u001b[0m\u001b[32m(\u001b[0m\u001b[32mA\u001b[0m\u001b[32m)\u001b[0m\u001b[32m - FG2 - CDI-BTVCOORDENADOR\u001b[0m\u001b[32m(\u001b[0m\u001b[32mA\u001b[0m\u001b[32m)\u001b[0m\u001b[32m - FG2 - CDI-BTV, em 08/01/2024 16:48:11. Este documento foi emitido pelo SUAP em 08/01/2024. Para comprovar sua autenticidade, faça a leitura do QRCode ao lado ou acesse https://suap.ifsp.edu.br/autenticar-documento/ e forneça os dados abaixo:. |Código Verificador:|677015| |---|---| |Código de Autenticação:|838e98bf5f|. PORTARIA Nº 2/2024 - DRG/BTV/IFSP. PORTARIA Nº 2/2024 - DRG/BTV/IFSP'\u001b[0m,\n",
              "\u001b[2;32m│   \u001b[0m\u001b[33mmimetype\u001b[0m=\u001b[32m'text/plain'\u001b[0m,\n",
              "\u001b[2;32m│   \u001b[0m\u001b[33mstart_char_idx\u001b[0m=\u001b[1;36m1317\u001b[0m,\n",
              "\u001b[2;32m│   \u001b[0m\u001b[33mend_char_idx\u001b[0m=\u001b[1;36m1956\u001b[0m,\n",
              "\u001b[2;32m│   \u001b[0m\u001b[33mtext_template\u001b[0m=\u001b[32m'\u001b[0m\u001b[32m{\u001b[0m\u001b[32mmetadata_str\u001b[0m\u001b[32m}\u001b[0m\u001b[32m\\n\\n\u001b[0m\u001b[32m{\u001b[0m\u001b[32mcontent\u001b[0m\u001b[32m}\u001b[0m\u001b[32m'\u001b[0m,\n",
              "\u001b[2;32m│   \u001b[0m\u001b[33mmetadata_template\u001b[0m=\u001b[32m'\u001b[0m\u001b[32m{\u001b[0m\u001b[32mkey\u001b[0m\u001b[32m}\u001b[0m\u001b[32m: \u001b[0m\u001b[32m{\u001b[0m\u001b[32mvalue\u001b[0m\u001b[32m}\u001b[0m\u001b[32m'\u001b[0m,\n",
              "\u001b[2;32m│   \u001b[0m\u001b[33mmetadata_seperator\u001b[0m=\u001b[32m'\\n'\u001b[0m,\n",
              "\u001b[2;32m│   \u001b[0m\u001b[33mindex_id\u001b[0m=\u001b[32m'node_452'\u001b[0m,\n",
              "\u001b[2;32m│   \u001b[0m\u001b[33mobj\u001b[0m=\u001b[3;35mNone\u001b[0m\n",
              "\u001b[1m)\u001b[0m\n"
            ],
            "text/html": [
              "<pre style=\"white-space:pre;overflow-x:auto;line-height:normal;font-family:Menlo,'DejaVu Sans Mono',consolas,'Courier New',monospace\"><span style=\"color: #800080; text-decoration-color: #800080; font-weight: bold\">IndexNode</span><span style=\"font-weight: bold\">(</span>\n",
              "<span style=\"color: #7fbf7f; text-decoration-color: #7fbf7f\">│   </span><span style=\"color: #808000; text-decoration-color: #808000\">id_</span>=<span style=\"color: #008000; text-decoration-color: #008000\">'321efebd-be72-4643-bf06-140dcc08549f'</span>,\n",
              "<span style=\"color: #7fbf7f; text-decoration-color: #7fbf7f\">│   </span><span style=\"color: #808000; text-decoration-color: #808000\">embedding</span>=<span style=\"color: #800080; text-decoration-color: #800080; font-style: italic\">None</span>,\n",
              "<span style=\"color: #7fbf7f; text-decoration-color: #7fbf7f\">│   </span><span style=\"color: #808000; text-decoration-color: #808000\">metadata</span>=<span style=\"font-weight: bold\">{</span><span style=\"color: #008000; text-decoration-color: #008000\">'campus'</span>: <span style=\"color: #008000; text-decoration-color: #008000\">'boituva'</span>, <span style=\"color: #008000; text-decoration-color: #008000\">'documento'</span>: <span style=\"color: #008000; text-decoration-color: #008000\">'Portaria nº 3.903, de 04 de novembro de 2015'</span><span style=\"font-weight: bold\">}</span>,\n",
              "<span style=\"color: #7fbf7f; text-decoration-color: #7fbf7f\">│   </span><span style=\"color: #808000; text-decoration-color: #808000\">excluded_embed_metadata_keys</span>=<span style=\"font-weight: bold\">[]</span>,\n",
              "<span style=\"color: #7fbf7f; text-decoration-color: #7fbf7f\">│   </span><span style=\"color: #808000; text-decoration-color: #808000\">excluded_llm_metadata_keys</span>=<span style=\"font-weight: bold\">[]</span>,\n",
              "<span style=\"color: #7fbf7f; text-decoration-color: #7fbf7f\">│   </span><span style=\"color: #808000; text-decoration-color: #808000\">relationships</span>=<span style=\"font-weight: bold\">{</span>\n",
              "<span style=\"color: #7fbf7f; text-decoration-color: #7fbf7f\">│   │   </span><span style=\"font-weight: bold\">&lt;</span><span style=\"color: #ff00ff; text-decoration-color: #ff00ff; font-weight: bold\">NodeRelationship.SOURCE:</span><span style=\"color: #000000; text-decoration-color: #000000\"> </span><span style=\"color: #008000; text-decoration-color: #008000\">'1'</span><span style=\"color: #000000; text-decoration-color: #000000\">&gt;: </span><span style=\"color: #800080; text-decoration-color: #800080; font-weight: bold\">RelatedNodeInfo</span><span style=\"color: #000000; text-decoration-color: #000000; font-weight: bold\">(</span>\n",
              "<span style=\"color: #7fbf7f; text-decoration-color: #7fbf7f\">│   │   │   </span><span style=\"color: #808000; text-decoration-color: #808000\">node_id</span><span style=\"color: #000000; text-decoration-color: #000000\">=</span><span style=\"color: #008000; text-decoration-color: #008000\">'node_452'</span><span style=\"color: #000000; text-decoration-color: #000000\">,</span>\n",
              "<span style=\"color: #7fbf7f; text-decoration-color: #7fbf7f\">│   │   │   </span><span style=\"color: #808000; text-decoration-color: #808000\">node_type</span><span style=\"color: #000000; text-decoration-color: #000000\">=&lt;ObjectType.TEXT: </span><span style=\"color: #008000; text-decoration-color: #008000\">'1'</span><span style=\"color: #000000; text-decoration-color: #000000\">&gt;,</span>\n",
              "<span style=\"color: #7fbf7f; text-decoration-color: #7fbf7f\">│   │   │   </span><span style=\"color: #808000; text-decoration-color: #808000\">metadata</span><span style=\"color: #000000; text-decoration-color: #000000\">=</span><span style=\"color: #000000; text-decoration-color: #000000; font-weight: bold\">{</span><span style=\"color: #008000; text-decoration-color: #008000\">'campus'</span><span style=\"color: #000000; text-decoration-color: #000000\">: </span><span style=\"color: #008000; text-decoration-color: #008000\">'boituva'</span><span style=\"color: #000000; text-decoration-color: #000000\">, </span><span style=\"color: #008000; text-decoration-color: #008000\">'documento'</span><span style=\"color: #000000; text-decoration-color: #000000\">: </span><span style=\"color: #008000; text-decoration-color: #008000\">'Portaria nº 3.903, de 04 de novembro de 2015'</span><span style=\"color: #000000; text-decoration-color: #000000; font-weight: bold\">}</span><span style=\"color: #000000; text-decoration-color: #000000\">,</span>\n",
              "<span style=\"color: #7fbf7f; text-decoration-color: #7fbf7f\">│   │   │   </span><span style=\"color: #808000; text-decoration-color: #808000\">hash</span><span style=\"color: #000000; text-decoration-color: #000000\">=</span><span style=\"color: #008000; text-decoration-color: #008000\">'067a3b53bb3a814315b3a42bd06bc2dfb673e043a3be452cb468c9ff00b180b2'</span>\n",
              "<span style=\"color: #7fbf7f; text-decoration-color: #7fbf7f\">│   │   </span><span style=\"color: #000000; text-decoration-color: #000000; font-weight: bold\">)</span><span style=\"color: #000000; text-decoration-color: #000000\">,</span>\n",
              "<span style=\"color: #7fbf7f; text-decoration-color: #7fbf7f\">│   │   </span><span style=\"color: #000000; text-decoration-color: #000000\">&lt;NodeRelationship.PREVIOUS: </span><span style=\"color: #008000; text-decoration-color: #008000\">'2'</span><span style=\"color: #000000; text-decoration-color: #000000\">&gt;: </span><span style=\"color: #800080; text-decoration-color: #800080; font-weight: bold\">RelatedNodeInfo</span><span style=\"color: #000000; text-decoration-color: #000000; font-weight: bold\">(</span>\n",
              "<span style=\"color: #7fbf7f; text-decoration-color: #7fbf7f\">│   │   │   </span><span style=\"color: #808000; text-decoration-color: #808000\">node_id</span><span style=\"color: #000000; text-decoration-color: #000000\">=</span><span style=\"color: #008000; text-decoration-color: #008000\">'f9af0eea-6ab1-40b6-a867-a8c87e6698d1'</span><span style=\"color: #000000; text-decoration-color: #000000\">,</span>\n",
              "<span style=\"color: #7fbf7f; text-decoration-color: #7fbf7f\">│   │   │   </span><span style=\"color: #808000; text-decoration-color: #808000\">node_type</span><span style=\"color: #000000; text-decoration-color: #000000\">=&lt;ObjectType.TEXT: </span><span style=\"color: #008000; text-decoration-color: #008000\">'1'</span><span style=\"font-weight: bold\">&gt;</span>,\n",
              "<span style=\"color: #7fbf7f; text-decoration-color: #7fbf7f\">│   │   │   </span><span style=\"color: #808000; text-decoration-color: #808000\">metadata</span>=<span style=\"font-weight: bold\">{</span><span style=\"color: #008000; text-decoration-color: #008000\">'campus'</span>: <span style=\"color: #008000; text-decoration-color: #008000\">'boituva'</span>, <span style=\"color: #008000; text-decoration-color: #008000\">'documento'</span>: <span style=\"color: #008000; text-decoration-color: #008000\">'Portaria nº 3.903, de 04 de novembro de 2015'</span><span style=\"font-weight: bold\">}</span>,\n",
              "<span style=\"color: #7fbf7f; text-decoration-color: #7fbf7f\">│   │   │   </span><span style=\"color: #808000; text-decoration-color: #808000\">hash</span>=<span style=\"color: #008000; text-decoration-color: #008000\">'40d49a4da1da31ae95b463b40ce1fe24a4a357d27166363766705aa8f8aeacf7'</span>\n",
              "<span style=\"color: #7fbf7f; text-decoration-color: #7fbf7f\">│   │   </span><span style=\"font-weight: bold\">)</span>\n",
              "<span style=\"color: #7fbf7f; text-decoration-color: #7fbf7f\">│   </span><span style=\"font-weight: bold\">}</span>,\n",
              "<span style=\"color: #7fbf7f; text-decoration-color: #7fbf7f\">│   </span><span style=\"color: #808000; text-decoration-color: #808000\">text</span>=<span style=\"color: #008000; text-decoration-color: #008000\">'De ciência. Publique-se. Documento assinado eletronicamente. FELIPE GOBO BRUNO Publicado no site institucional em 08.01.2024. Documento assinado eletronicamente por:. Felipe Gobo Bruno Felipe Gobo Bruno, COORDENADOR(A) - FG2 - CDI-BTVCOORDENADOR(A) - FG2 - CDI-BTV, em 08/01/2024 16:48:11. Este documento foi emitido pelo SUAP em 08/01/2024. Para comprovar sua autenticidade, faça a leitura do QRCode ao lado ou acesse https://suap.ifsp.edu.br/autenticar-documento/ e forneça os dados abaixo:. |Código Verificador:|677015| |---|---| |Código de Autenticação:|838e98bf5f|. PORTARIA Nº 2/2024 - DRG/BTV/IFSP. PORTARIA Nº 2/2024 - DRG/BTV/IFSP'</span>,\n",
              "<span style=\"color: #7fbf7f; text-decoration-color: #7fbf7f\">│   </span><span style=\"color: #808000; text-decoration-color: #808000\">mimetype</span>=<span style=\"color: #008000; text-decoration-color: #008000\">'text/plain'</span>,\n",
              "<span style=\"color: #7fbf7f; text-decoration-color: #7fbf7f\">│   </span><span style=\"color: #808000; text-decoration-color: #808000\">start_char_idx</span>=<span style=\"color: #008080; text-decoration-color: #008080; font-weight: bold\">1317</span>,\n",
              "<span style=\"color: #7fbf7f; text-decoration-color: #7fbf7f\">│   </span><span style=\"color: #808000; text-decoration-color: #808000\">end_char_idx</span>=<span style=\"color: #008080; text-decoration-color: #008080; font-weight: bold\">1956</span>,\n",
              "<span style=\"color: #7fbf7f; text-decoration-color: #7fbf7f\">│   </span><span style=\"color: #808000; text-decoration-color: #808000\">text_template</span>=<span style=\"color: #008000; text-decoration-color: #008000\">'{metadata_str}\\n\\n{content}'</span>,\n",
              "<span style=\"color: #7fbf7f; text-decoration-color: #7fbf7f\">│   </span><span style=\"color: #808000; text-decoration-color: #808000\">metadata_template</span>=<span style=\"color: #008000; text-decoration-color: #008000\">'{key}: {value}'</span>,\n",
              "<span style=\"color: #7fbf7f; text-decoration-color: #7fbf7f\">│   </span><span style=\"color: #808000; text-decoration-color: #808000\">metadata_seperator</span>=<span style=\"color: #008000; text-decoration-color: #008000\">'\\n'</span>,\n",
              "<span style=\"color: #7fbf7f; text-decoration-color: #7fbf7f\">│   </span><span style=\"color: #808000; text-decoration-color: #808000\">index_id</span>=<span style=\"color: #008000; text-decoration-color: #008000\">'node_452'</span>,\n",
              "<span style=\"color: #7fbf7f; text-decoration-color: #7fbf7f\">│   </span><span style=\"color: #808000; text-decoration-color: #808000\">obj</span>=<span style=\"color: #800080; text-decoration-color: #800080; font-style: italic\">None</span>\n",
              "<span style=\"font-weight: bold\">)</span>\n",
              "</pre>\n"
            ]
          },
          "metadata": {}
        }
      ]
    },
    {
      "cell_type": "code",
      "source": [
        "from llama_index.core import StorageContext, load_index_from_storage\n",
        "\n",
        "index_dir = f\"{DATA_DIR}/4-vector_index\"\n",
        "\n",
        "# Carrega o indice existente ou cria um novo\n",
        "if os.path.exists(index_dir):\n",
        "\n",
        "    storage_context = StorageContext.from_defaults(persist_dir=index_dir)\n",
        "\n",
        "    # load index\n",
        "    index = load_index_from_storage(storage_context)\n",
        "else:\n",
        "\n",
        "    index = VectorStoreIndex(all_nodes)\n",
        "    index.storage_context.persist(index_dir)\n"
      ],
      "metadata": {
        "id": "ABhZ7bRpZCy3"
      },
      "execution_count": 25,
      "outputs": []
    },
    {
      "cell_type": "code",
      "source": [
        "import shutil\n",
        "\n",
        "# Caminho da pasta que você deseja compactar\n",
        "pasta_para_compactar = f\"{DATA_DIR}/4-vector_index\"\n",
        "\n",
        "# Caminho e nome do arquivo zip de saída (sem a extensão .zip)\n",
        "arquivo_zip_saida = f\"{DATA_DIR}/4-vector_index\"\n",
        "\n",
        "# Cria o arquivo zip\n",
        "shutil.make_archive(arquivo_zip_saida, 'zip', pasta_para_compactar)"
      ],
      "metadata": {
        "colab": {
          "base_uri": "https://localhost:8080/",
          "height": 38
        },
        "id": "kg0YpydzABih",
        "outputId": "5d644d1a-5958-411e-a819-f7223752e408"
      },
      "execution_count": 26,
      "outputs": [
        {
          "output_type": "execute_result",
          "data": {
            "text/plain": [
              "'/content/ia024-projeto-rag/4-vector_index.zip'"
            ],
            "application/vnd.google.colaboratory.intrinsic+json": {
              "type": "string"
            }
          },
          "metadata": {},
          "execution_count": 26
        }
      ]
    },
    {
      "cell_type": "code",
      "source": [
        "save_on_git(\"Salvando o índice de vetores\")"
      ],
      "metadata": {
        "colab": {
          "base_uri": "https://localhost:8080/"
        },
        "id": "fry8bPojiCpu",
        "outputId": "11f8ff3c-7a01-49a5-83ee-8ad756c39f60"
      },
      "execution_count": 27,
      "outputs": [
        {
          "output_type": "stream",
          "name": "stdout",
          "text": [
            "/content/ia024-projeto-rag\n",
            "From https://github.com/rsabilio/ia024-projeto-rag\n",
            " * branch            main       -> FETCH_HEAD\n",
            "Already up to date.\n",
            "On branch main\n",
            "Your branch is up to date with 'origin/main'.\n",
            "\n",
            "nothing to commit, working tree clean\n",
            "Everything up-to-date\n"
          ]
        }
      ]
    },
    {
      "cell_type": "code",
      "source": [
        "vector_retriever = index.as_retriever(similarity_top_k=20)\n",
        "\n",
        "retriever = RecursiveRetriever(\n",
        "    \"vector\",\n",
        "    retriever_dict={\"vector\": vector_retriever},\n",
        "    node_dict=all_nodes_dict,\n",
        "    verbose=True,\n",
        ")\n",
        "\n",
        "query_engine = RetrieverQueryEngine.from_args(\n",
        "    retriever=retriever,\n",
        "    verbose=True\n",
        ")"
      ],
      "metadata": {
        "id": "pAfXuaLu1eLw"
      },
      "execution_count": 28,
      "outputs": []
    },
    {
      "cell_type": "markdown",
      "source": [
        "# Implementando o Rerank"
      ],
      "metadata": {
        "id": "NVtT_g3Xpe3w"
      }
    },
    {
      "cell_type": "code",
      "source": [
        "!pip install -q rerankers"
      ],
      "metadata": {
        "id": "Hray-TFZZ740"
      },
      "execution_count": 29,
      "outputs": []
    },
    {
      "cell_type": "code",
      "source": [
        "from rerankers import Reranker\n",
        "import torch\n",
        "import time\n",
        "import random\n",
        "import json\n",
        "from concurrent.futures import ThreadPoolExecutor, as_completed\n",
        "from tqdm import tqdm\n",
        "from llama_index.core.query_engine import RetrieverQueryEngine\n",
        "from IPython.display import Markdown, display\n",
        "import pandas as pd\n",
        "import gc"
      ],
      "metadata": {
        "id": "crfqyYpvZx2g"
      },
      "execution_count": 30,
      "outputs": []
    },
    {
      "cell_type": "code",
      "source": [
        "def rerank(query, nodes, top_k=5):\n",
        "    docs = [node.get_content() for node in nodes]\n",
        "\n",
        "    ranker = Reranker(\n",
        "        \"unicamp-dl/monoptt5-large\",\n",
        "        inputs_template=\"Pergunta: {query} Documento: {text} Relevante:\",\n",
        "        dtype=torch.float32\n",
        "    )\n",
        "\n",
        "    results = ranker.rank(query, docs)\n",
        "\n",
        "    scored_nodes = list(zip(nodes, [result.score for result in results]))\n",
        "    scored_nodes.sort(key=lambda x: x[1], reverse=True)\n",
        "\n",
        "    top_nodes = [node for node, score in scored_nodes[:top_k]]\n",
        "\n",
        "    # Free up memory\n",
        "    del ranker\n",
        "    torch.cuda.empty_cache()\n",
        "    gc.collect()\n",
        "\n",
        "    return top_nodes"
      ],
      "metadata": {
        "id": "EJW6sN4Rbu2q"
      },
      "execution_count": 31,
      "outputs": []
    },
    {
      "cell_type": "code",
      "source": [
        "class RerankedRetrieverQueryEngine(RetrieverQueryEngine):\n",
        "    def __init__(self, retriever, reranker, top_k=5, **kwargs):\n",
        "        super().__init__(retriever=retriever, **kwargs)\n",
        "        self.reranker = reranker\n",
        "        self.top_k = top_k\n",
        "\n",
        "    def query(self, query_str):\n",
        "        response = super().query(query_str)\n",
        "        nodes_to_rerank = response.source_nodes\n",
        "        top_reranked_nodes = self.reranker(query_str, nodes_to_rerank, self.top_k)\n",
        "        response.source_nodes = top_reranked_nodes\n",
        "        return response"
      ],
      "metadata": {
        "id": "LsaPcjHsb0Fp"
      },
      "execution_count": 32,
      "outputs": []
    },
    {
      "cell_type": "code",
      "source": [
        "def display_prompt_dict(prompts_dict):\n",
        "    for k, p in prompts_dict.items():\n",
        "        text_md = f\"**Prompt Key**: {k} \" f\"**Text:** \"\n",
        "        display(Markdown(text_md))\n",
        "        print(p.get_template())\n",
        "        display(Markdown(\"\"))"
      ],
      "metadata": {
        "id": "KnLnqBRnEOOg"
      },
      "execution_count": 33,
      "outputs": []
    },
    {
      "cell_type": "code",
      "source": [
        "def get_contexts(response):\n",
        "    contexts = []\n",
        "    for node in response.source_nodes:\n",
        "        metadata = ', '.join(node.metadata.values())\n",
        "        context  = node.get_content()\n",
        "        contexts.append(f\"Fonte: {metadata} # Contextos: {context}\")\n",
        "    return contexts"
      ],
      "metadata": {
        "id": "Am8djvGTEQ-x"
      },
      "execution_count": 34,
      "outputs": []
    },
    {
      "cell_type": "code",
      "source": [
        "def parse_retry_after(error_message):\n",
        "    try:\n",
        "        error_data = json.loads(error_message)\n",
        "        return error_data['error']['message'].split('Please try again in ')[1].split('s.')[0]\n",
        "    except Exception as e:\n",
        "        print(f\"Failed to parse retry-after duration: {e}\")\n",
        "        return None"
      ],
      "metadata": {
        "id": "HFOGJ6h_ETYK"
      },
      "execution_count": 35,
      "outputs": []
    },
    {
      "cell_type": "code",
      "source": [
        "index_dir = f\"{DATA_DIR}/4-vector_index\"\n",
        "\n",
        "if os.path.exists(index_dir):\n",
        "    storage_context = StorageContext.from_defaults(persist_dir=index_dir)\n",
        "    index = load_index_from_storage(storage_context)\n",
        "else:\n",
        "    index = VectorStoreIndex(all_nodes)\n",
        "    index.storage_context.persist(index_dir)\n",
        "\n",
        "vector_retriever = index.as_retriever(similarity_top_k=20)\n",
        "\n",
        "retriever = RecursiveRetriever(\n",
        "    \"vector\",\n",
        "    retriever_dict={\"vector\": vector_retriever},\n",
        "    node_dict=all_nodes_dict,\n",
        ")"
      ],
      "metadata": {
        "id": "COWpMDCbFPE_"
      },
      "execution_count": 36,
      "outputs": []
    },
    {
      "cell_type": "code",
      "source": [
        "query_engine_with_rerank = RerankedRetrieverQueryEngine(\n",
        "    retriever=retriever,\n",
        "    reranker=rerank,\n",
        "    top_k=5\n",
        ")"
      ],
      "metadata": {
        "id": "BXrmvlAoFYpi"
      },
      "execution_count": 37,
      "outputs": []
    },
    {
      "cell_type": "code",
      "source": [
        "def evaluate_pair(pair, max_retries=5):\n",
        "    result = {}\n",
        "    query = pair['question']\n",
        "    ground_truth = pair['answer']\n",
        "\n",
        "    result['question'] = query\n",
        "    result['ground_truth'] = ground_truth\n",
        "\n",
        "    retries = 0\n",
        "    while retries < max_retries:\n",
        "        try:\n",
        "            # Fazendo consulta\n",
        "            response = query_engine_with_rerank.query(query)\n",
        "            result['answer'] = response.response\n",
        "            result['contexts'] = get_contexts(response)\n",
        "\n",
        "            # Avaliando Faithfulness\n",
        "            eval_result = faith_evaluator.evaluate_response(response=response)\n",
        "            result['faithfulness'] = eval_result.score\n",
        "            result['faithfulness_feedback'] = eval_result.feedback\n",
        "\n",
        "            # Avaliando Relevancy\n",
        "            eval_result = relevancy_evaluator.evaluate_response(query=query, response=response)\n",
        "            result['relevancy'] = eval_result.score\n",
        "            result['relevancy_feedback'] = eval_result.feedback\n",
        "\n",
        "            # Avaliando Correctness\n",
        "            eval_result = correct_evaluator.evaluate(\n",
        "                query=query,\n",
        "                response=response.response,\n",
        "                reference=ground_truth,\n",
        "            )\n",
        "            result['correctness'] = eval_result.score\n",
        "            result['correctness_feedback'] = eval_result.feedback\n",
        "\n",
        "            return result\n",
        "\n",
        "        except Exception as e:\n",
        "            error_message = str(e)\n",
        "            if 'rate limit' in error_message.lower():\n",
        "                retry_after = parse_retry_after(error_message)\n",
        "                if retry_after:\n",
        "                    wait_time = float(retry_after)\n",
        "                else:\n",
        "                    wait_time = 2 ** retries + random.uniform(0, 1)\n",
        "                print(f\"Rate limit reached. Retrying in {wait_time:.2f} seconds...\")\n",
        "                time.sleep(wait_time)\n",
        "                retries += 1\n",
        "            else:\n",
        "                raise\n",
        "\n",
        "    raise Exception(\"Max retries exceeded\")"
      ],
      "metadata": {
        "id": "ubNEhHBsEbXx"
      },
      "execution_count": 38,
      "outputs": []
    },
    {
      "cell_type": "code",
      "source": [
        "pairs = [{\n",
        "            \"question\": \"Qual o nome do IFSP?\",\n",
        "            \"answer\": \"Instituto Federal de Educação, Ciência e Tecnologia de São Paulo.  Referência: Estatuto, Título I, Capítulo I, Art. 1º\"\n",
        "         }\n",
        "         ,{\n",
        "            \"question\": \"Quais são os campi do IFSP?\",\n",
        "            \"answer\": \"\"\"II. Campus São Paulo, situado na Rua Pedro Vicente, 625, Canindé, São Paulo.\n",
        "III. Campus Cubatão, situado na Rua Maria Cristina, 50, Jardim Casqueiro, Cubatão.\n",
        "IV. Campus Sertãozinho, situado na Rua Américo Ambrósio, 269, Jardim Canaã,\n",
        "Sertãozinho.\n",
        "V. Campus Guarulhos, situado na Avenida Salgado Filho, 2501, Bairro Vila Rio de\n",
        "Janeiro, Guarulhos.\n",
        "VI. Campus São João da Boa Vista, situado no Acesso Dr. João Batista Merlin, s/ n.º,\n",
        "Jardim Itália, São João da Boa Vista.\n",
        "VII. Campus Caraguatatuba, situado na Avenida Rio Grande do Norte, 450, Indaiá,\n",
        "Caraguatatuba.\n",
        "VIII. Campus Bragança Paulista, situado na Avenida Francisco Samuel Lucchesi Filho,\n",
        "770, Penha, Bragança Paulista.\n",
        "IX. Campus Salto, situado na Rua Rio Branco, 1780, Vila Teixeira, Salto.\n",
        "X. Campus São Roque, situado na Rodovia Quintino de Lima, 2100, Jardim Conceição,\n",
        "São Roque.\n",
        "XI. Campus São Carlos, situado na Rodovia Washington Luís, km 235 AT-6, Sala 119,\n",
        "São Carlos.\n",
        "XII. Campus Campos do Jordão, situado na Rua Monsenhor José Vita, 280, Vila\n",
        "Abernéssia, Campos do Jordão.\n",
        "XIII. Campus Barretos, situado na Avenida C-1, Bairro Ide Daher, Barretos.\n",
        "XIV. Campus Suzano, situado na Avenida Mogi das Cruzes, 1.501, Parque Suzano,\n",
        "Suzano.\n",
        "XV. Campus Campinas, situado na Rodovia D. Pedro I – SP 65 – KM 143,6, Amarais,\n",
        "Campinas;\n",
        "XVI. Campus Catanduva, situado na Avenida Imperatriz, s/ n.º, Distrito Industrial,\n",
        "Catanduva.\n",
        "XVII. Campus Avaré, situado na Avenida Professor Celso Ferreira da Silva, s/ n.º, Jardim\n",
        "Europa, Avaré.\n",
        "XVIII. Campus Araraquara, situado no Ramal de Acesso Engenheiro Heitor de Souza\n",
        "Pinheiro, Araraquara.\n",
        "XIX. Campus Itapetininga, situado na Avenida João Olímpio de Oliveira, Bairro Assen,\n",
        "Itapetininga.\n",
        "XX. Campus Birigui, situado na Rua Pedro Cavalo, 709, Residencial Portal da Pérola II,\n",
        "Birigui.\n",
        "XXI. Campus Votuporanga, situado na Rua Pará, s/ n.º, Chácara Aviação, Votuporanga.\n",
        "XXII. Campus Registro, situado na Rua Clara Gianotti de Souza, 5.180, Agrochá,\n",
        "Registro.\n",
        "XXIII. Campus Presidente Epitácio, situado na Rua Rua José Ramos Júnior, nº 27-50,\n",
        "Jardim Tropical, Presidente Epitácio.\n",
        "XXIV. Campus Piracicaba, situado na Rodovia Deputado Laércio Corte, s/ n.º, Bairro\n",
        "Santa Rosa, Piracicaba.\n",
        "XXV. Campus Hortolândia, situado na Rodovia Municipal TeodorCondiev, 1896,\n",
        "Hortolândia.\n",
        "XXVI. Campus Boituva, situado na Avenida Zélia de Lima Rosa, nº 100, Portal dos\n",
        "Pássaros, Boituva.\n",
        "XXVII. Campus Capivari, situado na Avenida Ênio Pires de Camargo, 2971, São João\n",
        "Batista, Capivari.\n",
        "XXVIII. Campus Matão, situado na Rua José Bonifácio, 1176, Centro, Matão.\n",
        "XXIX. Campus São José dos Campos, situado na Rodovia Presidente Dutra s/n – km 145,\n",
        "Jardim Diamante, São José dos Campos.\n",
        "\n",
        "Referência: Estatuto, Título I, Capítulo I, Art. 1º, §2º\n",
        "\"\"\"\n",
        "         }\n",
        "         ,{\n",
        "            \"question\": \"Quantos campi o IFSP tem? Informe onde você encontrou essa informação\",\n",
        "            \"answer\": \"O IFSP tem 28 campi. Referência: Estatuto, Capítulo I, Art. 1º, §2º\"\n",
        "         }\n",
        "        ]\n",
        "\n",
        "#query = \"O IFSP tem só ensino médio? Além de responder à pergunta, informe o documento, o Capítulo e o Artigo de referência.\"\n",
        "#query = \"Quais artigos do Estatuto dizem que o IFSP oferece mestrado e doutorado?\"\n",
        "#query = \"O que diz o Art 6º do estatuto do IFSP?\"\n",
        "#query = \"O Art 4º do estatuto do IFSP é sobre o que?\""
      ],
      "metadata": {
        "id": "PJd-W52eCPKG"
      },
      "execution_count": 39,
      "outputs": []
    },
    {
      "cell_type": "code",
      "source": [
        "data = []\n",
        "\n",
        "with ThreadPoolExecutor(max_workers=4) as executor:  # Ajuste o número de workers conforme necessário\n",
        "    future_to_pair = {executor.submit(evaluate_pair, pair): pair for pair in pairs}\n",
        "    for future in tqdm(as_completed(future_to_pair), total=len(pairs)):\n",
        "        try:\n",
        "            data.append(future.result())\n",
        "        except Exception as exc:\n",
        "            print(f'Generated an exception: {exc}')\n",
        "\n",
        "df = pd.DataFrame(data)\n",
        "df"
      ],
      "metadata": {
        "colab": {
          "base_uri": "https://localhost:8080/",
          "height": 1000,
          "referenced_widgets": [
            "4ed5f5f19e3a44729c870924ae58e64f",
            "35fdbd77f27d405e807c1d1b4572a3e3",
            "f78ed82518084a4cbb919ef80135658b",
            "353fab731e9f4af78211d66b84225f9b",
            "323e5c1c084646caa80a4df1ef14abe8",
            "c7f5b4cfbfe24be09840f910e278dc22",
            "1c3c5a29c7be46aeaf031add5f566e06",
            "57cbc9d08e7b4b52a37f8d13f7ca3aa9",
            "43ba8d0a051648bc9962e6adae0ac773",
            "b023745bcbf9497cadda8e6c44073890",
            "1377517d17b2452d975b3630b9652a90",
            "66926458848241c2bb3f978b3fd07d92",
            "1f5d7a15ea0b4508a4bc041fda4bebe3",
            "49cd180189e545a2bae8902bf5f000e8",
            "7392490bba7e4ff5acd817365ba3e727",
            "23b3bde6ca5d4098a65087ad1c677337",
            "6b283d8b8b1d4f6f8d9107571de9f4ca",
            "256c796d6f8e4e6aaca736407a7439da",
            "e3f9bc64998e43008a285f28345fd98d",
            "99ca7146685c4dd6bbb0480d48ad55e7",
            "b6e437e61c054c54aebee8fa2ec71b61",
            "d22dc5487a73488bb200125cfd49af5f"
          ]
        },
        "id": "C3lnyvFpcUFx",
        "outputId": "1ef01416-aa6f-49d4-e929-71dabb9678b7"
      },
      "execution_count": 41,
      "outputs": [
        {
          "output_type": "stream",
          "name": "stderr",
          "text": [
            "\r  0%|          | 0/3 [00:00<?, ?it/s]"
          ]
        },
        {
          "output_type": "stream",
          "name": "stdout",
          "text": [
            "Loading T5Ranker model unicamp-dl/monoptt5-large\n",
            "No device set\n",
            "Using device cpu\n",
            "Device set to `cpu`, setting dtype to `float32`\n",
            "Using dtype torch.float32\n",
            "Loading model unicamp-dl/monoptt5-large, this might take a while...\n",
            "Using device cpu.\n",
            "Using dtype torch.float32.\n"
          ]
        },
        {
          "output_type": "stream",
          "name": "stderr",
          "text": [
            "/usr/local/lib/python3.10/dist-packages/huggingface_hub/file_download.py:1132: FutureWarning: `resume_download` is deprecated and will be removed in version 1.0.0. Downloads always resume when possible. If you want to force a new download, use `force_download=True`.\n",
            "  warnings.warn(\n",
            "You are using the default legacy behaviour of the <class 'transformers.models.t5.tokenization_t5.T5Tokenizer'>. This is expected, and simply means that the `legacy` (previous) behavior will be used so nothing changes for you. If you want to use the new behaviour, set `legacy=False`. This should only be set if you understand what it means, and thoroughly read the reason why this was added as explained in https://github.com/huggingface/transformers/pull/24565\n"
          ]
        },
        {
          "output_type": "stream",
          "name": "stdout",
          "text": [
            "T5 true token set to ▁Sim\n",
            "T5 false token set to ▁Não\n",
            "Returning normalised scores...\n",
            "Inputs template set to Pergunta: {query} Documento: {text} Relevante:\n"
          ]
        },
        {
          "output_type": "display_data",
          "data": {
            "text/plain": [
              "Scoring...:   0%|          | 0/1 [00:00<?, ?it/s]"
            ],
            "application/vnd.jupyter.widget-view+json": {
              "version_major": 2,
              "version_minor": 0,
              "model_id": "4ed5f5f19e3a44729c870924ae58e64f"
            }
          },
          "metadata": {}
        },
        {
          "output_type": "stream",
          "name": "stderr",
          "text": [
            "WARNING:llama_index.llms.openai.utils:Retrying llama_index.llms.openai.base.OpenAI._chat in 0.6042486151395071 seconds as it raised RateLimitError: Error code: 429 - {'error': {'message': 'Rate limit reached for model `llama3-70b-8192` in organization `org_01hws2sr5re278wrjr440pk8m8` on tokens per minute (TPM): Limit 6000, Used 10583, Requested 2189. Please try again in 1m7.72s. Visit https://console.groq.com/docs/rate-limits for more information.', 'type': 'tokens', 'code': 'rate_limit_exceeded'}}.\n",
            "WARNING:llama_index.llms.openai.utils:Retrying llama_index.llms.openai.base.OpenAI._chat in 0.038006447831285595 seconds as it raised RateLimitError: Error code: 429 - {'error': {'message': 'Rate limit reached for model `llama3-70b-8192` in organization `org_01hws2sr5re278wrjr440pk8m8` on tokens per minute (TPM): Limit 6000, Used 10515, Requested 2189. Please try again in 1m7.04s. Visit https://console.groq.com/docs/rate-limits for more information.', 'type': 'tokens', 'code': 'rate_limit_exceeded'}}.\n"
          ]
        },
        {
          "output_type": "stream",
          "name": "stdout",
          "text": [
            "Failed to parse retry-after duration: Expecting value: line 1 column 1 (char 0)\n",
            "Rate limit reached. Retrying in 1.87 seconds...\n"
          ]
        },
        {
          "output_type": "stream",
          "name": "stderr",
          "text": [
            "WARNING:llama_index.llms.openai.utils:Retrying llama_index.llms.openai.base.OpenAI._chat in 0.6998529679567315 seconds as it raised RateLimitError: Error code: 429 - {'error': {'message': 'Rate limit reached for model `llama3-70b-8192` in organization `org_01hws2sr5re278wrjr440pk8m8` on tokens per minute (TPM): Limit 6000, Used 10226, Requested 3269. Please try again in 1m14.958s. Visit https://console.groq.com/docs/rate-limits for more information.', 'type': 'tokens', 'code': 'rate_limit_exceeded'}}.\n",
            "WARNING:llama_index.llms.openai.utils:Retrying llama_index.llms.openai.base.OpenAI._chat in 0.044321652097796704 seconds as it raised RateLimitError: Error code: 429 - {'error': {'message': 'Rate limit reached for model `llama3-70b-8192` in organization `org_01hws2sr5re278wrjr440pk8m8` on tokens per minute (TPM): Limit 6000, Used 10148, Requested 3269. Please try again in 1m14.171s. Visit https://console.groq.com/docs/rate-limits for more information.', 'type': 'tokens', 'code': 'rate_limit_exceeded'}}.\n"
          ]
        },
        {
          "output_type": "stream",
          "name": "stdout",
          "text": [
            "Failed to parse retry-after duration: Expecting value: line 1 column 1 (char 0)\n",
            "Rate limit reached. Retrying in 2.28 seconds...\n"
          ]
        },
        {
          "output_type": "stream",
          "name": "stderr",
          "text": [
            "WARNING:llama_index.llms.openai.utils:Retrying llama_index.llms.openai.base.OpenAI._chat in 0.551946149278996 seconds as it raised RateLimitError: Error code: 429 - {'error': {'message': 'Rate limit reached for model `llama3-70b-8192` in organization `org_01hws2sr5re278wrjr440pk8m8` on tokens per minute (TPM): Limit 6000, Used 9847, Requested 3269. Please try again in 1m11.165s. Visit https://console.groq.com/docs/rate-limits for more information.', 'type': 'tokens', 'code': 'rate_limit_exceeded'}}.\n",
            "WARNING:llama_index.llms.openai.utils:Retrying llama_index.llms.openai.base.OpenAI._chat in 0.9542058373327766 seconds as it raised RateLimitError: Error code: 429 - {'error': {'message': 'Rate limit reached for model `llama3-70b-8192` in organization `org_01hws2sr5re278wrjr440pk8m8` on tokens per minute (TPM): Limit 6000, Used 9783, Requested 3269. Please try again in 1m10.526s. Visit https://console.groq.com/docs/rate-limits for more information.', 'type': 'tokens', 'code': 'rate_limit_exceeded'}}.\n"
          ]
        },
        {
          "output_type": "stream",
          "name": "stdout",
          "text": [
            "Failed to parse retry-after duration: Expecting value: line 1 column 1 (char 0)\n",
            "Rate limit reached. Retrying in 4.22 seconds...\n"
          ]
        },
        {
          "output_type": "stream",
          "name": "stderr",
          "text": [
            "WARNING:llama_index.llms.openai.utils:Retrying llama_index.llms.openai.base.OpenAI._chat in 0.0038457834362065624 seconds as it raised RateLimitError: Error code: 429 - {'error': {'message': 'Rate limit reached for model `llama3-70b-8192` in organization `org_01hws2sr5re278wrjr440pk8m8` on tokens per minute (TPM): Limit 6000, Used 9203, Requested 3269. Please try again in 1m4.728s. Visit https://console.groq.com/docs/rate-limits for more information.', 'type': 'tokens', 'code': 'rate_limit_exceeded'}}.\n",
            "WARNING:llama_index.llms.openai.utils:Retrying llama_index.llms.openai.base.OpenAI._chat in 0.5145572462280916 seconds as it raised RateLimitError: Error code: 429 - {'error': {'message': 'Rate limit reached for model `llama3-70b-8192` in organization `org_01hws2sr5re278wrjr440pk8m8` on tokens per minute (TPM): Limit 6000, Used 9193, Requested 3269. Please try again in 1m4.626s. Visit https://console.groq.com/docs/rate-limits for more information.', 'type': 'tokens', 'code': 'rate_limit_exceeded'}}.\n"
          ]
        },
        {
          "output_type": "stream",
          "name": "stdout",
          "text": [
            "Failed to parse retry-after duration: Expecting value: line 1 column 1 (char 0)\n",
            "Rate limit reached. Retrying in 8.77 seconds...\n"
          ]
        },
        {
          "output_type": "stream",
          "name": "stderr",
          "text": [
            "\r 33%|███▎      | 1/3 [01:57<03:55, 117.56s/it]"
          ]
        },
        {
          "output_type": "stream",
          "name": "stdout",
          "text": [
            "Generated an exception: name 'faith_evaluator' is not defined\n"
          ]
        },
        {
          "output_type": "stream",
          "name": "stderr",
          "text": [
            "WARNING:llama_index.llms.openai.utils:Retrying llama_index.llms.openai.base.OpenAI._chat in 0.5158088589990829 seconds as it raised RateLimitError: Error code: 429 - {'error': {'message': 'Rate limit reached for model `llama3-70b-8192` in organization `org_01hws2sr5re278wrjr440pk8m8` on tokens per minute (TPM): Limit 6000, Used 10654, Requested 2189. Please try again in 1m8.437s. Visit https://console.groq.com/docs/rate-limits for more information.', 'type': 'tokens', 'code': 'rate_limit_exceeded'}}.\n",
            "WARNING:llama_index.llms.openai.utils:Retrying llama_index.llms.openai.base.OpenAI._chat in 0.80811049873648 seconds as it raised RateLimitError: Error code: 429 - {'error': {'message': 'Rate limit reached for model `llama3-70b-8192` in organization `org_01hws2sr5re278wrjr440pk8m8` on tokens per minute (TPM): Limit 6000, Used 10597, Requested 2189. Please try again in 1m7.863s. Visit https://console.groq.com/docs/rate-limits for more information.', 'type': 'tokens', 'code': 'rate_limit_exceeded'}}.\n"
          ]
        },
        {
          "output_type": "stream",
          "name": "stdout",
          "text": [
            "Failed to parse retry-after duration: Expecting value: line 1 column 1 (char 0)\n",
            "Rate limit reached. Retrying in 16.23 seconds...\n"
          ]
        },
        {
          "output_type": "stream",
          "name": "stderr",
          "text": [
            "\r 67%|██████▋   | 2/3 [03:02<01:26, 86.84s/it] "
          ]
        },
        {
          "output_type": "stream",
          "name": "stdout",
          "text": [
            "Generated an exception: Max retries exceeded\n",
            "Loading T5Ranker model unicamp-dl/monoptt5-large\n",
            "No device set\n",
            "Using device cpu\n",
            "Device set to `cpu`, setting dtype to `float32`\n",
            "Using dtype torch.float32\n",
            "Loading model unicamp-dl/monoptt5-large, this might take a while...\n",
            "Using device cpu.\n",
            "Using dtype torch.float32.\n",
            "T5 true token set to ▁Sim\n",
            "T5 false token set to ▁Não\n",
            "Returning normalised scores...\n",
            "Inputs template set to Pergunta: {query} Documento: {text} Relevante:\n"
          ]
        },
        {
          "output_type": "display_data",
          "data": {
            "text/plain": [
              "Scoring...:   0%|          | 0/1 [00:00<?, ?it/s]"
            ],
            "application/vnd.jupyter.widget-view+json": {
              "version_major": 2,
              "version_minor": 0,
              "model_id": "66926458848241c2bb3f978b3fd07d92"
            }
          },
          "metadata": {}
        },
        {
          "output_type": "stream",
          "name": "stderr",
          "text": [
            "100%|██████████| 3/3 [04:45<00:00, 95.28s/it]"
          ]
        },
        {
          "output_type": "stream",
          "name": "stdout",
          "text": [
            "Generated an exception: name 'faith_evaluator' is not defined\n"
          ]
        },
        {
          "output_type": "stream",
          "name": "stderr",
          "text": [
            "\n"
          ]
        },
        {
          "output_type": "execute_result",
          "data": {
            "text/plain": [
              "Empty DataFrame\n",
              "Columns: []\n",
              "Index: []"
            ],
            "text/html": [
              "\n",
              "  <div id=\"df-9bf4d530-9128-494f-99ce-0cb31cef21ae\" class=\"colab-df-container\">\n",
              "    <div>\n",
              "<style scoped>\n",
              "    .dataframe tbody tr th:only-of-type {\n",
              "        vertical-align: middle;\n",
              "    }\n",
              "\n",
              "    .dataframe tbody tr th {\n",
              "        vertical-align: top;\n",
              "    }\n",
              "\n",
              "    .dataframe thead th {\n",
              "        text-align: right;\n",
              "    }\n",
              "</style>\n",
              "<table border=\"1\" class=\"dataframe\">\n",
              "  <thead>\n",
              "    <tr style=\"text-align: right;\">\n",
              "      <th></th>\n",
              "    </tr>\n",
              "  </thead>\n",
              "  <tbody>\n",
              "  </tbody>\n",
              "</table>\n",
              "</div>\n",
              "    <div class=\"colab-df-buttons\">\n",
              "\n",
              "  <div class=\"colab-df-container\">\n",
              "    <button class=\"colab-df-convert\" onclick=\"convertToInteractive('df-9bf4d530-9128-494f-99ce-0cb31cef21ae')\"\n",
              "            title=\"Convert this dataframe to an interactive table.\"\n",
              "            style=\"display:none;\">\n",
              "\n",
              "  <svg xmlns=\"http://www.w3.org/2000/svg\" height=\"24px\" viewBox=\"0 -960 960 960\">\n",
              "    <path d=\"M120-120v-720h720v720H120Zm60-500h600v-160H180v160Zm220 220h160v-160H400v160Zm0 220h160v-160H400v160ZM180-400h160v-160H180v160Zm440 0h160v-160H620v160ZM180-180h160v-160H180v160Zm440 0h160v-160H620v160Z\"/>\n",
              "  </svg>\n",
              "    </button>\n",
              "\n",
              "  <style>\n",
              "    .colab-df-container {\n",
              "      display:flex;\n",
              "      gap: 12px;\n",
              "    }\n",
              "\n",
              "    .colab-df-convert {\n",
              "      background-color: #E8F0FE;\n",
              "      border: none;\n",
              "      border-radius: 50%;\n",
              "      cursor: pointer;\n",
              "      display: none;\n",
              "      fill: #1967D2;\n",
              "      height: 32px;\n",
              "      padding: 0 0 0 0;\n",
              "      width: 32px;\n",
              "    }\n",
              "\n",
              "    .colab-df-convert:hover {\n",
              "      background-color: #E2EBFA;\n",
              "      box-shadow: 0px 1px 2px rgba(60, 64, 67, 0.3), 0px 1px 3px 1px rgba(60, 64, 67, 0.15);\n",
              "      fill: #174EA6;\n",
              "    }\n",
              "\n",
              "    .colab-df-buttons div {\n",
              "      margin-bottom: 4px;\n",
              "    }\n",
              "\n",
              "    [theme=dark] .colab-df-convert {\n",
              "      background-color: #3B4455;\n",
              "      fill: #D2E3FC;\n",
              "    }\n",
              "\n",
              "    [theme=dark] .colab-df-convert:hover {\n",
              "      background-color: #434B5C;\n",
              "      box-shadow: 0px 1px 3px 1px rgba(0, 0, 0, 0.15);\n",
              "      filter: drop-shadow(0px 1px 2px rgba(0, 0, 0, 0.3));\n",
              "      fill: #FFFFFF;\n",
              "    }\n",
              "  </style>\n",
              "\n",
              "    <script>\n",
              "      const buttonEl =\n",
              "        document.querySelector('#df-9bf4d530-9128-494f-99ce-0cb31cef21ae button.colab-df-convert');\n",
              "      buttonEl.style.display =\n",
              "        google.colab.kernel.accessAllowed ? 'block' : 'none';\n",
              "\n",
              "      async function convertToInteractive(key) {\n",
              "        const element = document.querySelector('#df-9bf4d530-9128-494f-99ce-0cb31cef21ae');\n",
              "        const dataTable =\n",
              "          await google.colab.kernel.invokeFunction('convertToInteractive',\n",
              "                                                    [key], {});\n",
              "        if (!dataTable) return;\n",
              "\n",
              "        const docLinkHtml = 'Like what you see? Visit the ' +\n",
              "          '<a target=\"_blank\" href=https://colab.research.google.com/notebooks/data_table.ipynb>data table notebook</a>'\n",
              "          + ' to learn more about interactive tables.';\n",
              "        element.innerHTML = '';\n",
              "        dataTable['output_type'] = 'display_data';\n",
              "        await google.colab.output.renderOutput(dataTable, element);\n",
              "        const docLink = document.createElement('div');\n",
              "        docLink.innerHTML = docLinkHtml;\n",
              "        element.appendChild(docLink);\n",
              "      }\n",
              "    </script>\n",
              "  </div>\n",
              "\n",
              "\n",
              "  <div id=\"id_8b3cc0bb-cc61-44c2-823d-4315ee3f3344\">\n",
              "    <style>\n",
              "      .colab-df-generate {\n",
              "        background-color: #E8F0FE;\n",
              "        border: none;\n",
              "        border-radius: 50%;\n",
              "        cursor: pointer;\n",
              "        display: none;\n",
              "        fill: #1967D2;\n",
              "        height: 32px;\n",
              "        padding: 0 0 0 0;\n",
              "        width: 32px;\n",
              "      }\n",
              "\n",
              "      .colab-df-generate:hover {\n",
              "        background-color: #E2EBFA;\n",
              "        box-shadow: 0px 1px 2px rgba(60, 64, 67, 0.3), 0px 1px 3px 1px rgba(60, 64, 67, 0.15);\n",
              "        fill: #174EA6;\n",
              "      }\n",
              "\n",
              "      [theme=dark] .colab-df-generate {\n",
              "        background-color: #3B4455;\n",
              "        fill: #D2E3FC;\n",
              "      }\n",
              "\n",
              "      [theme=dark] .colab-df-generate:hover {\n",
              "        background-color: #434B5C;\n",
              "        box-shadow: 0px 1px 3px 1px rgba(0, 0, 0, 0.15);\n",
              "        filter: drop-shadow(0px 1px 2px rgba(0, 0, 0, 0.3));\n",
              "        fill: #FFFFFF;\n",
              "      }\n",
              "    </style>\n",
              "    <button class=\"colab-df-generate\" onclick=\"generateWithVariable('df')\"\n",
              "            title=\"Generate code using this dataframe.\"\n",
              "            style=\"display:none;\">\n",
              "\n",
              "  <svg xmlns=\"http://www.w3.org/2000/svg\" height=\"24px\"viewBox=\"0 0 24 24\"\n",
              "       width=\"24px\">\n",
              "    <path d=\"M7,19H8.4L18.45,9,17,7.55,7,17.6ZM5,21V16.75L18.45,3.32a2,2,0,0,1,2.83,0l1.4,1.43a1.91,1.91,0,0,1,.58,1.4,1.91,1.91,0,0,1-.58,1.4L9.25,21ZM18.45,9,17,7.55Zm-12,3A5.31,5.31,0,0,0,4.9,8.1,5.31,5.31,0,0,0,1,6.5,5.31,5.31,0,0,0,4.9,4.9,5.31,5.31,0,0,0,6.5,1,5.31,5.31,0,0,0,8.1,4.9,5.31,5.31,0,0,0,12,6.5,5.46,5.46,0,0,0,6.5,12Z\"/>\n",
              "  </svg>\n",
              "    </button>\n",
              "    <script>\n",
              "      (() => {\n",
              "      const buttonEl =\n",
              "        document.querySelector('#id_8b3cc0bb-cc61-44c2-823d-4315ee3f3344 button.colab-df-generate');\n",
              "      buttonEl.style.display =\n",
              "        google.colab.kernel.accessAllowed ? 'block' : 'none';\n",
              "\n",
              "      buttonEl.onclick = () => {\n",
              "        google.colab.notebook.generateWithVariable('df');\n",
              "      }\n",
              "      })();\n",
              "    </script>\n",
              "  </div>\n",
              "\n",
              "    </div>\n",
              "  </div>\n"
            ],
            "application/vnd.google.colaboratory.intrinsic+json": {
              "type": "dataframe",
              "variable_name": "df",
              "summary": "{\n  \"name\": \"df\",\n  \"rows\": 0,\n  \"fields\": []\n}"
            }
          },
          "metadata": {},
          "execution_count": 41
        }
      ]
    },
    {
      "cell_type": "code",
      "source": [
        "query = \"Ramon Abilio é professor em qual campos do IFSP?\"\n",
        "response = query_engine_with_rerank.query(query)\n",
        "display_response(response)"
      ],
      "metadata": {
        "colab": {
          "base_uri": "https://localhost:8080/",
          "height": 326,
          "referenced_widgets": [
            "ae7247ba6a924b43859b0c7b13d181dd",
            "d582523e255343ddb0008ff2b0d6df0f",
            "a7bab00f92554621b04d667854156725",
            "5c90e91e038b462a9f3ef27ccddc372b",
            "ed74d3c615154155b3a2bc91291e9726",
            "188e10c98a2448e0877a31e571e651e8",
            "02753a8b1066451998dd82f3c72315f0",
            "0fbf8530404f47dd8f14092b6fbaa683",
            "948dd5760f9649079e75d3439bc5960d",
            "d70d88131b794cf08b4ddd14e5564c5f",
            "78587cd747164cb5a2412c65d2e95c92"
          ]
        },
        "id": "OI1Ii7tVdOK6",
        "outputId": "ba324cfc-6613-4da4-b32d-3863ce4cacae"
      },
      "execution_count": 47,
      "outputs": [
        {
          "output_type": "stream",
          "name": "stdout",
          "text": [
            "Loading T5Ranker model unicamp-dl/monoptt5-large\n",
            "No device set\n",
            "Using device cpu\n",
            "Device set to `cpu`, setting dtype to `float32`\n",
            "Using dtype torch.float32\n",
            "Loading model unicamp-dl/monoptt5-large, this might take a while...\n",
            "Using device cpu.\n",
            "Using dtype torch.float32.\n",
            "T5 true token set to ▁Sim\n",
            "T5 false token set to ▁Não\n",
            "Returning normalised scores...\n",
            "Inputs template set to Pergunta: {query} Documento: {text} Relevante:\n"
          ]
        },
        {
          "output_type": "display_data",
          "data": {
            "text/plain": [
              "Scoring...:   0%|          | 0/1 [00:00<?, ?it/s]"
            ],
            "application/vnd.jupyter.widget-view+json": {
              "version_major": 2,
              "version_minor": 0,
              "model_id": "ae7247ba6a924b43859b0c7b13d181dd"
            }
          },
          "metadata": {}
        },
        {
          "output_type": "display_data",
          "data": {
            "text/plain": [
              "<IPython.core.display.Markdown object>"
            ],
            "text/markdown": "**`Final Response:`** There is no information in the provided context about Ramon Abilio being a professor at the IFSP, so it is not possible to determine which campuses he is a professor at."
          },
          "metadata": {}
        }
      ]
    },
    {
      "cell_type": "markdown",
      "source": [
        "# Com rerank veio até aqui"
      ],
      "metadata": {
        "id": "1yXXN6kINXVq"
      }
    },
    {
      "cell_type": "code",
      "source": [
        "# define prompt viewing function\n",
        "def display_prompt_dict(prompts_dict):\n",
        "    for k, p in prompts_dict.items():\n",
        "        text_md = f\"**Prompt Key**: {k} \" f\"**Text:** \"\n",
        "        display(Markdown(text_md))\n",
        "        print(p.get_template())\n",
        "        display(Markdown(\"\"))"
      ],
      "metadata": {
        "id": "iGwRkYk_lGth"
      },
      "execution_count": 37,
      "outputs": []
    },
    {
      "cell_type": "code",
      "source": [
        "display_prompt_dict(query_engine_with_rerank.get_prompts())\n",
        "\n",
        "query = \"Qual é o nome do IFSP\"\n",
        "\n",
        "response_rerank = query_engine_with_rerank.query(query)\n",
        "display_response(response_rerank)"
      ],
      "metadata": {
        "colab": {
          "base_uri": "https://localhost:8080/",
          "height": 640
        },
        "id": "8DK14dsZqdXn",
        "outputId": "31356396-464c-4659-ab81-97a67ab55781"
      },
      "execution_count": 39,
      "outputs": [
        {
          "output_type": "display_data",
          "data": {
            "text/plain": [
              "<IPython.core.display.Markdown object>"
            ],
            "text/markdown": "**Prompt Key**: response_synthesizer:text_qa_template **Text:** "
          },
          "metadata": {}
        },
        {
          "output_type": "stream",
          "name": "stdout",
          "text": [
            "Context information is below.\n",
            "---------------------\n",
            "{context_str}\n",
            "---------------------\n",
            "Given the context information and not prior knowledge, answer the query.\n",
            "Query: {query_str}\n",
            "Answer: \n"
          ]
        },
        {
          "output_type": "display_data",
          "data": {
            "text/plain": [
              "<IPython.core.display.Markdown object>"
            ],
            "text/markdown": ""
          },
          "metadata": {}
        },
        {
          "output_type": "display_data",
          "data": {
            "text/plain": [
              "<IPython.core.display.Markdown object>"
            ],
            "text/markdown": "**Prompt Key**: response_synthesizer:refine_template **Text:** "
          },
          "metadata": {}
        },
        {
          "output_type": "stream",
          "name": "stdout",
          "text": [
            "The original query is as follows: {query_str}\n",
            "We have provided an existing answer: {existing_answer}\n",
            "We have the opportunity to refine the existing answer (only if needed) with some more context below.\n",
            "------------\n",
            "{context_msg}\n",
            "------------\n",
            "Given the new context, refine the original answer to better answer the query. If the context isn't useful, return the original answer.\n",
            "Refined Answer: \n"
          ]
        },
        {
          "output_type": "display_data",
          "data": {
            "text/plain": [
              "<IPython.core.display.Markdown object>"
            ],
            "text/markdown": ""
          },
          "metadata": {}
        },
        {
          "output_type": "stream",
          "name": "stdout",
          "text": [
            "\u001b[1;3;34mRetrieving with query id None: Qual é o nome do IFSP\n",
            "\u001b[0m\u001b[1;3;38;5;200mRetrieved node with id, entering: node_0\n",
            "\u001b[0m\u001b[1;3;34mRetrieving with query id node_0: Qual é o nome do IFSP\n",
            "\u001b[0m\u001b[1;3;38;5;200mRetrieved node with id, entering: node_2\n",
            "\u001b[0m\u001b[1;3;34mRetrieving with query id node_2: Qual é o nome do IFSP\n",
            "\u001b[0m\u001b[1;3;38;5;200mRetrieved node with id, entering: node_14\n",
            "\u001b[0m\u001b[1;3;34mRetrieving with query id node_14: Qual é o nome do IFSP\n",
            "\u001b[0m\u001b[1;3;38;5;200mRetrieved node with id, entering: node_10\n",
            "\u001b[0m\u001b[1;3;34mRetrieving with query id node_10: Qual é o nome do IFSP\n",
            "\u001b[0m\u001b[1;3;38;5;200mRetrieved node with id, entering: node_3\n",
            "\u001b[0m\u001b[1;3;34mRetrieving with query id node_3: Qual é o nome do IFSP\n",
            "\u001b[0m\u001b[1;3;38;5;200mRetrieved node with id, entering: node_17\n",
            "\u001b[0m\u001b[1;3;34mRetrieving with query id node_17: Qual é o nome do IFSP\n",
            "\u001b[0m"
          ]
        },
        {
          "output_type": "display_data",
          "data": {
            "text/plain": [
              "<IPython.core.display.Markdown object>"
            ],
            "text/markdown": "**`Final Response:`** O nome do IFSP é Instituto Federal de Educação, Ciência e Tecnologia de São Paulo."
          },
          "metadata": {}
        }
      ]
    },
    {
      "cell_type": "code",
      "source": [
        "display_prompt_dict(query_engine.get_prompts())"
      ],
      "metadata": {
        "colab": {
          "base_uri": "https://localhost:8080/",
          "height": 361
        },
        "id": "DZjLAAnLf0bX",
        "outputId": "569fa15c-513e-4864-9d89-638652418c45"
      },
      "execution_count": 21,
      "outputs": [
        {
          "output_type": "display_data",
          "data": {
            "text/plain": [
              "<IPython.core.display.Markdown object>"
            ],
            "text/markdown": "**Prompt Key**: response_synthesizer:text_qa_template **Text:** "
          },
          "metadata": {}
        },
        {
          "output_type": "stream",
          "name": "stdout",
          "text": [
            "Context information is below.\n",
            "---------------------\n",
            "{context_str}\n",
            "---------------------\n",
            "Given the context information and not prior knowledge, answer the query.\n",
            "Query: {query_str}\n",
            "Answer: \n"
          ]
        },
        {
          "output_type": "display_data",
          "data": {
            "text/plain": [
              "<IPython.core.display.Markdown object>"
            ],
            "text/markdown": ""
          },
          "metadata": {}
        },
        {
          "output_type": "display_data",
          "data": {
            "text/plain": [
              "<IPython.core.display.Markdown object>"
            ],
            "text/markdown": "**Prompt Key**: response_synthesizer:refine_template **Text:** "
          },
          "metadata": {}
        },
        {
          "output_type": "stream",
          "name": "stdout",
          "text": [
            "The original query is as follows: {query_str}\n",
            "We have provided an existing answer: {existing_answer}\n",
            "We have the opportunity to refine the existing answer (only if needed) with some more context below.\n",
            "------------\n",
            "{context_msg}\n",
            "------------\n",
            "Given the new context, refine the original answer to better answer the query. If the context isn't useful, return the original answer.\n",
            "Refined Answer: \n"
          ]
        },
        {
          "output_type": "display_data",
          "data": {
            "text/plain": [
              "<IPython.core.display.Markdown object>"
            ],
            "text/markdown": ""
          },
          "metadata": {}
        }
      ]
    },
    {
      "cell_type": "code",
      "source": [
        "new_summary_tmpl_str = (\"\"\"\n",
        "Context information is below.\n",
        "---------------------\n",
        "{context_str}\n",
        "---------------------\n",
        "Given the context information and not prior knowledge, answer the query.\n",
        "Provide the source of the answer, such as the document, title, chapter, or article when available.\n",
        "Answer in the same language as the query.\n",
        "Query: {query_str}\n",
        "Source:\n",
        "Answer:\n",
        "\"\"\"\n",
        ")\n",
        "\n",
        "new_refine_tmpl_str = (\"\"\"\n",
        "The original query is as follows: {query_str}\n",
        "We have provided an existing answer: {existing_answer}\n",
        "We have the opportunity to refine the existing answer (only if needed) with some more context below.\n",
        "------------\n",
        "{context_msg}\n",
        "------------\n",
        "Given the new context, refine the original answer to better answer the query. If the context isn't useful, return the original answer.\n",
        "Do not add other information, such as 'The refined answer remains the same,' besides the answer and the source.\n",
        "Provide the source of the answer, such as the document, title, chapter, or article when available.\n",
        "Answer in the same language as the query.\n",
        "\n",
        "Refined Answer:\n",
        "\n",
        "\"\"\"\n",
        ")\n",
        "\n",
        "new_summary_tmpl = PromptTemplate(new_summary_tmpl_str)\n",
        "new_refine_tmpl_str = PromptTemplate(new_refine_tmpl_str)\n",
        "\n",
        "query_engine_with_rerank.update_prompts(\n",
        "    {\"response_synthesizer:text_qa_template\": new_summary_tmpl\n",
        "     , \"response_synthesizer:refine_template\" : new_refine_tmpl_str}\n",
        ")\n",
        "\n",
        "display_prompt_dict(query_engine_with_rerank.get_prompts())\n"
      ],
      "metadata": {
        "id": "Cf8JCVq2_LTu",
        "colab": {
          "base_uri": "https://localhost:8080/",
          "height": 590
        },
        "outputId": "11b62288-ae63-4468-f1b1-e8ddaaafcf55"
      },
      "execution_count": 40,
      "outputs": [
        {
          "output_type": "display_data",
          "data": {
            "text/plain": [
              "<IPython.core.display.Markdown object>"
            ],
            "text/markdown": "**Prompt Key**: response_synthesizer:text_qa_template **Text:** "
          },
          "metadata": {}
        },
        {
          "output_type": "stream",
          "name": "stdout",
          "text": [
            "\n",
            "Context information is below.\n",
            "---------------------\n",
            "{context_str}\n",
            "---------------------\n",
            "Given the context information and not prior knowledge, answer the query.\n",
            "Provide the source of the answer, such as the document, title, chapter, or article when available.\n",
            "Answer in the same language as the query.\n",
            "Query: {query_str}\n",
            "Source:\n",
            "Answer:\n",
            "\n"
          ]
        },
        {
          "output_type": "display_data",
          "data": {
            "text/plain": [
              "<IPython.core.display.Markdown object>"
            ],
            "text/markdown": ""
          },
          "metadata": {}
        },
        {
          "output_type": "display_data",
          "data": {
            "text/plain": [
              "<IPython.core.display.Markdown object>"
            ],
            "text/markdown": "**Prompt Key**: response_synthesizer:refine_template **Text:** "
          },
          "metadata": {}
        },
        {
          "output_type": "stream",
          "name": "stdout",
          "text": [
            "\n",
            "The original query is as follows: {query_str}\n",
            "We have provided an existing answer: {existing_answer}\n",
            "We have the opportunity to refine the existing answer (only if needed) with some more context below.\n",
            "------------\n",
            "{context_msg}\n",
            "------------\n",
            "Given the new context, refine the original answer to better answer the query. If the context isn't useful, return the original answer.\n",
            "Do not add other information, such as 'The refined answer remains the same,' besides the answer and the source.\n",
            "Provide the source of the answer, such as the document, title, chapter, or article when available.\n",
            "Answer in the same language as the query.\n",
            "\n",
            "Refined Answer:\n",
            "\n",
            "\n"
          ]
        },
        {
          "output_type": "display_data",
          "data": {
            "text/plain": [
              "<IPython.core.display.Markdown object>"
            ],
            "text/markdown": ""
          },
          "metadata": {}
        }
      ]
    },
    {
      "cell_type": "code",
      "source": [
        "query = \"Qual o nome do IFSP?\"\n",
        "#query = \"Quais são os campi do IFSP? Além de responder à pergunta, informe o documento, o Capítulo e o Artigo de referência.\"\n",
        "#query = \"Quantos campi o IFSP tem? Informe onde você encontrou essa informação\"\n",
        "#query = \"O IFSP tem só ensino médio? Além de responder à pergunta, informe o documento, o Capítulo e o Artigo de referência.\"\n",
        "#query = \"Quais artigos do Estatuto dizem que o IFSP oferece mestrado e doutorado?\"\n",
        "#query = \"O que diz o Art 6º do estatuto do IFSP?\"\n",
        "#query = \"O Art 4º do estatuto do IFSP é sobre o que?\"\n",
        "\n",
        "#query = \"Sou aluno de graduação e gostaria de saber o que são as transferências especial e ex oficio.\"\n",
        "#query = \"O que é Estudante Especial?\"\n",
        "# query = \"Em qual portaria Ramon Abilio foi designado para compor a Comissão de Avaliação de Atividades Docentes - CAAD?\"\n",
        "\n",
        "response = query_engine_with_rerank.query(query)\n",
        "display_response(response)"
      ],
      "metadata": {
        "colab": {
          "base_uri": "https://localhost:8080/",
          "height": 357
        },
        "id": "0m2cqtUO2Wuq",
        "outputId": "1737b44d-b92a-4cfb-d403-b8975dff52ea"
      },
      "execution_count": 41,
      "outputs": [
        {
          "output_type": "stream",
          "name": "stdout",
          "text": [
            "\u001b[1;3;34mRetrieving with query id None: Qual o nome do IFSP?\n",
            "\u001b[0m\u001b[1;3;38;5;200mRetrieved node with id, entering: node_0\n",
            "\u001b[0m\u001b[1;3;34mRetrieving with query id node_0: Qual o nome do IFSP?\n",
            "\u001b[0m\u001b[1;3;38;5;200mRetrieved node with id, entering: node_14\n",
            "\u001b[0m\u001b[1;3;34mRetrieving with query id node_14: Qual o nome do IFSP?\n",
            "\u001b[0m\u001b[1;3;38;5;200mRetrieved node with id, entering: node_2\n",
            "\u001b[0m\u001b[1;3;34mRetrieving with query id node_2: Qual o nome do IFSP?\n",
            "\u001b[0m\u001b[1;3;38;5;200mRetrieved node with id, entering: node_47\n",
            "\u001b[0m\u001b[1;3;34mRetrieving with query id node_47: Qual o nome do IFSP?\n",
            "\u001b[0m\u001b[1;3;38;5;200mRetrieved node with id, entering: node_17\n",
            "\u001b[0m\u001b[1;3;34mRetrieving with query id node_17: Qual o nome do IFSP?\n",
            "\u001b[0m\u001b[1;3;38;5;200mRetrieved node with id, entering: node_3\n",
            "\u001b[0m\u001b[1;3;34mRetrieving with query id node_3: Qual o nome do IFSP?\n",
            "\u001b[0m\u001b[1;3;38;5;200mRetrieved node with id, entering: node_10\n",
            "\u001b[0m\u001b[1;3;34mRetrieving with query id node_10: Qual o nome do IFSP?\n",
            "\u001b[0m"
          ]
        },
        {
          "output_type": "display_data",
          "data": {
            "text/plain": [
              "<IPython.core.display.Markdown object>"
            ],
            "text/markdown": "**`Final Response:`** O nome do IFSP é Instituto Federal de Educação, Ciência e Tecnologia de São Paulo.\n\ndocumento: Estatuto, título: TÍTULO I - DA INSTITUIÇÃO, capitulo: CAPÍTULO I DA NATUREZA E DAS FINALIDADES, Art 1º."
          },
          "metadata": {}
        }
      ]
    },
    {
      "cell_type": "code",
      "source": [
        "pprint(base_nodes[26])"
      ],
      "metadata": {
        "colab": {
          "base_uri": "https://localhost:8080/",
          "height": 335
        },
        "id": "EwJdsXntlFQz",
        "outputId": "78a473aa-4050-4a12-c236-078b11b522a7"
      },
      "execution_count": 42,
      "outputs": [
        {
          "output_type": "display_data",
          "data": {
            "text/plain": [
              "\u001b[1;35mTextNode\u001b[0m\u001b[1m(\u001b[0m\n",
              "\u001b[2;32m│   \u001b[0m\u001b[33mid_\u001b[0m=\u001b[32m'node_26'\u001b[0m,\n",
              "\u001b[2;32m│   \u001b[0m\u001b[33membedding\u001b[0m=\u001b[3;35mNone\u001b[0m,\n",
              "\u001b[2;32m│   \u001b[0m\u001b[33mmetadata\u001b[0m=\u001b[1m{\u001b[0m\n",
              "\u001b[2;32m│   │   \u001b[0m\u001b[32m'documento'\u001b[0m: \u001b[32m'Organização Didática da Educação Básica'\u001b[0m,\n",
              "\u001b[2;32m│   │   \u001b[0m\u001b[32m'titulo'\u001b[0m: \u001b[32m'TÍTULO III DOS CURSOS DE EDUCAÇÃO BÁSICA PROFISSIONALIZANTE'\u001b[0m,\n",
              "\u001b[2;32m│   │   \u001b[0m\u001b[32m'capitulo'\u001b[0m: \u001b[32m'CAPÍTULO III DOS CURSOS TÉCNICOS DE NÍVEL MÉDIO NA FORMA INTEGRADA AO ENSINO MÉDIO.'\u001b[0m\n",
              "\u001b[2;32m│   \u001b[0m\u001b[1m}\u001b[0m,\n",
              "\u001b[2;32m│   \u001b[0m\u001b[33mexcluded_embed_metadata_keys\u001b[0m=\u001b[1m[\u001b[0m\u001b[1m]\u001b[0m,\n",
              "\u001b[2;32m│   \u001b[0m\u001b[33mexcluded_llm_metadata_keys\u001b[0m=\u001b[1m[\u001b[0m\u001b[1m]\u001b[0m,\n",
              "\u001b[2;32m│   \u001b[0m\u001b[33mrelationships\u001b[0m=\u001b[1m{\u001b[0m\u001b[1m}\u001b[0m,\n",
              "\u001b[2;32m│   \u001b[0m\u001b[33mtext\u001b[0m=\u001b[32m'Art 60 - Serão estruturados em períodos letivos anuais ou semestrais, em turno único ou período integral, com duração de três ou quatro anos, carga horária de acordo com a legislação vigente e distribuição dos dias letivos de acordo com o artigo 17 desta Organização Didática. Parágrafo único. Parte da carga horária poderá ser desenvolvida a distância, quando previstas as atividades não presenciais no Projeto Pedagógico do Curso, respeitando os dispositivos legais vigentes. Art 61 - Os Currículos dos cursos serão organizados em núcleos politécnicos, conforme a seguinte organização: I - Núcleo estruturante comum: relativo às áreas de conhecimento que compõem a formação geral no Ensino Médio, contemplando conteúdos de base científica e cultural basilares para a formação humana integral; II - Núcleo estruturante articulador: relativo às áreas do conhecimento do Ensino Médio e da Educação Profissional, traduzidas em conteúdo de estreita articulação com o curso, por eixo tecnológico, representando elementos expressivos para a integração curricular; III - Núcleo estruturante tecnológico: relativo a conhecimentos da habilitação profissional, de acordo com o campo de conhecimentos do eixo tecnológico, e as regulamentações do exercício da profissão; IV - Prática Profissional: relativo a estágio curricular supervisionado, em situação real de trabalho, optativo ou obrigatório e Projeto Integrador. § 1º. A carga horária total obrigatória dos cursos deverá ser distribuída nos três núcleos estruturantes, de forma que a carga horária referente ao núcleo estruturante articulador poderá compor a carga horária do núcleo estruturante comum ou tecnológico. § 2º. Os componentes curriculares poderão ser organizados em módulos, áreas, projetos, séries anuais, períodos semestrais, ciclos, alternância regular de períodos de estudos e grupos não seriados. Art 62 - As estruturas curriculares deverão seguir as orientações dispostas em capítulo próprio desta Organização Didática. Art 63 - Após a conclusão do curso, inclusive do estágio curricular supervisionado, quando obrigatório, o estudante receberá o diploma de técnico de nível médio. SEÇÃO I - DA VERIFICAÇÃO DO RENDIMENTO ESCOLAR NOS CURSOS TÉCNICOS DE NÍVEL MÉDIO NA FORMA INTEGRADA AO ENSINO MÉDIO Art 64 - Considera-se APROVADO: I - o estudante que obtenha em cada área do conhecimento \u001b[0m\u001b[32m(\u001b[0m\u001b[32mLinguagens, Matemática, Ciências da Natureza, Ciências Humanas, Disciplinas Técnicas e Projeto Integrador\u001b[0m\u001b[32m)\u001b[0m\u001b[32m média das notas finais igual ou superior a 6,0 \u001b[0m\u001b[32m(\u001b[0m\u001b[32mseis\u001b[0m\u001b[32m)\u001b[0m\u001b[32m, e frequência global mínima de 75% \u001b[0m\u001b[32m(\u001b[0m\u001b[32msetenta e cinco por cento\u001b[0m\u001b[32m)\u001b[0m\u001b[32m das aulas dadas e demais atividades no período letivo; II - o estudante com frequência global mínima de 75% \u001b[0m\u001b[32m(\u001b[0m\u001b[32msetenta e cinco por cento\u001b[0m\u001b[32m)\u001b[0m\u001b[32m das aulas dadas e demais atividades no período letivo que, após reavaliação obtenha, média das notas finais igual ou superior a 6,0 \u001b[0m\u001b[32m(\u001b[0m\u001b[32mseis\u001b[0m\u001b[32m)\u001b[0m\u001b[32m em cada área do conhecimento; III - o estudante com frequência global mínima de 75% \u001b[0m\u001b[32m(\u001b[0m\u001b[32msetenta e cinco por cento\u001b[0m\u001b[32m)\u001b[0m\u001b[32m das aulas dadas e demais atividades no período letivo, que, após análise do Conselho de Classe Deliberativo, seja considerado aprovado. Art 65 - Considera-se REPROVADO: I - o estudante que obtiver frequência global menor que 75% \u001b[0m\u001b[32m(\u001b[0m\u001b[32msetenta e cinco por cento\u001b[0m\u001b[32m)\u001b[0m\u001b[32m, das aulas dadas e demais atividades no período letivo, independentemente da nota que tiver alcançado; II - o estudante com frequência global mínima de 75% \u001b[0m\u001b[32m(\u001b[0m\u001b[32msetenta e cinco por cento\u001b[0m\u001b[32m)\u001b[0m\u001b[32m das aulas dadas e demais atividades no período letivo, que, após reavaliação, obtenha média das notas finais menor que 6,0 \u001b[0m\u001b[32m(\u001b[0m\u001b[32mseis\u001b[0m\u001b[32m)\u001b[0m\u001b[32m em pelo menos uma área do conhecimento e, após análise do Conselho Deliberativo, for considerado reprovado. Art 66 - Ficará sujeito à reavaliação o estudante que obtiver, no componente curricular, nota final inferior a 6,0 \u001b[0m\u001b[32m(\u001b[0m\u001b[32mseis\u001b[0m\u001b[32m)\u001b[0m\u001b[32m e frequência global mínima de 75% \u001b[0m\u001b[32m(\u001b[0m\u001b[32msetenta e cinco por cento\u001b[0m\u001b[32m)\u001b[0m\u001b[32m das aulas dadas e demais atividades no período letivo. § 1º. Fica assegurada a recuperação paralela, antecedendo a reavaliação nos termos do artigo 41, desta Resolução. § 2º. A nota final do componente curricular será a maior nota entre a nota final e a nota de reavaliação. Art 67 - Ficará sujeito ao Conselho de Classe Deliberativo o estudante que obtiver frequência global maior ou igual a 75% \u001b[0m\u001b[32m(\u001b[0m\u001b[32msetenta e cinco por cento\u001b[0m\u001b[32m)\u001b[0m\u001b[32m das aulas dadas no período letivo e média das notas finais menor que 6,0 \u001b[0m\u001b[32m(\u001b[0m\u001b[32mseis\u001b[0m\u001b[32m)\u001b[0m\u001b[32m, em pelo menos uma área do conhecimento, após a reavaliação. Art 68 - Para efeito de promoção ou retenção nos períodos letivos dos cursos técnicos na forma integrada ao Ensino Médio, serão aplicados os critérios abaixo: I - estará PROMOVIDO o estudante APROVADO, de acordo com o artigo 64 desta Organização Didática; II - será considerado RETIDO o estudante REPROVADO de acordo com o artigo 65 desta Organização Didática. Parágrafo Único. O estudante RETIDO não poderá ser matriculado no período letivo subsequente.'\u001b[0m,\n",
              "\u001b[2;32m│   \u001b[0m\u001b[33mmimetype\u001b[0m=\u001b[32m'text/plain'\u001b[0m,\n",
              "\u001b[2;32m│   \u001b[0m\u001b[33mstart_char_idx\u001b[0m=\u001b[3;35mNone\u001b[0m,\n",
              "\u001b[2;32m│   \u001b[0m\u001b[33mend_char_idx\u001b[0m=\u001b[3;35mNone\u001b[0m,\n",
              "\u001b[2;32m│   \u001b[0m\u001b[33mtext_template\u001b[0m=\u001b[32m'\u001b[0m\u001b[32m{\u001b[0m\u001b[32mmetadata_str\u001b[0m\u001b[32m}\u001b[0m\u001b[32m\\n\\n\u001b[0m\u001b[32m{\u001b[0m\u001b[32mcontent\u001b[0m\u001b[32m}\u001b[0m\u001b[32m'\u001b[0m,\n",
              "\u001b[2;32m│   \u001b[0m\u001b[33mmetadata_template\u001b[0m=\u001b[32m'\u001b[0m\u001b[32m{\u001b[0m\u001b[32mkey\u001b[0m\u001b[32m}\u001b[0m\u001b[32m: \u001b[0m\u001b[32m{\u001b[0m\u001b[32mvalue\u001b[0m\u001b[32m}\u001b[0m\u001b[32m'\u001b[0m,\n",
              "\u001b[2;32m│   \u001b[0m\u001b[33mmetadata_seperator\u001b[0m=\u001b[32m'\\n'\u001b[0m\n",
              "\u001b[1m)\u001b[0m\n"
            ],
            "text/html": [
              "<pre style=\"white-space:pre;overflow-x:auto;line-height:normal;font-family:Menlo,'DejaVu Sans Mono',consolas,'Courier New',monospace\"><span style=\"color: #800080; text-decoration-color: #800080; font-weight: bold\">TextNode</span><span style=\"font-weight: bold\">(</span>\n",
              "<span style=\"color: #7fbf7f; text-decoration-color: #7fbf7f\">│   </span><span style=\"color: #808000; text-decoration-color: #808000\">id_</span>=<span style=\"color: #008000; text-decoration-color: #008000\">'node_26'</span>,\n",
              "<span style=\"color: #7fbf7f; text-decoration-color: #7fbf7f\">│   </span><span style=\"color: #808000; text-decoration-color: #808000\">embedding</span>=<span style=\"color: #800080; text-decoration-color: #800080; font-style: italic\">None</span>,\n",
              "<span style=\"color: #7fbf7f; text-decoration-color: #7fbf7f\">│   </span><span style=\"color: #808000; text-decoration-color: #808000\">metadata</span>=<span style=\"font-weight: bold\">{</span>\n",
              "<span style=\"color: #7fbf7f; text-decoration-color: #7fbf7f\">│   │   </span><span style=\"color: #008000; text-decoration-color: #008000\">'documento'</span>: <span style=\"color: #008000; text-decoration-color: #008000\">'Organização Didática da Educação Básica'</span>,\n",
              "<span style=\"color: #7fbf7f; text-decoration-color: #7fbf7f\">│   │   </span><span style=\"color: #008000; text-decoration-color: #008000\">'titulo'</span>: <span style=\"color: #008000; text-decoration-color: #008000\">'TÍTULO III DOS CURSOS DE EDUCAÇÃO BÁSICA PROFISSIONALIZANTE'</span>,\n",
              "<span style=\"color: #7fbf7f; text-decoration-color: #7fbf7f\">│   │   </span><span style=\"color: #008000; text-decoration-color: #008000\">'capitulo'</span>: <span style=\"color: #008000; text-decoration-color: #008000\">'CAPÍTULO III DOS CURSOS TÉCNICOS DE NÍVEL MÉDIO NA FORMA INTEGRADA AO ENSINO MÉDIO.'</span>\n",
              "<span style=\"color: #7fbf7f; text-decoration-color: #7fbf7f\">│   </span><span style=\"font-weight: bold\">}</span>,\n",
              "<span style=\"color: #7fbf7f; text-decoration-color: #7fbf7f\">│   </span><span style=\"color: #808000; text-decoration-color: #808000\">excluded_embed_metadata_keys</span>=<span style=\"font-weight: bold\">[]</span>,\n",
              "<span style=\"color: #7fbf7f; text-decoration-color: #7fbf7f\">│   </span><span style=\"color: #808000; text-decoration-color: #808000\">excluded_llm_metadata_keys</span>=<span style=\"font-weight: bold\">[]</span>,\n",
              "<span style=\"color: #7fbf7f; text-decoration-color: #7fbf7f\">│   </span><span style=\"color: #808000; text-decoration-color: #808000\">relationships</span>=<span style=\"font-weight: bold\">{}</span>,\n",
              "<span style=\"color: #7fbf7f; text-decoration-color: #7fbf7f\">│   </span><span style=\"color: #808000; text-decoration-color: #808000\">text</span>=<span style=\"color: #008000; text-decoration-color: #008000\">'Art 60 - Serão estruturados em períodos letivos anuais ou semestrais, em turno único ou período integral, com duração de três ou quatro anos, carga horária de acordo com a legislação vigente e distribuição dos dias letivos de acordo com o artigo 17 desta Organização Didática. Parágrafo único. Parte da carga horária poderá ser desenvolvida a distância, quando previstas as atividades não presenciais no Projeto Pedagógico do Curso, respeitando os dispositivos legais vigentes. Art 61 - Os Currículos dos cursos serão organizados em núcleos politécnicos, conforme a seguinte organização: I - Núcleo estruturante comum: relativo às áreas de conhecimento que compõem a formação geral no Ensino Médio, contemplando conteúdos de base científica e cultural basilares para a formação humana integral; II - Núcleo estruturante articulador: relativo às áreas do conhecimento do Ensino Médio e da Educação Profissional, traduzidas em conteúdo de estreita articulação com o curso, por eixo tecnológico, representando elementos expressivos para a integração curricular; III - Núcleo estruturante tecnológico: relativo a conhecimentos da habilitação profissional, de acordo com o campo de conhecimentos do eixo tecnológico, e as regulamentações do exercício da profissão; IV - Prática Profissional: relativo a estágio curricular supervisionado, em situação real de trabalho, optativo ou obrigatório e Projeto Integrador. § 1º. A carga horária total obrigatória dos cursos deverá ser distribuída nos três núcleos estruturantes, de forma que a carga horária referente ao núcleo estruturante articulador poderá compor a carga horária do núcleo estruturante comum ou tecnológico. § 2º. Os componentes curriculares poderão ser organizados em módulos, áreas, projetos, séries anuais, períodos semestrais, ciclos, alternância regular de períodos de estudos e grupos não seriados. Art 62 - As estruturas curriculares deverão seguir as orientações dispostas em capítulo próprio desta Organização Didática. Art 63 - Após a conclusão do curso, inclusive do estágio curricular supervisionado, quando obrigatório, o estudante receberá o diploma de técnico de nível médio. SEÇÃO I - DA VERIFICAÇÃO DO RENDIMENTO ESCOLAR NOS CURSOS TÉCNICOS DE NÍVEL MÉDIO NA FORMA INTEGRADA AO ENSINO MÉDIO Art 64 - Considera-se APROVADO: I - o estudante que obtenha em cada área do conhecimento (Linguagens, Matemática, Ciências da Natureza, Ciências Humanas, Disciplinas Técnicas e Projeto Integrador) média das notas finais igual ou superior a 6,0 (seis), e frequência global mínima de 75% (setenta e cinco por cento) das aulas dadas e demais atividades no período letivo; II - o estudante com frequência global mínima de 75% (setenta e cinco por cento) das aulas dadas e demais atividades no período letivo que, após reavaliação obtenha, média das notas finais igual ou superior a 6,0 (seis) em cada área do conhecimento; III - o estudante com frequência global mínima de 75% (setenta e cinco por cento) das aulas dadas e demais atividades no período letivo, que, após análise do Conselho de Classe Deliberativo, seja considerado aprovado. Art 65 - Considera-se REPROVADO: I - o estudante que obtiver frequência global menor que 75% (setenta e cinco por cento), das aulas dadas e demais atividades no período letivo, independentemente da nota que tiver alcançado; II - o estudante com frequência global mínima de 75% (setenta e cinco por cento) das aulas dadas e demais atividades no período letivo, que, após reavaliação, obtenha média das notas finais menor que 6,0 (seis) em pelo menos uma área do conhecimento e, após análise do Conselho Deliberativo, for considerado reprovado. Art 66 - Ficará sujeito à reavaliação o estudante que obtiver, no componente curricular, nota final inferior a 6,0 (seis) e frequência global mínima de 75% (setenta e cinco por cento) das aulas dadas e demais atividades no período letivo. § 1º. Fica assegurada a recuperação paralela, antecedendo a reavaliação nos termos do artigo 41, desta Resolução. § 2º. A nota final do componente curricular será a maior nota entre a nota final e a nota de reavaliação. Art 67 - Ficará sujeito ao Conselho de Classe Deliberativo o estudante que obtiver frequência global maior ou igual a 75% (setenta e cinco por cento) das aulas dadas no período letivo e média das notas finais menor que 6,0 (seis), em pelo menos uma área do conhecimento, após a reavaliação. Art 68 - Para efeito de promoção ou retenção nos períodos letivos dos cursos técnicos na forma integrada ao Ensino Médio, serão aplicados os critérios abaixo: I - estará PROMOVIDO o estudante APROVADO, de acordo com o artigo 64 desta Organização Didática; II - será considerado RETIDO o estudante REPROVADO de acordo com o artigo 65 desta Organização Didática. Parágrafo Único. O estudante RETIDO não poderá ser matriculado no período letivo subsequente.'</span>,\n",
              "<span style=\"color: #7fbf7f; text-decoration-color: #7fbf7f\">│   </span><span style=\"color: #808000; text-decoration-color: #808000\">mimetype</span>=<span style=\"color: #008000; text-decoration-color: #008000\">'text/plain'</span>,\n",
              "<span style=\"color: #7fbf7f; text-decoration-color: #7fbf7f\">│   </span><span style=\"color: #808000; text-decoration-color: #808000\">start_char_idx</span>=<span style=\"color: #800080; text-decoration-color: #800080; font-style: italic\">None</span>,\n",
              "<span style=\"color: #7fbf7f; text-decoration-color: #7fbf7f\">│   </span><span style=\"color: #808000; text-decoration-color: #808000\">end_char_idx</span>=<span style=\"color: #800080; text-decoration-color: #800080; font-style: italic\">None</span>,\n",
              "<span style=\"color: #7fbf7f; text-decoration-color: #7fbf7f\">│   </span><span style=\"color: #808000; text-decoration-color: #808000\">text_template</span>=<span style=\"color: #008000; text-decoration-color: #008000\">'{metadata_str}\\n\\n{content}'</span>,\n",
              "<span style=\"color: #7fbf7f; text-decoration-color: #7fbf7f\">│   </span><span style=\"color: #808000; text-decoration-color: #808000\">metadata_template</span>=<span style=\"color: #008000; text-decoration-color: #008000\">'{key}: {value}'</span>,\n",
              "<span style=\"color: #7fbf7f; text-decoration-color: #7fbf7f\">│   </span><span style=\"color: #808000; text-decoration-color: #808000\">metadata_seperator</span>=<span style=\"color: #008000; text-decoration-color: #008000\">'\\n'</span>\n",
              "<span style=\"font-weight: bold\">)</span>\n",
              "</pre>\n"
            ]
          },
          "metadata": {}
        }
      ]
    },
    {
      "cell_type": "code",
      "source": [
        "for node in response.source_nodes:\n",
        "    display_source_node(node)"
      ],
      "metadata": {
        "colab": {
          "base_uri": "https://localhost:8080/",
          "height": 314
        },
        "id": "yttTH2U5J736",
        "outputId": "145a9be9-20c5-4c53-b891-cea99b31d0d8"
      },
      "execution_count": 43,
      "outputs": [
        {
          "output_type": "display_data",
          "data": {
            "text/plain": [
              "<IPython.core.display.Markdown object>"
            ],
            "text/markdown": "**Node ID:** node_3<br>**Similarity:** 0.6732763129429461<br>**Text:** SEÇÃO I - DO CONSELHO SUPERIOR Art 11 - O Conselho Superior, de caráter consultivo e deliberativo...<br>"
          },
          "metadata": {}
        },
        {
          "output_type": "display_data",
          "data": {
            "text/plain": [
              "<IPython.core.display.Markdown object>"
            ],
            "text/markdown": "**Node ID:** node_17<br>**Similarity:** 0.6769528431404352<br>**Text:** Art 1º - O INSTITUTO FEDERAL DE EDUCAÇÃO, CIÊNCIA E TECNOLOGIA DE SÃO PAULO (IFSP), constituído m...<br>"
          },
          "metadata": {}
        },
        {
          "output_type": "display_data",
          "data": {
            "text/plain": [
              "<IPython.core.display.Markdown object>"
            ],
            "text/markdown": "**Node ID:** node_47<br>**Similarity:** 0.6812914870194932<br>**Text:** Art 1 - O INSTITUTO FEDERAL DE EDUCAÇÃO, CIÊNCIA E TECNOLOGIA DE SÃO PAULO (IFSP), constituído me...<br>"
          },
          "metadata": {}
        },
        {
          "output_type": "display_data",
          "data": {
            "text/plain": [
              "<IPython.core.display.Markdown object>"
            ],
            "text/markdown": "**Node ID:** node_14<br>**Similarity:** 0.6978638560444979<br>**Text:** Art 44 - O IFSP expedirá e registrará seus diplomas em conformidade com o §3º do art. 2º. da Lei ...<br>"
          },
          "metadata": {}
        },
        {
          "output_type": "display_data",
          "data": {
            "text/plain": [
              "<IPython.core.display.Markdown object>"
            ],
            "text/markdown": "**Node ID:** node_2<br>**Similarity:** 0.6900870971609828<br>**Text:** Art 8º - A organização geral do IFSP compreende: I - ÓRGÃOS SUPERIORES a) Conselho Superior; 1. Ó...<br>"
          },
          "metadata": {}
        }
      ]
    },
    {
      "cell_type": "markdown",
      "source": [
        "# Avaliando conjunto de perguntas e respostas"
      ],
      "metadata": {
        "id": "SfOMNkvdan02"
      }
    },
    {
      "cell_type": "code",
      "source": [
        "pairs = [{\n",
        "            \"question\": \"Qual o nome do IFSP?\",\n",
        "            \"answer\": \"Instituto Federal de Educação, Ciência e Tecnologia de São Paulo.  Referência: Estatuto, Título I, Capítulo I, Art. 1º\"\n",
        "         }\n",
        "         ,{\n",
        "            \"question\": \"Quais são os campi do IFSP?\",\n",
        "            \"answer\": \"\"\"II. Campus São Paulo, situado na Rua Pedro Vicente, 625, Canindé, São Paulo.\n",
        "III. Campus Cubatão, situado na Rua Maria Cristina, 50, Jardim Casqueiro, Cubatão.\n",
        "IV. Campus Sertãozinho, situado na Rua Américo Ambrósio, 269, Jardim Canaã,\n",
        "Sertãozinho.\n",
        "V. Campus Guarulhos, situado na Avenida Salgado Filho, 2501, Bairro Vila Rio de\n",
        "Janeiro, Guarulhos.\n",
        "VI. Campus São João da Boa Vista, situado no Acesso Dr. João Batista Merlin, s/ n.º,\n",
        "Jardim Itália, São João da Boa Vista.\n",
        "VII. Campus Caraguatatuba, situado na Avenida Rio Grande do Norte, 450, Indaiá,\n",
        "Caraguatatuba.\n",
        "VIII. Campus Bragança Paulista, situado na Avenida Francisco Samuel Lucchesi Filho,\n",
        "770, Penha, Bragança Paulista.\n",
        "IX. Campus Salto, situado na Rua Rio Branco, 1780, Vila Teixeira, Salto.\n",
        "X. Campus São Roque, situado na Rodovia Quintino de Lima, 2100, Jardim Conceição,\n",
        "São Roque.\n",
        "XI. Campus São Carlos, situado na Rodovia Washington Luís, km 235 AT-6, Sala 119,\n",
        "São Carlos.\n",
        "XII. Campus Campos do Jordão, situado na Rua Monsenhor José Vita, 280, Vila\n",
        "Abernéssia, Campos do Jordão.\n",
        "XIII. Campus Barretos, situado na Avenida C-1, Bairro Ide Daher, Barretos.\n",
        "XIV. Campus Suzano, situado na Avenida Mogi das Cruzes, 1.501, Parque Suzano,\n",
        "Suzano.\n",
        "XV. Campus Campinas, situado na Rodovia D. Pedro I – SP 65 – KM 143,6, Amarais,\n",
        "Campinas;\n",
        "XVI. Campus Catanduva, situado na Avenida Imperatriz, s/ n.º, Distrito Industrial,\n",
        "Catanduva.\n",
        "XVII. Campus Avaré, situado na Avenida Professor Celso Ferreira da Silva, s/ n.º, Jardim\n",
        "Europa, Avaré.\n",
        "XVIII. Campus Araraquara, situado no Ramal de Acesso Engenheiro Heitor de Souza\n",
        "Pinheiro, Araraquara.\n",
        "XIX. Campus Itapetininga, situado na Avenida João Olímpio de Oliveira, Bairro Assen,\n",
        "Itapetininga.\n",
        "XX. Campus Birigui, situado na Rua Pedro Cavalo, 709, Residencial Portal da Pérola II,\n",
        "Birigui.\n",
        "XXI. Campus Votuporanga, situado na Rua Pará, s/ n.º, Chácara Aviação, Votuporanga.\n",
        "XXII. Campus Registro, situado na Rua Clara Gianotti de Souza, 5.180, Agrochá,\n",
        "Registro.\n",
        "XXIII. Campus Presidente Epitácio, situado na Rua Rua José Ramos Júnior, nº 27-50,\n",
        "Jardim Tropical, Presidente Epitácio.\n",
        "XXIV. Campus Piracicaba, situado na Rodovia Deputado Laércio Corte, s/ n.º, Bairro\n",
        "Santa Rosa, Piracicaba.\n",
        "XXV. Campus Hortolândia, situado na Rodovia Municipal TeodorCondiev, 1896,\n",
        "Hortolândia.\n",
        "XXVI. Campus Boituva, situado na Avenida Zélia de Lima Rosa, nº 100, Portal dos\n",
        "Pássaros, Boituva.\n",
        "XXVII. Campus Capivari, situado na Avenida Ênio Pires de Camargo, 2971, São João\n",
        "Batista, Capivari.\n",
        "XXVIII. Campus Matão, situado na Rua José Bonifácio, 1176, Centro, Matão.\n",
        "XXIX. Campus São José dos Campos, situado na Rodovia Presidente Dutra s/n – km 145,\n",
        "Jardim Diamante, São José dos Campos.\n",
        "\n",
        "Referência: Estatuto, Título I, Capítulo I, Art. 1º, §2º\n",
        "\"\"\"\n",
        "         }\n",
        "         ,{\n",
        "            \"question\": \"Quantos campi o IFSP tem? Informe onde você encontrou essa informação\",\n",
        "            \"answer\": \"O IFSP tem 28 campi. Referência: Estatuto, Capítulo I, Art. 1º, §2º\"\n",
        "         }\n",
        "        ]\n",
        "\n",
        "#query = \"O IFSP tem só ensino médio? Além de responder à pergunta, informe o documento, o Capítulo e o Artigo de referência.\"\n",
        "#query = \"Quais artigos do Estatuto dizem que o IFSP oferece mestrado e doutorado?\"\n",
        "#query = \"O que diz o Art 6º do estatuto do IFSP?\"\n",
        "#query = \"O Art 4º do estatuto do IFSP é sobre o que?\""
      ],
      "metadata": {
        "id": "-kz_mdFDczL4"
      },
      "execution_count": 26,
      "outputs": []
    },
    {
      "cell_type": "code",
      "source": [
        "def get_contexts(response):\n",
        "    contexts = []\n",
        "    for node in response.source_nodes:\n",
        "        metadata = ', '.join(node.metadata.values())\n",
        "        context  = node.get_content()\n",
        "        contexts.append(f\"Fonte: {metadata} # Contextos: {context}\")\n",
        "    return contexts"
      ],
      "metadata": {
        "id": "6jmVZriOQpFH"
      },
      "execution_count": 45,
      "outputs": []
    },
    {
      "cell_type": "code",
      "source": [
        "faith_evaluator     = FaithfulnessEvaluator()\n",
        "relevancy_evaluator = RelevancyEvaluator()\n",
        "correct_evaluator   = CorrectnessEvaluator()\n",
        "data = []\n",
        "\n",
        "for pair in tqdm(pairs):\n",
        "    result       = {}\n",
        "    query        = pair['question']\n",
        "    ground_truth = pair['answer']\n",
        "\n",
        "    result['question']     = query\n",
        "    result['ground_truth'] = ground_truth\n",
        "\n",
        "    # Fazendo consulta\n",
        "    response           = query_engine_with_rerank.query(query)\n",
        "    result['answer']   = response.response\n",
        "    result['contexts'] = get_contexts(response)\n",
        "\n",
        "\n",
        "    # Avaliando Faithfulness\n",
        "    eval_result                     = faith_evaluator.evaluate_response(response=response)\n",
        "    result['faithfulness']          = eval_result.score\n",
        "    result['faithfulness_feedback'] = eval_result.feedback\n",
        "\n",
        "    # Avaliando Relevancy\n",
        "    eval_result                  = relevancy_evaluator.evaluate_response(query=query, response=response)\n",
        "    result['relevancy']          = eval_result.score\n",
        "    result['relevancy_feedback'] = eval_result.feedback\n",
        "\n",
        "    # Avaliando Correctness\n",
        "    eval_result = correct_evaluator.evaluate(\n",
        "        query=query,\n",
        "        response=response.response,\n",
        "        reference=ground_truth,\n",
        "    )\n",
        "    result['correctness']          = eval_result.score\n",
        "    result['correctness_feedback'] = eval_result.feedback\n",
        "\n",
        "    data.append(result)\n",
        "\n",
        "\n",
        "df = pd.DataFrame(data)\n",
        "df"
      ],
      "metadata": {
        "colab": {
          "base_uri": "https://localhost:8080/",
          "height": 934
        },
        "id": "X6vZaHW-art0",
        "outputId": "62e3cb0e-a357-4bd3-cb30-3c010e51224b"
      },
      "execution_count": 54,
      "outputs": [
        {
          "output_type": "stream",
          "name": "stderr",
          "text": [
            "\r  0%|          | 0/3 [00:00<?, ?it/s]"
          ]
        },
        {
          "output_type": "stream",
          "name": "stdout",
          "text": [
            "\u001b[1;3;34mRetrieving with query id None: Qual o nome do IFSP?\n",
            "\u001b[0m\u001b[1;3;38;5;200mRetrieved node with id, entering: node_0\n",
            "\u001b[0m\u001b[1;3;34mRetrieving with query id node_0: Qual o nome do IFSP?\n",
            "\u001b[0m\u001b[1;3;38;5;200mRetrieved node with id, entering: node_14\n",
            "\u001b[0m\u001b[1;3;34mRetrieving with query id node_14: Qual o nome do IFSP?\n",
            "\u001b[0m\u001b[1;3;38;5;200mRetrieved node with id, entering: node_2\n",
            "\u001b[0m\u001b[1;3;34mRetrieving with query id node_2: Qual o nome do IFSP?\n",
            "\u001b[0m\u001b[1;3;38;5;200mRetrieved node with id, entering: node_47\n",
            "\u001b[0m\u001b[1;3;34mRetrieving with query id node_47: Qual o nome do IFSP?\n",
            "\u001b[0m\u001b[1;3;38;5;200mRetrieved node with id, entering: node_17\n",
            "\u001b[0m\u001b[1;3;34mRetrieving with query id node_17: Qual o nome do IFSP?\n",
            "\u001b[0m\u001b[1;3;38;5;200mRetrieved node with id, entering: node_3\n",
            "\u001b[0m\u001b[1;3;34mRetrieving with query id node_3: Qual o nome do IFSP?\n",
            "\u001b[0m\u001b[1;3;38;5;200mRetrieved node with id, entering: node_10\n",
            "\u001b[0m\u001b[1;3;34mRetrieving with query id node_10: Qual o nome do IFSP?\n",
            "\u001b[0m"
          ]
        },
        {
          "output_type": "stream",
          "name": "stderr",
          "text": [
            "\r 33%|███▎      | 1/3 [02:05<04:10, 125.04s/it]"
          ]
        },
        {
          "output_type": "stream",
          "name": "stdout",
          "text": [
            "\u001b[1;3;34mRetrieving with query id None: Quais são os campi do IFSP?\n",
            "\u001b[0m\u001b[1;3;38;5;200mRetrieved node with id, entering: node_0\n",
            "\u001b[0m\u001b[1;3;34mRetrieving with query id node_0: Quais são os campi do IFSP?\n",
            "\u001b[0m\u001b[1;3;38;5;200mRetrieved node with id, entering: node_47\n",
            "\u001b[0m\u001b[1;3;34mRetrieving with query id node_47: Quais são os campi do IFSP?\n",
            "\u001b[0m\u001b[1;3;38;5;200mRetrieved node with id, entering: node_15\n",
            "\u001b[0m\u001b[1;3;34mRetrieving with query id node_15: Quais são os campi do IFSP?\n",
            "\u001b[0m\u001b[1;3;38;5;200mRetrieved node with id, entering: node_10\n",
            "\u001b[0m\u001b[1;3;34mRetrieving with query id node_10: Quais são os campi do IFSP?\n",
            "\u001b[0m\u001b[1;3;38;5;200mRetrieved node with id, entering: node_53\n",
            "\u001b[0m\u001b[1;3;34mRetrieving with query id node_53: Quais são os campi do IFSP?\n",
            "\u001b[0m"
          ]
        },
        {
          "output_type": "stream",
          "name": "stderr",
          "text": [
            "\r 67%|██████▋   | 2/3 [06:56<03:42, 222.86s/it]"
          ]
        },
        {
          "output_type": "stream",
          "name": "stdout",
          "text": [
            "\u001b[1;3;34mRetrieving with query id None: Quantos campi o IFSP tem? Informe onde você encontrou essa informação\n",
            "\u001b[0m\u001b[1;3;38;5;200mRetrieved node with id, entering: node_0\n",
            "\u001b[0m\u001b[1;3;34mRetrieving with query id node_0: Quantos campi o IFSP tem? Informe onde você encontrou essa informação\n",
            "\u001b[0m\u001b[1;3;38;5;200mRetrieved node with id, entering: node_75\n",
            "\u001b[0m\u001b[1;3;34mRetrieving with query id node_75: Quantos campi o IFSP tem? Informe onde você encontrou essa informação\n",
            "\u001b[0m\u001b[1;3;38;5;200mRetrieved node with id, entering: node_47\n",
            "\u001b[0m\u001b[1;3;34mRetrieving with query id node_47: Quantos campi o IFSP tem? Informe onde você encontrou essa informação\n",
            "\u001b[0m\u001b[1;3;38;5;200mRetrieved node with id, entering: node_53\n",
            "\u001b[0m\u001b[1;3;34mRetrieving with query id node_53: Quantos campi o IFSP tem? Informe onde você encontrou essa informação\n",
            "\u001b[0m"
          ]
        },
        {
          "output_type": "stream",
          "name": "stderr",
          "text": [
            "100%|██████████| 3/3 [13:10<00:00, 263.56s/it]\n"
          ]
        },
        {
          "output_type": "execute_result",
          "data": {
            "text/plain": [
              "                                            question  \\\n",
              "0                               Qual o nome do IFSP?   \n",
              "1                        Quais são os campi do IFSP?   \n",
              "2  Quantos campi o IFSP tem? Informe onde você en...   \n",
              "\n",
              "                                        ground_truth  \\\n",
              "0  Instituto Federal de Educação, Ciência e Tecno...   \n",
              "1  II. Campus São Paulo, situado na Rua Pedro Vic...   \n",
              "2  O IFSP tem 28 campi. Referência: Estatuto, Cap...   \n",
              "\n",
              "                                              answer  \\\n",
              "0  O nome do IFSP é o Instituto Federal de Educaç...   \n",
              "1  Os campi do IFSP são:\\n\\nI - Reitoria, no ende...   \n",
              "2  A resposta é: O IFSP tem 31 campi.\\n\\nFonte: D...   \n",
              "\n",
              "                                            contexts  faithfulness  \\\n",
              "0  [Fonte: Estatuto, TÍTULO II - DA GESTÃO, CAPÍT...           1.0   \n",
              "1  [Fonte: Estatuto, TÍTULO VI - DO PATRIMÔNIO. #...           1.0   \n",
              "2  [Fonte: Organização Didática dos Cursos de Gra...           1.0   \n",
              "\n",
              "  faithfulness_feedback  relevancy  \\\n",
              "0                   YES        1.0   \n",
              "1                   YES        1.0   \n",
              "2                   YES        1.0   \n",
              "\n",
              "                                  relevancy_feedback  correctness  \\\n",
              "0                                                YES          5.0   \n",
              "1                                                YES          5.0   \n",
              "2  The existing answer is YES, and the new contex...          3.0   \n",
              "\n",
              "                                correctness_feedback  \n",
              "0  The generated answer is fully correct and rele...  \n",
              "1  The generated answer is fully correct and rele...  \n",
              "2  The generated answer is relevant to the user q...  "
            ],
            "text/html": [
              "\n",
              "  <div id=\"df-9841c0f0-f24f-4378-af76-6ea3a5923179\" class=\"colab-df-container\">\n",
              "    <div>\n",
              "<style scoped>\n",
              "    .dataframe tbody tr th:only-of-type {\n",
              "        vertical-align: middle;\n",
              "    }\n",
              "\n",
              "    .dataframe tbody tr th {\n",
              "        vertical-align: top;\n",
              "    }\n",
              "\n",
              "    .dataframe thead th {\n",
              "        text-align: right;\n",
              "    }\n",
              "</style>\n",
              "<table border=\"1\" class=\"dataframe\">\n",
              "  <thead>\n",
              "    <tr style=\"text-align: right;\">\n",
              "      <th></th>\n",
              "      <th>question</th>\n",
              "      <th>ground_truth</th>\n",
              "      <th>answer</th>\n",
              "      <th>contexts</th>\n",
              "      <th>faithfulness</th>\n",
              "      <th>faithfulness_feedback</th>\n",
              "      <th>relevancy</th>\n",
              "      <th>relevancy_feedback</th>\n",
              "      <th>correctness</th>\n",
              "      <th>correctness_feedback</th>\n",
              "    </tr>\n",
              "  </thead>\n",
              "  <tbody>\n",
              "    <tr>\n",
              "      <th>0</th>\n",
              "      <td>Qual o nome do IFSP?</td>\n",
              "      <td>Instituto Federal de Educação, Ciência e Tecno...</td>\n",
              "      <td>O nome do IFSP é o Instituto Federal de Educaç...</td>\n",
              "      <td>[Fonte: Estatuto, TÍTULO II - DA GESTÃO, CAPÍT...</td>\n",
              "      <td>1.0</td>\n",
              "      <td>YES</td>\n",
              "      <td>1.0</td>\n",
              "      <td>YES</td>\n",
              "      <td>5.0</td>\n",
              "      <td>The generated answer is fully correct and rele...</td>\n",
              "    </tr>\n",
              "    <tr>\n",
              "      <th>1</th>\n",
              "      <td>Quais são os campi do IFSP?</td>\n",
              "      <td>II. Campus São Paulo, situado na Rua Pedro Vic...</td>\n",
              "      <td>Os campi do IFSP são:\\n\\nI - Reitoria, no ende...</td>\n",
              "      <td>[Fonte: Estatuto, TÍTULO VI - DO PATRIMÔNIO. #...</td>\n",
              "      <td>1.0</td>\n",
              "      <td>YES</td>\n",
              "      <td>1.0</td>\n",
              "      <td>YES</td>\n",
              "      <td>5.0</td>\n",
              "      <td>The generated answer is fully correct and rele...</td>\n",
              "    </tr>\n",
              "    <tr>\n",
              "      <th>2</th>\n",
              "      <td>Quantos campi o IFSP tem? Informe onde você en...</td>\n",
              "      <td>O IFSP tem 28 campi. Referência: Estatuto, Cap...</td>\n",
              "      <td>A resposta é: O IFSP tem 31 campi.\\n\\nFonte: D...</td>\n",
              "      <td>[Fonte: Organização Didática dos Cursos de Gra...</td>\n",
              "      <td>1.0</td>\n",
              "      <td>YES</td>\n",
              "      <td>1.0</td>\n",
              "      <td>The existing answer is YES, and the new contex...</td>\n",
              "      <td>3.0</td>\n",
              "      <td>The generated answer is relevant to the user q...</td>\n",
              "    </tr>\n",
              "  </tbody>\n",
              "</table>\n",
              "</div>\n",
              "    <div class=\"colab-df-buttons\">\n",
              "\n",
              "  <div class=\"colab-df-container\">\n",
              "    <button class=\"colab-df-convert\" onclick=\"convertToInteractive('df-9841c0f0-f24f-4378-af76-6ea3a5923179')\"\n",
              "            title=\"Convert this dataframe to an interactive table.\"\n",
              "            style=\"display:none;\">\n",
              "\n",
              "  <svg xmlns=\"http://www.w3.org/2000/svg\" height=\"24px\" viewBox=\"0 -960 960 960\">\n",
              "    <path d=\"M120-120v-720h720v720H120Zm60-500h600v-160H180v160Zm220 220h160v-160H400v160Zm0 220h160v-160H400v160ZM180-400h160v-160H180v160Zm440 0h160v-160H620v160ZM180-180h160v-160H180v160Zm440 0h160v-160H620v160Z\"/>\n",
              "  </svg>\n",
              "    </button>\n",
              "\n",
              "  <style>\n",
              "    .colab-df-container {\n",
              "      display:flex;\n",
              "      gap: 12px;\n",
              "    }\n",
              "\n",
              "    .colab-df-convert {\n",
              "      background-color: #E8F0FE;\n",
              "      border: none;\n",
              "      border-radius: 50%;\n",
              "      cursor: pointer;\n",
              "      display: none;\n",
              "      fill: #1967D2;\n",
              "      height: 32px;\n",
              "      padding: 0 0 0 0;\n",
              "      width: 32px;\n",
              "    }\n",
              "\n",
              "    .colab-df-convert:hover {\n",
              "      background-color: #E2EBFA;\n",
              "      box-shadow: 0px 1px 2px rgba(60, 64, 67, 0.3), 0px 1px 3px 1px rgba(60, 64, 67, 0.15);\n",
              "      fill: #174EA6;\n",
              "    }\n",
              "\n",
              "    .colab-df-buttons div {\n",
              "      margin-bottom: 4px;\n",
              "    }\n",
              "\n",
              "    [theme=dark] .colab-df-convert {\n",
              "      background-color: #3B4455;\n",
              "      fill: #D2E3FC;\n",
              "    }\n",
              "\n",
              "    [theme=dark] .colab-df-convert:hover {\n",
              "      background-color: #434B5C;\n",
              "      box-shadow: 0px 1px 3px 1px rgba(0, 0, 0, 0.15);\n",
              "      filter: drop-shadow(0px 1px 2px rgba(0, 0, 0, 0.3));\n",
              "      fill: #FFFFFF;\n",
              "    }\n",
              "  </style>\n",
              "\n",
              "    <script>\n",
              "      const buttonEl =\n",
              "        document.querySelector('#df-9841c0f0-f24f-4378-af76-6ea3a5923179 button.colab-df-convert');\n",
              "      buttonEl.style.display =\n",
              "        google.colab.kernel.accessAllowed ? 'block' : 'none';\n",
              "\n",
              "      async function convertToInteractive(key) {\n",
              "        const element = document.querySelector('#df-9841c0f0-f24f-4378-af76-6ea3a5923179');\n",
              "        const dataTable =\n",
              "          await google.colab.kernel.invokeFunction('convertToInteractive',\n",
              "                                                    [key], {});\n",
              "        if (!dataTable) return;\n",
              "\n",
              "        const docLinkHtml = 'Like what you see? Visit the ' +\n",
              "          '<a target=\"_blank\" href=https://colab.research.google.com/notebooks/data_table.ipynb>data table notebook</a>'\n",
              "          + ' to learn more about interactive tables.';\n",
              "        element.innerHTML = '';\n",
              "        dataTable['output_type'] = 'display_data';\n",
              "        await google.colab.output.renderOutput(dataTable, element);\n",
              "        const docLink = document.createElement('div');\n",
              "        docLink.innerHTML = docLinkHtml;\n",
              "        element.appendChild(docLink);\n",
              "      }\n",
              "    </script>\n",
              "  </div>\n",
              "\n",
              "\n",
              "<div id=\"df-4981ba31-3ab7-410e-8c98-baa84e5c68f7\">\n",
              "  <button class=\"colab-df-quickchart\" onclick=\"quickchart('df-4981ba31-3ab7-410e-8c98-baa84e5c68f7')\"\n",
              "            title=\"Suggest charts\"\n",
              "            style=\"display:none;\">\n",
              "\n",
              "<svg xmlns=\"http://www.w3.org/2000/svg\" height=\"24px\"viewBox=\"0 0 24 24\"\n",
              "     width=\"24px\">\n",
              "    <g>\n",
              "        <path d=\"M19 3H5c-1.1 0-2 .9-2 2v14c0 1.1.9 2 2 2h14c1.1 0 2-.9 2-2V5c0-1.1-.9-2-2-2zM9 17H7v-7h2v7zm4 0h-2V7h2v10zm4 0h-2v-4h2v4z\"/>\n",
              "    </g>\n",
              "</svg>\n",
              "  </button>\n",
              "\n",
              "<style>\n",
              "  .colab-df-quickchart {\n",
              "      --bg-color: #E8F0FE;\n",
              "      --fill-color: #1967D2;\n",
              "      --hover-bg-color: #E2EBFA;\n",
              "      --hover-fill-color: #174EA6;\n",
              "      --disabled-fill-color: #AAA;\n",
              "      --disabled-bg-color: #DDD;\n",
              "  }\n",
              "\n",
              "  [theme=dark] .colab-df-quickchart {\n",
              "      --bg-color: #3B4455;\n",
              "      --fill-color: #D2E3FC;\n",
              "      --hover-bg-color: #434B5C;\n",
              "      --hover-fill-color: #FFFFFF;\n",
              "      --disabled-bg-color: #3B4455;\n",
              "      --disabled-fill-color: #666;\n",
              "  }\n",
              "\n",
              "  .colab-df-quickchart {\n",
              "    background-color: var(--bg-color);\n",
              "    border: none;\n",
              "    border-radius: 50%;\n",
              "    cursor: pointer;\n",
              "    display: none;\n",
              "    fill: var(--fill-color);\n",
              "    height: 32px;\n",
              "    padding: 0;\n",
              "    width: 32px;\n",
              "  }\n",
              "\n",
              "  .colab-df-quickchart:hover {\n",
              "    background-color: var(--hover-bg-color);\n",
              "    box-shadow: 0 1px 2px rgba(60, 64, 67, 0.3), 0 1px 3px 1px rgba(60, 64, 67, 0.15);\n",
              "    fill: var(--button-hover-fill-color);\n",
              "  }\n",
              "\n",
              "  .colab-df-quickchart-complete:disabled,\n",
              "  .colab-df-quickchart-complete:disabled:hover {\n",
              "    background-color: var(--disabled-bg-color);\n",
              "    fill: var(--disabled-fill-color);\n",
              "    box-shadow: none;\n",
              "  }\n",
              "\n",
              "  .colab-df-spinner {\n",
              "    border: 2px solid var(--fill-color);\n",
              "    border-color: transparent;\n",
              "    border-bottom-color: var(--fill-color);\n",
              "    animation:\n",
              "      spin 1s steps(1) infinite;\n",
              "  }\n",
              "\n",
              "  @keyframes spin {\n",
              "    0% {\n",
              "      border-color: transparent;\n",
              "      border-bottom-color: var(--fill-color);\n",
              "      border-left-color: var(--fill-color);\n",
              "    }\n",
              "    20% {\n",
              "      border-color: transparent;\n",
              "      border-left-color: var(--fill-color);\n",
              "      border-top-color: var(--fill-color);\n",
              "    }\n",
              "    30% {\n",
              "      border-color: transparent;\n",
              "      border-left-color: var(--fill-color);\n",
              "      border-top-color: var(--fill-color);\n",
              "      border-right-color: var(--fill-color);\n",
              "    }\n",
              "    40% {\n",
              "      border-color: transparent;\n",
              "      border-right-color: var(--fill-color);\n",
              "      border-top-color: var(--fill-color);\n",
              "    }\n",
              "    60% {\n",
              "      border-color: transparent;\n",
              "      border-right-color: var(--fill-color);\n",
              "    }\n",
              "    80% {\n",
              "      border-color: transparent;\n",
              "      border-right-color: var(--fill-color);\n",
              "      border-bottom-color: var(--fill-color);\n",
              "    }\n",
              "    90% {\n",
              "      border-color: transparent;\n",
              "      border-bottom-color: var(--fill-color);\n",
              "    }\n",
              "  }\n",
              "</style>\n",
              "\n",
              "  <script>\n",
              "    async function quickchart(key) {\n",
              "      const quickchartButtonEl =\n",
              "        document.querySelector('#' + key + ' button');\n",
              "      quickchartButtonEl.disabled = true;  // To prevent multiple clicks.\n",
              "      quickchartButtonEl.classList.add('colab-df-spinner');\n",
              "      try {\n",
              "        const charts = await google.colab.kernel.invokeFunction(\n",
              "            'suggestCharts', [key], {});\n",
              "      } catch (error) {\n",
              "        console.error('Error during call to suggestCharts:', error);\n",
              "      }\n",
              "      quickchartButtonEl.classList.remove('colab-df-spinner');\n",
              "      quickchartButtonEl.classList.add('colab-df-quickchart-complete');\n",
              "    }\n",
              "    (() => {\n",
              "      let quickchartButtonEl =\n",
              "        document.querySelector('#df-4981ba31-3ab7-410e-8c98-baa84e5c68f7 button');\n",
              "      quickchartButtonEl.style.display =\n",
              "        google.colab.kernel.accessAllowed ? 'block' : 'none';\n",
              "    })();\n",
              "  </script>\n",
              "</div>\n",
              "\n",
              "  <div id=\"id_9af960d7-b53e-4cb4-8777-7e95d14c1189\">\n",
              "    <style>\n",
              "      .colab-df-generate {\n",
              "        background-color: #E8F0FE;\n",
              "        border: none;\n",
              "        border-radius: 50%;\n",
              "        cursor: pointer;\n",
              "        display: none;\n",
              "        fill: #1967D2;\n",
              "        height: 32px;\n",
              "        padding: 0 0 0 0;\n",
              "        width: 32px;\n",
              "      }\n",
              "\n",
              "      .colab-df-generate:hover {\n",
              "        background-color: #E2EBFA;\n",
              "        box-shadow: 0px 1px 2px rgba(60, 64, 67, 0.3), 0px 1px 3px 1px rgba(60, 64, 67, 0.15);\n",
              "        fill: #174EA6;\n",
              "      }\n",
              "\n",
              "      [theme=dark] .colab-df-generate {\n",
              "        background-color: #3B4455;\n",
              "        fill: #D2E3FC;\n",
              "      }\n",
              "\n",
              "      [theme=dark] .colab-df-generate:hover {\n",
              "        background-color: #434B5C;\n",
              "        box-shadow: 0px 1px 3px 1px rgba(0, 0, 0, 0.15);\n",
              "        filter: drop-shadow(0px 1px 2px rgba(0, 0, 0, 0.3));\n",
              "        fill: #FFFFFF;\n",
              "      }\n",
              "    </style>\n",
              "    <button class=\"colab-df-generate\" onclick=\"generateWithVariable('df')\"\n",
              "            title=\"Generate code using this dataframe.\"\n",
              "            style=\"display:none;\">\n",
              "\n",
              "  <svg xmlns=\"http://www.w3.org/2000/svg\" height=\"24px\"viewBox=\"0 0 24 24\"\n",
              "       width=\"24px\">\n",
              "    <path d=\"M7,19H8.4L18.45,9,17,7.55,7,17.6ZM5,21V16.75L18.45,3.32a2,2,0,0,1,2.83,0l1.4,1.43a1.91,1.91,0,0,1,.58,1.4,1.91,1.91,0,0,1-.58,1.4L9.25,21ZM18.45,9,17,7.55Zm-12,3A5.31,5.31,0,0,0,4.9,8.1,5.31,5.31,0,0,0,1,6.5,5.31,5.31,0,0,0,4.9,4.9,5.31,5.31,0,0,0,6.5,1,5.31,5.31,0,0,0,8.1,4.9,5.31,5.31,0,0,0,12,6.5,5.46,5.46,0,0,0,6.5,12Z\"/>\n",
              "  </svg>\n",
              "    </button>\n",
              "    <script>\n",
              "      (() => {\n",
              "      const buttonEl =\n",
              "        document.querySelector('#id_9af960d7-b53e-4cb4-8777-7e95d14c1189 button.colab-df-generate');\n",
              "      buttonEl.style.display =\n",
              "        google.colab.kernel.accessAllowed ? 'block' : 'none';\n",
              "\n",
              "      buttonEl.onclick = () => {\n",
              "        google.colab.notebook.generateWithVariable('df');\n",
              "      }\n",
              "      })();\n",
              "    </script>\n",
              "  </div>\n",
              "\n",
              "    </div>\n",
              "  </div>\n"
            ],
            "application/vnd.google.colaboratory.intrinsic+json": {
              "type": "dataframe",
              "variable_name": "df",
              "summary": "{\n  \"name\": \"df\",\n  \"rows\": 3,\n  \"fields\": [\n    {\n      \"column\": \"question\",\n      \"properties\": {\n        \"dtype\": \"string\",\n        \"num_unique_values\": 3,\n        \"samples\": [\n          \"Qual o nome do IFSP?\",\n          \"Quais s\\u00e3o os campi do IFSP?\",\n          \"Quantos campi o IFSP tem? Informe onde voc\\u00ea encontrou essa informa\\u00e7\\u00e3o\"\n        ],\n        \"semantic_type\": \"\",\n        \"description\": \"\"\n      }\n    },\n    {\n      \"column\": \"ground_truth\",\n      \"properties\": {\n        \"dtype\": \"string\",\n        \"num_unique_values\": 3,\n        \"samples\": [\n          \"Instituto Federal de Educa\\u00e7\\u00e3o, Ci\\u00eancia e Tecnologia de S\\u00e3o Paulo.  Refer\\u00eancia: Estatuto, T\\u00edtulo I, Cap\\u00edtulo I, Art. 1\\u00ba\",\n          \"II. Campus S\\u00e3o Paulo, situado na Rua Pedro Vicente, 625, Canind\\u00e9, S\\u00e3o Paulo.\\nIII. Campus Cubat\\u00e3o, situado na Rua Maria Cristina, 50, Jardim Casqueiro, Cubat\\u00e3o.\\nIV. Campus Sert\\u00e3ozinho, situado na Rua Am\\u00e9rico Ambr\\u00f3sio, 269, Jardim Cana\\u00e3,\\nSert\\u00e3ozinho.\\nV. Campus Guarulhos, situado na Avenida Salgado Filho, 2501, Bairro Vila Rio de\\nJaneiro, Guarulhos.\\nVI. Campus S\\u00e3o Jo\\u00e3o da Boa Vista, situado no Acesso Dr. Jo\\u00e3o Batista Merlin, s/ n.\\u00ba,\\nJardim It\\u00e1lia, S\\u00e3o Jo\\u00e3o da Boa Vista.\\nVII. Campus Caraguatatuba, situado na Avenida Rio Grande do Norte, 450, Indai\\u00e1,\\nCaraguatatuba.\\nVIII. Campus Bragan\\u00e7a Paulista, situado na Avenida Francisco Samuel Lucchesi Filho,\\n770, Penha, Bragan\\u00e7a Paulista.\\nIX. Campus Salto, situado na Rua Rio Branco, 1780, Vila Teixeira, Salto.\\nX. Campus S\\u00e3o Roque, situado na Rodovia Quintino de Lima, 2100, Jardim Concei\\u00e7\\u00e3o,\\nS\\u00e3o Roque.\\nXI. Campus S\\u00e3o Carlos, situado na Rodovia Washington Lu\\u00eds, km 235 AT-6, Sala 119,\\nS\\u00e3o Carlos.\\nXII. Campus Campos do Jord\\u00e3o, situado na Rua Monsenhor Jos\\u00e9 Vita, 280, Vila\\nAbern\\u00e9ssia, Campos do Jord\\u00e3o.\\nXIII. Campus Barretos, situado na Avenida C-1, Bairro Ide Daher, Barretos.\\nXIV. Campus Suzano, situado na Avenida Mogi das Cruzes, 1.501, Parque Suzano,\\nSuzano.\\nXV. Campus Campinas, situado na Rodovia D. Pedro I \\u2013 SP 65 \\u2013 KM 143,6, Amarais,\\nCampinas;\\nXVI. Campus Catanduva, situado na Avenida Imperatriz, s/ n.\\u00ba, Distrito Industrial,\\nCatanduva.\\nXVII. Campus Avar\\u00e9, situado na Avenida Professor Celso Ferreira da Silva, s/ n.\\u00ba, Jardim\\nEuropa, Avar\\u00e9.\\nXVIII. Campus Araraquara, situado no Ramal de Acesso Engenheiro Heitor de Souza\\nPinheiro, Araraquara.\\nXIX. Campus Itapetininga, situado na Avenida Jo\\u00e3o Ol\\u00edmpio de Oliveira, Bairro Assen,\\nItapetininga.\\nXX. Campus Birigui, situado na Rua Pedro Cavalo, 709, Residencial Portal da P\\u00e9rola II,\\nBirigui.\\nXXI. Campus Votuporanga, situado na Rua Par\\u00e1, s/ n.\\u00ba, Ch\\u00e1cara Avia\\u00e7\\u00e3o, Votuporanga.\\nXXII. Campus Registro, situado na Rua Clara Gianotti de Souza, 5.180, Agroch\\u00e1,\\nRegistro.\\nXXIII. Campus Presidente Epit\\u00e1cio, situado na Rua Rua Jos\\u00e9 Ramos J\\u00fanior, n\\u00ba 27-50,\\nJardim Tropical, Presidente Epit\\u00e1cio.\\nXXIV. Campus Piracicaba, situado na Rodovia Deputado La\\u00e9rcio Corte, s/ n.\\u00ba, Bairro\\nSanta Rosa, Piracicaba.\\nXXV. Campus Hortol\\u00e2ndia, situado na Rodovia Municipal TeodorCondiev, 1896,\\nHortol\\u00e2ndia.\\nXXVI. Campus Boituva, situado na Avenida Z\\u00e9lia de Lima Rosa, n\\u00ba 100, Portal dos\\nP\\u00e1ssaros, Boituva.\\nXXVII. Campus Capivari, situado na Avenida \\u00canio Pires de Camargo, 2971, S\\u00e3o Jo\\u00e3o\\nBatista, Capivari.\\nXXVIII. Campus Mat\\u00e3o, situado na Rua Jos\\u00e9 Bonif\\u00e1cio, 1176, Centro, Mat\\u00e3o.\\nXXIX. Campus S\\u00e3o Jos\\u00e9 dos Campos, situado na Rodovia Presidente Dutra s/n \\u2013 km 145,\\nJardim Diamante, S\\u00e3o Jos\\u00e9 dos Campos.\\n\\nRefer\\u00eancia: Estatuto, T\\u00edtulo I, Cap\\u00edtulo I, Art. 1\\u00ba, \\u00a72\\u00ba\\n\",\n          \"O IFSP tem 28 campi. Refer\\u00eancia: Estatuto, Cap\\u00edtulo I, Art. 1\\u00ba, \\u00a72\\u00ba\"\n        ],\n        \"semantic_type\": \"\",\n        \"description\": \"\"\n      }\n    },\n    {\n      \"column\": \"answer\",\n      \"properties\": {\n        \"dtype\": \"string\",\n        \"num_unique_values\": 3,\n        \"samples\": [\n          \"O nome do IFSP \\u00e9 o Instituto Federal de Educa\\u00e7\\u00e3o, Ci\\u00eancia e Tecnologia de S\\u00e3o Paulo.\\n\\nFonte: Documento \\\"Estatuto\\\", T\\u00edtulo \\\"T\\u00cdTULO I - DA INSTITUI\\u00c7\\u00c3O\\\", Cap\\u00edtulo \\\"CAP\\u00cdTULO I DA NATUREZA E DAS FINALIDADES\\\", Art. 1\\u00ba.\",\n          \"Os campi do IFSP s\\u00e3o:\\n\\nI - Reitoria, no endere\\u00e7o citado no \\u00a71\\u00ba.\\nII - Campus S\\u00e3o Paulo, situado na Rua Pedro Vicente, 625, Canind\\u00e9, S\\u00e3o Paulo.\\nIII - Campus Cubat\\u00e3o, situado na Rua Maria Cristina, 50, Jardim Casqueiro, Cubat\\u00e3o.\\nIV - Campus Sert\\u00e3ozinho, situado na Rua Am\\u00e9rico Ambr\\u00f3sio, 269, Jardim Cana\\u00e3, Sert\\u00e3ozinho.\\nV - Campus Guarulhos, situado na Avenida Salgado Filho, 2501, Bairro Vila Rio de Janeiro, Guarulhos.\\nVI - Campus S\\u00e3o Jo\\u00e3o da Boa Vista, situado no Acesso Dr. Jo\\u00e3o Batista Merlin, s/ n.\\u00ba, Jardim It\\u00e1lia, S\\u00e3o Jo\\u00e3o da Boa Vista.\\nVII - Campus Caraguatatuba, situado na Avenida Rio Grande do Norte, 450, Indai\\u00e1, Caraguatatuba.\\nVIII - Campus Bragan\\u00e7a Paulista, situado na Avenida Francisco Samuel Lucchesi Filho, 770, Penha, Bragan\\u00e7a Paulista.\\nIX - Campus Salto, situado na Rua Rio Branco, 1780, Vila Teixeira, Salto.\\nX - Campus S\\u00e3o Roque, situado na Rodovia Quintino de Lima, 2100, Jardim Concei\\u00e7\\u00e3o, S\\u00e3o Roque.\\nXI - Campus S\\u00e3o Carlos, situado na Rodovia Washington Lu\\u00eds, km 235 AT-6, Sala 119, S\\u00e3o Carlos.\\nXII - Campus Campos do Jord\\u00e3o, situado na Rua Monsenhor Jos\\u00e9 Vita, 280, Vila Abern\\u00e9ssia, Campos do Jord\\u00e3o.\\nXIII - Campus Barretos, situado na Avenida C-1, Bairro Ide Daher, Barretos.\\nXIV - Campus Suzano, situado na Avenida Mogi das Cruzes, 1.501, Parque Suzano, Suzano.\\nXV - Campus Campinas, situado na Rodovia D - Pedro I \\u2013 SP 65 \\u2013 KM 143,6, Amarais, Campinas;\\nXVI - Campus Catanduva, situado na Avenida Imperatriz, s/ n.\\u00ba, Distrito Industrial, Catanduva.\\nXVII - Campus Avar\\u00e9, situado na Avenida Professor Celso Ferreira da Silva, s/ n.\\u00ba, Jardim Europa, Avar\\u00e9.\\nXVIII - Campus Araraquara, situado no Ramal de Acesso Engenheiro Heitor de Souza Pinheiro, Araraquara.\\nXIX - Campus Itapetininga, situado na Avenida Jo\\u00e3o Ol\\u00edmpio de Oliveira, Bairro Assen, Itapetininga.\\nXX - Campus Birigui, situado na Rua Pedro Cavalo, 709, Residencial Portal da P\\u00e9rola II, Birigui.\\nXXI - Campus Votuporanga, situado na Rua Par\\u00e1, s/ n.\\u00ba, Ch\\u00e1cara Avia\\u00e7\\u00e3o, Votuporanga.\\nXXII - Campus Registro, situado na Rua Clara Gianotti de Souza, 5.180, Agroch\\u00e1, Registro.\\nXXIII - Campus Presidente Epit\\u00e1cio, situado na Rua Rua Jos\\u00e9 Ramos J\\u00fanior, n\\u00ba 27-50, Jardim Tropical, Presidente Epit\\u00e1cio.\\nXXIV - Campus Piracicaba, situado na Rodovia Deputado La\\u00e9rcio Corte, s/ n.\\u00ba, Bairro Santa Rosa, Piracicaba.\\nXXV - Campus Hortol\\u00e2ndia, situado na Rodovia Municipal TeodorCondiev, 1896, Hortol\\u00e2ndia.\\nXXVI - Campus Boituva, situado na Avenida Z\\u00e9lia de Lima Rosa, n\\u00ba 100, Portal dos P\\u00e1ssaros, Boituva.\\nXXVII - Campus Capivari, situado na Avenida \\u00canio Pires de Camargo, 2971, S\\u00e3o Jo\\u00e3o Batista, Capivari.\\nXXVIII - Campus Mat\\u00e3o, situado na Rua Jos\\u00e9 Bonif\\u00e1cio, 1176, Centro, Mat\\u00e3o.\\nXXIX - Campus S\\u00e3o Jos\\u00e9 dos Campos, situado na Rodovia Presidente Dutra s/n \\u2013 km 145, Jardim Diamante, S\\u00e3o Jos\\u00e9 dos Campos.\\nXXXI - N\\u00facleo Avan\\u00e7ado de Assis, situado na Avenida Get\\u00falio Vargas n\\u00ba 1200, Vila Nova Santana, Assis.\\n\\nDocumento: Estatuto\\nT\\u00edtulo: T\\u00cdTULO I - DA INSTITUI\\u00c7\\u00c3O\\nCap\\u00edtulo: CAP\\u00cdTULO I DA NATUREZA E DAS FINALIDADES.\\nArt. 1\\u00ba, \\u00a72\\u00ba.\",\n          \"A resposta \\u00e9: O IFSP tem 31 campi.\\n\\nFonte: Documento \\\"Estatuto\\\", t\\u00edtulo \\\"T\\u00cdTULO I - DA INSTITUI\\u00c7\\u00c3O\\\", cap\\u00edtulo \\\"CAP\\u00cdTULO I DA NATUREZA E DAS FINALIDADES\\\", Art. 1\\u00ba, \\u00a72\\u00ba.\"\n        ],\n        \"semantic_type\": \"\",\n        \"description\": \"\"\n      }\n    },\n    {\n      \"column\": \"contexts\",\n      \"properties\": {\n        \"dtype\": \"object\",\n        \"semantic_type\": \"\",\n        \"description\": \"\"\n      }\n    },\n    {\n      \"column\": \"faithfulness\",\n      \"properties\": {\n        \"dtype\": \"number\",\n        \"std\": 0.0,\n        \"min\": 1.0,\n        \"max\": 1.0,\n        \"num_unique_values\": 1,\n        \"samples\": [\n          1.0\n        ],\n        \"semantic_type\": \"\",\n        \"description\": \"\"\n      }\n    },\n    {\n      \"column\": \"faithfulness_feedback\",\n      \"properties\": {\n        \"dtype\": \"category\",\n        \"num_unique_values\": 1,\n        \"samples\": [\n          \"YES\"\n        ],\n        \"semantic_type\": \"\",\n        \"description\": \"\"\n      }\n    },\n    {\n      \"column\": \"relevancy\",\n      \"properties\": {\n        \"dtype\": \"number\",\n        \"std\": 0.0,\n        \"min\": 1.0,\n        \"max\": 1.0,\n        \"num_unique_values\": 1,\n        \"samples\": [\n          1.0\n        ],\n        \"semantic_type\": \"\",\n        \"description\": \"\"\n      }\n    },\n    {\n      \"column\": \"relevancy_feedback\",\n      \"properties\": {\n        \"dtype\": \"string\",\n        \"num_unique_values\": 2,\n        \"samples\": [\n          \"The existing answer is YES, and the new context still supports the answer. The new context provides more information about the different types of transfers within the IFSP, including internal transfer between campuses, which implies that there are multiple campuses. Therefore, the answer remains YES.\"\n        ],\n        \"semantic_type\": \"\",\n        \"description\": \"\"\n      }\n    },\n    {\n      \"column\": \"correctness\",\n      \"properties\": {\n        \"dtype\": \"number\",\n        \"std\": 1.1547005383792517,\n        \"min\": 3.0,\n        \"max\": 5.0,\n        \"num_unique_values\": 2,\n        \"samples\": [\n          3.0\n        ],\n        \"semantic_type\": \"\",\n        \"description\": \"\"\n      }\n    },\n    {\n      \"column\": \"correctness_feedback\",\n      \"properties\": {\n        \"dtype\": \"string\",\n        \"num_unique_values\": 3,\n        \"samples\": [\n          \"The generated answer is fully correct and relevant to the user query, providing the exact name of IFSP and even citing the same reference as the reference answer, making it a perfect match.\"\n        ],\n        \"semantic_type\": \"\",\n        \"description\": \"\"\n      }\n    }\n  ]\n}"
            }
          },
          "metadata": {},
          "execution_count": 54
        }
      ]
    },
    {
      "cell_type": "code",
      "source": [
        "import time\n",
        "import random\n",
        "import json\n",
        "from concurrent.futures import ThreadPoolExecutor, as_completed\n",
        "from tqdm import tqdm\n",
        "\n",
        "def parse_retry_after(error_message):\n",
        "    try:\n",
        "        error_data = json.loads(error_message)\n",
        "        return error_data['error']['message'].split('Please try again in ')[1].split('s.')[0]\n",
        "    except Exception as e:\n",
        "        print(f\"Failed to parse retry-after duration: {e}\")\n",
        "        return None\n",
        "\n",
        "def evaluate_pair(pair, max_retries=2):\n",
        "    result = {}\n",
        "    query = pair['question']\n",
        "    ground_truth = pair['answer']\n",
        "\n",
        "    result['question'] = query\n",
        "    result['ground_truth'] = ground_truth\n",
        "\n",
        "    retries = 0\n",
        "    while retries < max_retries:\n",
        "        try:\n",
        "            # Fazendo consulta\n",
        "            response = query_engine_with_rerank.query(query)\n",
        "            result['answer'] = response.response\n",
        "            result['contexts'] = get_contexts(response)\n",
        "\n",
        "            # Avaliando Faithfulness\n",
        "            eval_result = faith_evaluator.evaluate_response(response=response)\n",
        "            result['faithfulness'] = eval_result.score\n",
        "            result['faithfulness_feedback'] = eval_result.feedback\n",
        "\n",
        "            # Avaliando Relevancy\n",
        "            eval_result = relevancy_evaluator.evaluate_response(query=query, response=response)\n",
        "            result['relevancy'] = eval_result.score\n",
        "            result['relevancy_feedback'] = eval_result.feedback\n",
        "\n",
        "            # Avaliando Correctness\n",
        "            eval_result = correct_evaluator.evaluate(\n",
        "                query=query,\n",
        "                response=response.response,\n",
        "                reference=ground_truth,\n",
        "            )\n",
        "            result['correctness'] = eval_result.score\n",
        "            result['correctness_feedback'] = eval_result.feedback\n",
        "\n",
        "            return result\n",
        "\n",
        "        except Exception as e:\n",
        "            error_message = str(e)\n",
        "            if 'rate limit' in error_message.lower():\n",
        "                retry_after = parse_retry_after(error_message)\n",
        "                if retry_after:\n",
        "                    wait_time = float(retry_after)\n",
        "                else:\n",
        "                    wait_time = 2 ** retries + random.uniform(0, 1)\n",
        "                print(f\"Rate limit reached. Retrying in {wait_time:.2f} seconds...\")\n",
        "                time.sleep(wait_time)\n",
        "                retries += 1\n",
        "            else:\n",
        "                raise\n",
        "\n",
        "    raise Exception(\"Max retries exceeded\")\n",
        "\n",
        "data = []\n",
        "\n",
        "with ThreadPoolExecutor(max_workers=4) as executor:  # Adjust the number of workers as needed\n",
        "    future_to_pair = {executor.submit(evaluate_pair, pair): pair for pair in pairs}\n",
        "    for future in tqdm(as_completed(future_to_pair), total=len(pairs)):\n",
        "        try:\n",
        "            data.append(future.result())\n",
        "        except Exception as exc:\n",
        "            print(f'Generated an exception: {exc}')\n",
        "\n",
        "df = pd.DataFrame(data)\n",
        "df"
      ],
      "metadata": {
        "colab": {
          "base_uri": "https://localhost:8080/",
          "height": 1000
        },
        "id": "UxruCwDP_xmE",
        "outputId": "9366dac5-8bf3-4940-af26-c6db445e3663"
      },
      "execution_count": 53,
      "outputs": [
        {
          "output_type": "stream",
          "name": "stdout",
          "text": [
            "\u001b[1;3;34mRetrieving with query id None: Qual o nome do IFSP?\n",
            "\u001b[0m\u001b[1;3;34mRetrieving with query id None: Quais são os campi do IFSP?\n",
            "\u001b[0m\u001b[1;3;34mRetrieving with query id None: Quantos campi o IFSP tem? Informe onde você encontrou essa informação\n",
            "\u001b[0m"
          ]
        },
        {
          "output_type": "stream",
          "name": "stderr",
          "text": [
            "\r  0%|          | 0/3 [00:00<?, ?it/s]"
          ]
        },
        {
          "output_type": "stream",
          "name": "stdout",
          "text": [
            "\u001b[1;3;38;5;200mRetrieved node with id, entering: node_0\n",
            "\u001b[0m\u001b[1;3;34mRetrieving with query id node_0: Qual o nome do IFSP?\n",
            "\u001b[0m\u001b[1;3;38;5;200mRetrieved node with id, entering: node_14\n",
            "\u001b[0m\u001b[1;3;34mRetrieving with query id node_14: Qual o nome do IFSP?\n",
            "\u001b[0m\u001b[1;3;38;5;200mRetrieved node with id, entering: node_2\n",
            "\u001b[0m\u001b[1;3;34mRetrieving with query id node_2: Qual o nome do IFSP?\n",
            "\u001b[0m\u001b[1;3;38;5;200mRetrieved node with id, entering: node_47\n",
            "\u001b[0m\u001b[1;3;34mRetrieving with query id node_47: Qual o nome do IFSP?\n",
            "\u001b[0m\u001b[1;3;38;5;200mRetrieved node with id, entering: node_17\n",
            "\u001b[0m\u001b[1;3;34mRetrieving with query id node_17: Qual o nome do IFSP?\n",
            "\u001b[0m\u001b[1;3;38;5;200mRetrieved node with id, entering: node_3\n",
            "\u001b[0m\u001b[1;3;34mRetrieving with query id node_3: Qual o nome do IFSP?\n",
            "\u001b[0m\u001b[1;3;38;5;200mRetrieved node with id, entering: node_10\n",
            "\u001b[0m\u001b[1;3;34mRetrieving with query id node_10: Qual o nome do IFSP?\n",
            "\u001b[0m\u001b[1;3;38;5;200mRetrieved node with id, entering: node_0\n",
            "\u001b[0m\u001b[1;3;34mRetrieving with query id node_0: Quantos campi o IFSP tem? Informe onde você encontrou essa informação\n",
            "\u001b[0m\u001b[1;3;38;5;200mRetrieved node with id, entering: node_75\n",
            "\u001b[0m\u001b[1;3;34mRetrieving with query id node_75: Quantos campi o IFSP tem? Informe onde você encontrou essa informação\n",
            "\u001b[0m\u001b[1;3;38;5;200mRetrieved node with id, entering: node_47\n",
            "\u001b[0m\u001b[1;3;34mRetrieving with query id node_47: Quantos campi o IFSP tem? Informe onde você encontrou essa informação\n",
            "\u001b[0m\u001b[1;3;38;5;200mRetrieved node with id, entering: node_53\n",
            "\u001b[0m\u001b[1;3;34mRetrieving with query id node_53: Quantos campi o IFSP tem? Informe onde você encontrou essa informação\n",
            "\u001b[0m\u001b[1;3;38;5;200mRetrieved node with id, entering: node_0\n",
            "\u001b[0m\u001b[1;3;34mRetrieving with query id node_0: Quais são os campi do IFSP?\n",
            "\u001b[0m\u001b[1;3;38;5;200mRetrieved node with id, entering: node_47\n",
            "\u001b[0m\u001b[1;3;34mRetrieving with query id node_47: Quais são os campi do IFSP?\n",
            "\u001b[0m\u001b[1;3;38;5;200mRetrieved node with id, entering: node_15\n",
            "\u001b[0m\u001b[1;3;34mRetrieving with query id node_15: Quais são os campi do IFSP?\n",
            "\u001b[0m\u001b[1;3;38;5;200mRetrieved node with id, entering: node_10\n",
            "\u001b[0m\u001b[1;3;34mRetrieving with query id node_10: Quais são os campi do IFSP?\n",
            "\u001b[0m\u001b[1;3;38;5;200mRetrieved node with id, entering: node_53\n",
            "\u001b[0m\u001b[1;3;34mRetrieving with query id node_53: Quais são os campi do IFSP?\n",
            "\u001b[0m"
          ]
        },
        {
          "output_type": "stream",
          "name": "stderr",
          "text": [
            "WARNING:llama_index.llms.openai.utils:Retrying llama_index.llms.openai.base.OpenAI._chat in 0.8108264708761768 seconds as it raised RateLimitError: Error code: 429 - {'error': {'message': 'Rate limit reached for model `llama3-70b-8192` in organization `org_01hws2sr5re278wrjr440pk8m8` on tokens per minute (TPM): Limit 6000, Used 11669, Requested 2310. Please try again in 1m19.792s. Visit https://console.groq.com/docs/rate-limits for more information.', 'type': 'tokens', 'code': 'rate_limit_exceeded'}}.\n",
            "WARNING:llama_index.llms.openai.utils:Retrying llama_index.llms.openai.base.OpenAI._chat in 1.3917211059718244 seconds as it raised RateLimitError: Error code: 429 - {'error': {'message': 'Rate limit reached for model `llama3-70b-8192` in organization `org_01hws2sr5re278wrjr440pk8m8` on tokens per minute (TPM): Limit 6000, Used 11582, Requested 2310. Please try again in 1m18.921s. Visit https://console.groq.com/docs/rate-limits for more information.', 'type': 'tokens', 'code': 'rate_limit_exceeded'}}.\n"
          ]
        },
        {
          "output_type": "stream",
          "name": "stdout",
          "text": [
            "Failed to parse retry-after duration: Expecting value: line 1 column 1 (char 0)\n",
            "Rate limit reached. Retrying in 1.07 seconds...\n",
            "\u001b[1;3;34mRetrieving with query id None: Quais são os campi do IFSP?\n",
            "\u001b[0m"
          ]
        },
        {
          "output_type": "stream",
          "name": "stderr",
          "text": [
            "WARNING:llama_index.llms.openai.utils:Retrying llama_index.llms.openai.base.OpenAI._chat in 0.1977660313027675 seconds as it raised RateLimitError: Error code: 429 - {'error': {'message': 'Rate limit reached for model `llama3-70b-8192` in organization `org_01hws2sr5re278wrjr440pk8m8` on tokens per minute (TPM): Limit 6000, Used 11273, Requested 3167. Please try again in 1m24.407s. Visit https://console.groq.com/docs/rate-limits for more information.', 'type': 'tokens', 'code': 'rate_limit_exceeded'}}.\n"
          ]
        },
        {
          "output_type": "stream",
          "name": "stdout",
          "text": [
            "\u001b[1;3;38;5;200mRetrieved node with id, entering: node_0\n",
            "\u001b[0m\u001b[1;3;34mRetrieving with query id node_0: Quais são os campi do IFSP?\n",
            "\u001b[0m\u001b[1;3;38;5;200mRetrieved node with id, entering: node_47\n",
            "\u001b[0m\u001b[1;3;34mRetrieving with query id node_47: Quais são os campi do IFSP?\n",
            "\u001b[0m\u001b[1;3;38;5;200mRetrieved node with id, entering: node_15\n",
            "\u001b[0m\u001b[1;3;34mRetrieving with query id node_15: Quais são os campi do IFSP?\n",
            "\u001b[0m\u001b[1;3;38;5;200mRetrieved node with id, entering: node_10\n",
            "\u001b[0m\u001b[1;3;34mRetrieving with query id node_10: Quais são os campi do IFSP?\n",
            "\u001b[0m\u001b[1;3;38;5;200mRetrieved node with id, entering: node_53\n",
            "\u001b[0m\u001b[1;3;34mRetrieving with query id node_53: Quais são os campi do IFSP?\n",
            "\u001b[0m"
          ]
        },
        {
          "output_type": "stream",
          "name": "stderr",
          "text": [
            "WARNING:llama_index.llms.openai.utils:Retrying llama_index.llms.openai.base.OpenAI._chat in 1.3592669450568795 seconds as it raised RateLimitError: Error code: 429 - {'error': {'message': 'Rate limit reached for model `llama3-70b-8192` in organization `org_01hws2sr5re278wrjr440pk8m8` on tokens per minute (TPM): Limit 6000, Used 11246, Requested 3167. Please try again in 1m24.137999999s. Visit https://console.groq.com/docs/rate-limits for more information.', 'type': 'tokens', 'code': 'rate_limit_exceeded'}}.\n"
          ]
        },
        {
          "output_type": "stream",
          "name": "stdout",
          "text": [
            "Failed to parse retry-after duration: Expecting value: line 1 column 1 (char 0)\n",
            "Rate limit reached. Retrying in 2.09 seconds...\n"
          ]
        },
        {
          "output_type": "stream",
          "name": "stderr",
          "text": [
            "\r 33%|███▎      | 1/3 [00:12<00:25, 12.95s/it]"
          ]
        },
        {
          "output_type": "stream",
          "name": "stdout",
          "text": [
            "Generated an exception: Max retries exceeded\n"
          ]
        },
        {
          "output_type": "stream",
          "name": "stderr",
          "text": [
            "WARNING:llama_index.llms.openai.utils:Retrying llama_index.llms.openai.base.OpenAI._chat in 0.2819622399659898 seconds as it raised RateLimitError: Error code: 429 - {'error': {'message': 'Rate limit reached for model `llama3-70b-8192` in organization `org_01hws2sr5re278wrjr440pk8m8` on tokens per minute (TPM): Limit 6000, Used 10716, Requested 3505. Please try again in 1m22.214s. Visit https://console.groq.com/docs/rate-limits for more information.', 'type': 'tokens', 'code': 'rate_limit_exceeded'}}.\n",
            "WARNING:llama_index.llms.openai.utils:Retrying llama_index.llms.openai.base.OpenAI._chat in 0.679388703266804 seconds as it raised RateLimitError: Error code: 429 - {'error': {'message': 'Rate limit reached for model `llama3-70b-8192` in organization `org_01hws2sr5re278wrjr440pk8m8` on tokens per minute (TPM): Limit 6000, Used 10680, Requested 3505. Please try again in 1m21.859s. Visit https://console.groq.com/docs/rate-limits for more information.', 'type': 'tokens', 'code': 'rate_limit_exceeded'}}.\n"
          ]
        },
        {
          "output_type": "stream",
          "name": "stdout",
          "text": [
            "Failed to parse retry-after duration: Expecting value: line 1 column 1 (char 0)\n",
            "Rate limit reached. Retrying in 1.86 seconds...\n",
            "\u001b[1;3;34mRetrieving with query id None: Quantos campi o IFSP tem? Informe onde você encontrou essa informação\n",
            "\u001b[0m"
          ]
        },
        {
          "output_type": "stream",
          "name": "stderr",
          "text": [
            "WARNING:llama_index.llms.openai.utils:Retrying llama_index.llms.openai.base.OpenAI._chat in 0.7382293299232302 seconds as it raised RateLimitError: Error code: 429 - {'error': {'message': 'Rate limit reached for model `llama3-70b-8192` in organization `org_01hws2sr5re278wrjr440pk8m8` on tokens per minute (TPM): Limit 6000, Used 10380, Requested 3211. Please try again in 1m15.914s. Visit https://console.groq.com/docs/rate-limits for more information.', 'type': 'tokens', 'code': 'rate_limit_exceeded'}}.\n"
          ]
        },
        {
          "output_type": "stream",
          "name": "stdout",
          "text": [
            "\u001b[1;3;38;5;200mRetrieved node with id, entering: node_0\n",
            "\u001b[0m\u001b[1;3;34mRetrieving with query id node_0: Quantos campi o IFSP tem? Informe onde você encontrou essa informação\n",
            "\u001b[0m\u001b[1;3;38;5;200mRetrieved node with id, entering: node_75\n",
            "\u001b[0m\u001b[1;3;34mRetrieving with query id node_75: Quantos campi o IFSP tem? Informe onde você encontrou essa informação\n",
            "\u001b[0m\u001b[1;3;38;5;200mRetrieved node with id, entering: node_47\n",
            "\u001b[0m\u001b[1;3;34mRetrieving with query id node_47: Quantos campi o IFSP tem? Informe onde você encontrou essa informação\n",
            "\u001b[0m\u001b[1;3;38;5;200mRetrieved node with id, entering: node_53\n",
            "\u001b[0m\u001b[1;3;34mRetrieving with query id node_53: Quantos campi o IFSP tem? Informe onde você encontrou essa informação\n",
            "\u001b[0m"
          ]
        },
        {
          "output_type": "stream",
          "name": "stderr",
          "text": [
            "WARNING:llama_index.llms.openai.utils:Retrying llama_index.llms.openai.base.OpenAI._chat in 0.4068954811326275 seconds as it raised RateLimitError: Error code: 429 - {'error': {'message': 'Rate limit reached for model `llama3-70b-8192` in organization `org_01hws2sr5re278wrjr440pk8m8` on tokens per minute (TPM): Limit 6000, Used 10300, Requested 3211. Please try again in 1m15.112s. Visit https://console.groq.com/docs/rate-limits for more information.', 'type': 'tokens', 'code': 'rate_limit_exceeded'}}.\n"
          ]
        },
        {
          "output_type": "stream",
          "name": "stdout",
          "text": [
            "Failed to parse retry-after duration: Expecting value: line 1 column 1 (char 0)\n",
            "Rate limit reached. Retrying in 2.89 seconds...\n"
          ]
        },
        {
          "output_type": "stream",
          "name": "stderr",
          "text": [
            "\r 67%|██████▋   | 2/3 [00:22<00:10, 10.81s/it]"
          ]
        },
        {
          "output_type": "stream",
          "name": "stdout",
          "text": [
            "Generated an exception: Max retries exceeded\n"
          ]
        },
        {
          "output_type": "stream",
          "name": "stderr",
          "text": [
            "100%|██████████| 3/3 [03:28<00:00, 69.43s/it]\n"
          ]
        },
        {
          "output_type": "execute_result",
          "data": {
            "text/plain": [
              "               question                                       ground_truth  \\\n",
              "0  Qual o nome do IFSP?  Instituto Federal de Educação, Ciência e Tecno...   \n",
              "\n",
              "                                              answer  \\\n",
              "0  O nome do IFSP é o Instituto Federal de Educaç...   \n",
              "\n",
              "                                            contexts  faithfulness  \\\n",
              "0  [Fonte: Estatuto, TÍTULO II - DA GESTÃO, CAPÍT...           1.0   \n",
              "\n",
              "  faithfulness_feedback  relevancy relevancy_feedback  correctness  \\\n",
              "0                   YES        1.0                YES          5.0   \n",
              "\n",
              "                                correctness_feedback  \n",
              "0  The generated answer is fully correct and rele...  "
            ],
            "text/html": [
              "\n",
              "  <div id=\"df-d49a2421-9ff6-4fa6-b668-87626eba941f\" class=\"colab-df-container\">\n",
              "    <div>\n",
              "<style scoped>\n",
              "    .dataframe tbody tr th:only-of-type {\n",
              "        vertical-align: middle;\n",
              "    }\n",
              "\n",
              "    .dataframe tbody tr th {\n",
              "        vertical-align: top;\n",
              "    }\n",
              "\n",
              "    .dataframe thead th {\n",
              "        text-align: right;\n",
              "    }\n",
              "</style>\n",
              "<table border=\"1\" class=\"dataframe\">\n",
              "  <thead>\n",
              "    <tr style=\"text-align: right;\">\n",
              "      <th></th>\n",
              "      <th>question</th>\n",
              "      <th>ground_truth</th>\n",
              "      <th>answer</th>\n",
              "      <th>contexts</th>\n",
              "      <th>faithfulness</th>\n",
              "      <th>faithfulness_feedback</th>\n",
              "      <th>relevancy</th>\n",
              "      <th>relevancy_feedback</th>\n",
              "      <th>correctness</th>\n",
              "      <th>correctness_feedback</th>\n",
              "    </tr>\n",
              "  </thead>\n",
              "  <tbody>\n",
              "    <tr>\n",
              "      <th>0</th>\n",
              "      <td>Qual o nome do IFSP?</td>\n",
              "      <td>Instituto Federal de Educação, Ciência e Tecno...</td>\n",
              "      <td>O nome do IFSP é o Instituto Federal de Educaç...</td>\n",
              "      <td>[Fonte: Estatuto, TÍTULO II - DA GESTÃO, CAPÍT...</td>\n",
              "      <td>1.0</td>\n",
              "      <td>YES</td>\n",
              "      <td>1.0</td>\n",
              "      <td>YES</td>\n",
              "      <td>5.0</td>\n",
              "      <td>The generated answer is fully correct and rele...</td>\n",
              "    </tr>\n",
              "  </tbody>\n",
              "</table>\n",
              "</div>\n",
              "    <div class=\"colab-df-buttons\">\n",
              "\n",
              "  <div class=\"colab-df-container\">\n",
              "    <button class=\"colab-df-convert\" onclick=\"convertToInteractive('df-d49a2421-9ff6-4fa6-b668-87626eba941f')\"\n",
              "            title=\"Convert this dataframe to an interactive table.\"\n",
              "            style=\"display:none;\">\n",
              "\n",
              "  <svg xmlns=\"http://www.w3.org/2000/svg\" height=\"24px\" viewBox=\"0 -960 960 960\">\n",
              "    <path d=\"M120-120v-720h720v720H120Zm60-500h600v-160H180v160Zm220 220h160v-160H400v160Zm0 220h160v-160H400v160ZM180-400h160v-160H180v160Zm440 0h160v-160H620v160ZM180-180h160v-160H180v160Zm440 0h160v-160H620v160Z\"/>\n",
              "  </svg>\n",
              "    </button>\n",
              "\n",
              "  <style>\n",
              "    .colab-df-container {\n",
              "      display:flex;\n",
              "      gap: 12px;\n",
              "    }\n",
              "\n",
              "    .colab-df-convert {\n",
              "      background-color: #E8F0FE;\n",
              "      border: none;\n",
              "      border-radius: 50%;\n",
              "      cursor: pointer;\n",
              "      display: none;\n",
              "      fill: #1967D2;\n",
              "      height: 32px;\n",
              "      padding: 0 0 0 0;\n",
              "      width: 32px;\n",
              "    }\n",
              "\n",
              "    .colab-df-convert:hover {\n",
              "      background-color: #E2EBFA;\n",
              "      box-shadow: 0px 1px 2px rgba(60, 64, 67, 0.3), 0px 1px 3px 1px rgba(60, 64, 67, 0.15);\n",
              "      fill: #174EA6;\n",
              "    }\n",
              "\n",
              "    .colab-df-buttons div {\n",
              "      margin-bottom: 4px;\n",
              "    }\n",
              "\n",
              "    [theme=dark] .colab-df-convert {\n",
              "      background-color: #3B4455;\n",
              "      fill: #D2E3FC;\n",
              "    }\n",
              "\n",
              "    [theme=dark] .colab-df-convert:hover {\n",
              "      background-color: #434B5C;\n",
              "      box-shadow: 0px 1px 3px 1px rgba(0, 0, 0, 0.15);\n",
              "      filter: drop-shadow(0px 1px 2px rgba(0, 0, 0, 0.3));\n",
              "      fill: #FFFFFF;\n",
              "    }\n",
              "  </style>\n",
              "\n",
              "    <script>\n",
              "      const buttonEl =\n",
              "        document.querySelector('#df-d49a2421-9ff6-4fa6-b668-87626eba941f button.colab-df-convert');\n",
              "      buttonEl.style.display =\n",
              "        google.colab.kernel.accessAllowed ? 'block' : 'none';\n",
              "\n",
              "      async function convertToInteractive(key) {\n",
              "        const element = document.querySelector('#df-d49a2421-9ff6-4fa6-b668-87626eba941f');\n",
              "        const dataTable =\n",
              "          await google.colab.kernel.invokeFunction('convertToInteractive',\n",
              "                                                    [key], {});\n",
              "        if (!dataTable) return;\n",
              "\n",
              "        const docLinkHtml = 'Like what you see? Visit the ' +\n",
              "          '<a target=\"_blank\" href=https://colab.research.google.com/notebooks/data_table.ipynb>data table notebook</a>'\n",
              "          + ' to learn more about interactive tables.';\n",
              "        element.innerHTML = '';\n",
              "        dataTable['output_type'] = 'display_data';\n",
              "        await google.colab.output.renderOutput(dataTable, element);\n",
              "        const docLink = document.createElement('div');\n",
              "        docLink.innerHTML = docLinkHtml;\n",
              "        element.appendChild(docLink);\n",
              "      }\n",
              "    </script>\n",
              "  </div>\n",
              "\n",
              "\n",
              "  <div id=\"id_fabb8437-9789-463c-b815-eec41ea30bbb\">\n",
              "    <style>\n",
              "      .colab-df-generate {\n",
              "        background-color: #E8F0FE;\n",
              "        border: none;\n",
              "        border-radius: 50%;\n",
              "        cursor: pointer;\n",
              "        display: none;\n",
              "        fill: #1967D2;\n",
              "        height: 32px;\n",
              "        padding: 0 0 0 0;\n",
              "        width: 32px;\n",
              "      }\n",
              "\n",
              "      .colab-df-generate:hover {\n",
              "        background-color: #E2EBFA;\n",
              "        box-shadow: 0px 1px 2px rgba(60, 64, 67, 0.3), 0px 1px 3px 1px rgba(60, 64, 67, 0.15);\n",
              "        fill: #174EA6;\n",
              "      }\n",
              "\n",
              "      [theme=dark] .colab-df-generate {\n",
              "        background-color: #3B4455;\n",
              "        fill: #D2E3FC;\n",
              "      }\n",
              "\n",
              "      [theme=dark] .colab-df-generate:hover {\n",
              "        background-color: #434B5C;\n",
              "        box-shadow: 0px 1px 3px 1px rgba(0, 0, 0, 0.15);\n",
              "        filter: drop-shadow(0px 1px 2px rgba(0, 0, 0, 0.3));\n",
              "        fill: #FFFFFF;\n",
              "      }\n",
              "    </style>\n",
              "    <button class=\"colab-df-generate\" onclick=\"generateWithVariable('df')\"\n",
              "            title=\"Generate code using this dataframe.\"\n",
              "            style=\"display:none;\">\n",
              "\n",
              "  <svg xmlns=\"http://www.w3.org/2000/svg\" height=\"24px\"viewBox=\"0 0 24 24\"\n",
              "       width=\"24px\">\n",
              "    <path d=\"M7,19H8.4L18.45,9,17,7.55,7,17.6ZM5,21V16.75L18.45,3.32a2,2,0,0,1,2.83,0l1.4,1.43a1.91,1.91,0,0,1,.58,1.4,1.91,1.91,0,0,1-.58,1.4L9.25,21ZM18.45,9,17,7.55Zm-12,3A5.31,5.31,0,0,0,4.9,8.1,5.31,5.31,0,0,0,1,6.5,5.31,5.31,0,0,0,4.9,4.9,5.31,5.31,0,0,0,6.5,1,5.31,5.31,0,0,0,8.1,4.9,5.31,5.31,0,0,0,12,6.5,5.46,5.46,0,0,0,6.5,12Z\"/>\n",
              "  </svg>\n",
              "    </button>\n",
              "    <script>\n",
              "      (() => {\n",
              "      const buttonEl =\n",
              "        document.querySelector('#id_fabb8437-9789-463c-b815-eec41ea30bbb button.colab-df-generate');\n",
              "      buttonEl.style.display =\n",
              "        google.colab.kernel.accessAllowed ? 'block' : 'none';\n",
              "\n",
              "      buttonEl.onclick = () => {\n",
              "        google.colab.notebook.generateWithVariable('df');\n",
              "      }\n",
              "      })();\n",
              "    </script>\n",
              "  </div>\n",
              "\n",
              "    </div>\n",
              "  </div>\n"
            ],
            "application/vnd.google.colaboratory.intrinsic+json": {
              "type": "dataframe",
              "variable_name": "df",
              "summary": "{\n  \"name\": \"df\",\n  \"rows\": 1,\n  \"fields\": [\n    {\n      \"column\": \"question\",\n      \"properties\": {\n        \"dtype\": \"string\",\n        \"num_unique_values\": 1,\n        \"samples\": [\n          \"Qual o nome do IFSP?\"\n        ],\n        \"semantic_type\": \"\",\n        \"description\": \"\"\n      }\n    },\n    {\n      \"column\": \"ground_truth\",\n      \"properties\": {\n        \"dtype\": \"string\",\n        \"num_unique_values\": 1,\n        \"samples\": [\n          \"Instituto Federal de Educa\\u00e7\\u00e3o, Ci\\u00eancia e Tecnologia de S\\u00e3o Paulo.  Refer\\u00eancia: Estatuto, T\\u00edtulo I, Cap\\u00edtulo I, Art. 1\\u00ba\"\n        ],\n        \"semantic_type\": \"\",\n        \"description\": \"\"\n      }\n    },\n    {\n      \"column\": \"answer\",\n      \"properties\": {\n        \"dtype\": \"string\",\n        \"num_unique_values\": 1,\n        \"samples\": [\n          \"O nome do IFSP \\u00e9 o Instituto Federal de Educa\\u00e7\\u00e3o, Ci\\u00eancia e Tecnologia de S\\u00e3o Paulo.\\n\\nFonte: Documento \\\"Estatuto\\\", T\\u00edtulo \\\"T\\u00cdTULO I - DA INSTITUI\\u00c7\\u00c3O\\\", Cap\\u00edtulo \\\"CAP\\u00cdTULO I DA NATUREZA E DAS FINALIDADES\\\", Art. 1\\u00ba.\"\n        ],\n        \"semantic_type\": \"\",\n        \"description\": \"\"\n      }\n    },\n    {\n      \"column\": \"contexts\",\n      \"properties\": {\n        \"dtype\": \"object\",\n        \"semantic_type\": \"\",\n        \"description\": \"\"\n      }\n    },\n    {\n      \"column\": \"faithfulness\",\n      \"properties\": {\n        \"dtype\": \"number\",\n        \"std\": null,\n        \"min\": 1.0,\n        \"max\": 1.0,\n        \"num_unique_values\": 1,\n        \"samples\": [\n          1.0\n        ],\n        \"semantic_type\": \"\",\n        \"description\": \"\"\n      }\n    },\n    {\n      \"column\": \"faithfulness_feedback\",\n      \"properties\": {\n        \"dtype\": \"string\",\n        \"num_unique_values\": 1,\n        \"samples\": [\n          \"YES\"\n        ],\n        \"semantic_type\": \"\",\n        \"description\": \"\"\n      }\n    },\n    {\n      \"column\": \"relevancy\",\n      \"properties\": {\n        \"dtype\": \"number\",\n        \"std\": null,\n        \"min\": 1.0,\n        \"max\": 1.0,\n        \"num_unique_values\": 1,\n        \"samples\": [\n          1.0\n        ],\n        \"semantic_type\": \"\",\n        \"description\": \"\"\n      }\n    },\n    {\n      \"column\": \"relevancy_feedback\",\n      \"properties\": {\n        \"dtype\": \"string\",\n        \"num_unique_values\": 1,\n        \"samples\": [\n          \"YES\"\n        ],\n        \"semantic_type\": \"\",\n        \"description\": \"\"\n      }\n    },\n    {\n      \"column\": \"correctness\",\n      \"properties\": {\n        \"dtype\": \"number\",\n        \"std\": null,\n        \"min\": 5.0,\n        \"max\": 5.0,\n        \"num_unique_values\": 1,\n        \"samples\": [\n          5.0\n        ],\n        \"semantic_type\": \"\",\n        \"description\": \"\"\n      }\n    },\n    {\n      \"column\": \"correctness_feedback\",\n      \"properties\": {\n        \"dtype\": \"string\",\n        \"num_unique_values\": 1,\n        \"samples\": [\n          \"The generated answer is fully correct and relevant to the user query, providing the exact name of IFSP and even citing the same reference as the reference answer, making it a perfect match.\"\n        ],\n        \"semantic_type\": \"\",\n        \"description\": \"\"\n      }\n    }\n  ]\n}"
            }
          },
          "metadata": {},
          "execution_count": 53
        }
      ]
    },
    {
      "cell_type": "code",
      "source": [
        "all_no"
      ],
      "metadata": {
        "id": "BzXiUvF6DveI"
      },
      "execution_count": null,
      "outputs": []
    }
  ],
  "metadata": {
    "colab": {
      "provenance": []
    },
    "kernelspec": {
      "display_name": "Python 3",
      "name": "python3"
    },
    "language_info": {
      "name": "python"
    },
    "widgets": {
      "application/vnd.jupyter.widget-state+json": {
        "4ed5f5f19e3a44729c870924ae58e64f": {
          "model_module": "@jupyter-widgets/controls",
          "model_name": "HBoxModel",
          "model_module_version": "1.5.0",
          "state": {
            "_dom_classes": [],
            "_model_module": "@jupyter-widgets/controls",
            "_model_module_version": "1.5.0",
            "_model_name": "HBoxModel",
            "_view_count": null,
            "_view_module": "@jupyter-widgets/controls",
            "_view_module_version": "1.5.0",
            "_view_name": "HBoxView",
            "box_style": "",
            "children": [
              "IPY_MODEL_35fdbd77f27d405e807c1d1b4572a3e3",
              "IPY_MODEL_f78ed82518084a4cbb919ef80135658b",
              "IPY_MODEL_353fab731e9f4af78211d66b84225f9b"
            ],
            "layout": "IPY_MODEL_323e5c1c084646caa80a4df1ef14abe8"
          }
        },
        "35fdbd77f27d405e807c1d1b4572a3e3": {
          "model_module": "@jupyter-widgets/controls",
          "model_name": "HTMLModel",
          "model_module_version": "1.5.0",
          "state": {
            "_dom_classes": [],
            "_model_module": "@jupyter-widgets/controls",
            "_model_module_version": "1.5.0",
            "_model_name": "HTMLModel",
            "_view_count": null,
            "_view_module": "@jupyter-widgets/controls",
            "_view_module_version": "1.5.0",
            "_view_name": "HTMLView",
            "description": "",
            "description_tooltip": null,
            "layout": "IPY_MODEL_c7f5b4cfbfe24be09840f910e278dc22",
            "placeholder": "​",
            "style": "IPY_MODEL_1c3c5a29c7be46aeaf031add5f566e06",
            "value": "Scoring...: 100%"
          }
        },
        "f78ed82518084a4cbb919ef80135658b": {
          "model_module": "@jupyter-widgets/controls",
          "model_name": "FloatProgressModel",
          "model_module_version": "1.5.0",
          "state": {
            "_dom_classes": [],
            "_model_module": "@jupyter-widgets/controls",
            "_model_module_version": "1.5.0",
            "_model_name": "FloatProgressModel",
            "_view_count": null,
            "_view_module": "@jupyter-widgets/controls",
            "_view_module_version": "1.5.0",
            "_view_name": "ProgressView",
            "bar_style": "success",
            "description": "",
            "description_tooltip": null,
            "layout": "IPY_MODEL_57cbc9d08e7b4b52a37f8d13f7ca3aa9",
            "max": 1,
            "min": 0,
            "orientation": "horizontal",
            "style": "IPY_MODEL_43ba8d0a051648bc9962e6adae0ac773",
            "value": 1
          }
        },
        "353fab731e9f4af78211d66b84225f9b": {
          "model_module": "@jupyter-widgets/controls",
          "model_name": "HTMLModel",
          "model_module_version": "1.5.0",
          "state": {
            "_dom_classes": [],
            "_model_module": "@jupyter-widgets/controls",
            "_model_module_version": "1.5.0",
            "_model_name": "HTMLModel",
            "_view_count": null,
            "_view_module": "@jupyter-widgets/controls",
            "_view_module_version": "1.5.0",
            "_view_name": "HTMLView",
            "description": "",
            "description_tooltip": null,
            "layout": "IPY_MODEL_b023745bcbf9497cadda8e6c44073890",
            "placeholder": "​",
            "style": "IPY_MODEL_1377517d17b2452d975b3630b9652a90",
            "value": " 1/1 [00:56&lt;00:00, 56.50s/it]"
          }
        },
        "323e5c1c084646caa80a4df1ef14abe8": {
          "model_module": "@jupyter-widgets/base",
          "model_name": "LayoutModel",
          "model_module_version": "1.2.0",
          "state": {
            "_model_module": "@jupyter-widgets/base",
            "_model_module_version": "1.2.0",
            "_model_name": "LayoutModel",
            "_view_count": null,
            "_view_module": "@jupyter-widgets/base",
            "_view_module_version": "1.2.0",
            "_view_name": "LayoutView",
            "align_content": null,
            "align_items": null,
            "align_self": null,
            "border": null,
            "bottom": null,
            "display": null,
            "flex": null,
            "flex_flow": null,
            "grid_area": null,
            "grid_auto_columns": null,
            "grid_auto_flow": null,
            "grid_auto_rows": null,
            "grid_column": null,
            "grid_gap": null,
            "grid_row": null,
            "grid_template_areas": null,
            "grid_template_columns": null,
            "grid_template_rows": null,
            "height": null,
            "justify_content": null,
            "justify_items": null,
            "left": null,
            "margin": null,
            "max_height": null,
            "max_width": null,
            "min_height": null,
            "min_width": null,
            "object_fit": null,
            "object_position": null,
            "order": null,
            "overflow": null,
            "overflow_x": null,
            "overflow_y": null,
            "padding": null,
            "right": null,
            "top": null,
            "visibility": null,
            "width": null
          }
        },
        "c7f5b4cfbfe24be09840f910e278dc22": {
          "model_module": "@jupyter-widgets/base",
          "model_name": "LayoutModel",
          "model_module_version": "1.2.0",
          "state": {
            "_model_module": "@jupyter-widgets/base",
            "_model_module_version": "1.2.0",
            "_model_name": "LayoutModel",
            "_view_count": null,
            "_view_module": "@jupyter-widgets/base",
            "_view_module_version": "1.2.0",
            "_view_name": "LayoutView",
            "align_content": null,
            "align_items": null,
            "align_self": null,
            "border": null,
            "bottom": null,
            "display": null,
            "flex": null,
            "flex_flow": null,
            "grid_area": null,
            "grid_auto_columns": null,
            "grid_auto_flow": null,
            "grid_auto_rows": null,
            "grid_column": null,
            "grid_gap": null,
            "grid_row": null,
            "grid_template_areas": null,
            "grid_template_columns": null,
            "grid_template_rows": null,
            "height": null,
            "justify_content": null,
            "justify_items": null,
            "left": null,
            "margin": null,
            "max_height": null,
            "max_width": null,
            "min_height": null,
            "min_width": null,
            "object_fit": null,
            "object_position": null,
            "order": null,
            "overflow": null,
            "overflow_x": null,
            "overflow_y": null,
            "padding": null,
            "right": null,
            "top": null,
            "visibility": null,
            "width": null
          }
        },
        "1c3c5a29c7be46aeaf031add5f566e06": {
          "model_module": "@jupyter-widgets/controls",
          "model_name": "DescriptionStyleModel",
          "model_module_version": "1.5.0",
          "state": {
            "_model_module": "@jupyter-widgets/controls",
            "_model_module_version": "1.5.0",
            "_model_name": "DescriptionStyleModel",
            "_view_count": null,
            "_view_module": "@jupyter-widgets/base",
            "_view_module_version": "1.2.0",
            "_view_name": "StyleView",
            "description_width": ""
          }
        },
        "57cbc9d08e7b4b52a37f8d13f7ca3aa9": {
          "model_module": "@jupyter-widgets/base",
          "model_name": "LayoutModel",
          "model_module_version": "1.2.0",
          "state": {
            "_model_module": "@jupyter-widgets/base",
            "_model_module_version": "1.2.0",
            "_model_name": "LayoutModel",
            "_view_count": null,
            "_view_module": "@jupyter-widgets/base",
            "_view_module_version": "1.2.0",
            "_view_name": "LayoutView",
            "align_content": null,
            "align_items": null,
            "align_self": null,
            "border": null,
            "bottom": null,
            "display": null,
            "flex": null,
            "flex_flow": null,
            "grid_area": null,
            "grid_auto_columns": null,
            "grid_auto_flow": null,
            "grid_auto_rows": null,
            "grid_column": null,
            "grid_gap": null,
            "grid_row": null,
            "grid_template_areas": null,
            "grid_template_columns": null,
            "grid_template_rows": null,
            "height": null,
            "justify_content": null,
            "justify_items": null,
            "left": null,
            "margin": null,
            "max_height": null,
            "max_width": null,
            "min_height": null,
            "min_width": null,
            "object_fit": null,
            "object_position": null,
            "order": null,
            "overflow": null,
            "overflow_x": null,
            "overflow_y": null,
            "padding": null,
            "right": null,
            "top": null,
            "visibility": null,
            "width": null
          }
        },
        "43ba8d0a051648bc9962e6adae0ac773": {
          "model_module": "@jupyter-widgets/controls",
          "model_name": "ProgressStyleModel",
          "model_module_version": "1.5.0",
          "state": {
            "_model_module": "@jupyter-widgets/controls",
            "_model_module_version": "1.5.0",
            "_model_name": "ProgressStyleModel",
            "_view_count": null,
            "_view_module": "@jupyter-widgets/base",
            "_view_module_version": "1.2.0",
            "_view_name": "StyleView",
            "bar_color": null,
            "description_width": ""
          }
        },
        "b023745bcbf9497cadda8e6c44073890": {
          "model_module": "@jupyter-widgets/base",
          "model_name": "LayoutModel",
          "model_module_version": "1.2.0",
          "state": {
            "_model_module": "@jupyter-widgets/base",
            "_model_module_version": "1.2.0",
            "_model_name": "LayoutModel",
            "_view_count": null,
            "_view_module": "@jupyter-widgets/base",
            "_view_module_version": "1.2.0",
            "_view_name": "LayoutView",
            "align_content": null,
            "align_items": null,
            "align_self": null,
            "border": null,
            "bottom": null,
            "display": null,
            "flex": null,
            "flex_flow": null,
            "grid_area": null,
            "grid_auto_columns": null,
            "grid_auto_flow": null,
            "grid_auto_rows": null,
            "grid_column": null,
            "grid_gap": null,
            "grid_row": null,
            "grid_template_areas": null,
            "grid_template_columns": null,
            "grid_template_rows": null,
            "height": null,
            "justify_content": null,
            "justify_items": null,
            "left": null,
            "margin": null,
            "max_height": null,
            "max_width": null,
            "min_height": null,
            "min_width": null,
            "object_fit": null,
            "object_position": null,
            "order": null,
            "overflow": null,
            "overflow_x": null,
            "overflow_y": null,
            "padding": null,
            "right": null,
            "top": null,
            "visibility": null,
            "width": null
          }
        },
        "1377517d17b2452d975b3630b9652a90": {
          "model_module": "@jupyter-widgets/controls",
          "model_name": "DescriptionStyleModel",
          "model_module_version": "1.5.0",
          "state": {
            "_model_module": "@jupyter-widgets/controls",
            "_model_module_version": "1.5.0",
            "_model_name": "DescriptionStyleModel",
            "_view_count": null,
            "_view_module": "@jupyter-widgets/base",
            "_view_module_version": "1.2.0",
            "_view_name": "StyleView",
            "description_width": ""
          }
        },
        "66926458848241c2bb3f978b3fd07d92": {
          "model_module": "@jupyter-widgets/controls",
          "model_name": "HBoxModel",
          "model_module_version": "1.5.0",
          "state": {
            "_dom_classes": [],
            "_model_module": "@jupyter-widgets/controls",
            "_model_module_version": "1.5.0",
            "_model_name": "HBoxModel",
            "_view_count": null,
            "_view_module": "@jupyter-widgets/controls",
            "_view_module_version": "1.5.0",
            "_view_name": "HBoxView",
            "box_style": "",
            "children": [
              "IPY_MODEL_1f5d7a15ea0b4508a4bc041fda4bebe3",
              "IPY_MODEL_49cd180189e545a2bae8902bf5f000e8",
              "IPY_MODEL_7392490bba7e4ff5acd817365ba3e727"
            ],
            "layout": "IPY_MODEL_23b3bde6ca5d4098a65087ad1c677337"
          }
        },
        "1f5d7a15ea0b4508a4bc041fda4bebe3": {
          "model_module": "@jupyter-widgets/controls",
          "model_name": "HTMLModel",
          "model_module_version": "1.5.0",
          "state": {
            "_dom_classes": [],
            "_model_module": "@jupyter-widgets/controls",
            "_model_module_version": "1.5.0",
            "_model_name": "HTMLModel",
            "_view_count": null,
            "_view_module": "@jupyter-widgets/controls",
            "_view_module_version": "1.5.0",
            "_view_name": "HTMLView",
            "description": "",
            "description_tooltip": null,
            "layout": "IPY_MODEL_6b283d8b8b1d4f6f8d9107571de9f4ca",
            "placeholder": "​",
            "style": "IPY_MODEL_256c796d6f8e4e6aaca736407a7439da",
            "value": "Scoring...: 100%"
          }
        },
        "49cd180189e545a2bae8902bf5f000e8": {
          "model_module": "@jupyter-widgets/controls",
          "model_name": "FloatProgressModel",
          "model_module_version": "1.5.0",
          "state": {
            "_dom_classes": [],
            "_model_module": "@jupyter-widgets/controls",
            "_model_module_version": "1.5.0",
            "_model_name": "FloatProgressModel",
            "_view_count": null,
            "_view_module": "@jupyter-widgets/controls",
            "_view_module_version": "1.5.0",
            "_view_name": "ProgressView",
            "bar_style": "success",
            "description": "",
            "description_tooltip": null,
            "layout": "IPY_MODEL_e3f9bc64998e43008a285f28345fd98d",
            "max": 1,
            "min": 0,
            "orientation": "horizontal",
            "style": "IPY_MODEL_99ca7146685c4dd6bbb0480d48ad55e7",
            "value": 1
          }
        },
        "7392490bba7e4ff5acd817365ba3e727": {
          "model_module": "@jupyter-widgets/controls",
          "model_name": "HTMLModel",
          "model_module_version": "1.5.0",
          "state": {
            "_dom_classes": [],
            "_model_module": "@jupyter-widgets/controls",
            "_model_module_version": "1.5.0",
            "_model_name": "HTMLModel",
            "_view_count": null,
            "_view_module": "@jupyter-widgets/controls",
            "_view_module_version": "1.5.0",
            "_view_name": "HTMLView",
            "description": "",
            "description_tooltip": null,
            "layout": "IPY_MODEL_b6e437e61c054c54aebee8fa2ec71b61",
            "placeholder": "​",
            "style": "IPY_MODEL_d22dc5487a73488bb200125cfd49af5f",
            "value": " 1/1 [00:31&lt;00:00, 31.68s/it]"
          }
        },
        "23b3bde6ca5d4098a65087ad1c677337": {
          "model_module": "@jupyter-widgets/base",
          "model_name": "LayoutModel",
          "model_module_version": "1.2.0",
          "state": {
            "_model_module": "@jupyter-widgets/base",
            "_model_module_version": "1.2.0",
            "_model_name": "LayoutModel",
            "_view_count": null,
            "_view_module": "@jupyter-widgets/base",
            "_view_module_version": "1.2.0",
            "_view_name": "LayoutView",
            "align_content": null,
            "align_items": null,
            "align_self": null,
            "border": null,
            "bottom": null,
            "display": null,
            "flex": null,
            "flex_flow": null,
            "grid_area": null,
            "grid_auto_columns": null,
            "grid_auto_flow": null,
            "grid_auto_rows": null,
            "grid_column": null,
            "grid_gap": null,
            "grid_row": null,
            "grid_template_areas": null,
            "grid_template_columns": null,
            "grid_template_rows": null,
            "height": null,
            "justify_content": null,
            "justify_items": null,
            "left": null,
            "margin": null,
            "max_height": null,
            "max_width": null,
            "min_height": null,
            "min_width": null,
            "object_fit": null,
            "object_position": null,
            "order": null,
            "overflow": null,
            "overflow_x": null,
            "overflow_y": null,
            "padding": null,
            "right": null,
            "top": null,
            "visibility": null,
            "width": null
          }
        },
        "6b283d8b8b1d4f6f8d9107571de9f4ca": {
          "model_module": "@jupyter-widgets/base",
          "model_name": "LayoutModel",
          "model_module_version": "1.2.0",
          "state": {
            "_model_module": "@jupyter-widgets/base",
            "_model_module_version": "1.2.0",
            "_model_name": "LayoutModel",
            "_view_count": null,
            "_view_module": "@jupyter-widgets/base",
            "_view_module_version": "1.2.0",
            "_view_name": "LayoutView",
            "align_content": null,
            "align_items": null,
            "align_self": null,
            "border": null,
            "bottom": null,
            "display": null,
            "flex": null,
            "flex_flow": null,
            "grid_area": null,
            "grid_auto_columns": null,
            "grid_auto_flow": null,
            "grid_auto_rows": null,
            "grid_column": null,
            "grid_gap": null,
            "grid_row": null,
            "grid_template_areas": null,
            "grid_template_columns": null,
            "grid_template_rows": null,
            "height": null,
            "justify_content": null,
            "justify_items": null,
            "left": null,
            "margin": null,
            "max_height": null,
            "max_width": null,
            "min_height": null,
            "min_width": null,
            "object_fit": null,
            "object_position": null,
            "order": null,
            "overflow": null,
            "overflow_x": null,
            "overflow_y": null,
            "padding": null,
            "right": null,
            "top": null,
            "visibility": null,
            "width": null
          }
        },
        "256c796d6f8e4e6aaca736407a7439da": {
          "model_module": "@jupyter-widgets/controls",
          "model_name": "DescriptionStyleModel",
          "model_module_version": "1.5.0",
          "state": {
            "_model_module": "@jupyter-widgets/controls",
            "_model_module_version": "1.5.0",
            "_model_name": "DescriptionStyleModel",
            "_view_count": null,
            "_view_module": "@jupyter-widgets/base",
            "_view_module_version": "1.2.0",
            "_view_name": "StyleView",
            "description_width": ""
          }
        },
        "e3f9bc64998e43008a285f28345fd98d": {
          "model_module": "@jupyter-widgets/base",
          "model_name": "LayoutModel",
          "model_module_version": "1.2.0",
          "state": {
            "_model_module": "@jupyter-widgets/base",
            "_model_module_version": "1.2.0",
            "_model_name": "LayoutModel",
            "_view_count": null,
            "_view_module": "@jupyter-widgets/base",
            "_view_module_version": "1.2.0",
            "_view_name": "LayoutView",
            "align_content": null,
            "align_items": null,
            "align_self": null,
            "border": null,
            "bottom": null,
            "display": null,
            "flex": null,
            "flex_flow": null,
            "grid_area": null,
            "grid_auto_columns": null,
            "grid_auto_flow": null,
            "grid_auto_rows": null,
            "grid_column": null,
            "grid_gap": null,
            "grid_row": null,
            "grid_template_areas": null,
            "grid_template_columns": null,
            "grid_template_rows": null,
            "height": null,
            "justify_content": null,
            "justify_items": null,
            "left": null,
            "margin": null,
            "max_height": null,
            "max_width": null,
            "min_height": null,
            "min_width": null,
            "object_fit": null,
            "object_position": null,
            "order": null,
            "overflow": null,
            "overflow_x": null,
            "overflow_y": null,
            "padding": null,
            "right": null,
            "top": null,
            "visibility": null,
            "width": null
          }
        },
        "99ca7146685c4dd6bbb0480d48ad55e7": {
          "model_module": "@jupyter-widgets/controls",
          "model_name": "ProgressStyleModel",
          "model_module_version": "1.5.0",
          "state": {
            "_model_module": "@jupyter-widgets/controls",
            "_model_module_version": "1.5.0",
            "_model_name": "ProgressStyleModel",
            "_view_count": null,
            "_view_module": "@jupyter-widgets/base",
            "_view_module_version": "1.2.0",
            "_view_name": "StyleView",
            "bar_color": null,
            "description_width": ""
          }
        },
        "b6e437e61c054c54aebee8fa2ec71b61": {
          "model_module": "@jupyter-widgets/base",
          "model_name": "LayoutModel",
          "model_module_version": "1.2.0",
          "state": {
            "_model_module": "@jupyter-widgets/base",
            "_model_module_version": "1.2.0",
            "_model_name": "LayoutModel",
            "_view_count": null,
            "_view_module": "@jupyter-widgets/base",
            "_view_module_version": "1.2.0",
            "_view_name": "LayoutView",
            "align_content": null,
            "align_items": null,
            "align_self": null,
            "border": null,
            "bottom": null,
            "display": null,
            "flex": null,
            "flex_flow": null,
            "grid_area": null,
            "grid_auto_columns": null,
            "grid_auto_flow": null,
            "grid_auto_rows": null,
            "grid_column": null,
            "grid_gap": null,
            "grid_row": null,
            "grid_template_areas": null,
            "grid_template_columns": null,
            "grid_template_rows": null,
            "height": null,
            "justify_content": null,
            "justify_items": null,
            "left": null,
            "margin": null,
            "max_height": null,
            "max_width": null,
            "min_height": null,
            "min_width": null,
            "object_fit": null,
            "object_position": null,
            "order": null,
            "overflow": null,
            "overflow_x": null,
            "overflow_y": null,
            "padding": null,
            "right": null,
            "top": null,
            "visibility": null,
            "width": null
          }
        },
        "d22dc5487a73488bb200125cfd49af5f": {
          "model_module": "@jupyter-widgets/controls",
          "model_name": "DescriptionStyleModel",
          "model_module_version": "1.5.0",
          "state": {
            "_model_module": "@jupyter-widgets/controls",
            "_model_module_version": "1.5.0",
            "_model_name": "DescriptionStyleModel",
            "_view_count": null,
            "_view_module": "@jupyter-widgets/base",
            "_view_module_version": "1.2.0",
            "_view_name": "StyleView",
            "description_width": ""
          }
        },
        "ae7247ba6a924b43859b0c7b13d181dd": {
          "model_module": "@jupyter-widgets/controls",
          "model_name": "HBoxModel",
          "model_module_version": "1.5.0",
          "state": {
            "_dom_classes": [],
            "_model_module": "@jupyter-widgets/controls",
            "_model_module_version": "1.5.0",
            "_model_name": "HBoxModel",
            "_view_count": null,
            "_view_module": "@jupyter-widgets/controls",
            "_view_module_version": "1.5.0",
            "_view_name": "HBoxView",
            "box_style": "",
            "children": [
              "IPY_MODEL_d582523e255343ddb0008ff2b0d6df0f",
              "IPY_MODEL_a7bab00f92554621b04d667854156725",
              "IPY_MODEL_5c90e91e038b462a9f3ef27ccddc372b"
            ],
            "layout": "IPY_MODEL_ed74d3c615154155b3a2bc91291e9726"
          }
        },
        "d582523e255343ddb0008ff2b0d6df0f": {
          "model_module": "@jupyter-widgets/controls",
          "model_name": "HTMLModel",
          "model_module_version": "1.5.0",
          "state": {
            "_dom_classes": [],
            "_model_module": "@jupyter-widgets/controls",
            "_model_module_version": "1.5.0",
            "_model_name": "HTMLModel",
            "_view_count": null,
            "_view_module": "@jupyter-widgets/controls",
            "_view_module_version": "1.5.0",
            "_view_name": "HTMLView",
            "description": "",
            "description_tooltip": null,
            "layout": "IPY_MODEL_188e10c98a2448e0877a31e571e651e8",
            "placeholder": "​",
            "style": "IPY_MODEL_02753a8b1066451998dd82f3c72315f0",
            "value": "Scoring...: 100%"
          }
        },
        "a7bab00f92554621b04d667854156725": {
          "model_module": "@jupyter-widgets/controls",
          "model_name": "FloatProgressModel",
          "model_module_version": "1.5.0",
          "state": {
            "_dom_classes": [],
            "_model_module": "@jupyter-widgets/controls",
            "_model_module_version": "1.5.0",
            "_model_name": "FloatProgressModel",
            "_view_count": null,
            "_view_module": "@jupyter-widgets/controls",
            "_view_module_version": "1.5.0",
            "_view_name": "ProgressView",
            "bar_style": "success",
            "description": "",
            "description_tooltip": null,
            "layout": "IPY_MODEL_0fbf8530404f47dd8f14092b6fbaa683",
            "max": 1,
            "min": 0,
            "orientation": "horizontal",
            "style": "IPY_MODEL_948dd5760f9649079e75d3439bc5960d",
            "value": 1
          }
        },
        "5c90e91e038b462a9f3ef27ccddc372b": {
          "model_module": "@jupyter-widgets/controls",
          "model_name": "HTMLModel",
          "model_module_version": "1.5.0",
          "state": {
            "_dom_classes": [],
            "_model_module": "@jupyter-widgets/controls",
            "_model_module_version": "1.5.0",
            "_model_name": "HTMLModel",
            "_view_count": null,
            "_view_module": "@jupyter-widgets/controls",
            "_view_module_version": "1.5.0",
            "_view_name": "HTMLView",
            "description": "",
            "description_tooltip": null,
            "layout": "IPY_MODEL_d70d88131b794cf08b4ddd14e5564c5f",
            "placeholder": "​",
            "style": "IPY_MODEL_78587cd747164cb5a2412c65d2e95c92",
            "value": " 1/1 [00:24&lt;00:00, 24.42s/it]"
          }
        },
        "ed74d3c615154155b3a2bc91291e9726": {
          "model_module": "@jupyter-widgets/base",
          "model_name": "LayoutModel",
          "model_module_version": "1.2.0",
          "state": {
            "_model_module": "@jupyter-widgets/base",
            "_model_module_version": "1.2.0",
            "_model_name": "LayoutModel",
            "_view_count": null,
            "_view_module": "@jupyter-widgets/base",
            "_view_module_version": "1.2.0",
            "_view_name": "LayoutView",
            "align_content": null,
            "align_items": null,
            "align_self": null,
            "border": null,
            "bottom": null,
            "display": null,
            "flex": null,
            "flex_flow": null,
            "grid_area": null,
            "grid_auto_columns": null,
            "grid_auto_flow": null,
            "grid_auto_rows": null,
            "grid_column": null,
            "grid_gap": null,
            "grid_row": null,
            "grid_template_areas": null,
            "grid_template_columns": null,
            "grid_template_rows": null,
            "height": null,
            "justify_content": null,
            "justify_items": null,
            "left": null,
            "margin": null,
            "max_height": null,
            "max_width": null,
            "min_height": null,
            "min_width": null,
            "object_fit": null,
            "object_position": null,
            "order": null,
            "overflow": null,
            "overflow_x": null,
            "overflow_y": null,
            "padding": null,
            "right": null,
            "top": null,
            "visibility": null,
            "width": null
          }
        },
        "188e10c98a2448e0877a31e571e651e8": {
          "model_module": "@jupyter-widgets/base",
          "model_name": "LayoutModel",
          "model_module_version": "1.2.0",
          "state": {
            "_model_module": "@jupyter-widgets/base",
            "_model_module_version": "1.2.0",
            "_model_name": "LayoutModel",
            "_view_count": null,
            "_view_module": "@jupyter-widgets/base",
            "_view_module_version": "1.2.0",
            "_view_name": "LayoutView",
            "align_content": null,
            "align_items": null,
            "align_self": null,
            "border": null,
            "bottom": null,
            "display": null,
            "flex": null,
            "flex_flow": null,
            "grid_area": null,
            "grid_auto_columns": null,
            "grid_auto_flow": null,
            "grid_auto_rows": null,
            "grid_column": null,
            "grid_gap": null,
            "grid_row": null,
            "grid_template_areas": null,
            "grid_template_columns": null,
            "grid_template_rows": null,
            "height": null,
            "justify_content": null,
            "justify_items": null,
            "left": null,
            "margin": null,
            "max_height": null,
            "max_width": null,
            "min_height": null,
            "min_width": null,
            "object_fit": null,
            "object_position": null,
            "order": null,
            "overflow": null,
            "overflow_x": null,
            "overflow_y": null,
            "padding": null,
            "right": null,
            "top": null,
            "visibility": null,
            "width": null
          }
        },
        "02753a8b1066451998dd82f3c72315f0": {
          "model_module": "@jupyter-widgets/controls",
          "model_name": "DescriptionStyleModel",
          "model_module_version": "1.5.0",
          "state": {
            "_model_module": "@jupyter-widgets/controls",
            "_model_module_version": "1.5.0",
            "_model_name": "DescriptionStyleModel",
            "_view_count": null,
            "_view_module": "@jupyter-widgets/base",
            "_view_module_version": "1.2.0",
            "_view_name": "StyleView",
            "description_width": ""
          }
        },
        "0fbf8530404f47dd8f14092b6fbaa683": {
          "model_module": "@jupyter-widgets/base",
          "model_name": "LayoutModel",
          "model_module_version": "1.2.0",
          "state": {
            "_model_module": "@jupyter-widgets/base",
            "_model_module_version": "1.2.0",
            "_model_name": "LayoutModel",
            "_view_count": null,
            "_view_module": "@jupyter-widgets/base",
            "_view_module_version": "1.2.0",
            "_view_name": "LayoutView",
            "align_content": null,
            "align_items": null,
            "align_self": null,
            "border": null,
            "bottom": null,
            "display": null,
            "flex": null,
            "flex_flow": null,
            "grid_area": null,
            "grid_auto_columns": null,
            "grid_auto_flow": null,
            "grid_auto_rows": null,
            "grid_column": null,
            "grid_gap": null,
            "grid_row": null,
            "grid_template_areas": null,
            "grid_template_columns": null,
            "grid_template_rows": null,
            "height": null,
            "justify_content": null,
            "justify_items": null,
            "left": null,
            "margin": null,
            "max_height": null,
            "max_width": null,
            "min_height": null,
            "min_width": null,
            "object_fit": null,
            "object_position": null,
            "order": null,
            "overflow": null,
            "overflow_x": null,
            "overflow_y": null,
            "padding": null,
            "right": null,
            "top": null,
            "visibility": null,
            "width": null
          }
        },
        "948dd5760f9649079e75d3439bc5960d": {
          "model_module": "@jupyter-widgets/controls",
          "model_name": "ProgressStyleModel",
          "model_module_version": "1.5.0",
          "state": {
            "_model_module": "@jupyter-widgets/controls",
            "_model_module_version": "1.5.0",
            "_model_name": "ProgressStyleModel",
            "_view_count": null,
            "_view_module": "@jupyter-widgets/base",
            "_view_module_version": "1.2.0",
            "_view_name": "StyleView",
            "bar_color": null,
            "description_width": ""
          }
        },
        "d70d88131b794cf08b4ddd14e5564c5f": {
          "model_module": "@jupyter-widgets/base",
          "model_name": "LayoutModel",
          "model_module_version": "1.2.0",
          "state": {
            "_model_module": "@jupyter-widgets/base",
            "_model_module_version": "1.2.0",
            "_model_name": "LayoutModel",
            "_view_count": null,
            "_view_module": "@jupyter-widgets/base",
            "_view_module_version": "1.2.0",
            "_view_name": "LayoutView",
            "align_content": null,
            "align_items": null,
            "align_self": null,
            "border": null,
            "bottom": null,
            "display": null,
            "flex": null,
            "flex_flow": null,
            "grid_area": null,
            "grid_auto_columns": null,
            "grid_auto_flow": null,
            "grid_auto_rows": null,
            "grid_column": null,
            "grid_gap": null,
            "grid_row": null,
            "grid_template_areas": null,
            "grid_template_columns": null,
            "grid_template_rows": null,
            "height": null,
            "justify_content": null,
            "justify_items": null,
            "left": null,
            "margin": null,
            "max_height": null,
            "max_width": null,
            "min_height": null,
            "min_width": null,
            "object_fit": null,
            "object_position": null,
            "order": null,
            "overflow": null,
            "overflow_x": null,
            "overflow_y": null,
            "padding": null,
            "right": null,
            "top": null,
            "visibility": null,
            "width": null
          }
        },
        "78587cd747164cb5a2412c65d2e95c92": {
          "model_module": "@jupyter-widgets/controls",
          "model_name": "DescriptionStyleModel",
          "model_module_version": "1.5.0",
          "state": {
            "_model_module": "@jupyter-widgets/controls",
            "_model_module_version": "1.5.0",
            "_model_name": "DescriptionStyleModel",
            "_view_count": null,
            "_view_module": "@jupyter-widgets/base",
            "_view_module_version": "1.2.0",
            "_view_name": "StyleView",
            "description_width": ""
          }
        }
      }
    }
  },
  "nbformat": 4,
  "nbformat_minor": 0
}