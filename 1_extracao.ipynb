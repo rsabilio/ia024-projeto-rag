{
  "cells": [
    {
      "cell_type": "markdown",
      "metadata": {
        "id": "view-in-github",
        "colab_type": "text"
      },
      "source": [
        "<a href=\"https://colab.research.google.com/github/rsabilio/ia024-projeto-rag/blob/main/1_extracao.ipynb\" target=\"_parent\"><img src=\"https://colab.research.google.com/assets/colab-badge.svg\" alt=\"Open In Colab\"/></a>"
      ]
    },
    {
      "cell_type": "markdown",
      "source": [
        "# Installing packages"
      ],
      "metadata": {
        "id": "_BOQPcB-nOXt"
      }
    },
    {
      "cell_type": "code",
      "execution_count": 3,
      "metadata": {
        "id": "bEzKuyGgSDrx"
      },
      "outputs": [],
      "source": [
        "!pip install -q llama-index llama-parse"
      ]
    },
    {
      "cell_type": "markdown",
      "source": [
        "# Importing packages"
      ],
      "metadata": {
        "id": "3W5IMfEMnWYk"
      }
    },
    {
      "cell_type": "code",
      "execution_count": 36,
      "metadata": {
        "id": "750_q-IQS6-r"
      },
      "outputs": [],
      "source": [
        "# llama-parse is async-first, running the async code in a notebook requires the use of nest_asyncio\n",
        "import nest_asyncio\n",
        "import os\n",
        "from google.colab import userdata\n",
        "from llama_parse import LlamaParse\n",
        "import json\n",
        "import csv\n",
        "import pandas as pd\n",
        "\n",
        "nest_asyncio.apply()\n",
        "\n",
        "os.environ[\"LLAMA_CLOUD_API_KEY\"] = userdata.get('LLAMA_CLOUD_API_KEY_VAGNER')"
      ]
    },
    {
      "cell_type": "markdown",
      "source": [
        "# Cloning git repo"
      ],
      "metadata": {
        "id": "t5P2ICq27D1z"
      }
    },
    {
      "cell_type": "code",
      "source": [
        "# Clonar o repositório GitHub\n",
        "!git clone https://github.com/rsabilio/ia024-projeto-rag.git"
      ],
      "metadata": {
        "colab": {
          "base_uri": "https://localhost:8080/"
        },
        "id": "-DPDwb187LiM",
        "outputId": "572c73e0-78ba-4814-9cd8-e73f4da6084f"
      },
      "execution_count": 2,
      "outputs": [
        {
          "output_type": "stream",
          "name": "stdout",
          "text": [
            "Cloning into 'ia024-projeto-rag'...\n",
            "remote: Enumerating objects: 5016, done.\u001b[K\n",
            "remote: Counting objects: 100% (21/21), done.\u001b[K\n",
            "remote: Compressing objects: 100% (17/17), done.\u001b[K\n",
            "remote: Total 5016 (delta 5), reused 14 (delta 3), pack-reused 4995\u001b[K\n",
            "Receiving objects: 100% (5016/5016), 1.11 GiB | 30.40 MiB/s, done.\n",
            "Resolving deltas: 100% (1394/1394), done.\n",
            "Updating files: 100% (4582/4582), done.\n"
          ]
        }
      ]
    },
    {
      "cell_type": "code",
      "source": [
        "def save_on_git(msg):\n",
        "    GITHUB_TOKEN = userdata.get('GITHUB_TOKEN')\n",
        "\n",
        "    %cd /content/ia024-projeto-rag\n",
        "\n",
        "    !git remote set-url origin https://{GITHUB_TOKEN}@github.com/rsabilio/ia024-projeto-rag\n",
        "\n",
        "    !git config --global user.email \"ramon.s.abilio@gmail.com\"\n",
        "    !git config --global user.name \"Ramon Abilio\"\n",
        "\n",
        "    !git pull origin main\n",
        "\n",
        "    !git add .\n",
        "\n",
        "    !git commit -m {msg}\n",
        "\n",
        "    !git push origin main"
      ],
      "metadata": {
        "id": "YZr20bEY7nTr"
      },
      "execution_count": 55,
      "outputs": []
    },
    {
      "cell_type": "markdown",
      "metadata": {
        "id": "9mptV0-SeD5x"
      },
      "source": [
        "# Extracting to JSON"
      ]
    },
    {
      "cell_type": "code",
      "source": [
        "def extract_and_save_content(parser, src_dir, dst_dir, log_file):\n",
        "\n",
        "    # Verifica se o arquivo de log existe\n",
        "    if not os.path.exists(log_file):\n",
        "        # Cria o arquivo de log com cabeçalhos se não existir\n",
        "        with open(log_file, 'w', newline='') as csvfile:\n",
        "            log_writer = csv.writer(csvfile)\n",
        "            log_writer.writerow(['file_path', 'num_pages'])  # Cabeçalhos do CSV\n",
        "\n",
        "    for root, dirs, files in os.walk(src_dir):\n",
        "        for file in files:\n",
        "            src_file_path = os.path.join(root, file)\n",
        "            relative_path = os.path.relpath(root, src_dir)\n",
        "            dst_file_dir = os.path.join(dst_dir, relative_path)\n",
        "\n",
        "            #print(src_file_path)\n",
        "\n",
        "            # Cria o diretório de destino se não existir\n",
        "            os.makedirs(dst_file_dir, exist_ok=True)\n",
        "\n",
        "            # Caminho completo do arquivo de destino\n",
        "            dst_file_path = os.path.join(dst_file_dir, file)\n",
        "            dst_file_path = f\"{dst_file_path}.json\"\n",
        "            if os.path.exists(dst_file_path):\n",
        "                print(f\"*** {src_file_path}  já processado\")\n",
        "                continue\n",
        "\n",
        "            # Extrai o conteúdo do arquivo usando LlamaParse\n",
        "            try:\n",
        "                print(f\"{src_file_path}\")\n",
        "                json_objs = parser.get_json_result(src_file_path)\n",
        "\n",
        "                with open(dst_file_path, 'w', encoding='utf-8') as f:\n",
        "                    json.dump(json_objs, f, ensure_ascii=False, indent=4)\n",
        "\n",
        "                # Conta o número de páginas no conteúdo processado\n",
        "                num_pages = len(json_objs[0][\"pages\"])\n",
        "\n",
        "                # Escreve as informações do log em tempo real\n",
        "                with open(log_file, 'a', newline='') as csvfile:\n",
        "                    log_writer = csv.writer(csvfile)\n",
        "                    log_writer.writerow([src_file_path, num_pages])\n",
        "\n",
        "            except Exception as e:\n",
        "                print(f\"Erro ao processar o arquivo {src_file_path}: {e}\")\n",
        "\n",
        "# Caminhos de exemplo\n",
        "root          = \"/content/ia024-projeto-rag\"\n",
        "src_directory = f\"{root}/0-downloaded-files/2-boituva/portarias\"\n",
        "dst_directory = f\"{root}/1-files-content/2-boituva/portarias\"\n",
        "log_file_path = f\"{root}/log-content-extraction.csv\"\n",
        "\n",
        "parser = LlamaParse(verbose=False)\n",
        "\n",
        "# Extrai e salva o conteúdo mantendo a estrutura dos diretórios\n",
        "for ano in range(2014, 2025):\n",
        "    print(f\"Processing: {ano}\")\n",
        "    src_directory_year = f\"{src_directory}/{ano}\"\n",
        "    dst_directory_year = f\"{dst_directory}/{ano}\"\n",
        "\n",
        "    print(\"extracting...\")\n",
        "    extract_and_save_content(parser, src_directory_year, dst_directory_year, log_file_path)\n",
        "\n",
        "    print(\"push to git...\")\n",
        "    msg = 'Adicionando JSON das Portarias de Boituva'\n",
        "    save_on_git(msg)\n"
      ],
      "metadata": {
        "id": "JRiNFQ1p8fTO"
      },
      "execution_count": null,
      "outputs": []
    },
    {
      "cell_type": "code",
      "source": [
        "print(\"push to git...\")\n",
        "msg = 'Adicionando JSON das Portarias de Boituva'\n",
        "save_on_git(msg)"
      ],
      "metadata": {
        "id": "q5qf5PF-foGG"
      },
      "execution_count": null,
      "outputs": []
    }
  ],
  "metadata": {
    "colab": {
      "provenance": [],
      "include_colab_link": true
    },
    "kernelspec": {
      "display_name": "Python 3",
      "name": "python3"
    },
    "language_info": {
      "name": "python"
    }
  },
  "nbformat": 4,
  "nbformat_minor": 0
}