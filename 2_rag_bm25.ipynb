{
  "cells": [
    {
      "cell_type": "markdown",
      "metadata": {
        "id": "view-in-github",
        "colab_type": "text"
      },
      "source": [
        "<a href=\"https://colab.research.google.com/github/rsabilio/ia024-projeto-rag/blob/main/2_rag_bm25.ipynb\" target=\"_parent\"><img src=\"https://colab.research.google.com/assets/colab-badge.svg\" alt=\"Open In Colab\"/></a>"
      ]
    },
    {
      "cell_type": "markdown",
      "metadata": {
        "id": "EGYXWXpPkr1B"
      },
      "source": [
        "# Instruções\n",
        "\n",
        "* Estratégia 1\n",
        "    * Usar segmentação de sentenças\n",
        "    * BM25 como buscador"
      ]
    },
    {
      "cell_type": "markdown",
      "metadata": {
        "id": "jUcir-zQ3zd0"
      },
      "source": [
        "# Instalando pacotes"
      ]
    },
    {
      "cell_type": "code",
      "execution_count": null,
      "metadata": {
        "id": "62agRBPA31E3",
        "colab": {
          "base_uri": "https://localhost:8080/"
        },
        "outputId": "beec04f5-ebbe-4121-badd-4f33b5f9a71f"
      },
      "outputs": [
        {
          "output_type": "stream",
          "name": "stdout",
          "text": [
            "\u001b[2K     \u001b[90m━━━━━━━━━━━━━━━━━━━━━━━━━━━━━━━━━━━━━━━━\u001b[0m \u001b[32m15.4/15.4 MB\u001b[0m \u001b[31m15.6 MB/s\u001b[0m eta \u001b[36m0:00:00\u001b[0m\n",
            "\u001b[2K     \u001b[90m━━━━━━━━━━━━━━━━━━━━━━━━━━━━━━━━━━━━━━━━\u001b[0m \u001b[32m2.0/2.0 MB\u001b[0m \u001b[31m26.6 MB/s\u001b[0m eta \u001b[36m0:00:00\u001b[0m\n",
            "\u001b[2K     \u001b[90m━━━━━━━━━━━━━━━━━━━━━━━━━━━━━━━━━━━━━━━━\u001b[0m \u001b[32m75.6/75.6 kB\u001b[0m \u001b[31m3.9 MB/s\u001b[0m eta \u001b[36m0:00:00\u001b[0m\n",
            "\u001b[2K     \u001b[90m━━━━━━━━━━━━━━━━━━━━━━━━━━━━━━━━━━━━━━━━\u001b[0m \u001b[32m141.9/141.9 kB\u001b[0m \u001b[31m9.7 MB/s\u001b[0m eta \u001b[36m0:00:00\u001b[0m\n",
            "\u001b[2K     \u001b[90m━━━━━━━━━━━━━━━━━━━━━━━━━━━━━━━━━━━━━━━━\u001b[0m \u001b[32m325.5/325.5 kB\u001b[0m \u001b[31m13.1 MB/s\u001b[0m eta \u001b[36m0:00:00\u001b[0m\n",
            "\u001b[2K     \u001b[90m━━━━━━━━━━━━━━━━━━━━━━━━━━━━━━━━━━━━━━━━\u001b[0m \u001b[32m1.1/1.1 MB\u001b[0m \u001b[31m24.7 MB/s\u001b[0m eta \u001b[36m0:00:00\u001b[0m\n",
            "\u001b[2K     \u001b[90m━━━━━━━━━━━━━━━━━━━━━━━━━━━━━━━━━━━━━━━━\u001b[0m \u001b[32m290.4/290.4 kB\u001b[0m \u001b[31m10.5 MB/s\u001b[0m eta \u001b[36m0:00:00\u001b[0m\n",
            "\u001b[2K     \u001b[90m━━━━━━━━━━━━━━━━━━━━━━━━━━━━━━━━━━━━━━━━\u001b[0m \u001b[32m77.9/77.9 kB\u001b[0m \u001b[31m3.9 MB/s\u001b[0m eta \u001b[36m0:00:00\u001b[0m\n",
            "\u001b[2K     \u001b[90m━━━━━━━━━━━━━━━━━━━━━━━━━━━━━━━━━━━━━━━━\u001b[0m \u001b[32m58.3/58.3 kB\u001b[0m \u001b[31m5.4 MB/s\u001b[0m eta \u001b[36m0:00:00\u001b[0m\n",
            "\u001b[2K     \u001b[90m━━━━━━━━━━━━━━━━━━━━━━━━━━━━━━━━━━━━━━━━\u001b[0m \u001b[32m49.2/49.2 kB\u001b[0m \u001b[31m4.5 MB/s\u001b[0m eta \u001b[36m0:00:00\u001b[0m\n",
            "\u001b[?25h"
          ]
        }
      ],
      "source": [
        "!pip install -q llama-index llama-index-llms-groq llama-index-retrievers-bm25"
      ]
    },
    {
      "cell_type": "markdown",
      "metadata": {
        "id": "jCeNEFrrn1Np"
      },
      "source": [
        "# Importando pacotes"
      ]
    },
    {
      "cell_type": "code",
      "execution_count": null,
      "metadata": {
        "id": "yZVJgqj7BRvx"
      },
      "outputs": [],
      "source": [
        "import os\n",
        "from google.colab import userdata\n",
        "\n",
        "os.environ['GROQ_API_KEY'] = userdata.get('GROQ_API_KEY')"
      ]
    },
    {
      "cell_type": "code",
      "execution_count": null,
      "metadata": {
        "id": "jUOm1M0ln32U"
      },
      "outputs": [],
      "source": [
        "import json\n",
        "import time\n",
        "import random\n",
        "from tqdm import tqdm\n",
        "from rich.pretty import pprint\n",
        "\n",
        "from llama_index.core import Document\n",
        "from llama_index.core.node_parser import SentenceWindowNodeParser\n",
        "from llama_index.retrievers.bm25 import BM25Retriever\n",
        "from llama_index.core.query_engine import RetrieverQueryEngine\n",
        "from llama_index.core.postprocessor import MetadataReplacementPostProcessor\n",
        "from llama_index.core.tools import QueryEngineTool, ToolMetadata\n",
        "from llama_index.llms.groq import Groq\n",
        "from llama_index.core.response.notebook_utils import display_source_node, display_response\n",
        "from llama_index.core.evaluation import FaithfulnessEvaluator, CorrectnessEvaluator, RelevancyEvaluator\n",
        "\n",
        "import nest_asyncio\n",
        "nest_asyncio.apply()\n",
        "\n",
        "from IPython.display import Markdown, display\n",
        "import pandas as pd"
      ]
    },
    {
      "cell_type": "markdown",
      "source": [
        "# GitHub"
      ],
      "metadata": {
        "id": "PFdbrShl5bsR"
      }
    },
    {
      "cell_type": "code",
      "source": [
        "GITHUB_TOKEN      = userdata.get('GITHUB_TOKEN')\n",
        "GITHUB_USER_EMAIL = userdata.get('GITHUB_USER_EMAIL')\n",
        "GITHUB_USER_NAME  = userdata.get('GITHUB_USER_NAME')\n",
        "\n",
        "!git config --global user.email '''{GITHUB_USER_EMAIL}'''\n",
        "!git config --global user.name '''{GITHUB_USER_NAME}'''\n",
        "\n",
        "# Clonar o repositório GitHub\n",
        "!git clone https://{GITHUB_TOKEN}@github.com/rsabilio/ia024-projeto-rag.git"
      ],
      "metadata": {
        "id": "ye7MaWIUU1hx"
      },
      "execution_count": null,
      "outputs": []
    },
    {
      "cell_type": "code",
      "execution_count": null,
      "metadata": {
        "id": "O9-YfaN807lj"
      },
      "outputs": [],
      "source": [
        "DATA_DIR = '/content/ia024-projeto-rag'"
      ]
    },
    {
      "cell_type": "code",
      "source": [
        "def save_on_git(msg):\n",
        "\n",
        "    %cd /content/ia024-projeto-rag\n",
        "\n",
        "    !git remote set-url origin https://{GITHUB_TOKEN}@github.com/rsabilio/ia024-projeto-rag\n",
        "\n",
        "    !git pull origin main\n",
        "\n",
        "    !git add .\n",
        "\n",
        "    !git commit -m '''{msg}'''\n",
        "\n",
        "    !git push origin main"
      ],
      "metadata": {
        "id": "dWdpB2OFUvvs"
      },
      "execution_count": null,
      "outputs": []
    },
    {
      "cell_type": "code",
      "source": [
        "def update_local_repo():\n",
        "    %cd /content/ia024-projeto-rag\n",
        "\n",
        "    !git remote set-url origin https://{GITHUB_TOKEN}@github.com/rsabilio/ia024-projeto-rag\n",
        "\n",
        "    !git pull origin main"
      ],
      "metadata": {
        "id": "ce2WkD4q5nIf"
      },
      "execution_count": null,
      "outputs": []
    },
    {
      "cell_type": "markdown",
      "source": [
        "## Criando documentos e nós"
      ],
      "metadata": {
        "id": "IbABX87M92gs"
      }
    },
    {
      "cell_type": "code",
      "source": [
        "import glob\n",
        "\n",
        "def get_json_files(directory):\n",
        "    return glob.glob(os.path.join(directory, \"*.json\"))\n",
        "\n",
        "\n",
        "base_docs     = []\n",
        "\n",
        "print(f\"Carregando Estatuto e Organizações Didáticas...\")\n",
        "directory_path = f\"{DATA_DIR}/2-dataset/\"\n",
        "json_files     = get_json_files(directory_path)\n",
        "\n",
        "for json_file in json_files:\n",
        "    print(f\"Carregando: {json_file}\")\n",
        "    with open(json_file, 'r') as f:\n",
        "        documento = json.load(f)\n",
        "\n",
        "    documento_titulo = documento['titulo']\n",
        "    documento_texto  = documento['texto_compacto']\n",
        "\n",
        "    for parte in documento['partes']:\n",
        "        metadata = {}\n",
        "        metadata[\"documento\"] = documento_titulo\n",
        "\n",
        "        titulo_nome    = parte['titulo']\n",
        "        titulo_artigos = parte['artigos']\n",
        "        capitulos      = parte['capitulos']\n",
        "\n",
        "        metadata[\"titulo\"] = titulo_nome\n",
        "        if titulo_artigos != \"\":\n",
        "            doc = Document(text=titulo_artigos, metadata=metadata)\n",
        "            base_docs.append(doc)\n",
        "\n",
        "        for capitulo in capitulos:\n",
        "            cap_titulo  = capitulo['titulo']\n",
        "            cap_artigos = capitulo['artigos']\n",
        "\n",
        "            metadata[\"capitulo\"] = cap_titulo\n",
        "            doc = Document(text=cap_artigos, metadata=metadata)\n",
        "            base_docs.append(doc)\n",
        "    print(f\"{len(base_docs)} documentos carregados\")\n",
        "\n",
        "print(f\"Carregando portarias: {directory_path}\")\n",
        "directory_path = f\"{DATA_DIR}/2-dataset/2-boituva/portarias\"\n",
        "json_files     = get_json_files(directory_path)\n",
        "\n",
        "for json_file in json_files:\n",
        "    print(f\"Carregando: {json_file}\")\n",
        "    with open(json_file, 'r') as f:\n",
        "        documento = json.load(f)\n",
        "\n",
        "    for portaria in documento:\n",
        "\n",
        "        portaria_titulo = portaria['title:']\n",
        "        portaria_texto  = portaria['texto_completo']\n",
        "\n",
        "        metadata = {}\n",
        "        metadata[\"campus\"]    = portaria['campus']\n",
        "        metadata[\"documento\"] = portaria_titulo\n",
        "        doc = Document(text=portaria_texto, metadata=metadata)\n",
        "        base_docs.append(doc)\n",
        "\n",
        "    print(f\"{len(base_docs)} documentos carregados\")\n",
        "\n",
        "for i, doc in enumerate(base_docs):\n",
        "    doc.id_ = f\"doc_{i}\"\n",
        "\n",
        "print(f\"Total de documentos carregados: {len(base_docs)}\")"
      ],
      "metadata": {
        "id": "POUdSbPdxvFV"
      },
      "execution_count": null,
      "outputs": []
    },
    {
      "cell_type": "code",
      "source": [
        "pprint(docs[0])"
      ],
      "metadata": {
        "colab": {
          "base_uri": "https://localhost:8080/",
          "height": 256
        },
        "id": "RiGM1YupyVHT",
        "outputId": "ae7099f7-34b1-48b3-a4f7-3dc3def2601b"
      },
      "execution_count": null,
      "outputs": [
        {
          "output_type": "display_data",
          "data": {
            "text/plain": [
              "\u001b[1;35mDocument\u001b[0m\u001b[1m(\u001b[0m\n",
              "\u001b[2;32m│   \u001b[0m\u001b[33mid_\u001b[0m=\u001b[32m'0'\u001b[0m,\n",
              "\u001b[2;32m│   \u001b[0m\u001b[33membedding\u001b[0m=\u001b[3;35mNone\u001b[0m,\n",
              "\u001b[2;32m│   \u001b[0m\u001b[33mmetadata\u001b[0m=\u001b[1m{\u001b[0m\u001b[32m'doc_name'\u001b[0m: \u001b[32m'Estatuto'\u001b[0m, \u001b[32m'category'\u001b[0m: \u001b[32m'Reitoria'\u001b[0m\u001b[1m}\u001b[0m,\n",
              "\u001b[2;32m│   \u001b[0m\u001b[33mexcluded_embed_metadata_keys\u001b[0m=\u001b[1m[\u001b[0m\u001b[1m]\u001b[0m,\n",
              "\u001b[2;32m│   \u001b[0m\u001b[33mexcluded_llm_metadata_keys\u001b[0m=\u001b[1m[\u001b[0m\u001b[1m]\u001b[0m,\n",
              "\u001b[2;32m│   \u001b[0m\u001b[33mrelationships\u001b[0m=\u001b[1m{\u001b[0m\u001b[1m}\u001b[0m,\n",
              "\u001b[2;32m│   \u001b[0m\u001b[33mtext\u001b[0m=\u001b[32m'ESTATUTO. TÍTULO I - DA INSTITUIÇÃO. CAPÍTULO I - DA NATUREZA E DAS FINALIDADES. Art 1º - O INSTITUTO FEDERAL DE EDUCAÇÃO, CIÊNCIA E TECNOLOGIA DE SÃO PAULO – IFSP, com sede e foro na cidade de São Paulo, criado nos termos da Lei nº. 11.892, de 29 de dezembro de 2008, constitui-se em autarquia federal, vinculada ao Ministério da Educação, detentora de autonomia administrativa, patrimonial, financeira, didático-pedagógica e disciplinar. §1º- O IFSP é domiciliado na sede de sua Reitoria, situada na Rua Pedro Vicente, 625, Canindé, São Paulo. §2º- O IFSP é uma instituição de educação superior, básica e profissional, pluricurricular e multicampi, especializada na oferta de educação profissional e tecnológica nas diferentes modalidades de ensino, com base na conjugação de conhecimentos técnicos e tecnológicos com a sua prática pedagógica, nos termos da lei. Tem como sedes, para os fins da legislação educacional: I. Reitoria, no endereço citado no §1º. II. Campus São Paulo, situado na Rua Pedro Vicente, 625, Canindé, São Paulo. III. Campus Cubatão, situado na Rua Maria Cristina, 50, Jardim Casqueiro, Cubatão. IV. Campus Sertãozinho, situado na Rua Américo Ambrósio, 269, Jardim Canaã, Sertãozinho. V. Campus Guarulhos, situado na Avenida Salgado Filho, 2501, Bairro Vila Rio de Janeiro, Guarulhos. VI. Campus São João da Boa Vista, situado no Acesso Dr. João Batista Merlin, s/ n.º, Jardim Itália, São João da Boa Vista. VII. Campus Caraguatatuba, situado na Avenida Rio Grande do Norte, 450, Indaiá, Caraguatatuba. VIII. Campus Bragança Paulista, situado na Avenida Francisco Samuel Lucchesi Filho, 770, Penha, Bragança Paulista. IX. Campus Salto, situado na Rua Rio Branco, 1780, Vila Teixeira, Salto. X. Campus São Roque, situado na Rodovia Quintino de Lima, 2100, Jardim Conceição, São Roque. XI. Campus São Carlos, situado na Rodovia Washington Luís, km 235 AT-6, Sala 119, São Carlos. XII. Campus Campos do Jordão, situado na Rua Monsenhor José Vita, 280, Vila Abernéssia, Campos do Jordão. XIII. Campus Barretos, situado na Avenida C-1, Bairro Ide Daher, Barretos. XIV. Campus Suzano, situado na Avenida Mogi das Cruzes, 1.501, Parque Suzano, Suzano. XV. Campus Campinas, situado na Rodovia D. Pedro I – SP 65 – KM 143,6, Amarais, Campinas; XVI. Campus Catanduva, situado na Avenida Imperatriz, s/ n.º, Distrito Industrial, Catanduva. XVII. Campus Avaré, situado na Avenida Professor Celso Ferreira da Silva, s/ n.º, Jardim Europa, Avaré. XVIII. Campus Araraquara, situado no Ramal de Acesso Engenheiro Heitor de Souza Pinheiro, Araraquara. XIX. Campus Itapetininga, situado na Avenida João Olímpio de Oliveira, Bairro Assen, Itapetininga. XX. Campus Birigui, situado na Rua Pedro Cavalo, 709, Residencial Portal da Pérola II, Birigui. XXI. Campus Votuporanga, situado na Rua Pará, s/ n.º, Chácara Aviação, Votuporanga. XXII. Campus Registro, situado na Rua Clara Gianotti de Souza, 5.180, Agrochá, Registro. XXIII. Campus Presidente Epitácio, situado na Rua Rua José Ramos Júnior, nº 27-50, Jardim Tropical, Presidente Epitácio. XXIV. Campus Piracicaba, situado na Rodovia Deputado Laércio Corte, s/ n.º, Bairro Santa Rosa, Piracicaba. XXV. Campus Hortolândia, situado na Rodovia Municipal TeodorCondiev, 1896, Hortolândia. XXVI. Campus Boituva, situado na Avenida Zélia de Lima Rosa, nº 100, Portal dos Pássaros, Boituva. XXVII. Campus Capivari, situado na Avenida Ênio Pires de Camargo, 2971, São João Batista, Capivari. XXVIII. Campus Matão, situado na Rua José Bonifácio, 1176, Centro, Matão. XXIX. Campus São José dos Campos, situado na Rodovia Presidente Dutra s/n – km 145, Jardim Diamante, São José dos Campos. XXXI. Núcleo Avançado de Assis, situado na Avenida Getúlio Vargas nº 1200, Vila Nova Santana, Assis. § 3º- Para efeito da incidência das disposições que regem a regulação, avaliação e supervisão da Instituição e dos cursos de educação superior, o IFSP é equiparado às universidades federais. § 4º- O IFSP possui limite de atuação territorial para criar e extinguir cursos, bem como para registrar diplomas dos cursos por ele oferecidos, circunscrito ao Estado de São Paulo, aplicando-se, no caso de oferta de ensino a distância, legislação específica. Art 2º - O IFSP rege-se pelos atos normativos mencionados no caput do Art 1º, pela legislação federal e pelos seguintes instrumentos normativos: I. Estatuto. II. Regimento-Geral. III. Regimento dos campi. IV. Atos Administrativos do IFSP. Art 3º - Os atos administrativos do IFSP obedecerão à forma de: I. Resolução; II. Parecer; III. Portaria; IV. Instrução Normativa; V. Comunicado. CAPÍTULO II - DOS PRINCÍPIOS, DAS FINALIDADES, DAS CARACTERÍSTICAS E DOS OBJETIVOS. Art 4º - O IFSP, em sua atuação, observa os seguintes princípios norteadores: I. compromisso com a justiça social, a equidade, a cidadania, a ética, a preservação do meio ambiente, a transparência e a gestão democrática; II. verticalização do ensino e sua integração com a pesquisa e a extensão; III. eficácia nas respostas de formação profissional, difusão do conhecimento científico e tecnológico e suporte aos arranjos produtivos locais, sociais e culturais; IV. inclusão de pessoas com necessidades educacionais especiais e deficiências específicas; V. natureza pública e gratuita do ensino, sob a responsabilidade da União. Art 5º - O IFSP tem as seguintes finalidades e características: I. ofertar educação profissional e tecnológica, em todos os seus níveis e modalidades, formando e qualificando cidadãos com vistas à atuação profissional nos diversos setores da economia, com ênfase no desenvolvimento socioeconômico local, regional e nacional; II. desenvolver a educação profissional e tecnológica como processo educativo e investigativo de geração e adaptação de soluções técnicas e tecnológicas às demandas sociais e peculiaridades regionais; III. promover a integração e a verticalização da educação básica à educação profissional e educação superior, otimizando a infraestrutura física, os quadros de pessoal e os recursos de gestão; IV. orientar sua oferta formativa em benefício da consolidação e do fortalecimento dos arranjos produtivos, sociais e culturais locais, identificados com base no mapeamento das potencialidades de desenvolvimento socioeconômico e cultural no âmbito de atuação do IFSP; V. constituir-se em centro de excelência na oferta do ensino de Ciências, em geral, e de Ciências Aplicadas, em particular, estimulando o desenvolvimento de espírito crítico, voltado à investigação empírica; VI. qualificar-se como centro de referência no apoio à oferta do ensino de Ciências nas instituições públicas de ensino, oferecendo capacitação técnica e atualização pedagógica aos docentes das redes públicas de ensino; VII. desenvolver programas de extensão e de divulgação cultural científica e tecnológica; VIII. realizar e estimular a pesquisa, a produção cultural, o empreendedorismo, o cooperativismo e o desenvolvimento científico e tecnológico; IX. promover a produção, o desenvolvimento e a transferência de tecnologias sociais, notadamente as voltadas à preservação do meio ambiente. Art 6º - O IFSP tem os seguintes objetivos: I. ministrar educação profissional técnica de nível médio, prioritariamente na forma de cursos integrados, para os concluintes do ensino fundamental e para o público da Educação de Jovens e Adultos; II. ministrar cursos de formação inicial e continuada de trabalhadores, tendo como objetivo a capacitação, o aperfeiçoamento, a especialização e a atualização de profissionais, em todos os níveis de escolaridade, nas áreas da educação profissional e tecnológica; III. realizar pesquisas, estimulando o desenvolvimento de soluções técnicas e tecnológicas, estendendo seus benefícios à comunidade; IV. desenvolver atividades de extensão de acordo com os princípios e finalidades da educação profissional e tecnológica, em articulação com o mundo do trabalho e os segmentos sociais, e com ênfase na produção, desenvolvimento e difusão de conhecimentos científicos e tecnológicos; V. estimular e apoiar processos educativos que levem à geração de trabalho e renda e à emancipação do cidadão na perspectiva do desenvolvimento socioeconômico local e regional; VI. ministrar em nível de educação superior: a\u001b[0m\u001b[32m)\u001b[0m\u001b[32m cursos superiores de tecnologia visando à formação de profissionais para os diferentes setores da economia; b\u001b[0m\u001b[32m)\u001b[0m\u001b[32m cursos de licenciatura, bem como programas especiais de formação pedagógica, com vistas à formação de professores para a educação básica, sobretudo nas áreas de Ciências e Matemática, e para a educação profissional; c\u001b[0m\u001b[32m)\u001b[0m\u001b[32m cursos de bacharelado e engenharia, visando à formação de profissionais para os diferentes setores da economia e áreas do conhecimento; d\u001b[0m\u001b[32m)\u001b[0m\u001b[32m cursos de pós-graduação lato sensu de aperfeiçoamento e especialização, visando à formação de especialistas nas diferentes áreas do conhecimento; e\u001b[0m\u001b[32m)\u001b[0m\u001b[32m cursos de pós-graduação stricto sensu de mestrado e doutorado, que contribuam para promover o estabelecimento de bases sólidas em Educação, Ciência e Tecnologia, com vistas ao processo de geração e inovação tecnológica. Art 7º - No desenvolvimento da sua ação acadêmica, o IFSP, em cada exercício, deverá garantir o mínimo de 50% de suas vagas para a educação profissional técnica de nível médio, e o mínimo de 20 % das vagas para cursos de licenciatura e/ou programas especiais de formação pedagógica, ressalvado o caso previsto no §2º do art. 8º da Lei nº. 11.892/2008. CAPÍTULO III - DA ORGANIZAÇÃO ADMINISTRATIVA. Art 8º - A organização geral do IFSP compreende: I. ÓRGÃOS SUPERIORES a\u001b[0m\u001b[32m)\u001b[0m\u001b[32m Conselho Superior; 1. Órgão de Controle: Unidade Auditoria Interna; 2. Comitê Técnico-Profissional. b\u001b[0m\u001b[32m)\u001b[0m\u001b[32m Colégio de Dirigentes. II. ÓRGÃOS COLEGIADOS a\u001b[0m\u001b[32m)\u001b[0m\u001b[32m Conselho de Ensino; b\u001b[0m\u001b[32m)\u001b[0m\u001b[32m Conselho de Pesquisa e Inovação; c\u001b[0m\u001b[32m)\u001b[0m\u001b[32m Conselho de Extensão. III. ÓRGÃOS EXECUTIVOS a\u001b[0m\u001b[32m)\u001b[0m\u001b[32m Reitoria: 1. Gabinete; 2. Assessorias; 3. Procuradoria Jurídica. b\u001b[0m\u001b[32m)\u001b[0m\u001b[32m Órgãos de Apoio. c\u001b[0m\u001b[32m)\u001b[0m\u001b[32m Pró-Reitorias: 1. Pró-Reitoria de Ensino; 2. Pró-Reitoria de Extensão; 3. Pró-Reitoria de Pesquisa, Inovação e Pós-graduação; 4. Pró-Reitoria de Administração; 5. Pró-Reitoria de Desenvolvimento Institucional. d\u001b[0m\u001b[32m)\u001b[0m\u001b[32m Ouvidoria. e\u001b[0m\u001b[32m)\u001b[0m\u001b[32m Comissão de Ética. IV. ÓRGÃOS DESCENTRALIZADOS a\u001b[0m\u001b[32m)\u001b[0m\u001b[32m Campi, que para fins da legislação educacional, são considerados sedes. 1. Órgão Superior do Campus: Conselho de Campus; 2. Órgão Executivo: Diretoria-Geral. b\u001b[0m\u001b[32m)\u001b[0m\u001b[32m Polos de Educação a Distância; c\u001b[0m\u001b[32m)\u001b[0m\u001b[32m Núcleos Avançados; d\u001b[0m\u001b[32m)\u001b[0m\u001b[32m Unidades de Educação Profissional \u001b[0m\u001b[32m(\u001b[0m\u001b[32mUEP\u001b[0m\u001b[32m)\u001b[0m\u001b[32m. §1º- O detalhamento da estrutura organizacional do IFSP, as competências das unidades administrativas e as atribuições dos respectivos dirigentes serão estabelecidas no seu Regimento-Geral. §2º- O Regimento-Geral poderá dispor sobre a estruturação e funcionamento de outros órgãos colegiados que tratem de temas específicos vinculados à Reitoria e às Pró- Reitorias. Art 9º - A administração do IFSP terá como órgãos superiores o Conselho Superior e o Colégio de Dirigentes. Art 10 - O IFSP terá como órgão executivo a Reitoria, composta por um Reitor e cinco Pró-Reitores. §1º- Poderão ser nomeados como Pró-Reitores os servidores ocupantes de cargo efetivo da carreira docente ou de cargo efetivo de nível superior da carreira dos técnicos administrativos do Plano de Carreira dos Cargos Técnico-Administrativos em Educação, desde que possuam o mínimo de cinco anos de efetivo exercício em instituição federal de educação profissional e tecnológica. §2º- A Reitoria, como órgão de administração central, terá sua sede na cidade de São Paulo e poderá ser instalada em espaço físico distinto do Campus São Paulo. TÍTULO II - DA GESTÃO. CAPÍTULO I - DOS ÓRGÃOS SUPERIORES. SEÇÃO I - DO CONSELHO SUPERIOR Art 11 - O Conselho Superior, de caráter consultivo e deliberativo, é o órgão máximo do IFSP, tendo a seguinte composição: I. o Reitor, como presidente; II. representação de um terço do número de campi, destinada aos servidores docentes, sendo o mínimo de dois e o máximo de cinco representantes e igual número de suplentes, eleitos por seus pares, na forma regimental; III. representação de um terço do número de campi, destinada ao corpo discente, sendo o mínimo de dois e o máximo de cinco representantes e igual número de suplentes, eleitos por seus pares, na forma regimental; IV. representação de um terço do número de campi, destinada aos servidores técnico- administrativos, sendo o mínimo de dois e o máximo de cinco representantes e igual número de suplentes, eleitos por seus pares, na forma regimental; V. dois representantes dos discentes egressos do IFSP e igual número de suplentes, indicados por seus pares; VI. seis representantes da sociedade civil e igual número de suplentes, sendo dois indicados por entidades patronais, dois indicados por entidades dos trabalhadores, dois representantes do setor público e/ou de empresas estatais, designados pela Secretaria de Educação Profissional e Tecnológica; VII. um representante e um suplente do Ministério da Educação, designado pela Secretaria de Educação Profissional e Tecnológica; VIII. representação de um terço dos Diretores-Gerais de campi, sendo o mínimo de dois e o máximo de cinco e igual número de suplentes, eleitos por seus pares, na forma regimental. § 1°- Os membros do Conselho Superior \u001b[0m\u001b[32m(\u001b[0m\u001b[32mtitulares e suplentes\u001b[0m\u001b[32m)\u001b[0m\u001b[32m, de que tratam os incisos II, III, IV, V e VIII, serão designados por ato do Reitor. § 2º- Os mandatos serão de dois anos, permitida uma recondução para o período imediatamente subsequente, exceto aos membros natos, de que tratam os incisos I e VIII. § 3º- Com relação aos membros de que tratam os incisos II, III e IV, cada campus que compõe o IFSP poderá ter, no máximo, uma representação por categoria. §4º- Serão membros vitalícios do Conselho Superior todos os ex-Reitores do IFSP, sem direito a voto. §5º- Ocorrendo o afastamento definitivo de qualquer membro do Conselho Superior, assumirá o respectivo suplente para a complementação do mandato originalmente estabelecido, realizando-se nova eleição para a escolha de suplentes. §6º- Os membros relacionados nos incisos II a V que se enquadrarem em mais de uma categoria somente poderão se candidatar na categoria mais recente no IFSP. §7°- Os membros relacionados nos incisos II e IV não poderão ocupar, concomitantemente, cargos de confiança da estrutura organizacional do IFSP. §8º- Os procedimentos de trabalho do Conselho Superior serão disciplinados no seu regulamento o qual será aprovado por seus membros. §9º- O Conselho Superior reunir-se-á, ordinariamente, mensalmente e, extraordinariamente, quando convocado por seu Presidente ou por dois terços de seus membros. Art 12 - O Reitor será o presidente nato do Conselho Superior, a quem caberá, em caso de necessidade, o voto de qualidade. Parágrafo Único - No impedimento do Reitor do IFSP, a presidência do Conselho Superior será exercida pelo seu substituto legal designado na forma da legislação pertinente. Art 13 - Ao Conselho Superior compete: I. aprovar as diretrizes para atuação do IFSP e zelar pela execução de sua política educacional; II. deflagrar, aprovar as normas e coordenar o processo de consulta à comunidade escolar para escolha do Reitor do IFSP e dos Diretores-Gerais dos campi, em consonância com o estabelecido nos artigos 12 e 13 da Lei nº. 11.892/2008; III. aprovar o Plano de Desenvolvimento Institucional e acompanhamento por meio dos documentos institucionais e apreciar a proposta orçamentária anual; IV. aprovar o projeto político-pedagógico, a organização didática, os regulamentos internos e as normas disciplinares; V. aprovar normas relativas à acreditação e à certificação de competências profissionais, nos termos da legislação vigente; VI. autorizar o Reitor a conferir títulos de mérito acadêmico; VII. apreciar as contas do exercício financeiro e o relatório de gestão anual, emitindo parecer conclusivo sobre a propriedade e regularidade dos registros; VIII. deliberar sobre taxas, emolumentos e contribuições por prestação de serviços em geral a serem cobrados pelo IFSP; IX. autorizar a criação, a alteração curricular e a extinção de cursos no âmbito do IFSP, bem como o registro de diplomas; X. aprovar a estrutura administrativa e o Regimento-Geral do IFSP, observados os parâmetros definidos pelo Governo Federal e pela legislação específica; XI. deliberar sobre questões submetidas à sua apreciação. Subseção I: Da Auditoria Interna Art14 - A Unidade de Auditoria Interna é órgão de assessoramento do Conselho Superior, ao qual está vinculada, nos termos do §3º do artigo 15 do Decreto 3591/2000, responsável por fortalecer e assessorar a gestão, bem como racionalizar as ações do IFSP e prestar apoio, dentro de suas especificidades no âmbito do IFSP, aos órgãos do Sistema de Controle Interno do Poder Executivo Federal e ao Tribunal de Contas da União, respeitada a legislação pertinente. § 1º. A Unidade de Auditoria Interna será dirigida por um auditor-chefe. § 2º. O auditor-chefe do IFSP será substituído, em suas faltas e impedimentos, por um componente da equipe técnica, previamente designado pelo Reitor. Parágrafo único – A organização e o funcionamento da Unidade de Auditoria Interna serão definidos em Regulamento Interno aprovado pelo Conselho Superior Subseção II: Do Comitê Técnico-Profissional Art15 - O Comitê Técnico-Profissional é órgão de assessoramento do Conselho Superior, com participação de representantes dos setores produtivos da sociedade, das Pró-Reitorias de ensino, pesquisa e extensão, de professores dos cursos e técnicos administrativos com atuação na área educacional do IFSP, com a finalidade de avaliar a pertinência das propostas de projetos e a oferta de cursos dos campi. Parágrafo único – A organização, a composição, a escolha dos representantes dos setores produtivos da sociedade e o funcionamento do Comitê Técnico-Profissional serão definidos em Regulamento Interno aprovado pelo Conselho Superior. SEÇÃO II - DO COLÉGIO DE DIRIGENTES Art16 - O Colégio de Dirigentes, de caráter consultivo, é o órgão de apoio ao processo decisório da Reitoria, possuindo a seguinte composição: I. o Reitor, como presidente; II. os Pró-Reitores; III. os Diretores-Gerais dos campi. Parágrafo Único - O Colégio de Dirigentes reunir-se-á, ordinariamente, uma vez por mês e, extraordinariamente, quando convocado por seu presidente ou por dois terços de seus membros. Art 17 - O Reitor será o presidente nato do Colégio de Dirigentes, a quem caberá, em caso de necessidade, o voto de qualidade. Parágrafo Único - No impedimento do Reitor, a presidência do Colégio de Dirigentes será exercida pelo seu substituto legal designado na forma da legislação pertinente. Art 18 - Ao Colégio de Dirigentes compete: I. apreciar e recomendar a distribuição interna de recursos; II. apreciar e recomendar as normas para celebração de acordos, convênios e contratos, bem como para elaboração de cartas de intenção ou de documentos equivalentes; III. propor a criação e alteração de funções e órgãos administrativos da estrutura organizacional do IFSP; IV. Apreciar e recomendar o calendário de referência anual; V. apreciar e recomendar normas de aperfeiçoamento da gestão; VI. apreciar os assuntos de interesse da administração do IFSP a ele submetido. CAPÍTULO II - DOS ÓRGÃOS COLEGIADOS. Art 19 – Os Órgãos Colegiados correspondem aos Conselhos de Ensino, de Pesquisa e Inovação, e de Extensão. Os respectivos Conselhos são órgãos consultivos, subordinados às diretrizes do Conselho Superior, com funções de supervisão nas matérias de ensino, pesquisa e extensão. São presididos por seus Pró-Reitores e têm sua composição e funcionamento definidos em Regulamento Próprio. As competências específicas estão definidas no Regimento-Geral do IFSP. CAPÍTULO III - DA REITORIA. Art 20 - O IFSP será dirigido por um Reitor, escolhido em processo eletivo pelos servidores do quadro ativo permanente \u001b[0m\u001b[32m(\u001b[0m\u001b[32mdocentes e técnicos administrativos\u001b[0m\u001b[32m)\u001b[0m\u001b[32m e pelos estudantes regularmente matriculados, nomeado na forma da legislação vigente, para um mandato de quatro anos, contados da data da posse, permitida uma recondução. Parágrafo único - O ato de nomeação a que se refere o caput levará em consideração a indicação feita pela comunidade escolar, mediante processo eletivo, nos termos da legislação vigente. Art 21 - Ao Reitor compete representar o IFSP, em juízo ou fora dele, bem como administrar, gerir, coordenar e superintender as atividades da Instituição. Parágrafo único - Nos impedimentos e nas ausências eventuais do Reitor, a Reitoria será exercida pelo seu substituto legal designado na forma da legislação pertinente. Art 22 - A vacância do cargo de Reitor decorrerá de: I. exoneração em virtude de processo disciplinar; II. demissão nos termos da Lei nº. 8.112, de 11 de dezembro de 1990; III. posse em outro cargo inacumulável; IV. falecimento; V. renúncia; VI. aposentadoria; VII. término do mandato. Parágrafo Único - Nos casos de vacância previstos no caput deste artigo, assumirá a Reitoria o seu substituto legal, designado na forma da legislação pertinente, com a incumbência de promover no prazo máximo de 90 dias o processo de consulta à comunidade para eleição do novo Reitor. Art 23 - A Reitoria é o órgão executivo do IFSP, cabendo-lhe a administração, coordenação e supervisão de todas as atividades da Autarquia. Art 24 - O IFSP tem administração de forma descentralizada, por meio de gestão delegada, em consonância com os termos do art. 9º da Lei nº. 11.892/2008, conforme disposto no Regimento-Geral. Parágrafo único - Os Diretores-Gerais dos campi respondem solidariamente com o Reitor por seus atos de gestão, no limite da delegação. SEÇÃO I - DO GABINETE Art 25 - O Gabinete, dirigido por um chefe nomeado pelo Reitor, é o órgão responsável por organizar, assistir, coordenar, fomentar e articular a ação política e administrativa da Reitoria. Art 26 - O Gabinete disporá de órgãos de apoio imediato, de Procuradoria Jurídica e de Assessorias Especiais. SEÇÃO II - DAS PRÓ-REITORIAS Art 27- As Pró-Reitorias, dirigidas por Pró-Reitores nomeados pelo Reitor, são órgãos executivos que planejam, definem, acompanham e avaliam as atividades e as políticas relacionadas às seguintes dimensões: I. À Pró-Reitoria de Ensino compete planejar, definir, acompanhar e avaliar o desenvolvimento das políticas e atividades acadêmicas, buscando o seu constante aprimoramento, em consonância com as diretrizes definidas pelo Ministério da Educação e com as disposições do Conselho Superior. II. À Pró-Reitoria de Extensão compete planejar, definir, acompanhar e avaliar as políticas e as atividades de extensão em suas relações com a sociedade e as empresas, buscando articulá-las ao ensino e à pesquisa, em consonância com as diretrizes definidas pelo Ministério da Educação e com as disposições do Conselho Superior. III. À Pró-Reitoria de Pesquisa, Inovação e Pós-graduação compete planejar, definir, acompanhar e avaliar as políticas e o desenvolvimento das atividades a ela relacionadas, buscando seu fortalecimento em todos os níveis de ensino do IFSP, em consonância com as diretrizes definidas pelo Ministério da Educação e com as disposições do Conselho Superior. IV. À Pró-Reitoria de Administração compete planejar, definir, acompanhar e avaliar as políticas e atividades de execução orçamentária, financeira e patrimonial, buscando o seu constante aprimoramento, em consonância com as diretrizes definidas pelo Ministério da Educação e com as disposições do Conselho Superior. \u001b[0m\u001b[32m(\u001b[0m\u001b[32mAlterado pela Resolução n.º 8/2014\u001b[0m\u001b[32m)\u001b[0m\u001b[32m V. À Pró-Reitoria de Desenvolvimento Institucional compete planejar, definir, acompanhar e avaliar tanto o desenvolvimento das atividades de gestão de pessoal, quanto o desenvolvimento das políticas definidas pela Reitoria, levantando e analisando os resultados obtidos e buscando o aprimoramento do processo educacional e administrativo, em consonância com as diretrizes definidas pelo Ministério da Educação e disposições do Conselho Superior. \u001b[0m\u001b[32m(\u001b[0m\u001b[32mAlterado pela Resolução n.º 8/2014\u001b[0m\u001b[32m)\u001b[0m\u001b[32m SEÇÃO III - DOS ÓRGÃOS DE APOIO Art 28 – Os órgãos de apoio são constituídos por Comissões definidas por Regulamento próprio e/ou legislação vigente, sendo responsáveis pela formulação, acompanhamento e avaliação de políticas de pessoal docente e técnicos administrativos. SEÇÃO IV - DA PROCURADORIA JURÍDICA Art 29 – A Procuradoria Jurídica do IFSP é órgão de execução integrante da Procuradoria-Geral Federal, vinculado à Reitoria e à Procuradoria Federal no Estado de São Paulo, incumbida de prestar assessoramento e consultoria jurídica aos órgãos superiores da Administração do IFSP, com competências e atribuições determinadas pela legislação em vigor. CAPÍTULO IV - DOS ÓRGÃOS DESCENTRALIZADOS. Art 30 - Os órgãos descentralizados correspondentes ao inciso IV do Art 8º terão sua estrutura, composição, competências, organização e funcionamento definidos e regulados em regulamento próprio aprovado por resolução do Conselho Superior. Parágrafo único. Os Diretores-Gerais são escolhidos e nomeados de acordo com o que determina o art. 13 da Lei n.º 11.892/2008, para mandato de quatro anos, contados da data da posse, permitida uma recondução. TÍTULO III - DO REGIME ACADÊMICO. CAPÍTULO I - DO ENSINO. Art 31 - O currículo do IFSP está fundamentado em bases filosóficas, epistemológicas, metodológicas, socioculturais e legais, expressas no seu projeto político- institucional, sendo norteado pelos princípios da estética, da sensibilidade, da política da igualdade, da ética, da identidade, da interdisciplinaridade, da contextualização, da flexibilidade e da educação como processo de formação na vida e para a vida, a partir de uma concepção de sociedade, trabalho, cultura, educação, tecnologia e ser humano. Art 32 - As ofertas educacionais do IFSP estão organizadas por formação inicial e continuada de trabalhadores, educação profissional técnica de nível médio e educação superior de graduação e pós-graduação. CAPÍTULO II - DA EXTENSÃO. Art 33 - As ações de extensão constituem um processo educativo, cultural e científico que articula o ensino e a pesquisa de forma indissociável, para viabilizar uma relação transformadora entre o IFSP e a sociedade. Art 34 - As atividades de extensão têm como objetivo apoiar o desenvolvimento social pela oferta de cursos e realização de atividades específicas. CAPÍTULO III - DA PESQUISA, INOVAÇÃO E PÓS-GRADUAÇÃO. Art 35 - As ações de pesquisa constituem um processo educativo para a investigação e o empreendedorismo, visando à inovação e à solução de problemas científicos e tecnológicos, envolvendo todos os níveis e modalidades de ensino, com vistas ao desenvolvimento social. Art 36 - As atividades de pesquisa têm como objetivo formar recursos humanos para a investigação, a produção, o empreendedorismo e a difusão de conhecimentos culturais, artísticos, científicos e tecnológicos, sendo desenvolvidas em articulação com o ensino e a extensão, ao longo de toda a formação profissional. TÍTULO IV - DA COMUNIDADE ACADÊMICA. CAPÍTULO I - DO CORPO DISCENTE. Art 37 - A comunidade acadêmica do IFSP é composta pelos corpos discente, docente e técnico-administrativo. Art 38 - O corpo discente do IFSP é constituído por alunos matriculados nos diversos cursos e programas oferecidos pela Instituição. § 1º. Os alunos do IFSP que cumprirem integralmente o currículo dos cursos e programas farão jus a diploma ou certificado na forma e nas condições previstas na organização didática. § 2º. Os alunos em regime de matrícula especial somente farão jus à declaração das disciplinas cursadas ou das competências adquiridas. Art 39 - Somente os alunos com matrícula regular ativa nos cursos técnicos de nível médio, de graduação e de pós-graduação poderão votar e ser votados para as representações discentes do Conselho Superior, bem como participar dos processos eletivos para escolha do Reitor e Diretores-Gerais dos campi. CAPÍTULO II - DO CORPO DOCENTE. Art 40 - O corpo docente é constituído pelos professores integrantes do quadro permanente de pessoal do IFSP, regidos pelo Regime Jurídico Único, e demais professores admitidos na forma da lei. CAPÍTULO III - DO CORPO TÉCNICO-ADMINISTRATIVO. Art 41 - O corpo técnico-administrativo é constituído pelos servidores integrantes do quadro permanente de pessoal do IFSP, regidos pelo Regime Jurídico Único, que exerçam atividades de apoio técnico, administrativo e operacional. CAPÍTULO IV - DO REGIME DISCIPLINAR. Art 42 - O regime disciplinar do corpo discente é estabelecido em regulamento próprio aprovado pelo Conselho Superior. Art 43 - O regime disciplinar do corpo docente e técnico-administrativo do IFSP observa as disposições legais, normas e regulamentos sobre a ordem disciplinar e sanções aplicáveis, bem como os recursos cabíveis, previstos pela legislação federal. TÍTULO V - DOS DIPLOMAS, CERTIFICADOS E TÍTULOS. Art 44 - O IFSP expedirá e registrará seus diplomas em conformidade com o §3º do art. 2º. da Lei n.º 11.892/2008 e emitirá certificados a alunos concluintes de cursos e programas. Art 45 - No âmbito de sua atuação, o IFSP funciona como instituição acreditadora e certificadora de competências profissionais, nos termos da legislação vigente. Art 46 - O IFSP poderá conferir títulos de Mérito Acadêmico, conforme disciplinado no Regimento-Geral. TÍTULO VI - DO PATRIMÔNIO. Art 47 - O patrimônio do IFSP é constituído por: I. bens e direitos que compõem o patrimônio da Reitoria e de cada um dos campi que o integram; II. bens e direitos que vier a adquirir; III. doações ou legados que receber; IV. incorporações que resultem de serviços por ele realizados. Parágrafo único. Os bens e direitos do IFSP devem ser utilizados ou aplicados, exclusivamente, para a consecução de seus objetivos, não podendo ser alienados, exceto nos casos e condições permitidos em lei. TÍTULO VII - DAS DISPOSIÇÕES GERAIS. Art 48 - O IFSP, conforme suas necessidades específicas, poderá constituir órgãos colegiados de natureza normativa e consultiva e comissões técnicas e/ou administrativas. Art 49 - A alteração do presente Estatuto exigirá quorum qualificado de dois terços dos integrantes do Conselho Superior, mediante deliberação em sessão convocada exclusivamente para tal fim. Parágrafo único. A convocação da sessão para os fins do caput será feita pelo Reitor ex officio ou pela maioria simples dos membros do Conselho Superior. Art 50 - Os casos omissos neste Estatuto serão submetidos à apreciação do Conselho Superior do IFSP. '\u001b[0m,\n",
              "\u001b[2;32m│   \u001b[0m\u001b[33mstart_char_idx\u001b[0m=\u001b[3;35mNone\u001b[0m,\n",
              "\u001b[2;32m│   \u001b[0m\u001b[33mend_char_idx\u001b[0m=\u001b[3;35mNone\u001b[0m,\n",
              "\u001b[2;32m│   \u001b[0m\u001b[33mtext_template\u001b[0m=\u001b[32m'\u001b[0m\u001b[32m{\u001b[0m\u001b[32mmetadata_str\u001b[0m\u001b[32m}\u001b[0m\u001b[32m\\n\\n\u001b[0m\u001b[32m{\u001b[0m\u001b[32mcontent\u001b[0m\u001b[32m}\u001b[0m\u001b[32m'\u001b[0m,\n",
              "\u001b[2;32m│   \u001b[0m\u001b[33mmetadata_template\u001b[0m=\u001b[32m'\u001b[0m\u001b[32m{\u001b[0m\u001b[32mkey\u001b[0m\u001b[32m}\u001b[0m\u001b[32m: \u001b[0m\u001b[32m{\u001b[0m\u001b[32mvalue\u001b[0m\u001b[32m}\u001b[0m\u001b[32m'\u001b[0m,\n",
              "\u001b[2;32m│   \u001b[0m\u001b[33mmetadata_seperator\u001b[0m=\u001b[32m'\\n'\u001b[0m\n",
              "\u001b[1m)\u001b[0m\n"
            ],
            "text/html": [
              "<pre style=\"white-space:pre;overflow-x:auto;line-height:normal;font-family:Menlo,'DejaVu Sans Mono',consolas,'Courier New',monospace\"><span style=\"color: #800080; text-decoration-color: #800080; font-weight: bold\">Document</span><span style=\"font-weight: bold\">(</span>\n",
              "<span style=\"color: #7fbf7f; text-decoration-color: #7fbf7f\">│   </span><span style=\"color: #808000; text-decoration-color: #808000\">id_</span>=<span style=\"color: #008000; text-decoration-color: #008000\">'0'</span>,\n",
              "<span style=\"color: #7fbf7f; text-decoration-color: #7fbf7f\">│   </span><span style=\"color: #808000; text-decoration-color: #808000\">embedding</span>=<span style=\"color: #800080; text-decoration-color: #800080; font-style: italic\">None</span>,\n",
              "<span style=\"color: #7fbf7f; text-decoration-color: #7fbf7f\">│   </span><span style=\"color: #808000; text-decoration-color: #808000\">metadata</span>=<span style=\"font-weight: bold\">{</span><span style=\"color: #008000; text-decoration-color: #008000\">'doc_name'</span>: <span style=\"color: #008000; text-decoration-color: #008000\">'Estatuto'</span>, <span style=\"color: #008000; text-decoration-color: #008000\">'category'</span>: <span style=\"color: #008000; text-decoration-color: #008000\">'Reitoria'</span><span style=\"font-weight: bold\">}</span>,\n",
              "<span style=\"color: #7fbf7f; text-decoration-color: #7fbf7f\">│   </span><span style=\"color: #808000; text-decoration-color: #808000\">excluded_embed_metadata_keys</span>=<span style=\"font-weight: bold\">[]</span>,\n",
              "<span style=\"color: #7fbf7f; text-decoration-color: #7fbf7f\">│   </span><span style=\"color: #808000; text-decoration-color: #808000\">excluded_llm_metadata_keys</span>=<span style=\"font-weight: bold\">[]</span>,\n",
              "<span style=\"color: #7fbf7f; text-decoration-color: #7fbf7f\">│   </span><span style=\"color: #808000; text-decoration-color: #808000\">relationships</span>=<span style=\"font-weight: bold\">{}</span>,\n",
              "<span style=\"color: #7fbf7f; text-decoration-color: #7fbf7f\">│   </span><span style=\"color: #808000; text-decoration-color: #808000\">text</span>=<span style=\"color: #008000; text-decoration-color: #008000\">'ESTATUTO. TÍTULO I - DA INSTITUIÇÃO. CAPÍTULO I - DA NATUREZA E DAS FINALIDADES. Art 1º - O INSTITUTO FEDERAL DE EDUCAÇÃO, CIÊNCIA E TECNOLOGIA DE SÃO PAULO – IFSP, com sede e foro na cidade de São Paulo, criado nos termos da Lei nº. 11.892, de 29 de dezembro de 2008, constitui-se em autarquia federal, vinculada ao Ministério da Educação, detentora de autonomia administrativa, patrimonial, financeira, didático-pedagógica e disciplinar. §1º- O IFSP é domiciliado na sede de sua Reitoria, situada na Rua Pedro Vicente, 625, Canindé, São Paulo. §2º- O IFSP é uma instituição de educação superior, básica e profissional, pluricurricular e multicampi, especializada na oferta de educação profissional e tecnológica nas diferentes modalidades de ensino, com base na conjugação de conhecimentos técnicos e tecnológicos com a sua prática pedagógica, nos termos da lei. Tem como sedes, para os fins da legislação educacional: I. Reitoria, no endereço citado no §1º. II. Campus São Paulo, situado na Rua Pedro Vicente, 625, Canindé, São Paulo. III. Campus Cubatão, situado na Rua Maria Cristina, 50, Jardim Casqueiro, Cubatão. IV. Campus Sertãozinho, situado na Rua Américo Ambrósio, 269, Jardim Canaã, Sertãozinho. V. Campus Guarulhos, situado na Avenida Salgado Filho, 2501, Bairro Vila Rio de Janeiro, Guarulhos. VI. Campus São João da Boa Vista, situado no Acesso Dr. João Batista Merlin, s/ n.º, Jardim Itália, São João da Boa Vista. VII. Campus Caraguatatuba, situado na Avenida Rio Grande do Norte, 450, Indaiá, Caraguatatuba. VIII. Campus Bragança Paulista, situado na Avenida Francisco Samuel Lucchesi Filho, 770, Penha, Bragança Paulista. IX. Campus Salto, situado na Rua Rio Branco, 1780, Vila Teixeira, Salto. X. Campus São Roque, situado na Rodovia Quintino de Lima, 2100, Jardim Conceição, São Roque. XI. Campus São Carlos, situado na Rodovia Washington Luís, km 235 AT-6, Sala 119, São Carlos. XII. Campus Campos do Jordão, situado na Rua Monsenhor José Vita, 280, Vila Abernéssia, Campos do Jordão. XIII. Campus Barretos, situado na Avenida C-1, Bairro Ide Daher, Barretos. XIV. Campus Suzano, situado na Avenida Mogi das Cruzes, 1.501, Parque Suzano, Suzano. XV. Campus Campinas, situado na Rodovia D. Pedro I – SP 65 – KM 143,6, Amarais, Campinas; XVI. Campus Catanduva, situado na Avenida Imperatriz, s/ n.º, Distrito Industrial, Catanduva. XVII. Campus Avaré, situado na Avenida Professor Celso Ferreira da Silva, s/ n.º, Jardim Europa, Avaré. XVIII. Campus Araraquara, situado no Ramal de Acesso Engenheiro Heitor de Souza Pinheiro, Araraquara. XIX. Campus Itapetininga, situado na Avenida João Olímpio de Oliveira, Bairro Assen, Itapetininga. XX. Campus Birigui, situado na Rua Pedro Cavalo, 709, Residencial Portal da Pérola II, Birigui. XXI. Campus Votuporanga, situado na Rua Pará, s/ n.º, Chácara Aviação, Votuporanga. XXII. Campus Registro, situado na Rua Clara Gianotti de Souza, 5.180, Agrochá, Registro. XXIII. Campus Presidente Epitácio, situado na Rua Rua José Ramos Júnior, nº 27-50, Jardim Tropical, Presidente Epitácio. XXIV. Campus Piracicaba, situado na Rodovia Deputado Laércio Corte, s/ n.º, Bairro Santa Rosa, Piracicaba. XXV. Campus Hortolândia, situado na Rodovia Municipal TeodorCondiev, 1896, Hortolândia. XXVI. Campus Boituva, situado na Avenida Zélia de Lima Rosa, nº 100, Portal dos Pássaros, Boituva. XXVII. Campus Capivari, situado na Avenida Ênio Pires de Camargo, 2971, São João Batista, Capivari. XXVIII. Campus Matão, situado na Rua José Bonifácio, 1176, Centro, Matão. XXIX. Campus São José dos Campos, situado na Rodovia Presidente Dutra s/n – km 145, Jardim Diamante, São José dos Campos. XXXI. Núcleo Avançado de Assis, situado na Avenida Getúlio Vargas nº 1200, Vila Nova Santana, Assis. § 3º- Para efeito da incidência das disposições que regem a regulação, avaliação e supervisão da Instituição e dos cursos de educação superior, o IFSP é equiparado às universidades federais. § 4º- O IFSP possui limite de atuação territorial para criar e extinguir cursos, bem como para registrar diplomas dos cursos por ele oferecidos, circunscrito ao Estado de São Paulo, aplicando-se, no caso de oferta de ensino a distância, legislação específica. Art 2º - O IFSP rege-se pelos atos normativos mencionados no caput do Art 1º, pela legislação federal e pelos seguintes instrumentos normativos: I. Estatuto. II. Regimento-Geral. III. Regimento dos campi. IV. Atos Administrativos do IFSP. Art 3º - Os atos administrativos do IFSP obedecerão à forma de: I. Resolução; II. Parecer; III. Portaria; IV. Instrução Normativa; V. Comunicado. CAPÍTULO II - DOS PRINCÍPIOS, DAS FINALIDADES, DAS CARACTERÍSTICAS E DOS OBJETIVOS. Art 4º - O IFSP, em sua atuação, observa os seguintes princípios norteadores: I. compromisso com a justiça social, a equidade, a cidadania, a ética, a preservação do meio ambiente, a transparência e a gestão democrática; II. verticalização do ensino e sua integração com a pesquisa e a extensão; III. eficácia nas respostas de formação profissional, difusão do conhecimento científico e tecnológico e suporte aos arranjos produtivos locais, sociais e culturais; IV. inclusão de pessoas com necessidades educacionais especiais e deficiências específicas; V. natureza pública e gratuita do ensino, sob a responsabilidade da União. Art 5º - O IFSP tem as seguintes finalidades e características: I. ofertar educação profissional e tecnológica, em todos os seus níveis e modalidades, formando e qualificando cidadãos com vistas à atuação profissional nos diversos setores da economia, com ênfase no desenvolvimento socioeconômico local, regional e nacional; II. desenvolver a educação profissional e tecnológica como processo educativo e investigativo de geração e adaptação de soluções técnicas e tecnológicas às demandas sociais e peculiaridades regionais; III. promover a integração e a verticalização da educação básica à educação profissional e educação superior, otimizando a infraestrutura física, os quadros de pessoal e os recursos de gestão; IV. orientar sua oferta formativa em benefício da consolidação e do fortalecimento dos arranjos produtivos, sociais e culturais locais, identificados com base no mapeamento das potencialidades de desenvolvimento socioeconômico e cultural no âmbito de atuação do IFSP; V. constituir-se em centro de excelência na oferta do ensino de Ciências, em geral, e de Ciências Aplicadas, em particular, estimulando o desenvolvimento de espírito crítico, voltado à investigação empírica; VI. qualificar-se como centro de referência no apoio à oferta do ensino de Ciências nas instituições públicas de ensino, oferecendo capacitação técnica e atualização pedagógica aos docentes das redes públicas de ensino; VII. desenvolver programas de extensão e de divulgação cultural científica e tecnológica; VIII. realizar e estimular a pesquisa, a produção cultural, o empreendedorismo, o cooperativismo e o desenvolvimento científico e tecnológico; IX. promover a produção, o desenvolvimento e a transferência de tecnologias sociais, notadamente as voltadas à preservação do meio ambiente. Art 6º - O IFSP tem os seguintes objetivos: I. ministrar educação profissional técnica de nível médio, prioritariamente na forma de cursos integrados, para os concluintes do ensino fundamental e para o público da Educação de Jovens e Adultos; II. ministrar cursos de formação inicial e continuada de trabalhadores, tendo como objetivo a capacitação, o aperfeiçoamento, a especialização e a atualização de profissionais, em todos os níveis de escolaridade, nas áreas da educação profissional e tecnológica; III. realizar pesquisas, estimulando o desenvolvimento de soluções técnicas e tecnológicas, estendendo seus benefícios à comunidade; IV. desenvolver atividades de extensão de acordo com os princípios e finalidades da educação profissional e tecnológica, em articulação com o mundo do trabalho e os segmentos sociais, e com ênfase na produção, desenvolvimento e difusão de conhecimentos científicos e tecnológicos; V. estimular e apoiar processos educativos que levem à geração de trabalho e renda e à emancipação do cidadão na perspectiva do desenvolvimento socioeconômico local e regional; VI. ministrar em nível de educação superior: a) cursos superiores de tecnologia visando à formação de profissionais para os diferentes setores da economia; b) cursos de licenciatura, bem como programas especiais de formação pedagógica, com vistas à formação de professores para a educação básica, sobretudo nas áreas de Ciências e Matemática, e para a educação profissional; c) cursos de bacharelado e engenharia, visando à formação de profissionais para os diferentes setores da economia e áreas do conhecimento; d) cursos de pós-graduação lato sensu de aperfeiçoamento e especialização, visando à formação de especialistas nas diferentes áreas do conhecimento; e) cursos de pós-graduação stricto sensu de mestrado e doutorado, que contribuam para promover o estabelecimento de bases sólidas em Educação, Ciência e Tecnologia, com vistas ao processo de geração e inovação tecnológica. Art 7º - No desenvolvimento da sua ação acadêmica, o IFSP, em cada exercício, deverá garantir o mínimo de 50% de suas vagas para a educação profissional técnica de nível médio, e o mínimo de 20 % das vagas para cursos de licenciatura e/ou programas especiais de formação pedagógica, ressalvado o caso previsto no §2º do art. 8º da Lei nº. 11.892/2008. CAPÍTULO III - DA ORGANIZAÇÃO ADMINISTRATIVA. Art 8º - A organização geral do IFSP compreende: I. ÓRGÃOS SUPERIORES a) Conselho Superior; 1. Órgão de Controle: Unidade Auditoria Interna; 2. Comitê Técnico-Profissional. b) Colégio de Dirigentes. II. ÓRGÃOS COLEGIADOS a) Conselho de Ensino; b) Conselho de Pesquisa e Inovação; c) Conselho de Extensão. III. ÓRGÃOS EXECUTIVOS a) Reitoria: 1. Gabinete; 2. Assessorias; 3. Procuradoria Jurídica. b) Órgãos de Apoio. c) Pró-Reitorias: 1. Pró-Reitoria de Ensino; 2. Pró-Reitoria de Extensão; 3. Pró-Reitoria de Pesquisa, Inovação e Pós-graduação; 4. Pró-Reitoria de Administração; 5. Pró-Reitoria de Desenvolvimento Institucional. d) Ouvidoria. e) Comissão de Ética. IV. ÓRGÃOS DESCENTRALIZADOS a) Campi, que para fins da legislação educacional, são considerados sedes. 1. Órgão Superior do Campus: Conselho de Campus; 2. Órgão Executivo: Diretoria-Geral. b) Polos de Educação a Distância; c) Núcleos Avançados; d) Unidades de Educação Profissional (UEP). §1º- O detalhamento da estrutura organizacional do IFSP, as competências das unidades administrativas e as atribuições dos respectivos dirigentes serão estabelecidas no seu Regimento-Geral. §2º- O Regimento-Geral poderá dispor sobre a estruturação e funcionamento de outros órgãos colegiados que tratem de temas específicos vinculados à Reitoria e às Pró- Reitorias. Art 9º - A administração do IFSP terá como órgãos superiores o Conselho Superior e o Colégio de Dirigentes. Art 10 - O IFSP terá como órgão executivo a Reitoria, composta por um Reitor e cinco Pró-Reitores. §1º- Poderão ser nomeados como Pró-Reitores os servidores ocupantes de cargo efetivo da carreira docente ou de cargo efetivo de nível superior da carreira dos técnicos administrativos do Plano de Carreira dos Cargos Técnico-Administrativos em Educação, desde que possuam o mínimo de cinco anos de efetivo exercício em instituição federal de educação profissional e tecnológica. §2º- A Reitoria, como órgão de administração central, terá sua sede na cidade de São Paulo e poderá ser instalada em espaço físico distinto do Campus São Paulo. TÍTULO II - DA GESTÃO. CAPÍTULO I - DOS ÓRGÃOS SUPERIORES. SEÇÃO I - DO CONSELHO SUPERIOR Art 11 - O Conselho Superior, de caráter consultivo e deliberativo, é o órgão máximo do IFSP, tendo a seguinte composição: I. o Reitor, como presidente; II. representação de um terço do número de campi, destinada aos servidores docentes, sendo o mínimo de dois e o máximo de cinco representantes e igual número de suplentes, eleitos por seus pares, na forma regimental; III. representação de um terço do número de campi, destinada ao corpo discente, sendo o mínimo de dois e o máximo de cinco representantes e igual número de suplentes, eleitos por seus pares, na forma regimental; IV. representação de um terço do número de campi, destinada aos servidores técnico- administrativos, sendo o mínimo de dois e o máximo de cinco representantes e igual número de suplentes, eleitos por seus pares, na forma regimental; V. dois representantes dos discentes egressos do IFSP e igual número de suplentes, indicados por seus pares; VI. seis representantes da sociedade civil e igual número de suplentes, sendo dois indicados por entidades patronais, dois indicados por entidades dos trabalhadores, dois representantes do setor público e/ou de empresas estatais, designados pela Secretaria de Educação Profissional e Tecnológica; VII. um representante e um suplente do Ministério da Educação, designado pela Secretaria de Educação Profissional e Tecnológica; VIII. representação de um terço dos Diretores-Gerais de campi, sendo o mínimo de dois e o máximo de cinco e igual número de suplentes, eleitos por seus pares, na forma regimental. § 1°- Os membros do Conselho Superior (titulares e suplentes), de que tratam os incisos II, III, IV, V e VIII, serão designados por ato do Reitor. § 2º- Os mandatos serão de dois anos, permitida uma recondução para o período imediatamente subsequente, exceto aos membros natos, de que tratam os incisos I e VIII. § 3º- Com relação aos membros de que tratam os incisos II, III e IV, cada campus que compõe o IFSP poderá ter, no máximo, uma representação por categoria. §4º- Serão membros vitalícios do Conselho Superior todos os ex-Reitores do IFSP, sem direito a voto. §5º- Ocorrendo o afastamento definitivo de qualquer membro do Conselho Superior, assumirá o respectivo suplente para a complementação do mandato originalmente estabelecido, realizando-se nova eleição para a escolha de suplentes. §6º- Os membros relacionados nos incisos II a V que se enquadrarem em mais de uma categoria somente poderão se candidatar na categoria mais recente no IFSP. §7°- Os membros relacionados nos incisos II e IV não poderão ocupar, concomitantemente, cargos de confiança da estrutura organizacional do IFSP. §8º- Os procedimentos de trabalho do Conselho Superior serão disciplinados no seu regulamento o qual será aprovado por seus membros. §9º- O Conselho Superior reunir-se-á, ordinariamente, mensalmente e, extraordinariamente, quando convocado por seu Presidente ou por dois terços de seus membros. Art 12 - O Reitor será o presidente nato do Conselho Superior, a quem caberá, em caso de necessidade, o voto de qualidade. Parágrafo Único - No impedimento do Reitor do IFSP, a presidência do Conselho Superior será exercida pelo seu substituto legal designado na forma da legislação pertinente. Art 13 - Ao Conselho Superior compete: I. aprovar as diretrizes para atuação do IFSP e zelar pela execução de sua política educacional; II. deflagrar, aprovar as normas e coordenar o processo de consulta à comunidade escolar para escolha do Reitor do IFSP e dos Diretores-Gerais dos campi, em consonância com o estabelecido nos artigos 12 e 13 da Lei nº. 11.892/2008; III. aprovar o Plano de Desenvolvimento Institucional e acompanhamento por meio dos documentos institucionais e apreciar a proposta orçamentária anual; IV. aprovar o projeto político-pedagógico, a organização didática, os regulamentos internos e as normas disciplinares; V. aprovar normas relativas à acreditação e à certificação de competências profissionais, nos termos da legislação vigente; VI. autorizar o Reitor a conferir títulos de mérito acadêmico; VII. apreciar as contas do exercício financeiro e o relatório de gestão anual, emitindo parecer conclusivo sobre a propriedade e regularidade dos registros; VIII. deliberar sobre taxas, emolumentos e contribuições por prestação de serviços em geral a serem cobrados pelo IFSP; IX. autorizar a criação, a alteração curricular e a extinção de cursos no âmbito do IFSP, bem como o registro de diplomas; X. aprovar a estrutura administrativa e o Regimento-Geral do IFSP, observados os parâmetros definidos pelo Governo Federal e pela legislação específica; XI. deliberar sobre questões submetidas à sua apreciação. Subseção I: Da Auditoria Interna Art14 - A Unidade de Auditoria Interna é órgão de assessoramento do Conselho Superior, ao qual está vinculada, nos termos do §3º do artigo 15 do Decreto 3591/2000, responsável por fortalecer e assessorar a gestão, bem como racionalizar as ações do IFSP e prestar apoio, dentro de suas especificidades no âmbito do IFSP, aos órgãos do Sistema de Controle Interno do Poder Executivo Federal e ao Tribunal de Contas da União, respeitada a legislação pertinente. § 1º. A Unidade de Auditoria Interna será dirigida por um auditor-chefe. § 2º. O auditor-chefe do IFSP será substituído, em suas faltas e impedimentos, por um componente da equipe técnica, previamente designado pelo Reitor. Parágrafo único – A organização e o funcionamento da Unidade de Auditoria Interna serão definidos em Regulamento Interno aprovado pelo Conselho Superior Subseção II: Do Comitê Técnico-Profissional Art15 - O Comitê Técnico-Profissional é órgão de assessoramento do Conselho Superior, com participação de representantes dos setores produtivos da sociedade, das Pró-Reitorias de ensino, pesquisa e extensão, de professores dos cursos e técnicos administrativos com atuação na área educacional do IFSP, com a finalidade de avaliar a pertinência das propostas de projetos e a oferta de cursos dos campi. Parágrafo único – A organização, a composição, a escolha dos representantes dos setores produtivos da sociedade e o funcionamento do Comitê Técnico-Profissional serão definidos em Regulamento Interno aprovado pelo Conselho Superior. SEÇÃO II - DO COLÉGIO DE DIRIGENTES Art16 - O Colégio de Dirigentes, de caráter consultivo, é o órgão de apoio ao processo decisório da Reitoria, possuindo a seguinte composição: I. o Reitor, como presidente; II. os Pró-Reitores; III. os Diretores-Gerais dos campi. Parágrafo Único - O Colégio de Dirigentes reunir-se-á, ordinariamente, uma vez por mês e, extraordinariamente, quando convocado por seu presidente ou por dois terços de seus membros. Art 17 - O Reitor será o presidente nato do Colégio de Dirigentes, a quem caberá, em caso de necessidade, o voto de qualidade. Parágrafo Único - No impedimento do Reitor, a presidência do Colégio de Dirigentes será exercida pelo seu substituto legal designado na forma da legislação pertinente. Art 18 - Ao Colégio de Dirigentes compete: I. apreciar e recomendar a distribuição interna de recursos; II. apreciar e recomendar as normas para celebração de acordos, convênios e contratos, bem como para elaboração de cartas de intenção ou de documentos equivalentes; III. propor a criação e alteração de funções e órgãos administrativos da estrutura organizacional do IFSP; IV. Apreciar e recomendar o calendário de referência anual; V. apreciar e recomendar normas de aperfeiçoamento da gestão; VI. apreciar os assuntos de interesse da administração do IFSP a ele submetido. CAPÍTULO II - DOS ÓRGÃOS COLEGIADOS. Art 19 – Os Órgãos Colegiados correspondem aos Conselhos de Ensino, de Pesquisa e Inovação, e de Extensão. Os respectivos Conselhos são órgãos consultivos, subordinados às diretrizes do Conselho Superior, com funções de supervisão nas matérias de ensino, pesquisa e extensão. São presididos por seus Pró-Reitores e têm sua composição e funcionamento definidos em Regulamento Próprio. As competências específicas estão definidas no Regimento-Geral do IFSP. CAPÍTULO III - DA REITORIA. Art 20 - O IFSP será dirigido por um Reitor, escolhido em processo eletivo pelos servidores do quadro ativo permanente (docentes e técnicos administrativos) e pelos estudantes regularmente matriculados, nomeado na forma da legislação vigente, para um mandato de quatro anos, contados da data da posse, permitida uma recondução. Parágrafo único - O ato de nomeação a que se refere o caput levará em consideração a indicação feita pela comunidade escolar, mediante processo eletivo, nos termos da legislação vigente. Art 21 - Ao Reitor compete representar o IFSP, em juízo ou fora dele, bem como administrar, gerir, coordenar e superintender as atividades da Instituição. Parágrafo único - Nos impedimentos e nas ausências eventuais do Reitor, a Reitoria será exercida pelo seu substituto legal designado na forma da legislação pertinente. Art 22 - A vacância do cargo de Reitor decorrerá de: I. exoneração em virtude de processo disciplinar; II. demissão nos termos da Lei nº. 8.112, de 11 de dezembro de 1990; III. posse em outro cargo inacumulável; IV. falecimento; V. renúncia; VI. aposentadoria; VII. término do mandato. Parágrafo Único - Nos casos de vacância previstos no caput deste artigo, assumirá a Reitoria o seu substituto legal, designado na forma da legislação pertinente, com a incumbência de promover no prazo máximo de 90 dias o processo de consulta à comunidade para eleição do novo Reitor. Art 23 - A Reitoria é o órgão executivo do IFSP, cabendo-lhe a administração, coordenação e supervisão de todas as atividades da Autarquia. Art 24 - O IFSP tem administração de forma descentralizada, por meio de gestão delegada, em consonância com os termos do art. 9º da Lei nº. 11.892/2008, conforme disposto no Regimento-Geral. Parágrafo único - Os Diretores-Gerais dos campi respondem solidariamente com o Reitor por seus atos de gestão, no limite da delegação. SEÇÃO I - DO GABINETE Art 25 - O Gabinete, dirigido por um chefe nomeado pelo Reitor, é o órgão responsável por organizar, assistir, coordenar, fomentar e articular a ação política e administrativa da Reitoria. Art 26 - O Gabinete disporá de órgãos de apoio imediato, de Procuradoria Jurídica e de Assessorias Especiais. SEÇÃO II - DAS PRÓ-REITORIAS Art 27- As Pró-Reitorias, dirigidas por Pró-Reitores nomeados pelo Reitor, são órgãos executivos que planejam, definem, acompanham e avaliam as atividades e as políticas relacionadas às seguintes dimensões: I. À Pró-Reitoria de Ensino compete planejar, definir, acompanhar e avaliar o desenvolvimento das políticas e atividades acadêmicas, buscando o seu constante aprimoramento, em consonância com as diretrizes definidas pelo Ministério da Educação e com as disposições do Conselho Superior. II. À Pró-Reitoria de Extensão compete planejar, definir, acompanhar e avaliar as políticas e as atividades de extensão em suas relações com a sociedade e as empresas, buscando articulá-las ao ensino e à pesquisa, em consonância com as diretrizes definidas pelo Ministério da Educação e com as disposições do Conselho Superior. III. À Pró-Reitoria de Pesquisa, Inovação e Pós-graduação compete planejar, definir, acompanhar e avaliar as políticas e o desenvolvimento das atividades a ela relacionadas, buscando seu fortalecimento em todos os níveis de ensino do IFSP, em consonância com as diretrizes definidas pelo Ministério da Educação e com as disposições do Conselho Superior. IV. À Pró-Reitoria de Administração compete planejar, definir, acompanhar e avaliar as políticas e atividades de execução orçamentária, financeira e patrimonial, buscando o seu constante aprimoramento, em consonância com as diretrizes definidas pelo Ministério da Educação e com as disposições do Conselho Superior. (Alterado pela Resolução n.º 8/2014) V. À Pró-Reitoria de Desenvolvimento Institucional compete planejar, definir, acompanhar e avaliar tanto o desenvolvimento das atividades de gestão de pessoal, quanto o desenvolvimento das políticas definidas pela Reitoria, levantando e analisando os resultados obtidos e buscando o aprimoramento do processo educacional e administrativo, em consonância com as diretrizes definidas pelo Ministério da Educação e disposições do Conselho Superior. (Alterado pela Resolução n.º 8/2014) SEÇÃO III - DOS ÓRGÃOS DE APOIO Art 28 – Os órgãos de apoio são constituídos por Comissões definidas por Regulamento próprio e/ou legislação vigente, sendo responsáveis pela formulação, acompanhamento e avaliação de políticas de pessoal docente e técnicos administrativos. SEÇÃO IV - DA PROCURADORIA JURÍDICA Art 29 – A Procuradoria Jurídica do IFSP é órgão de execução integrante da Procuradoria-Geral Federal, vinculado à Reitoria e à Procuradoria Federal no Estado de São Paulo, incumbida de prestar assessoramento e consultoria jurídica aos órgãos superiores da Administração do IFSP, com competências e atribuições determinadas pela legislação em vigor. CAPÍTULO IV - DOS ÓRGÃOS DESCENTRALIZADOS. Art 30 - Os órgãos descentralizados correspondentes ao inciso IV do Art 8º terão sua estrutura, composição, competências, organização e funcionamento definidos e regulados em regulamento próprio aprovado por resolução do Conselho Superior. Parágrafo único. Os Diretores-Gerais são escolhidos e nomeados de acordo com o que determina o art. 13 da Lei n.º 11.892/2008, para mandato de quatro anos, contados da data da posse, permitida uma recondução. TÍTULO III - DO REGIME ACADÊMICO. CAPÍTULO I - DO ENSINO. Art 31 - O currículo do IFSP está fundamentado em bases filosóficas, epistemológicas, metodológicas, socioculturais e legais, expressas no seu projeto político- institucional, sendo norteado pelos princípios da estética, da sensibilidade, da política da igualdade, da ética, da identidade, da interdisciplinaridade, da contextualização, da flexibilidade e da educação como processo de formação na vida e para a vida, a partir de uma concepção de sociedade, trabalho, cultura, educação, tecnologia e ser humano. Art 32 - As ofertas educacionais do IFSP estão organizadas por formação inicial e continuada de trabalhadores, educação profissional técnica de nível médio e educação superior de graduação e pós-graduação. CAPÍTULO II - DA EXTENSÃO. Art 33 - As ações de extensão constituem um processo educativo, cultural e científico que articula o ensino e a pesquisa de forma indissociável, para viabilizar uma relação transformadora entre o IFSP e a sociedade. Art 34 - As atividades de extensão têm como objetivo apoiar o desenvolvimento social pela oferta de cursos e realização de atividades específicas. CAPÍTULO III - DA PESQUISA, INOVAÇÃO E PÓS-GRADUAÇÃO. Art 35 - As ações de pesquisa constituem um processo educativo para a investigação e o empreendedorismo, visando à inovação e à solução de problemas científicos e tecnológicos, envolvendo todos os níveis e modalidades de ensino, com vistas ao desenvolvimento social. Art 36 - As atividades de pesquisa têm como objetivo formar recursos humanos para a investigação, a produção, o empreendedorismo e a difusão de conhecimentos culturais, artísticos, científicos e tecnológicos, sendo desenvolvidas em articulação com o ensino e a extensão, ao longo de toda a formação profissional. TÍTULO IV - DA COMUNIDADE ACADÊMICA. CAPÍTULO I - DO CORPO DISCENTE. Art 37 - A comunidade acadêmica do IFSP é composta pelos corpos discente, docente e técnico-administrativo. Art 38 - O corpo discente do IFSP é constituído por alunos matriculados nos diversos cursos e programas oferecidos pela Instituição. § 1º. Os alunos do IFSP que cumprirem integralmente o currículo dos cursos e programas farão jus a diploma ou certificado na forma e nas condições previstas na organização didática. § 2º. Os alunos em regime de matrícula especial somente farão jus à declaração das disciplinas cursadas ou das competências adquiridas. Art 39 - Somente os alunos com matrícula regular ativa nos cursos técnicos de nível médio, de graduação e de pós-graduação poderão votar e ser votados para as representações discentes do Conselho Superior, bem como participar dos processos eletivos para escolha do Reitor e Diretores-Gerais dos campi. CAPÍTULO II - DO CORPO DOCENTE. Art 40 - O corpo docente é constituído pelos professores integrantes do quadro permanente de pessoal do IFSP, regidos pelo Regime Jurídico Único, e demais professores admitidos na forma da lei. CAPÍTULO III - DO CORPO TÉCNICO-ADMINISTRATIVO. Art 41 - O corpo técnico-administrativo é constituído pelos servidores integrantes do quadro permanente de pessoal do IFSP, regidos pelo Regime Jurídico Único, que exerçam atividades de apoio técnico, administrativo e operacional. CAPÍTULO IV - DO REGIME DISCIPLINAR. Art 42 - O regime disciplinar do corpo discente é estabelecido em regulamento próprio aprovado pelo Conselho Superior. Art 43 - O regime disciplinar do corpo docente e técnico-administrativo do IFSP observa as disposições legais, normas e regulamentos sobre a ordem disciplinar e sanções aplicáveis, bem como os recursos cabíveis, previstos pela legislação federal. TÍTULO V - DOS DIPLOMAS, CERTIFICADOS E TÍTULOS. Art 44 - O IFSP expedirá e registrará seus diplomas em conformidade com o §3º do art. 2º. da Lei n.º 11.892/2008 e emitirá certificados a alunos concluintes de cursos e programas. Art 45 - No âmbito de sua atuação, o IFSP funciona como instituição acreditadora e certificadora de competências profissionais, nos termos da legislação vigente. Art 46 - O IFSP poderá conferir títulos de Mérito Acadêmico, conforme disciplinado no Regimento-Geral. TÍTULO VI - DO PATRIMÔNIO. Art 47 - O patrimônio do IFSP é constituído por: I. bens e direitos que compõem o patrimônio da Reitoria e de cada um dos campi que o integram; II. bens e direitos que vier a adquirir; III. doações ou legados que receber; IV. incorporações que resultem de serviços por ele realizados. Parágrafo único. Os bens e direitos do IFSP devem ser utilizados ou aplicados, exclusivamente, para a consecução de seus objetivos, não podendo ser alienados, exceto nos casos e condições permitidos em lei. TÍTULO VII - DAS DISPOSIÇÕES GERAIS. Art 48 - O IFSP, conforme suas necessidades específicas, poderá constituir órgãos colegiados de natureza normativa e consultiva e comissões técnicas e/ou administrativas. Art 49 - A alteração do presente Estatuto exigirá quorum qualificado de dois terços dos integrantes do Conselho Superior, mediante deliberação em sessão convocada exclusivamente para tal fim. Parágrafo único. A convocação da sessão para os fins do caput será feita pelo Reitor ex officio ou pela maioria simples dos membros do Conselho Superior. Art 50 - Os casos omissos neste Estatuto serão submetidos à apreciação do Conselho Superior do IFSP. '</span>,\n",
              "<span style=\"color: #7fbf7f; text-decoration-color: #7fbf7f\">│   </span><span style=\"color: #808000; text-decoration-color: #808000\">start_char_idx</span>=<span style=\"color: #800080; text-decoration-color: #800080; font-style: italic\">None</span>,\n",
              "<span style=\"color: #7fbf7f; text-decoration-color: #7fbf7f\">│   </span><span style=\"color: #808000; text-decoration-color: #808000\">end_char_idx</span>=<span style=\"color: #800080; text-decoration-color: #800080; font-style: italic\">None</span>,\n",
              "<span style=\"color: #7fbf7f; text-decoration-color: #7fbf7f\">│   </span><span style=\"color: #808000; text-decoration-color: #808000\">text_template</span>=<span style=\"color: #008000; text-decoration-color: #008000\">'{metadata_str}\\n\\n{content}'</span>,\n",
              "<span style=\"color: #7fbf7f; text-decoration-color: #7fbf7f\">│   </span><span style=\"color: #808000; text-decoration-color: #808000\">metadata_template</span>=<span style=\"color: #008000; text-decoration-color: #008000\">'{key}: {value}'</span>,\n",
              "<span style=\"color: #7fbf7f; text-decoration-color: #7fbf7f\">│   </span><span style=\"color: #808000; text-decoration-color: #808000\">metadata_seperator</span>=<span style=\"color: #008000; text-decoration-color: #008000\">'\\n'</span>\n",
              "<span style=\"font-weight: bold\">)</span>\n",
              "</pre>\n"
            ]
          },
          "metadata": {}
        }
      ]
    },
    {
      "cell_type": "code",
      "source": [
        "# Esta classe separa o texto em sentenças e, de acordo com o parâmetro \"window_size\",\n",
        "# cria janelas com a sentença atual mais 'window_size' sentenças antes e depois\n",
        "# as janelas são salvas no metadata \"window\" e as sentenças em \"original_sentence\"\n",
        "node_parser = SentenceWindowNodeParser.from_defaults(\n",
        "    window_size=1, # com valor 1, as \"janelas\" terão tamanho 3: uma sentença antes, a sentença atual, uma sentença depois\n",
        "    window_metadata_key=\"window\",\n",
        "    original_text_metadata_key=\"original_sentence\",\n",
        ")\n",
        "\n",
        "nodes = node_parser.get_nodes_from_documents(docs)"
      ],
      "metadata": {
        "id": "WYcdPT2FqE2a"
      },
      "execution_count": null,
      "outputs": []
    },
    {
      "cell_type": "code",
      "source": [
        "len(nodes)"
      ],
      "metadata": {
        "colab": {
          "base_uri": "https://localhost:8080/"
        },
        "id": "PzcuzoDE-sGt",
        "outputId": "176c8e89-c893-4db2-a225-973bf0d0ad80"
      },
      "execution_count": null,
      "outputs": [
        {
          "output_type": "execute_result",
          "data": {
            "text/plain": [
              "264"
            ]
          },
          "metadata": {},
          "execution_count": 11
        }
      ]
    },
    {
      "cell_type": "code",
      "source": [
        "pprint(nodes[0])"
      ],
      "metadata": {
        "colab": {
          "base_uri": "https://localhost:8080/",
          "height": 592
        },
        "id": "4l3JH6ghy7Al",
        "outputId": "41039be3-c87f-4a89-d72e-58257286bfb0"
      },
      "execution_count": null,
      "outputs": [
        {
          "output_type": "display_data",
          "data": {
            "text/plain": [
              "\u001b[1;35mTextNode\u001b[0m\u001b[1m(\u001b[0m\n",
              "\u001b[2;32m│   \u001b[0m\u001b[33mid_\u001b[0m=\u001b[32m'ad00c752-7898-4884-9a29-938b1e9a5369'\u001b[0m,\n",
              "\u001b[2;32m│   \u001b[0m\u001b[33membedding\u001b[0m=\u001b[3;35mNone\u001b[0m,\n",
              "\u001b[2;32m│   \u001b[0m\u001b[33mmetadata\u001b[0m=\u001b[1m{\u001b[0m\n",
              "\u001b[2;32m│   │   \u001b[0m\u001b[32m'window'\u001b[0m: \u001b[32m'ESTATUTO.  TÍTULO I - DA INSTITUIÇÃO.  CAPÍTULO I - DA NATUREZA E DAS FINALIDADES.  Art 1º - O INSTITUTO FEDERAL DE EDUCAÇÃO, CIÊNCIA E TECNOLOGIA DE SÃO PAULO – IFSP, com sede e foro na cidade de São Paulo, criado nos termos da Lei nº. '\u001b[0m,\n",
              "\u001b[2;32m│   │   \u001b[0m\u001b[32m'original_sentence'\u001b[0m: \u001b[32m'ESTATUTO. '\u001b[0m,\n",
              "\u001b[2;32m│   │   \u001b[0m\u001b[32m'doc_name'\u001b[0m: \u001b[32m'Estatuto'\u001b[0m,\n",
              "\u001b[2;32m│   │   \u001b[0m\u001b[32m'category'\u001b[0m: \u001b[32m'Reitoria'\u001b[0m\n",
              "\u001b[2;32m│   \u001b[0m\u001b[1m}\u001b[0m,\n",
              "\u001b[2;32m│   \u001b[0m\u001b[33mexcluded_embed_metadata_keys\u001b[0m=\u001b[1m[\u001b[0m\u001b[32m'window'\u001b[0m, \u001b[32m'original_sentence'\u001b[0m\u001b[1m]\u001b[0m,\n",
              "\u001b[2;32m│   \u001b[0m\u001b[33mexcluded_llm_metadata_keys\u001b[0m=\u001b[1m[\u001b[0m\u001b[32m'window'\u001b[0m, \u001b[32m'original_sentence'\u001b[0m\u001b[1m]\u001b[0m,\n",
              "\u001b[2;32m│   \u001b[0m\u001b[33mrelationships\u001b[0m=\u001b[1m{\u001b[0m\n",
              "\u001b[2;32m│   │   \u001b[0m\u001b[1m<\u001b[0m\u001b[1;95mNodeRelationship.SOURCE:\u001b[0m\u001b[39m \u001b[0m\u001b[32m'1'\u001b[0m\u001b[39m>: \u001b[0m\u001b[1;35mRelatedNodeInfo\u001b[0m\u001b[1;39m(\u001b[0m\n",
              "\u001b[2;32m│   │   │   \u001b[0m\u001b[33mnode_id\u001b[0m\u001b[39m=\u001b[0m\u001b[32m'0'\u001b[0m\u001b[39m,\u001b[0m\n",
              "\u001b[2;32m│   │   │   \u001b[0m\u001b[33mnode_type\u001b[0m\u001b[39m=<ObjectType.DOCUMENT: \u001b[0m\u001b[32m'4'\u001b[0m\u001b[39m>,\u001b[0m\n",
              "\u001b[2;32m│   │   │   \u001b[0m\u001b[33mmetadata\u001b[0m\u001b[39m=\u001b[0m\u001b[1;39m{\u001b[0m\u001b[32m'doc_name'\u001b[0m\u001b[39m: \u001b[0m\u001b[32m'Estatuto'\u001b[0m\u001b[39m, \u001b[0m\u001b[32m'category'\u001b[0m\u001b[39m: \u001b[0m\u001b[32m'Reitoria'\u001b[0m\u001b[1;39m}\u001b[0m\u001b[39m,\u001b[0m\n",
              "\u001b[2;32m│   │   │   \u001b[0m\u001b[33mhash\u001b[0m\u001b[39m=\u001b[0m\u001b[32m'c958262a924fc6e53db65cce9967b79c93c611568eb1a613ff6791791d3dfe21'\u001b[0m\n",
              "\u001b[2;32m│   │   \u001b[0m\u001b[1;39m)\u001b[0m\u001b[39m,\u001b[0m\n",
              "\u001b[2;32m│   │   \u001b[0m\u001b[39m<NodeRelationship.NEXT: \u001b[0m\u001b[32m'3'\u001b[0m\u001b[39m>: \u001b[0m\u001b[1;35mRelatedNodeInfo\u001b[0m\u001b[1;39m(\u001b[0m\n",
              "\u001b[2;32m│   │   │   \u001b[0m\u001b[33mnode_id\u001b[0m\u001b[39m=\u001b[0m\u001b[32m'e51a19c2-2380-4781-9e71-41632ef2ff7a'\u001b[0m\u001b[39m,\u001b[0m\n",
              "\u001b[2;32m│   │   │   \u001b[0m\u001b[33mnode_type\u001b[0m\u001b[39m=<ObjectType.TEXT: \u001b[0m\u001b[32m'1'\u001b[0m\u001b[1m>\u001b[0m,\n",
              "\u001b[2;32m│   │   │   \u001b[0m\u001b[33mmetadata\u001b[0m=\u001b[1m{\u001b[0m\n",
              "\u001b[2;32m│   │   │   │   \u001b[0m\u001b[32m'window'\u001b[0m: \u001b[32m'ESTATUTO.  TÍTULO I - DA INSTITUIÇÃO.  CAPÍTULO I - DA NATUREZA E DAS FINALIDADES.  Art 1º - O INSTITUTO FEDERAL DE EDUCAÇÃO, CIÊNCIA E TECNOLOGIA DE SÃO PAULO – IFSP, com sede e foro na cidade de São Paulo, criado nos termos da Lei nº.  11.892, de 29 de dezembro de 2008, constitui-se em autarquia federal, vinculada ao Ministério da Educação, detentora de autonomia administrativa, patrimonial, financeira, didático-pedagógica e disciplinar. '\u001b[0m,\n",
              "\u001b[2;32m│   │   │   │   \u001b[0m\u001b[32m'original_sentence'\u001b[0m: \u001b[32m'TÍTULO I - DA INSTITUIÇÃO. '\u001b[0m\n",
              "\u001b[2;32m│   │   │   \u001b[0m\u001b[1m}\u001b[0m,\n",
              "\u001b[2;32m│   │   │   \u001b[0m\u001b[33mhash\u001b[0m=\u001b[32m'8f22f8fe4aba5ca0baa7c6c5cbd7ec7b57a0cf66c22597581eaff1c5e2d7c1d0'\u001b[0m\n",
              "\u001b[2;32m│   │   \u001b[0m\u001b[1m)\u001b[0m\n",
              "\u001b[2;32m│   \u001b[0m\u001b[1m}\u001b[0m,\n",
              "\u001b[2;32m│   \u001b[0m\u001b[33mtext\u001b[0m=\u001b[32m'ESTATUTO. '\u001b[0m,\n",
              "\u001b[2;32m│   \u001b[0m\u001b[33mstart_char_idx\u001b[0m=\u001b[1;36m0\u001b[0m,\n",
              "\u001b[2;32m│   \u001b[0m\u001b[33mend_char_idx\u001b[0m=\u001b[1;36m10\u001b[0m,\n",
              "\u001b[2;32m│   \u001b[0m\u001b[33mtext_template\u001b[0m=\u001b[32m'\u001b[0m\u001b[32m{\u001b[0m\u001b[32mmetadata_str\u001b[0m\u001b[32m}\u001b[0m\u001b[32m\\n\\n\u001b[0m\u001b[32m{\u001b[0m\u001b[32mcontent\u001b[0m\u001b[32m}\u001b[0m\u001b[32m'\u001b[0m,\n",
              "\u001b[2;32m│   \u001b[0m\u001b[33mmetadata_template\u001b[0m=\u001b[32m'\u001b[0m\u001b[32m{\u001b[0m\u001b[32mkey\u001b[0m\u001b[32m}\u001b[0m\u001b[32m: \u001b[0m\u001b[32m{\u001b[0m\u001b[32mvalue\u001b[0m\u001b[32m}\u001b[0m\u001b[32m'\u001b[0m,\n",
              "\u001b[2;32m│   \u001b[0m\u001b[33mmetadata_seperator\u001b[0m=\u001b[32m'\\n'\u001b[0m\n",
              "\u001b[1m)\u001b[0m\n"
            ],
            "text/html": [
              "<pre style=\"white-space:pre;overflow-x:auto;line-height:normal;font-family:Menlo,'DejaVu Sans Mono',consolas,'Courier New',monospace\"><span style=\"color: #800080; text-decoration-color: #800080; font-weight: bold\">TextNode</span><span style=\"font-weight: bold\">(</span>\n",
              "<span style=\"color: #7fbf7f; text-decoration-color: #7fbf7f\">│   </span><span style=\"color: #808000; text-decoration-color: #808000\">id_</span>=<span style=\"color: #008000; text-decoration-color: #008000\">'ad00c752-7898-4884-9a29-938b1e9a5369'</span>,\n",
              "<span style=\"color: #7fbf7f; text-decoration-color: #7fbf7f\">│   </span><span style=\"color: #808000; text-decoration-color: #808000\">embedding</span>=<span style=\"color: #800080; text-decoration-color: #800080; font-style: italic\">None</span>,\n",
              "<span style=\"color: #7fbf7f; text-decoration-color: #7fbf7f\">│   </span><span style=\"color: #808000; text-decoration-color: #808000\">metadata</span>=<span style=\"font-weight: bold\">{</span>\n",
              "<span style=\"color: #7fbf7f; text-decoration-color: #7fbf7f\">│   │   </span><span style=\"color: #008000; text-decoration-color: #008000\">'window'</span>: <span style=\"color: #008000; text-decoration-color: #008000\">'ESTATUTO.  TÍTULO I - DA INSTITUIÇÃO.  CAPÍTULO I - DA NATUREZA E DAS FINALIDADES.  Art 1º - O INSTITUTO FEDERAL DE EDUCAÇÃO, CIÊNCIA E TECNOLOGIA DE SÃO PAULO – IFSP, com sede e foro na cidade de São Paulo, criado nos termos da Lei nº. '</span>,\n",
              "<span style=\"color: #7fbf7f; text-decoration-color: #7fbf7f\">│   │   </span><span style=\"color: #008000; text-decoration-color: #008000\">'original_sentence'</span>: <span style=\"color: #008000; text-decoration-color: #008000\">'ESTATUTO. '</span>,\n",
              "<span style=\"color: #7fbf7f; text-decoration-color: #7fbf7f\">│   │   </span><span style=\"color: #008000; text-decoration-color: #008000\">'doc_name'</span>: <span style=\"color: #008000; text-decoration-color: #008000\">'Estatuto'</span>,\n",
              "<span style=\"color: #7fbf7f; text-decoration-color: #7fbf7f\">│   │   </span><span style=\"color: #008000; text-decoration-color: #008000\">'category'</span>: <span style=\"color: #008000; text-decoration-color: #008000\">'Reitoria'</span>\n",
              "<span style=\"color: #7fbf7f; text-decoration-color: #7fbf7f\">│   </span><span style=\"font-weight: bold\">}</span>,\n",
              "<span style=\"color: #7fbf7f; text-decoration-color: #7fbf7f\">│   </span><span style=\"color: #808000; text-decoration-color: #808000\">excluded_embed_metadata_keys</span>=<span style=\"font-weight: bold\">[</span><span style=\"color: #008000; text-decoration-color: #008000\">'window'</span>, <span style=\"color: #008000; text-decoration-color: #008000\">'original_sentence'</span><span style=\"font-weight: bold\">]</span>,\n",
              "<span style=\"color: #7fbf7f; text-decoration-color: #7fbf7f\">│   </span><span style=\"color: #808000; text-decoration-color: #808000\">excluded_llm_metadata_keys</span>=<span style=\"font-weight: bold\">[</span><span style=\"color: #008000; text-decoration-color: #008000\">'window'</span>, <span style=\"color: #008000; text-decoration-color: #008000\">'original_sentence'</span><span style=\"font-weight: bold\">]</span>,\n",
              "<span style=\"color: #7fbf7f; text-decoration-color: #7fbf7f\">│   </span><span style=\"color: #808000; text-decoration-color: #808000\">relationships</span>=<span style=\"font-weight: bold\">{</span>\n",
              "<span style=\"color: #7fbf7f; text-decoration-color: #7fbf7f\">│   │   </span><span style=\"font-weight: bold\">&lt;</span><span style=\"color: #ff00ff; text-decoration-color: #ff00ff; font-weight: bold\">NodeRelationship.SOURCE:</span><span style=\"color: #000000; text-decoration-color: #000000\"> </span><span style=\"color: #008000; text-decoration-color: #008000\">'1'</span><span style=\"color: #000000; text-decoration-color: #000000\">&gt;: </span><span style=\"color: #800080; text-decoration-color: #800080; font-weight: bold\">RelatedNodeInfo</span><span style=\"color: #000000; text-decoration-color: #000000; font-weight: bold\">(</span>\n",
              "<span style=\"color: #7fbf7f; text-decoration-color: #7fbf7f\">│   │   │   </span><span style=\"color: #808000; text-decoration-color: #808000\">node_id</span><span style=\"color: #000000; text-decoration-color: #000000\">=</span><span style=\"color: #008000; text-decoration-color: #008000\">'0'</span><span style=\"color: #000000; text-decoration-color: #000000\">,</span>\n",
              "<span style=\"color: #7fbf7f; text-decoration-color: #7fbf7f\">│   │   │   </span><span style=\"color: #808000; text-decoration-color: #808000\">node_type</span><span style=\"color: #000000; text-decoration-color: #000000\">=&lt;ObjectType.DOCUMENT: </span><span style=\"color: #008000; text-decoration-color: #008000\">'4'</span><span style=\"color: #000000; text-decoration-color: #000000\">&gt;,</span>\n",
              "<span style=\"color: #7fbf7f; text-decoration-color: #7fbf7f\">│   │   │   </span><span style=\"color: #808000; text-decoration-color: #808000\">metadata</span><span style=\"color: #000000; text-decoration-color: #000000\">=</span><span style=\"color: #000000; text-decoration-color: #000000; font-weight: bold\">{</span><span style=\"color: #008000; text-decoration-color: #008000\">'doc_name'</span><span style=\"color: #000000; text-decoration-color: #000000\">: </span><span style=\"color: #008000; text-decoration-color: #008000\">'Estatuto'</span><span style=\"color: #000000; text-decoration-color: #000000\">, </span><span style=\"color: #008000; text-decoration-color: #008000\">'category'</span><span style=\"color: #000000; text-decoration-color: #000000\">: </span><span style=\"color: #008000; text-decoration-color: #008000\">'Reitoria'</span><span style=\"color: #000000; text-decoration-color: #000000; font-weight: bold\">}</span><span style=\"color: #000000; text-decoration-color: #000000\">,</span>\n",
              "<span style=\"color: #7fbf7f; text-decoration-color: #7fbf7f\">│   │   │   </span><span style=\"color: #808000; text-decoration-color: #808000\">hash</span><span style=\"color: #000000; text-decoration-color: #000000\">=</span><span style=\"color: #008000; text-decoration-color: #008000\">'c958262a924fc6e53db65cce9967b79c93c611568eb1a613ff6791791d3dfe21'</span>\n",
              "<span style=\"color: #7fbf7f; text-decoration-color: #7fbf7f\">│   │   </span><span style=\"color: #000000; text-decoration-color: #000000; font-weight: bold\">)</span><span style=\"color: #000000; text-decoration-color: #000000\">,</span>\n",
              "<span style=\"color: #7fbf7f; text-decoration-color: #7fbf7f\">│   │   </span><span style=\"color: #000000; text-decoration-color: #000000\">&lt;NodeRelationship.NEXT: </span><span style=\"color: #008000; text-decoration-color: #008000\">'3'</span><span style=\"color: #000000; text-decoration-color: #000000\">&gt;: </span><span style=\"color: #800080; text-decoration-color: #800080; font-weight: bold\">RelatedNodeInfo</span><span style=\"color: #000000; text-decoration-color: #000000; font-weight: bold\">(</span>\n",
              "<span style=\"color: #7fbf7f; text-decoration-color: #7fbf7f\">│   │   │   </span><span style=\"color: #808000; text-decoration-color: #808000\">node_id</span><span style=\"color: #000000; text-decoration-color: #000000\">=</span><span style=\"color: #008000; text-decoration-color: #008000\">'e51a19c2-2380-4781-9e71-41632ef2ff7a'</span><span style=\"color: #000000; text-decoration-color: #000000\">,</span>\n",
              "<span style=\"color: #7fbf7f; text-decoration-color: #7fbf7f\">│   │   │   </span><span style=\"color: #808000; text-decoration-color: #808000\">node_type</span><span style=\"color: #000000; text-decoration-color: #000000\">=&lt;ObjectType.TEXT: </span><span style=\"color: #008000; text-decoration-color: #008000\">'1'</span><span style=\"font-weight: bold\">&gt;</span>,\n",
              "<span style=\"color: #7fbf7f; text-decoration-color: #7fbf7f\">│   │   │   </span><span style=\"color: #808000; text-decoration-color: #808000\">metadata</span>=<span style=\"font-weight: bold\">{</span>\n",
              "<span style=\"color: #7fbf7f; text-decoration-color: #7fbf7f\">│   │   │   │   </span><span style=\"color: #008000; text-decoration-color: #008000\">'window'</span>: <span style=\"color: #008000; text-decoration-color: #008000\">'ESTATUTO.  TÍTULO I - DA INSTITUIÇÃO.  CAPÍTULO I - DA NATUREZA E DAS FINALIDADES.  Art 1º - O INSTITUTO FEDERAL DE EDUCAÇÃO, CIÊNCIA E TECNOLOGIA DE SÃO PAULO – IFSP, com sede e foro na cidade de São Paulo, criado nos termos da Lei nº.  11.892, de 29 de dezembro de 2008, constitui-se em autarquia federal, vinculada ao Ministério da Educação, detentora de autonomia administrativa, patrimonial, financeira, didático-pedagógica e disciplinar. '</span>,\n",
              "<span style=\"color: #7fbf7f; text-decoration-color: #7fbf7f\">│   │   │   │   </span><span style=\"color: #008000; text-decoration-color: #008000\">'original_sentence'</span>: <span style=\"color: #008000; text-decoration-color: #008000\">'TÍTULO I - DA INSTITUIÇÃO. '</span>\n",
              "<span style=\"color: #7fbf7f; text-decoration-color: #7fbf7f\">│   │   │   </span><span style=\"font-weight: bold\">}</span>,\n",
              "<span style=\"color: #7fbf7f; text-decoration-color: #7fbf7f\">│   │   │   </span><span style=\"color: #808000; text-decoration-color: #808000\">hash</span>=<span style=\"color: #008000; text-decoration-color: #008000\">'8f22f8fe4aba5ca0baa7c6c5cbd7ec7b57a0cf66c22597581eaff1c5e2d7c1d0'</span>\n",
              "<span style=\"color: #7fbf7f; text-decoration-color: #7fbf7f\">│   │   </span><span style=\"font-weight: bold\">)</span>\n",
              "<span style=\"color: #7fbf7f; text-decoration-color: #7fbf7f\">│   </span><span style=\"font-weight: bold\">}</span>,\n",
              "<span style=\"color: #7fbf7f; text-decoration-color: #7fbf7f\">│   </span><span style=\"color: #808000; text-decoration-color: #808000\">text</span>=<span style=\"color: #008000; text-decoration-color: #008000\">'ESTATUTO. '</span>,\n",
              "<span style=\"color: #7fbf7f; text-decoration-color: #7fbf7f\">│   </span><span style=\"color: #808000; text-decoration-color: #808000\">start_char_idx</span>=<span style=\"color: #008080; text-decoration-color: #008080; font-weight: bold\">0</span>,\n",
              "<span style=\"color: #7fbf7f; text-decoration-color: #7fbf7f\">│   </span><span style=\"color: #808000; text-decoration-color: #808000\">end_char_idx</span>=<span style=\"color: #008080; text-decoration-color: #008080; font-weight: bold\">10</span>,\n",
              "<span style=\"color: #7fbf7f; text-decoration-color: #7fbf7f\">│   </span><span style=\"color: #808000; text-decoration-color: #808000\">text_template</span>=<span style=\"color: #008000; text-decoration-color: #008000\">'{metadata_str}\\n\\n{content}'</span>,\n",
              "<span style=\"color: #7fbf7f; text-decoration-color: #7fbf7f\">│   </span><span style=\"color: #808000; text-decoration-color: #808000\">metadata_template</span>=<span style=\"color: #008000; text-decoration-color: #008000\">'{key}: {value}'</span>,\n",
              "<span style=\"color: #7fbf7f; text-decoration-color: #7fbf7f\">│   </span><span style=\"color: #808000; text-decoration-color: #808000\">metadata_seperator</span>=<span style=\"color: #008000; text-decoration-color: #008000\">'\\n'</span>\n",
              "<span style=\"font-weight: bold\">)</span>\n",
              "</pre>\n"
            ]
          },
          "metadata": {}
        }
      ]
    },
    {
      "cell_type": "markdown",
      "source": [
        "# BM25"
      ],
      "metadata": {
        "id": "0yIgKq6V6KUr"
      }
    },
    {
      "cell_type": "markdown",
      "source": [
        "## Criando BM25"
      ],
      "metadata": {
        "id": "1mu4ekfw-HGT"
      }
    },
    {
      "cell_type": "code",
      "source": [
        "# Criando o BM25\n",
        "# com 'tokenizer=None', ele vai fazer a remoção de stop words e o stemming\n",
        "retriever = BM25Retriever(nodes=nodes, tokenizer=None, similarity_top_k=10)"
      ],
      "metadata": {
        "id": "Xdszw0ZI0FdC"
      },
      "execution_count": null,
      "outputs": []
    },
    {
      "cell_type": "code",
      "source": [
        "# Testando a busca com BM25\n",
        "retriever_nodes = retriever.retrieve(\"Qual o nome do IFSP?\")\n",
        "for node in retriever_nodes:\n",
        "    display_source_node(node)"
      ],
      "metadata": {
        "id": "hxU7ORE00IzU"
      },
      "execution_count": null,
      "outputs": []
    },
    {
      "cell_type": "markdown",
      "source": [
        "## Criando o 'motor de busca'"
      ],
      "metadata": {
        "id": "tNyEg1wc-acO"
      }
    },
    {
      "cell_type": "code",
      "source": [
        "# Este motor de busca será utilizado como tool pelo agente\n",
        "\n",
        "# Após testes e análise do código, percebi que:\n",
        "# - O BM25 faz a busca utilizando a sentença e não a janela\n",
        "# - O resultado da busca é substituído pelas respectivas \"janelas\"\n",
        "# - O LLM indicado é utilizado para \"sintetizar\" o conteúdo das janelas\n",
        "query_engine = RetrieverQueryEngine.from_args(\n",
        "    retriever=retriever,\n",
        "    llm=Groq(model=\"llama3-70b-8192\"),\n",
        "    node_postprocessors=[\n",
        "        MetadataReplacementPostProcessor(target_metadata_key=\"window\")\n",
        "    ]\n",
        ")"
      ],
      "metadata": {
        "id": "F_GGy85K2D-B"
      },
      "execution_count": null,
      "outputs": []
    },
    {
      "cell_type": "code",
      "source": [
        "# Testando a busca\n",
        "response = query_engine.query(\n",
        "    \"Qual o nome do IFSP?\"\n",
        "    #\"Quais são os campi do IFSP?\"\n",
        ")\n",
        "display_response(response)"
      ],
      "metadata": {
        "id": "0ZnU6zqjMzIk",
        "colab": {
          "base_uri": "https://localhost:8080/",
          "height": 46
        },
        "outputId": "62d7c5f8-c269-4ac1-92bd-fd7a3016337e"
      },
      "execution_count": null,
      "outputs": [
        {
          "output_type": "display_data",
          "data": {
            "text/plain": [
              "<IPython.core.display.Markdown object>"
            ],
            "text/markdown": "**`Final Response:`** Não há menção explícita ao nome do IFSP no contexto fornecido."
          },
          "metadata": {}
        }
      ]
    },
    {
      "cell_type": "code",
      "source": [
        "for node in response.source_nodes:\n",
        "    display_source_node(node, source_length=500)"
      ],
      "metadata": {
        "id": "Te-tCVtdLGhk"
      },
      "execution_count": null,
      "outputs": []
    },
    {
      "cell_type": "code",
      "source": [
        "def display_prompt_dict(prompts_dict):\n",
        "    for k, p in prompts_dict.items():\n",
        "        text_md = f\"**Prompt Key**: {k} \" f\"\\n\\n**Text:** \"\n",
        "        display(Markdown(text_md))\n",
        "        print(p.get_template())\n",
        "        display(Markdown(\"\"))\n",
        "\n",
        "\n",
        "display_prompt_dict(query_engine.get_prompts())"
      ],
      "metadata": {
        "id": "UX-HoacIFevW"
      },
      "execution_count": null,
      "outputs": []
    },
    {
      "cell_type": "markdown",
      "source": [
        "# Avaliando"
      ],
      "metadata": {
        "id": "E9mOxkAc7lsd"
      }
    },
    {
      "cell_type": "code",
      "source": [
        "def get_contexts(response):\n",
        "    contexts = []\n",
        "    for node in response.source_nodes:\n",
        "        metadata = ', '.join(node.metadata.values())\n",
        "        context  = node.get_content()\n",
        "        contexts.append(f\"Fonte: {metadata} # Contextos: {context}\")\n",
        "    return contexts"
      ],
      "metadata": {
        "id": "FZiKQYCC7nrp"
      },
      "execution_count": null,
      "outputs": []
    },
    {
      "cell_type": "code",
      "source": [
        "faith_evaluator     = FaithfulnessEvaluator()\n",
        "relevancy_evaluator = RelevancyEvaluator()\n",
        "correct_evaluator   = CorrectnessEvaluator()\n",
        "data = []\n",
        "\n",
        "for pair in tqdm(pairs):\n",
        "    result       = {}\n",
        "    query        = pair['question']\n",
        "    ground_truth = pair['answer']\n",
        "\n",
        "    result['question']     = query\n",
        "    result['ground_truth'] = ground_truth\n",
        "\n",
        "    # Fazendo consulta\n",
        "    response           = query_engine.query(query)\n",
        "    result['answer']   = response.response\n",
        "    result['contexts'] = get_contexts(response)\n",
        "\n",
        "\n",
        "    # Avaliando Faithfulness\n",
        "    eval_result                     = faith_evaluator.evaluate_response(response=response)\n",
        "    result['faithfulness']          = eval_result.score\n",
        "    result['faithfulness_feedback'] = eval_result.feedback\n",
        "\n",
        "    # Avaliando Relevancy\n",
        "    eval_result                  = relevancy_evaluator.evaluate_response(query=query, response=response)\n",
        "    result['relevancy']          = eval_result.score\n",
        "    result['relevancy_feedback'] = eval_result.feedback\n",
        "\n",
        "    # Avaliando Correctness\n",
        "    eval_result = correct_evaluator.evaluate(\n",
        "        query=query,\n",
        "        response=response.response,\n",
        "        reference=ground_truth,\n",
        "    )\n",
        "    result['correctness']          = eval_result.score\n",
        "    result['correctness_feedback'] = eval_result.feedback\n",
        "\n",
        "    data.append(result)\n",
        "\n",
        "\n",
        "df = pd.DataFrame(data)\n",
        "df"
      ],
      "metadata": {
        "id": "Alkvif5P7qc9"
      },
      "execution_count": null,
      "outputs": []
    }
  ],
  "metadata": {
    "colab": {
      "provenance": [],
      "toc_visible": true,
      "include_colab_link": true
    },
    "kernelspec": {
      "display_name": "Python 3",
      "name": "python3"
    },
    "language_info": {
      "name": "python"
    }
  },
  "nbformat": 4,
  "nbformat_minor": 0
}