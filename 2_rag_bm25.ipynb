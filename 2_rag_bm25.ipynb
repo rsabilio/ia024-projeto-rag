{
  "cells": [
    {
      "cell_type": "markdown",
      "metadata": {
        "id": "view-in-github",
        "colab_type": "text"
      },
      "source": [
        "<a href=\"https://colab.research.google.com/github/rsabilio/ia024-projeto-rag/blob/main/2_rag_bm25.ipynb\" target=\"_parent\"><img src=\"https://colab.research.google.com/assets/colab-badge.svg\" alt=\"Open In Colab\"/></a>"
      ]
    },
    {
      "cell_type": "markdown",
      "metadata": {
        "id": "EGYXWXpPkr1B"
      },
      "source": [
        "# Baseline\n",
        "\n",
        "* Usar segmentação de sentenças em janelas\n",
        "* BM25 como buscador"
      ]
    },
    {
      "cell_type": "markdown",
      "metadata": {
        "id": "jUcir-zQ3zd0"
      },
      "source": [
        "# Instalando pacotes"
      ]
    },
    {
      "cell_type": "code",
      "execution_count": null,
      "metadata": {
        "id": "62agRBPA31E3",
        "colab": {
          "base_uri": "https://localhost:8080/"
        },
        "outputId": "41dae763-9546-44f6-b757-0110c0c1f689"
      },
      "outputs": [
        {
          "output_type": "stream",
          "name": "stdout",
          "text": [
            "\u001b[2K     \u001b[90m━━━━━━━━━━━━━━━━━━━━━━━━━━━━━━━━━━━━━━━━\u001b[0m \u001b[32m15.4/15.4 MB\u001b[0m \u001b[31m43.3 MB/s\u001b[0m eta \u001b[36m0:00:00\u001b[0m\n",
            "\u001b[2K     \u001b[90m━━━━━━━━━━━━━━━━━━━━━━━━━━━━━━━━━━━━━━━━\u001b[0m \u001b[32m2.0/2.0 MB\u001b[0m \u001b[31m44.7 MB/s\u001b[0m eta \u001b[36m0:00:00\u001b[0m\n",
            "\u001b[2K     \u001b[90m━━━━━━━━━━━━━━━━━━━━━━━━━━━━━━━━━━━━━━━━\u001b[0m \u001b[32m75.6/75.6 kB\u001b[0m \u001b[31m5.7 MB/s\u001b[0m eta \u001b[36m0:00:00\u001b[0m\n",
            "\u001b[2K     \u001b[90m━━━━━━━━━━━━━━━━━━━━━━━━━━━━━━━━━━━━━━━━\u001b[0m \u001b[32m130.8/130.8 kB\u001b[0m \u001b[31m10.1 MB/s\u001b[0m eta \u001b[36m0:00:00\u001b[0m\n",
            "\u001b[2K     \u001b[90m━━━━━━━━━━━━━━━━━━━━━━━━━━━━━━━━━━━━━━━━\u001b[0m \u001b[32m327.4/327.4 kB\u001b[0m \u001b[31m21.2 MB/s\u001b[0m eta \u001b[36m0:00:00\u001b[0m\n",
            "\u001b[2K     \u001b[90m━━━━━━━━━━━━━━━━━━━━━━━━━━━━━━━━━━━━━━━━\u001b[0m \u001b[32m1.1/1.1 MB\u001b[0m \u001b[31m28.9 MB/s\u001b[0m eta \u001b[36m0:00:00\u001b[0m\n",
            "\u001b[2K     \u001b[90m━━━━━━━━━━━━━━━━━━━━━━━━━━━━━━━━━━━━━━━━\u001b[0m \u001b[32m290.4/290.4 kB\u001b[0m \u001b[31m19.5 MB/s\u001b[0m eta \u001b[36m0:00:00\u001b[0m\n",
            "\u001b[2K     \u001b[90m━━━━━━━━━━━━━━━━━━━━━━━━━━━━━━━━━━━━━━━━\u001b[0m \u001b[32m77.9/77.9 kB\u001b[0m \u001b[31m4.2 MB/s\u001b[0m eta \u001b[36m0:00:00\u001b[0m\n",
            "\u001b[2K     \u001b[90m━━━━━━━━━━━━━━━━━━━━━━━━━━━━━━━━━━━━━━━━\u001b[0m \u001b[32m58.3/58.3 kB\u001b[0m \u001b[31m5.7 MB/s\u001b[0m eta \u001b[36m0:00:00\u001b[0m\n",
            "\u001b[2K     \u001b[90m━━━━━━━━━━━━━━━━━━━━━━━━━━━━━━━━━━━━━━━━\u001b[0m \u001b[32m49.2/49.2 kB\u001b[0m \u001b[31m2.5 MB/s\u001b[0m eta \u001b[36m0:00:00\u001b[0m\n",
            "\u001b[?25h"
          ]
        }
      ],
      "source": [
        "!pip install -q llama-index llama-index-llms-groq llama-index-retrievers-bm25"
      ]
    },
    {
      "cell_type": "markdown",
      "metadata": {
        "id": "jCeNEFrrn1Np"
      },
      "source": [
        "# Importando pacotes"
      ]
    },
    {
      "cell_type": "code",
      "execution_count": 1,
      "metadata": {
        "id": "yZVJgqj7BRvx"
      },
      "outputs": [],
      "source": [
        "import os\n",
        "from google.colab import userdata\n",
        "\n",
        "os.environ['GROQ_API_KEY'] = userdata.get('GROQ_API_KEY_IFSP')"
      ]
    },
    {
      "cell_type": "code",
      "execution_count": null,
      "metadata": {
        "id": "jUOm1M0ln32U"
      },
      "outputs": [],
      "source": [
        "import json\n",
        "import time\n",
        "import random\n",
        "from tqdm import tqdm\n",
        "from rich.pretty import pprint\n",
        "import glob\n",
        "\n",
        "from llama_index.core import Document, Settings, PromptTemplate\n",
        "from llama_index.core.node_parser import SentenceWindowNodeParser\n",
        "from llama_index.retrievers.bm25 import BM25Retriever\n",
        "from llama_index.core.query_engine import RetrieverQueryEngine\n",
        "from llama_index.core.postprocessor import MetadataReplacementPostProcessor\n",
        "from llama_index.llms.groq import Groq\n",
        "from llama_index.core.response.notebook_utils import display_source_node, display_response\n",
        "from llama_index.core.evaluation import FaithfulnessEvaluator, CorrectnessEvaluator, RelevancyEvaluator\n",
        "\n",
        "import nest_asyncio\n",
        "nest_asyncio.apply()\n",
        "\n",
        "from IPython.display import Markdown, display\n",
        "import pandas as pd"
      ]
    },
    {
      "cell_type": "code",
      "source": [
        "Settings.llm = Groq(model=\"llama3-70b-8192\")\n"
      ],
      "metadata": {
        "id": "H53KmQS1LbHu"
      },
      "execution_count": null,
      "outputs": []
    },
    {
      "cell_type": "markdown",
      "source": [
        "# GitHub"
      ],
      "metadata": {
        "id": "PFdbrShl5bsR"
      }
    },
    {
      "cell_type": "code",
      "source": [
        "GITHUB_TOKEN      = userdata.get('GITHUB_TOKEN')\n",
        "GITHUB_USER_EMAIL = userdata.get('GITHUB_USER_EMAIL')\n",
        "GITHUB_USER_NAME  = userdata.get('GITHUB_USER_NAME')\n",
        "\n",
        "!git config --global user.email '''{GITHUB_USER_EMAIL}'''\n",
        "!git config --global user.name '''{GITHUB_USER_NAME}'''\n",
        "\n",
        "# Clonar o repositório GitHub\n",
        "!git clone https://{GITHUB_TOKEN}@github.com/rsabilio/ia024-projeto-rag.git"
      ],
      "metadata": {
        "id": "ye7MaWIUU1hx",
        "colab": {
          "base_uri": "https://localhost:8080/"
        },
        "outputId": "f713eede-a83a-45f5-970b-b22fc66dd56e"
      },
      "execution_count": 2,
      "outputs": [
        {
          "output_type": "stream",
          "name": "stdout",
          "text": [
            "Cloning into 'ia024-projeto-rag'...\n",
            "remote: Enumerating objects: 9375, done.\u001b[K\n",
            "remote: Counting objects: 100% (924/924), done.\u001b[K\n",
            "remote: Compressing objects: 100% (249/249), done.\u001b[K\n",
            "remote: Total 9375 (delta 686), reused 902 (delta 666), pack-reused 8451\u001b[K\n",
            "Receiving objects: 100% (9375/9375), 1.27 GiB | 21.05 MiB/s, done.\n",
            "Resolving deltas: 100% (4207/4207), done.\n",
            "Updating files: 100% (5817/5817), done.\n",
            "Filtering content: 100% (1211/1211), 140.28 MiB | 9.83 MiB/s, done.\n"
          ]
        }
      ]
    },
    {
      "cell_type": "code",
      "execution_count": 3,
      "metadata": {
        "id": "O9-YfaN807lj"
      },
      "outputs": [],
      "source": [
        "DATA_DIR = '/content/ia024-projeto-rag'"
      ]
    },
    {
      "cell_type": "code",
      "source": [
        "def save_on_git(msg):\n",
        "\n",
        "    %cd /content/ia024-projeto-rag\n",
        "\n",
        "    !git remote set-url origin https://{GITHUB_TOKEN}@github.com/rsabilio/ia024-projeto-rag\n",
        "\n",
        "    !git pull origin main\n",
        "\n",
        "    !git add .\n",
        "\n",
        "    !git commit -m '''{msg}'''\n",
        "\n",
        "    !git push origin main"
      ],
      "metadata": {
        "id": "dWdpB2OFUvvs"
      },
      "execution_count": 4,
      "outputs": []
    },
    {
      "cell_type": "code",
      "source": [
        "def update_local_repo():\n",
        "    %cd /content/ia024-projeto-rag\n",
        "\n",
        "    !git remote set-url origin https://{GITHUB_TOKEN}@github.com/rsabilio/ia024-projeto-rag\n",
        "\n",
        "    !git pull origin main"
      ],
      "metadata": {
        "id": "ce2WkD4q5nIf"
      },
      "execution_count": 5,
      "outputs": []
    },
    {
      "cell_type": "markdown",
      "source": [
        "# Carregando documentos e criando os nós"
      ],
      "metadata": {
        "id": "IbABX87M92gs"
      }
    },
    {
      "cell_type": "code",
      "source": [
        "def get_json_files(directory, pattern=\"*.json\"):\n",
        "    return glob.glob(os.path.join(directory, pattern))\n",
        "\n",
        "base_docs     = []\n",
        "\n",
        "print(f\"Carregando Estatuto e Organizações Didáticas...\")\n",
        "directory_path = f\"{DATA_DIR}/2-dataset/\"\n",
        "json_files     = get_json_files(directory_path, pattern=\"*-nivel-subsecao.json\")\n",
        "\n",
        "for json_file in json_files:\n",
        "\n",
        "    print(f\"Carregando: {json_file}\")\n",
        "    with open(json_file, 'r') as f:\n",
        "        documento = json.load(f)\n",
        "\n",
        "    documento_titulo = documento['titulo']\n",
        "\n",
        "    for parte in documento['partes']:\n",
        "        metadata = {}\n",
        "        metadata[\"documento\"] = documento_titulo\n",
        "        metadata[\"titulo\"]    = \"\"\n",
        "        metadata[\"capitulo\"]  = \"\"\n",
        "        metadata[\"seção\"]     = \"\"\n",
        "        metadata[\"subseção\"]  = \"\"\n",
        "\n",
        "        titulo_nome    = parte['titulo_nome']\n",
        "        titulo_artigos = parte['titulo_artigos']\n",
        "        capitulos      = parte['capitulos']\n",
        "\n",
        "        metadata[\"titulo\"] = titulo_nome\n",
        "        if len(titulo_artigos) > 0:\n",
        "            for artigo in titulo_artigos:\n",
        "                node = Document(text=artigo, metadata=metadata)\n",
        "                base_docs.append(node)\n",
        "\n",
        "        if len(capitulos) == 0:\n",
        "            continue\n",
        "\n",
        "        for capitulo in capitulos:\n",
        "            cap_titulo  = capitulo['capitulo_nome']\n",
        "            cap_artigos = capitulo['capitulo_artigos']\n",
        "\n",
        "            metadata[\"capitulo\"] = cap_titulo\n",
        "            metadata[\"seção\"]     = \"\"\n",
        "            metadata[\"subseção\"]  = \"\"\n",
        "            for artigo in cap_artigos:\n",
        "                node = Document(text=artigo, metadata=metadata)\n",
        "                base_docs.append(node)\n",
        "\n",
        "            if len(capitulo['secoes']) == 0:\n",
        "                continue\n",
        "\n",
        "            for secao in capitulo['secoes']:\n",
        "                secao_titulo  = secao['secao_nome']\n",
        "                secao_artigos = secao['secao_artigos']\n",
        "\n",
        "                metadata[\"seção\"] = secao_titulo\n",
        "                for artigo in secao_artigos:\n",
        "                    node = Document(text=artigo, metadata=metadata)\n",
        "                    base_docs.append(node)\n",
        "\n",
        "                if len(secao['subsecoes']) == 0:\n",
        "                    continue\n",
        "\n",
        "                for subsecao in secao['subsecoes']:\n",
        "                    subsecao_titulo  = subsecao['subsecao_nome']\n",
        "                    subsecao_artigos = subsecao['subsecao_artigos']\n",
        "\n",
        "                    metadata[\"subseção\"] = subsecao_titulo\n",
        "                    for artigo in subsecao_artigos:\n",
        "                        node = Document(text=artigo, metadata=metadata)\n",
        "                        base_docs.append(node)\n",
        "\n",
        "    print(f\"{len(base_docs)} nodes carregados\")\n",
        "\n",
        "print(f\"Carregando portarias: {directory_path}\")\n",
        "directory_path = f\"{DATA_DIR}/2-dataset/2-boituva/portarias\"\n",
        "json_files     = get_json_files(directory_path)\n",
        "\n",
        "for json_file in json_files:\n",
        "    print(f\"Carregando: {json_file}\")\n",
        "    with open(json_file, 'r') as f:\n",
        "        documento = json.load(f)\n",
        "\n",
        "    for portaria in documento:\n",
        "\n",
        "        portaria_titulo = portaria['titulo']\n",
        "        portaria_inicio = portaria['inicio']\n",
        "        portaria_fim    = portaria['fim']\n",
        "\n",
        "\n",
        "        metadata = {}\n",
        "        metadata[\"documento\"] = portaria_titulo\n",
        "\n",
        "        node = Document(text=portaria_inicio, metadata=metadata)\n",
        "        base_docs.append(node)\n",
        "\n",
        "        for artigo in portaria['artigos']:\n",
        "            node = Document(text=artigo, metadata=metadata)\n",
        "            base_docs.append(node)\n",
        "\n",
        "        if portaria['fim'] != \"\":\n",
        "            node = Document(text=portaria_fim, metadata=metadata)\n",
        "            base_docs.append(node)\n",
        "\n",
        "    print(f\"{len(base_docs)} documentos carregados\")\n",
        "\n",
        "for i, doc in enumerate(base_docs):\n",
        "    doc.id_ = f\"doc_{i}\"\n",
        "\n",
        "print(f\"Total de documentos carregados: {len(base_docs)}\")"
      ],
      "metadata": {
        "id": "POUdSbPdxvFV",
        "colab": {
          "base_uri": "https://localhost:8080/"
        },
        "outputId": "b6031ad5-a342-4ab5-8a70-9fe12e91b530"
      },
      "execution_count": null,
      "outputs": [
        {
          "output_type": "stream",
          "name": "stdout",
          "text": [
            "Carregando Estatuto e Organizações Didáticas...\n",
            "Carregando: /content/ia024-projeto-rag/2-dataset/estatuto-nivel-subsecao.json\n",
            "50 nodes carregados\n",
            "Carregando: /content/ia024-projeto-rag/2-dataset/organização_didática_da_educação_básica-nivel-subsecao.json\n",
            "290 nodes carregados\n",
            "Carregando: /content/ia024-projeto-rag/2-dataset/organização_didática_dos_cursos_de_graduação-nivel-subsecao.json\n",
            "494 nodes carregados\n",
            "Carregando portarias: /content/ia024-projeto-rag/2-dataset/\n",
            "Carregando: /content/ia024-projeto-rag/2-dataset/2-boituva/portarias/boituva-2020.json\n",
            "547 documentos carregados\n",
            "Carregando: /content/ia024-projeto-rag/2-dataset/2-boituva/portarias/boituva-2014.json\n",
            "679 documentos carregados\n",
            "Carregando: /content/ia024-projeto-rag/2-dataset/2-boituva/portarias/boituva-2015.json\n",
            "682 documentos carregados\n",
            "Carregando: /content/ia024-projeto-rag/2-dataset/2-boituva/portarias/boituva-2024.json\n",
            "847 documentos carregados\n",
            "Carregando: /content/ia024-projeto-rag/2-dataset/2-boituva/portarias/boituva-2023.json\n",
            "1304 documentos carregados\n",
            "Carregando: /content/ia024-projeto-rag/2-dataset/2-boituva/portarias/boituva-2021.json\n",
            "1772 documentos carregados\n",
            "Carregando: /content/ia024-projeto-rag/2-dataset/2-boituva/portarias/boituva-2018.json\n",
            "2113 documentos carregados\n",
            "Total de documentos carregados: 2113\n"
          ]
        }
      ]
    },
    {
      "cell_type": "code",
      "source": [
        "pprint(base_docs[0])"
      ],
      "metadata": {
        "colab": {
          "base_uri": "https://localhost:8080/",
          "height": 368
        },
        "id": "RiGM1YupyVHT",
        "outputId": "b0c602c6-06d7-4ba2-bd50-b7b14d792989"
      },
      "execution_count": null,
      "outputs": [
        {
          "output_type": "display_data",
          "data": {
            "text/plain": [
              "\u001b[1;35mDocument\u001b[0m\u001b[1m(\u001b[0m\n",
              "\u001b[2;32m│   \u001b[0m\u001b[33mid_\u001b[0m=\u001b[32m'doc_0'\u001b[0m,\n",
              "\u001b[2;32m│   \u001b[0m\u001b[33membedding\u001b[0m=\u001b[3;35mNone\u001b[0m,\n",
              "\u001b[2;32m│   \u001b[0m\u001b[33mmetadata\u001b[0m=\u001b[1m{\u001b[0m\n",
              "\u001b[2;32m│   │   \u001b[0m\u001b[32m'documento'\u001b[0m: \u001b[32m'Estatuto'\u001b[0m,\n",
              "\u001b[2;32m│   │   \u001b[0m\u001b[32m'titulo'\u001b[0m: \u001b[32m'TÍTULO I - DA INSTITUIÇÃO'\u001b[0m,\n",
              "\u001b[2;32m│   │   \u001b[0m\u001b[32m'capitulo'\u001b[0m: \u001b[32m'CAPÍTULO I DA NATUREZA E DAS FINALIDADES.'\u001b[0m,\n",
              "\u001b[2;32m│   │   \u001b[0m\u001b[32m'seção'\u001b[0m: \u001b[32m''\u001b[0m,\n",
              "\u001b[2;32m│   │   \u001b[0m\u001b[32m'subseção'\u001b[0m: \u001b[32m''\u001b[0m\n",
              "\u001b[2;32m│   \u001b[0m\u001b[1m}\u001b[0m,\n",
              "\u001b[2;32m│   \u001b[0m\u001b[33mexcluded_embed_metadata_keys\u001b[0m=\u001b[1m[\u001b[0m\u001b[1m]\u001b[0m,\n",
              "\u001b[2;32m│   \u001b[0m\u001b[33mexcluded_llm_metadata_keys\u001b[0m=\u001b[1m[\u001b[0m\u001b[1m]\u001b[0m,\n",
              "\u001b[2;32m│   \u001b[0m\u001b[33mrelationships\u001b[0m=\u001b[1m{\u001b[0m\u001b[1m}\u001b[0m,\n",
              "\u001b[2;32m│   \u001b[0m\u001b[33mtext\u001b[0m=\u001b[32m'Art 1º - O INSTITUTO FEDERAL DE EDUCAÇÃO, CIÊNCIA E TECNOLOGIA DE SÃO PAULO – IFSP, com sede e foro na cidade de São Paulo, criado nos termos da Lei nº. 11.892, de 29 de dezembro de 2008, constitui-se em autarquia federal, vinculada ao Ministério da Educação, detentora de autonomia administrativa, patrimonial, financeira, didático-pedagógica e disciplinar. §1º- O IFSP é domiciliado na sede de sua Reitoria, situada na Rua Pedro Vicente, 625, Canindé, São Paulo. §2º- O IFSP é uma instituição de educação superior, básica e profissional, pluricurricular e multicampi, especializada na oferta de educação profissional e tecnológica nas diferentes modalidades de ensino, com base na conjugação de conhecimentos técnicos e tecnológicos com a sua prática pedagógica, nos termos da lei. Tem como sedes, para os fins da legislação educacional: I - Reitoria, no endereço citado no §1º. II - Campus São Paulo, situado na Rua Pedro Vicente, 625, Canindé, São Paulo. III - Campus Cubatão, situado na Rua Maria Cristina, 50, Jardim Casqueiro, Cubatão. IV - Campus Sertãozinho, situado na Rua Américo Ambrósio, 269, Jardim Canaã, Sertãozinho. V - Campus Guarulhos, situado na Avenida Salgado Filho, 2501, Bairro Vila Rio de Janeiro, Guarulhos. VI - Campus São João da Boa Vista, situado no Acesso Dr. João Batista Merlin, s/ nº, Jardim Itália, São João da Boa Vista. VII - Campus Caraguatatuba, situado na Avenida Rio Grande do Norte, 450, Indaiá, Caraguatatuba. VIII - Campus Bragança Paulista, situado na Avenida Francisco Samuel Lucchesi Filho, 770, Penha, Bragança Paulista. IX - Campus Salto, situado na Rua Rio Branco, 1780, Vila Teixeira, Salto. X - Campus São Roque, situado na Rodovia Quintino de Lima, 2100, Jardim Conceição, São Roque. XI - Campus São Carlos, situado na Rodovia Washington Luís, km 235 AT-6, Sala 119, São Carlos. XII - Campus Campos do Jordão, situado na Rua Monsenhor José Vita, 280, Vila Abernéssia, Campos do Jordão. XIII - Campus Barretos, situado na Avenida C-1, Bairro Ide Daher, Barretos. XIV - Campus Suzano, situado na Avenida Mogi das Cruzes, 1.501, Parque Suzano, Suzano. XV - Campus Campinas, situado na Rodovia D - Pedro I – SP 65 – KM 143,6, Amarais, Campinas; XVI - Campus Catanduva, situado na Avenida Imperatriz, s/ nº, Distrito Industrial, Catanduva. XVII - Campus Avaré, situado na Avenida Professor Celso Ferreira da Silva, s/ nº, Jardim Europa, Avaré. XVIII - Campus Araraquara, situado no Ramal de Acesso Engenheiro Heitor de Souza Pinheiro, Araraquara. XIX - Campus Itapetininga, situado na Avenida João Olímpio de Oliveira, Bairro Assen, Itapetininga. XX - Campus Birigui, situado na Rua Pedro Cavalo, 709, Residencial Portal da Pérola II, Birigui. XXI - Campus Votuporanga, situado na Rua Pará, s/ nº, Chácara Aviação, Votuporanga. XXII - Campus Registro, situado na Rua Clara Gianotti de Souza, 5.180, Agrochá, Registro. XXIII - Campus Presidente Epitácio, situado na Rua Rua José Ramos Júnior, nº 27-50, Jardim Tropical, Presidente Epitácio. XXIV - Campus Piracicaba, situado na Rodovia Deputado Laércio Corte, s/ nº, Bairro Santa Rosa, Piracicaba. XXV - Campus Hortolândia, situado na Rodovia Municipal TeodorCondiev, 1896, Hortolândia. XXVI - Campus Boituva, situado na Avenida Zélia de Lima Rosa, nº 100, Portal dos Pássaros, Boituva. XXVII - Campus Capivari, situado na Avenida Ênio Pires de Camargo, 2971, São João Batista, Capivari. XXVIII - Campus Matão, situado na Rua José Bonifácio, 1176, Centro, Matão. XXIX - Campus São José dos Campos, situado na Rodovia Presidente Dutra s/n – km 145, Jardim Diamante, São José dos Campos. XXXI - Núcleo Avançado de Assis, situado na Avenida Getúlio Vargas nº 1200, Vila Nova Santana, Assis. § 3º- Para efeito da incidência das disposições que regem a regulação, avaliação e supervisão da Instituição e dos cursos de educação superior, o IFSP é equiparado às universidades federais. § 4º- O IFSP possui limite de atuação territorial para criar e extinguir cursos, bem como para registrar diplomas dos cursos por ele oferecidos, circunscrito ao Estado de São Paulo, aplicando-se, no caso de oferta de ensino a distância, legislação específica.'\u001b[0m,\n",
              "\u001b[2;32m│   \u001b[0m\u001b[33mmimetype\u001b[0m=\u001b[32m'text/plain'\u001b[0m,\n",
              "\u001b[2;32m│   \u001b[0m\u001b[33mstart_char_idx\u001b[0m=\u001b[3;35mNone\u001b[0m,\n",
              "\u001b[2;32m│   \u001b[0m\u001b[33mend_char_idx\u001b[0m=\u001b[3;35mNone\u001b[0m,\n",
              "\u001b[2;32m│   \u001b[0m\u001b[33mtext_template\u001b[0m=\u001b[32m'\u001b[0m\u001b[32m{\u001b[0m\u001b[32mmetadata_str\u001b[0m\u001b[32m}\u001b[0m\u001b[32m\\n\\n\u001b[0m\u001b[32m{\u001b[0m\u001b[32mcontent\u001b[0m\u001b[32m}\u001b[0m\u001b[32m'\u001b[0m,\n",
              "\u001b[2;32m│   \u001b[0m\u001b[33mmetadata_template\u001b[0m=\u001b[32m'\u001b[0m\u001b[32m{\u001b[0m\u001b[32mkey\u001b[0m\u001b[32m}\u001b[0m\u001b[32m: \u001b[0m\u001b[32m{\u001b[0m\u001b[32mvalue\u001b[0m\u001b[32m}\u001b[0m\u001b[32m'\u001b[0m,\n",
              "\u001b[2;32m│   \u001b[0m\u001b[33mmetadata_seperator\u001b[0m=\u001b[32m'\\n'\u001b[0m\n",
              "\u001b[1m)\u001b[0m\n"
            ],
            "text/html": [
              "<pre style=\"white-space:pre;overflow-x:auto;line-height:normal;font-family:Menlo,'DejaVu Sans Mono',consolas,'Courier New',monospace\"><span style=\"color: #800080; text-decoration-color: #800080; font-weight: bold\">Document</span><span style=\"font-weight: bold\">(</span>\n",
              "<span style=\"color: #7fbf7f; text-decoration-color: #7fbf7f\">│   </span><span style=\"color: #808000; text-decoration-color: #808000\">id_</span>=<span style=\"color: #008000; text-decoration-color: #008000\">'doc_0'</span>,\n",
              "<span style=\"color: #7fbf7f; text-decoration-color: #7fbf7f\">│   </span><span style=\"color: #808000; text-decoration-color: #808000\">embedding</span>=<span style=\"color: #800080; text-decoration-color: #800080; font-style: italic\">None</span>,\n",
              "<span style=\"color: #7fbf7f; text-decoration-color: #7fbf7f\">│   </span><span style=\"color: #808000; text-decoration-color: #808000\">metadata</span>=<span style=\"font-weight: bold\">{</span>\n",
              "<span style=\"color: #7fbf7f; text-decoration-color: #7fbf7f\">│   │   </span><span style=\"color: #008000; text-decoration-color: #008000\">'documento'</span>: <span style=\"color: #008000; text-decoration-color: #008000\">'Estatuto'</span>,\n",
              "<span style=\"color: #7fbf7f; text-decoration-color: #7fbf7f\">│   │   </span><span style=\"color: #008000; text-decoration-color: #008000\">'titulo'</span>: <span style=\"color: #008000; text-decoration-color: #008000\">'TÍTULO I - DA INSTITUIÇÃO'</span>,\n",
              "<span style=\"color: #7fbf7f; text-decoration-color: #7fbf7f\">│   │   </span><span style=\"color: #008000; text-decoration-color: #008000\">'capitulo'</span>: <span style=\"color: #008000; text-decoration-color: #008000\">'CAPÍTULO I DA NATUREZA E DAS FINALIDADES.'</span>,\n",
              "<span style=\"color: #7fbf7f; text-decoration-color: #7fbf7f\">│   │   </span><span style=\"color: #008000; text-decoration-color: #008000\">'seção'</span>: <span style=\"color: #008000; text-decoration-color: #008000\">''</span>,\n",
              "<span style=\"color: #7fbf7f; text-decoration-color: #7fbf7f\">│   │   </span><span style=\"color: #008000; text-decoration-color: #008000\">'subseção'</span>: <span style=\"color: #008000; text-decoration-color: #008000\">''</span>\n",
              "<span style=\"color: #7fbf7f; text-decoration-color: #7fbf7f\">│   </span><span style=\"font-weight: bold\">}</span>,\n",
              "<span style=\"color: #7fbf7f; text-decoration-color: #7fbf7f\">│   </span><span style=\"color: #808000; text-decoration-color: #808000\">excluded_embed_metadata_keys</span>=<span style=\"font-weight: bold\">[]</span>,\n",
              "<span style=\"color: #7fbf7f; text-decoration-color: #7fbf7f\">│   </span><span style=\"color: #808000; text-decoration-color: #808000\">excluded_llm_metadata_keys</span>=<span style=\"font-weight: bold\">[]</span>,\n",
              "<span style=\"color: #7fbf7f; text-decoration-color: #7fbf7f\">│   </span><span style=\"color: #808000; text-decoration-color: #808000\">relationships</span>=<span style=\"font-weight: bold\">{}</span>,\n",
              "<span style=\"color: #7fbf7f; text-decoration-color: #7fbf7f\">│   </span><span style=\"color: #808000; text-decoration-color: #808000\">text</span>=<span style=\"color: #008000; text-decoration-color: #008000\">'Art 1º - O INSTITUTO FEDERAL DE EDUCAÇÃO, CIÊNCIA E TECNOLOGIA DE SÃO PAULO – IFSP, com sede e foro na cidade de São Paulo, criado nos termos da Lei nº. 11.892, de 29 de dezembro de 2008, constitui-se em autarquia federal, vinculada ao Ministério da Educação, detentora de autonomia administrativa, patrimonial, financeira, didático-pedagógica e disciplinar. §1º- O IFSP é domiciliado na sede de sua Reitoria, situada na Rua Pedro Vicente, 625, Canindé, São Paulo. §2º- O IFSP é uma instituição de educação superior, básica e profissional, pluricurricular e multicampi, especializada na oferta de educação profissional e tecnológica nas diferentes modalidades de ensino, com base na conjugação de conhecimentos técnicos e tecnológicos com a sua prática pedagógica, nos termos da lei. Tem como sedes, para os fins da legislação educacional: I - Reitoria, no endereço citado no §1º. II - Campus São Paulo, situado na Rua Pedro Vicente, 625, Canindé, São Paulo. III - Campus Cubatão, situado na Rua Maria Cristina, 50, Jardim Casqueiro, Cubatão. IV - Campus Sertãozinho, situado na Rua Américo Ambrósio, 269, Jardim Canaã, Sertãozinho. V - Campus Guarulhos, situado na Avenida Salgado Filho, 2501, Bairro Vila Rio de Janeiro, Guarulhos. VI - Campus São João da Boa Vista, situado no Acesso Dr. João Batista Merlin, s/ nº, Jardim Itália, São João da Boa Vista. VII - Campus Caraguatatuba, situado na Avenida Rio Grande do Norte, 450, Indaiá, Caraguatatuba. VIII - Campus Bragança Paulista, situado na Avenida Francisco Samuel Lucchesi Filho, 770, Penha, Bragança Paulista. IX - Campus Salto, situado na Rua Rio Branco, 1780, Vila Teixeira, Salto. X - Campus São Roque, situado na Rodovia Quintino de Lima, 2100, Jardim Conceição, São Roque. XI - Campus São Carlos, situado na Rodovia Washington Luís, km 235 AT-6, Sala 119, São Carlos. XII - Campus Campos do Jordão, situado na Rua Monsenhor José Vita, 280, Vila Abernéssia, Campos do Jordão. XIII - Campus Barretos, situado na Avenida C-1, Bairro Ide Daher, Barretos. XIV - Campus Suzano, situado na Avenida Mogi das Cruzes, 1.501, Parque Suzano, Suzano. XV - Campus Campinas, situado na Rodovia D - Pedro I – SP 65 – KM 143,6, Amarais, Campinas; XVI - Campus Catanduva, situado na Avenida Imperatriz, s/ nº, Distrito Industrial, Catanduva. XVII - Campus Avaré, situado na Avenida Professor Celso Ferreira da Silva, s/ nº, Jardim Europa, Avaré. XVIII - Campus Araraquara, situado no Ramal de Acesso Engenheiro Heitor de Souza Pinheiro, Araraquara. XIX - Campus Itapetininga, situado na Avenida João Olímpio de Oliveira, Bairro Assen, Itapetininga. XX - Campus Birigui, situado na Rua Pedro Cavalo, 709, Residencial Portal da Pérola II, Birigui. XXI - Campus Votuporanga, situado na Rua Pará, s/ nº, Chácara Aviação, Votuporanga. XXII - Campus Registro, situado na Rua Clara Gianotti de Souza, 5.180, Agrochá, Registro. XXIII - Campus Presidente Epitácio, situado na Rua Rua José Ramos Júnior, nº 27-50, Jardim Tropical, Presidente Epitácio. XXIV - Campus Piracicaba, situado na Rodovia Deputado Laércio Corte, s/ nº, Bairro Santa Rosa, Piracicaba. XXV - Campus Hortolândia, situado na Rodovia Municipal TeodorCondiev, 1896, Hortolândia. XXVI - Campus Boituva, situado na Avenida Zélia de Lima Rosa, nº 100, Portal dos Pássaros, Boituva. XXVII - Campus Capivari, situado na Avenida Ênio Pires de Camargo, 2971, São João Batista, Capivari. XXVIII - Campus Matão, situado na Rua José Bonifácio, 1176, Centro, Matão. XXIX - Campus São José dos Campos, situado na Rodovia Presidente Dutra s/n – km 145, Jardim Diamante, São José dos Campos. XXXI - Núcleo Avançado de Assis, situado na Avenida Getúlio Vargas nº 1200, Vila Nova Santana, Assis. § 3º- Para efeito da incidência das disposições que regem a regulação, avaliação e supervisão da Instituição e dos cursos de educação superior, o IFSP é equiparado às universidades federais. § 4º- O IFSP possui limite de atuação territorial para criar e extinguir cursos, bem como para registrar diplomas dos cursos por ele oferecidos, circunscrito ao Estado de São Paulo, aplicando-se, no caso de oferta de ensino a distância, legislação específica.'</span>,\n",
              "<span style=\"color: #7fbf7f; text-decoration-color: #7fbf7f\">│   </span><span style=\"color: #808000; text-decoration-color: #808000\">mimetype</span>=<span style=\"color: #008000; text-decoration-color: #008000\">'text/plain'</span>,\n",
              "<span style=\"color: #7fbf7f; text-decoration-color: #7fbf7f\">│   </span><span style=\"color: #808000; text-decoration-color: #808000\">start_char_idx</span>=<span style=\"color: #800080; text-decoration-color: #800080; font-style: italic\">None</span>,\n",
              "<span style=\"color: #7fbf7f; text-decoration-color: #7fbf7f\">│   </span><span style=\"color: #808000; text-decoration-color: #808000\">end_char_idx</span>=<span style=\"color: #800080; text-decoration-color: #800080; font-style: italic\">None</span>,\n",
              "<span style=\"color: #7fbf7f; text-decoration-color: #7fbf7f\">│   </span><span style=\"color: #808000; text-decoration-color: #808000\">text_template</span>=<span style=\"color: #008000; text-decoration-color: #008000\">'{metadata_str}\\n\\n{content}'</span>,\n",
              "<span style=\"color: #7fbf7f; text-decoration-color: #7fbf7f\">│   </span><span style=\"color: #808000; text-decoration-color: #808000\">metadata_template</span>=<span style=\"color: #008000; text-decoration-color: #008000\">'{key}: {value}'</span>,\n",
              "<span style=\"color: #7fbf7f; text-decoration-color: #7fbf7f\">│   </span><span style=\"color: #808000; text-decoration-color: #808000\">metadata_seperator</span>=<span style=\"color: #008000; text-decoration-color: #008000\">'\\n'</span>\n",
              "<span style=\"font-weight: bold\">)</span>\n",
              "</pre>\n"
            ]
          },
          "metadata": {}
        }
      ]
    },
    {
      "cell_type": "code",
      "source": [
        "# Esta classe separa o texto em sentenças e, de acordo com o parâmetro \"window_size\",\n",
        "# cria janelas com a sentença atual mais 'window_size' sentenças antes e depois\n",
        "# as janelas são salvas no metadata \"window\" e as sentenças em \"original_sentence\"\n",
        "node_parser = SentenceWindowNodeParser.from_defaults(\n",
        "    window_size=1, # com valor 1, as \"janelas\" terão tamanho 3: uma sentença antes, a sentença atual, uma sentença depois\n",
        "    window_metadata_key=\"window\",\n",
        "    original_text_metadata_key=\"original_sentence\",\n",
        ")\n",
        "\n",
        "nodes = node_parser.get_nodes_from_documents(base_docs)\n",
        "len(nodes)"
      ],
      "metadata": {
        "id": "WYcdPT2FqE2a",
        "colab": {
          "base_uri": "https://localhost:8080/"
        },
        "outputId": "2c7086ce-7612-4397-91de-0b0f088f67ab"
      },
      "execution_count": null,
      "outputs": [
        {
          "output_type": "execute_result",
          "data": {
            "text/plain": [
              "4672"
            ]
          },
          "metadata": {},
          "execution_count": 11
        }
      ]
    },
    {
      "cell_type": "code",
      "source": [
        "pprint(nodes[0])"
      ],
      "metadata": {
        "id": "4l3JH6ghy7Al"
      },
      "execution_count": null,
      "outputs": []
    },
    {
      "cell_type": "markdown",
      "source": [
        "# Criando BM25"
      ],
      "metadata": {
        "id": "1mu4ekfw-HGT"
      }
    },
    {
      "cell_type": "code",
      "source": [
        "# Criando o BM25\n",
        "# com 'tokenizer=None', ele vai fazer a remoção de stop words e o stemming\n",
        "retriever = BM25Retriever(nodes=nodes, tokenizer=None, similarity_top_k=10)"
      ],
      "metadata": {
        "id": "Xdszw0ZI0FdC"
      },
      "execution_count": null,
      "outputs": []
    },
    {
      "cell_type": "code",
      "source": [
        "# Testando a busca com BM25\n",
        "retriever_nodes = retriever.retrieve(\"Qual o nome do IFSP?\")\n",
        "for node in retriever_nodes:\n",
        "    display_source_node(node)"
      ],
      "metadata": {
        "id": "hxU7ORE00IzU",
        "colab": {
          "base_uri": "https://localhost:8080/",
          "height": 604
        },
        "outputId": "ff47ffdd-bb2e-46f6-dcf8-684fc25c3192"
      },
      "execution_count": null,
      "outputs": [
        {
          "output_type": "display_data",
          "data": {
            "text/plain": [
              "<IPython.core.display.Markdown object>"
            ],
            "text/markdown": "**Node ID:** b460f6a5-1967-47a9-b13d-b04c7bda372a<br>**Similarity:** 1.6530010535409605<br>**Text:** CANCELAMENTO DE MATRÍCULA - É o ato formal pelo qual o estudante se desliga do IFSP.<br>"
          },
          "metadata": {}
        },
        {
          "output_type": "display_data",
          "data": {
            "text/plain": [
              "<IPython.core.display.Markdown object>"
            ],
            "text/markdown": "**Node ID:** 8f30a4dc-0135-444f-81cc-055da90d33dd<br>**Similarity:** 0.0<br>**Text:** Em todos os casos, deverá ser estabelecido termo de acordo ou convênio do IFSP com a instituição ...<br>"
          },
          "metadata": {}
        },
        {
          "output_type": "display_data",
          "data": {
            "text/plain": [
              "<IPython.core.display.Markdown object>"
            ],
            "text/markdown": "**Node ID:** 9aac9439-861f-4fb7-a20b-02efe3e8b5e6<br>**Similarity:** 1.8862781864324674<br>**Text:** Em todos os casos, deverá ser estabelecido termo de acordo ou convênio do IFSP com a instituição ...<br>"
          },
          "metadata": {}
        },
        {
          "output_type": "display_data",
          "data": {
            "text/plain": [
              "<IPython.core.display.Markdown object>"
            ],
            "text/markdown": "**Node ID:** 855f06b2-3fda-4738-9ab7-48b932c71135<br>**Similarity:** 1.3474862815615087<br>**Text:** Art 159 - As informações acadêmicas dos discentes do IFSP são armazenadas em prontuário, o qual f...<br>"
          },
          "metadata": {}
        },
        {
          "output_type": "display_data",
          "data": {
            "text/plain": [
              "<IPython.core.display.Markdown object>"
            ],
            "text/markdown": "**Node ID:** 74607a42-f969-4fc2-8c69-a56bb5518fa1<br>**Similarity:** 0.0<br>**Text:** Para efeito de registro acadêmico, constará no histórico escolar o nome da disciplina constante n...<br>"
          },
          "metadata": {}
        },
        {
          "output_type": "display_data",
          "data": {
            "text/plain": [
              "<IPython.core.display.Markdown object>"
            ],
            "text/markdown": "**Node ID:** 9067f3e2-a484-4c6e-9a3b-1a3f187b0f0b<br>**Similarity:** 0.0<br>**Text:** Art 1º - ALTERA o nome de Centro Federal de Línguas do Câmpus Boituva (CeFeL) para Centro de Líng...<br>"
          },
          "metadata": {}
        },
        {
          "output_type": "display_data",
          "data": {
            "text/plain": [
              "<IPython.core.display.Markdown object>"
            ],
            "text/markdown": "**Node ID:** c8088890-7717-4fd7-88d9-f8cacc3dc0fc<br>**Similarity:** 0.0<br>**Text:** Artigo 29 Cada eleitor devera assinalar um nome de candidato na cedula de votacao.<br>"
          },
          "metadata": {}
        },
        {
          "output_type": "display_data",
          "data": {
            "text/plain": [
              "<IPython.core.display.Markdown object>"
            ],
            "text/markdown": "**Node ID:** f28c1de5-2df0-4afb-843a-0f8dbf82a5c3<br>**Similarity:** 0.0<br>**Text:** Altera o nome e Designa Servidora como Responsável pelo Centro de Línguas – CeLin, do Câmpus Boit...<br>"
          },
          "metadata": {}
        },
        {
          "output_type": "display_data",
          "data": {
            "text/plain": [
              "<IPython.core.display.Markdown object>"
            ],
            "text/markdown": "**Node ID:** 5e9931f3-4f68-44eb-89aa-77e97630c431<br>**Similarity:** 0.0<br>**Text:** §8º- Os procedimentos de trabalho do Conselho Superior serão disciplinados no seu regulamento o q...<br>"
          },
          "metadata": {}
        },
        {
          "output_type": "display_data",
          "data": {
            "text/plain": [
              "<IPython.core.display.Markdown object>"
            ],
            "text/markdown": "**Node ID:** 85b7bbc3-41a9-45da-8a68-b803f3b9d254<br>**Similarity:** 0.0<br>**Text:** Art 52 - Matrícula é o ato formal pelo qual se dá a vinculação acadêmica do estudante ao IFSP apó...<br>"
          },
          "metadata": {}
        }
      ]
    },
    {
      "cell_type": "markdown",
      "source": [
        "# Criando o 'motor de busca'"
      ],
      "metadata": {
        "id": "tNyEg1wc-acO"
      }
    },
    {
      "cell_type": "code",
      "source": [
        "# Após testes e análise do código, percebi que:\n",
        "# - O BM25 faz a busca utilizando a sentença e não a janela\n",
        "# - O resultado da busca é substituído pelas respectivas \"janelas\"\n",
        "# - O LLM indicado é utilizado para \"sintetizar\" o conteúdo das janelas\n",
        "query_engine = RetrieverQueryEngine.from_args(\n",
        "    retriever=retriever,\n",
        "    node_postprocessors=[\n",
        "        MetadataReplacementPostProcessor(target_metadata_key=\"window\")\n",
        "    ]\n",
        ")"
      ],
      "metadata": {
        "id": "F_GGy85K2D-B"
      },
      "execution_count": null,
      "outputs": []
    },
    {
      "cell_type": "code",
      "source": [
        "def display_prompt_dict(prompts_dict):\n",
        "    for k, p in prompts_dict.items():\n",
        "        text_md = f\"**Prompt Key**: {k} \" f\"\\n\\n**Text:** \"\n",
        "        display(Markdown(text_md))\n",
        "        print(p.get_template())\n",
        "        display(Markdown(\"\"))\n",
        "\n",
        "\n",
        "display_prompt_dict(query_engine.get_prompts())"
      ],
      "metadata": {
        "id": "UX-HoacIFevW",
        "colab": {
          "base_uri": "https://localhost:8080/",
          "height": 403
        },
        "outputId": "46c4f5e3-be4a-4577-d460-ff587afe091e"
      },
      "execution_count": null,
      "outputs": [
        {
          "output_type": "display_data",
          "data": {
            "text/plain": [
              "<IPython.core.display.Markdown object>"
            ],
            "text/markdown": "**Prompt Key**: response_synthesizer:text_qa_template \n\n**Text:** "
          },
          "metadata": {}
        },
        {
          "output_type": "stream",
          "name": "stdout",
          "text": [
            "Context information is below.\n",
            "---------------------\n",
            "{context_str}\n",
            "---------------------\n",
            "Given the context information and not prior knowledge, answer the query.\n",
            "Query: {query_str}\n",
            "Answer: \n"
          ]
        },
        {
          "output_type": "display_data",
          "data": {
            "text/plain": [
              "<IPython.core.display.Markdown object>"
            ],
            "text/markdown": ""
          },
          "metadata": {}
        },
        {
          "output_type": "display_data",
          "data": {
            "text/plain": [
              "<IPython.core.display.Markdown object>"
            ],
            "text/markdown": "**Prompt Key**: response_synthesizer:refine_template \n\n**Text:** "
          },
          "metadata": {}
        },
        {
          "output_type": "stream",
          "name": "stdout",
          "text": [
            "The original query is as follows: {query_str}\n",
            "We have provided an existing answer: {existing_answer}\n",
            "We have the opportunity to refine the existing answer (only if needed) with some more context below.\n",
            "------------\n",
            "{context_msg}\n",
            "------------\n",
            "Given the new context, refine the original answer to better answer the query. If the context isn't useful, return the original answer.\n",
            "Refined Answer: \n"
          ]
        },
        {
          "output_type": "display_data",
          "data": {
            "text/plain": [
              "<IPython.core.display.Markdown object>"
            ],
            "text/markdown": ""
          },
          "metadata": {}
        }
      ]
    },
    {
      "cell_type": "code",
      "source": [
        "new_summary_tmpl_str = (\"\"\"\n",
        "Context information is below.\n",
        "---------------------\n",
        "{context_str}\n",
        "---------------------\n",
        "Given the context information and not prior knowledge, answer the query.\n",
        "If you have an answer, provide the source, such as the document, title, chapter, or article when available.\n",
        "Otherwise, just leave the source field blank.\n",
        "It is important that you use the same language as the query.\n",
        "Query: {query_str}\n",
        "Source:\n",
        "Answer:\n",
        "\"\"\"\n",
        ")\n",
        "\n",
        "new_refine_tmpl_str = (\"\"\"\n",
        "The original query is as follows: {query_str}\n",
        "We have provided an existing answer: {existing_answer}\n",
        "We have the opportunity to refine the existing answer (only if needed) with some more context below.\n",
        "------------\n",
        "{context_msg}\n",
        "------------\n",
        "Given the new context, refine the original answer to better answer the query. If the context isn't useful, return the original answer.\n",
        "Do not add other information, such as 'The refined answer remains the same' or 'Justification', besides the answer and the source.\n",
        "If you have an answer, provide the source, such as the document, title, chapter, or article when available.\n",
        "Otherwise, just leave the source field blank.\n",
        "It is important that you use the same language as the query.\n",
        "\n",
        "Refined Answer:\n",
        "\n",
        "\"\"\"\n",
        ")\n",
        "\n",
        "new_summary_tmpl = PromptTemplate(new_summary_tmpl_str)\n",
        "new_refine_tmpl_str = PromptTemplate(new_refine_tmpl_str)\n",
        "\n",
        "query_engine.update_prompts(\n",
        "    {\"response_synthesizer:text_qa_template\": new_summary_tmpl\n",
        "     , \"response_synthesizer:refine_template\" : new_refine_tmpl_str}\n",
        ")\n",
        "\n",
        "display_prompt_dict(query_engine.get_prompts())\n"
      ],
      "metadata": {
        "colab": {
          "base_uri": "https://localhost:8080/",
          "height": 646
        },
        "id": "tS1dyk2xF6JN",
        "outputId": "ae8c420c-17a0-4517-8200-f7080e988784"
      },
      "execution_count": null,
      "outputs": [
        {
          "output_type": "display_data",
          "data": {
            "text/plain": [
              "<IPython.core.display.Markdown object>"
            ],
            "text/markdown": "**Prompt Key**: response_synthesizer:text_qa_template \n\n**Text:** "
          },
          "metadata": {}
        },
        {
          "output_type": "stream",
          "name": "stdout",
          "text": [
            "\n",
            "Context information is below.\n",
            "---------------------\n",
            "{context_str}\n",
            "---------------------\n",
            "Given the context information and not prior knowledge, answer the query.\n",
            "If you have an answer, provide the source, such as the document, title, chapter, or article when available.\n",
            "Otherwise, just leave the source field blank.\n",
            "It is important that you use the same language as the query.\n",
            "Query: {query_str}\n",
            "Source:\n",
            "Answer:\n",
            "\n"
          ]
        },
        {
          "output_type": "display_data",
          "data": {
            "text/plain": [
              "<IPython.core.display.Markdown object>"
            ],
            "text/markdown": ""
          },
          "metadata": {}
        },
        {
          "output_type": "display_data",
          "data": {
            "text/plain": [
              "<IPython.core.display.Markdown object>"
            ],
            "text/markdown": "**Prompt Key**: response_synthesizer:refine_template \n\n**Text:** "
          },
          "metadata": {}
        },
        {
          "output_type": "stream",
          "name": "stdout",
          "text": [
            "\n",
            "The original query is as follows: {query_str}\n",
            "We have provided an existing answer: {existing_answer}\n",
            "We have the opportunity to refine the existing answer (only if needed) with some more context below.\n",
            "------------\n",
            "{context_msg}\n",
            "------------\n",
            "Given the new context, refine the original answer to better answer the query. If the context isn't useful, return the original answer.\n",
            "Do not add other information, such as 'The refined answer remains the same' or 'Justification', besides the answer and the source.\n",
            "If you have an answer, provide the source, such as the document, title, chapter, or article when available.\n",
            "Otherwise, just leave the source field blank.\n",
            "It is important that you use the same language as the query.\n",
            "\n",
            "Refined Answer:\n",
            "\n",
            "\n"
          ]
        },
        {
          "output_type": "display_data",
          "data": {
            "text/plain": [
              "<IPython.core.display.Markdown object>"
            ],
            "text/markdown": ""
          },
          "metadata": {}
        }
      ]
    },
    {
      "cell_type": "code",
      "source": [
        "#query = \"Qual o nome do IFSP?\"\n",
        "#query = \"Quais são os campi do IFSP? Além de responder à pergunta, informe o documento, o Capítulo e o Artigo de referência.\"\n",
        "#query = \"Quantos campi o IFSP tem? Informe onde você encontrou essa informação\"\n",
        "#query = \"O IFSP tem só ensino médio? Além de responder à pergunta, informe o documento, o Capítulo e o Artigo de referência.\"\n",
        "#query = \"Quais artigos do Estatuto dizem que o IFSP oferece mestrado e doutorado?\"\n",
        "#query = \"O que diz o Art 6º do estatuto do IFSP?\"\n",
        "#query = \"O Art 4º do estatuto do IFSP é sobre o que?\"\n",
        "\n",
        "query = \"Sou aluno de graduação e gostaria de saber o que são as transferências especial e ex oficio.\"\n",
        "#query = \"O que é Estudante Especial?\"\n",
        "#query = \"Em qual portaria Ramon Abilio foi designado para compor a Comissão de Avaliação de Atividades Docentes - CAAD?\"\n",
        "\n",
        "# Testando a busca\n",
        "response = query_engine.query(query)\n",
        "display_response(response)"
      ],
      "metadata": {
        "id": "0ZnU6zqjMzIk",
        "colab": {
          "base_uri": "https://localhost:8080/",
          "height": 104
        },
        "outputId": "fcd83abb-598e-4e9f-b18f-bb0deea4eaec"
      },
      "execution_count": null,
      "outputs": [
        {
          "output_type": "display_data",
          "data": {
            "text/plain": [
              "<IPython.core.display.Markdown object>"
            ],
            "text/markdown": "**`Final Response:`** Answer: As transferências especiais ou ex-officio são mudanças de um estudante para outra instituição, no mesmo curso ou em curso de área afim (quando a instituição de destino não tiver o mesmo curso da instituição de origem), de funcionário público civil ou militar (dele próprio, de seu cônjuge ou filhos) transferido, a serviço, para outro estado ou município.\n\nSource: Organização Didática dos Cursos de Graduação, TÍTULO VII DAS DISPOSIÇÕES GERAIS E FINAIS, Glossário."
          },
          "metadata": {}
        }
      ]
    },
    {
      "cell_type": "code",
      "source": [
        "for node in response.source_nodes:\n",
        "    display_source_node(node, source_length=500)"
      ],
      "metadata": {
        "id": "Te-tCVtdLGhk"
      },
      "execution_count": null,
      "outputs": []
    },
    {
      "cell_type": "markdown",
      "source": [
        "# Avaliando"
      ],
      "metadata": {
        "id": "E9mOxkAc7lsd"
      }
    },
    {
      "cell_type": "code",
      "source": [
        "def get_contexts(response):\n",
        "    contexts = []\n",
        "    for node in response.source_nodes:\n",
        "        metadata = ', '.join(node.metadata.values())\n",
        "        context  = node.get_content()\n",
        "        contexts.append(f\"Fonte: {metadata} # Contextos: {context};\")\n",
        "    return '\\n'.join(contexts)"
      ],
      "metadata": {
        "id": "FZiKQYCC7nrp"
      },
      "execution_count": null,
      "outputs": []
    },
    {
      "cell_type": "code",
      "source": [
        "df = pd.read_csv(f\"{DATA_DIR}/3-questions_answers/test_dataset_100.csv\")\n",
        "df"
      ],
      "metadata": {
        "colab": {
          "base_uri": "https://localhost:8080/",
          "height": 736
        },
        "id": "nPVGb4iVIxE5",
        "outputId": "699b8f42-2547-4e46-fbba-a43f471425ff"
      },
      "execution_count": null,
      "outputs": [
        {
          "output_type": "execute_result",
          "data": {
            "text/plain": [
              "                                             question  \\\n",
              "0   Quem são os servidores designados para constit...   \n",
              "1           O que é mobilidade de estudantes no IFSP?   \n",
              "2   Quais são os membros designados para compor a ...   \n",
              "3   Quem são os membros designados para compor a C...   \n",
              "4   Quais são os objetivos do Estágio Profissional...   \n",
              "..                                                ...   \n",
              "95  Quem é o responsável pela coordenação do Comit...   \n",
              "96  Quem é o servidor designado para desempenhar a...   \n",
              "97  Quais são os membros da Comissão de Elaboração...   \n",
              "98  Quem é o responsável pela designação de servid...   \n",
              "99  Quem é o responsável pela Portaria nº 3.903, d...   \n",
              "\n",
              "                                               answer  \\\n",
              "0   Fernando Vernal Salina Giorjety Licorini Dias,...   \n",
              "1   A mobilidade de estudantes é a possibilidade d...   \n",
              "2   Jaime Martimiano Junior, Cristiane Vega Parise...   \n",
              "3   Os membros designados são Felipe Gobo Bruno, M...   \n",
              "4   Os objetivos do Estágio Profissional Supervisi...   \n",
              "..                                                ...   \n",
              "95  A coordenação do Comitê é responsável por orga...   \n",
              "96  Ricardo José Correa, Advogado, matrícula SIAPE...   \n",
              "97  Os membros da Comissão são: JAIR MANOEL CASQUE...   \n",
              "98  O Diretor Geral do Campus Boituva do Instituto...   \n",
              "99                           O Ministério da Educação   \n",
              "\n",
              "                                              context  \\\n",
              "0   Art 20 - DESIGNAR, os servidores abaixo relaci...   \n",
              "1   Art 199 - A mobilidade de estudantes poderá se...   \n",
              "2   Art 1º - Altera em partes a PORTARIA BTV.0080/...   \n",
              "3   Art 1º - DESIGNAR, os membros abaixo relaciona...   \n",
              "4   Art 144 - São objetivos do estágio supervision...   \n",
              "..                                                ...   \n",
              "95  Art 2º - Ficará a cargo da Coordenação do Comi...   \n",
              "96  A PRESIDENTE DA COMISSÃO DE PROCESSO ADMINISTR...   \n",
              "97  Art 2.º - DESIGNAR, os servidores abaixo relac...   \n",
              "98  O DIRETOR GERAL DO CAMPUS BOITUVA, DO INSTITUT...   \n",
              "99  MINISTÉRIO DA EDUCAÇÃO INSTITUTO FEDERAL DE ED...   \n",
              "\n",
              "                                            reference           document  \n",
              "0   Portaria nº 1.324, de 26 de março de 2014, Art...  boituva_portarias  \n",
              "1   Organização Didática da Educação Básica, Títul...      od_edu_basica  \n",
              "2   PORTARIA BTV.0080/2018, de 06 de julho de 2018...  boituva_portarias  \n",
              "3   PORTARIA BTV.0057/2020, DE 23 DE JULHO DE 2020...  boituva_portarias  \n",
              "4   Organização Didática da Educação Básica, Títul...      od_edu_basica  \n",
              "..                                                ...                ...  \n",
              "95  Portaria nº 3.903, de 04 de novembro de 2015, ...  boituva_portarias  \n",
              "96  Portaria nº 1.970, de 28 de junho de 2018, Art...  boituva_portarias  \n",
              "97  PORTARIA BTV.0060/2020, DE 24 DE JULHO DE 2020...  boituva_portarias  \n",
              "98  PORTARIA BTV.0062/2018, DE 18 DE JUNHO DE 2018...  boituva_portarias  \n",
              "99  Portaria nº 3.903, de 04 de novembro de 2015, ...  boituva_portarias  \n",
              "\n",
              "[100 rows x 5 columns]"
            ],
            "text/html": [
              "\n",
              "  <div id=\"df-07e842b0-349e-4f6c-86b0-9f3f6364e774\" class=\"colab-df-container\">\n",
              "    <div>\n",
              "<style scoped>\n",
              "    .dataframe tbody tr th:only-of-type {\n",
              "        vertical-align: middle;\n",
              "    }\n",
              "\n",
              "    .dataframe tbody tr th {\n",
              "        vertical-align: top;\n",
              "    }\n",
              "\n",
              "    .dataframe thead th {\n",
              "        text-align: right;\n",
              "    }\n",
              "</style>\n",
              "<table border=\"1\" class=\"dataframe\">\n",
              "  <thead>\n",
              "    <tr style=\"text-align: right;\">\n",
              "      <th></th>\n",
              "      <th>question</th>\n",
              "      <th>answer</th>\n",
              "      <th>context</th>\n",
              "      <th>reference</th>\n",
              "      <th>document</th>\n",
              "    </tr>\n",
              "  </thead>\n",
              "  <tbody>\n",
              "    <tr>\n",
              "      <th>0</th>\n",
              "      <td>Quem são os servidores designados para constit...</td>\n",
              "      <td>Fernando Vernal Salina Giorjety Licorini Dias,...</td>\n",
              "      <td>Art 20 - DESIGNAR, os servidores abaixo relaci...</td>\n",
              "      <td>Portaria nº 1.324, de 26 de março de 2014, Art...</td>\n",
              "      <td>boituva_portarias</td>\n",
              "    </tr>\n",
              "    <tr>\n",
              "      <th>1</th>\n",
              "      <td>O que é mobilidade de estudantes no IFSP?</td>\n",
              "      <td>A mobilidade de estudantes é a possibilidade d...</td>\n",
              "      <td>Art 199 - A mobilidade de estudantes poderá se...</td>\n",
              "      <td>Organização Didática da Educação Básica, Títul...</td>\n",
              "      <td>od_edu_basica</td>\n",
              "    </tr>\n",
              "    <tr>\n",
              "      <th>2</th>\n",
              "      <td>Quais são os membros designados para compor a ...</td>\n",
              "      <td>Jaime Martimiano Junior, Cristiane Vega Parise...</td>\n",
              "      <td>Art 1º - Altera em partes a PORTARIA BTV.0080/...</td>\n",
              "      <td>PORTARIA BTV.0080/2018, de 06 de julho de 2018...</td>\n",
              "      <td>boituva_portarias</td>\n",
              "    </tr>\n",
              "    <tr>\n",
              "      <th>3</th>\n",
              "      <td>Quem são os membros designados para compor a C...</td>\n",
              "      <td>Os membros designados são Felipe Gobo Bruno, M...</td>\n",
              "      <td>Art 1º - DESIGNAR, os membros abaixo relaciona...</td>\n",
              "      <td>PORTARIA BTV.0057/2020, DE 23 DE JULHO DE 2020...</td>\n",
              "      <td>boituva_portarias</td>\n",
              "    </tr>\n",
              "    <tr>\n",
              "      <th>4</th>\n",
              "      <td>Quais são os objetivos do Estágio Profissional...</td>\n",
              "      <td>Os objetivos do Estágio Profissional Supervisi...</td>\n",
              "      <td>Art 144 - São objetivos do estágio supervision...</td>\n",
              "      <td>Organização Didática da Educação Básica, Títul...</td>\n",
              "      <td>od_edu_basica</td>\n",
              "    </tr>\n",
              "    <tr>\n",
              "      <th>...</th>\n",
              "      <td>...</td>\n",
              "      <td>...</td>\n",
              "      <td>...</td>\n",
              "      <td>...</td>\n",
              "      <td>...</td>\n",
              "    </tr>\n",
              "    <tr>\n",
              "      <th>95</th>\n",
              "      <td>Quem é o responsável pela coordenação do Comit...</td>\n",
              "      <td>A coordenação do Comitê é responsável por orga...</td>\n",
              "      <td>Art 2º - Ficará a cargo da Coordenação do Comi...</td>\n",
              "      <td>Portaria nº 3.903, de 04 de novembro de 2015, ...</td>\n",
              "      <td>boituva_portarias</td>\n",
              "    </tr>\n",
              "    <tr>\n",
              "      <th>96</th>\n",
              "      <td>Quem é o servidor designado para desempenhar a...</td>\n",
              "      <td>Ricardo José Correa, Advogado, matrícula SIAPE...</td>\n",
              "      <td>A PRESIDENTE DA COMISSÃO DE PROCESSO ADMINISTR...</td>\n",
              "      <td>Portaria nº 1.970, de 28 de junho de 2018, Art...</td>\n",
              "      <td>boituva_portarias</td>\n",
              "    </tr>\n",
              "    <tr>\n",
              "      <th>97</th>\n",
              "      <td>Quais são os membros da Comissão de Elaboração...</td>\n",
              "      <td>Os membros da Comissão são: JAIR MANOEL CASQUE...</td>\n",
              "      <td>Art 2.º - DESIGNAR, os servidores abaixo relac...</td>\n",
              "      <td>PORTARIA BTV.0060/2020, DE 24 DE JULHO DE 2020...</td>\n",
              "      <td>boituva_portarias</td>\n",
              "    </tr>\n",
              "    <tr>\n",
              "      <th>98</th>\n",
              "      <td>Quem é o responsável pela designação de servid...</td>\n",
              "      <td>O Diretor Geral do Campus Boituva do Instituto...</td>\n",
              "      <td>O DIRETOR GERAL DO CAMPUS BOITUVA, DO INSTITUT...</td>\n",
              "      <td>PORTARIA BTV.0062/2018, DE 18 DE JUNHO DE 2018...</td>\n",
              "      <td>boituva_portarias</td>\n",
              "    </tr>\n",
              "    <tr>\n",
              "      <th>99</th>\n",
              "      <td>Quem é o responsável pela Portaria nº 3.903, d...</td>\n",
              "      <td>O Ministério da Educação</td>\n",
              "      <td>MINISTÉRIO DA EDUCAÇÃO INSTITUTO FEDERAL DE ED...</td>\n",
              "      <td>Portaria nº 3.903, de 04 de novembro de 2015, ...</td>\n",
              "      <td>boituva_portarias</td>\n",
              "    </tr>\n",
              "  </tbody>\n",
              "</table>\n",
              "<p>100 rows × 5 columns</p>\n",
              "</div>\n",
              "    <div class=\"colab-df-buttons\">\n",
              "\n",
              "  <div class=\"colab-df-container\">\n",
              "    <button class=\"colab-df-convert\" onclick=\"convertToInteractive('df-07e842b0-349e-4f6c-86b0-9f3f6364e774')\"\n",
              "            title=\"Convert this dataframe to an interactive table.\"\n",
              "            style=\"display:none;\">\n",
              "\n",
              "  <svg xmlns=\"http://www.w3.org/2000/svg\" height=\"24px\" viewBox=\"0 -960 960 960\">\n",
              "    <path d=\"M120-120v-720h720v720H120Zm60-500h600v-160H180v160Zm220 220h160v-160H400v160Zm0 220h160v-160H400v160ZM180-400h160v-160H180v160Zm440 0h160v-160H620v160ZM180-180h160v-160H180v160Zm440 0h160v-160H620v160Z\"/>\n",
              "  </svg>\n",
              "    </button>\n",
              "\n",
              "  <style>\n",
              "    .colab-df-container {\n",
              "      display:flex;\n",
              "      gap: 12px;\n",
              "    }\n",
              "\n",
              "    .colab-df-convert {\n",
              "      background-color: #E8F0FE;\n",
              "      border: none;\n",
              "      border-radius: 50%;\n",
              "      cursor: pointer;\n",
              "      display: none;\n",
              "      fill: #1967D2;\n",
              "      height: 32px;\n",
              "      padding: 0 0 0 0;\n",
              "      width: 32px;\n",
              "    }\n",
              "\n",
              "    .colab-df-convert:hover {\n",
              "      background-color: #E2EBFA;\n",
              "      box-shadow: 0px 1px 2px rgba(60, 64, 67, 0.3), 0px 1px 3px 1px rgba(60, 64, 67, 0.15);\n",
              "      fill: #174EA6;\n",
              "    }\n",
              "\n",
              "    .colab-df-buttons div {\n",
              "      margin-bottom: 4px;\n",
              "    }\n",
              "\n",
              "    [theme=dark] .colab-df-convert {\n",
              "      background-color: #3B4455;\n",
              "      fill: #D2E3FC;\n",
              "    }\n",
              "\n",
              "    [theme=dark] .colab-df-convert:hover {\n",
              "      background-color: #434B5C;\n",
              "      box-shadow: 0px 1px 3px 1px rgba(0, 0, 0, 0.15);\n",
              "      filter: drop-shadow(0px 1px 2px rgba(0, 0, 0, 0.3));\n",
              "      fill: #FFFFFF;\n",
              "    }\n",
              "  </style>\n",
              "\n",
              "    <script>\n",
              "      const buttonEl =\n",
              "        document.querySelector('#df-07e842b0-349e-4f6c-86b0-9f3f6364e774 button.colab-df-convert');\n",
              "      buttonEl.style.display =\n",
              "        google.colab.kernel.accessAllowed ? 'block' : 'none';\n",
              "\n",
              "      async function convertToInteractive(key) {\n",
              "        const element = document.querySelector('#df-07e842b0-349e-4f6c-86b0-9f3f6364e774');\n",
              "        const dataTable =\n",
              "          await google.colab.kernel.invokeFunction('convertToInteractive',\n",
              "                                                    [key], {});\n",
              "        if (!dataTable) return;\n",
              "\n",
              "        const docLinkHtml = 'Like what you see? Visit the ' +\n",
              "          '<a target=\"_blank\" href=https://colab.research.google.com/notebooks/data_table.ipynb>data table notebook</a>'\n",
              "          + ' to learn more about interactive tables.';\n",
              "        element.innerHTML = '';\n",
              "        dataTable['output_type'] = 'display_data';\n",
              "        await google.colab.output.renderOutput(dataTable, element);\n",
              "        const docLink = document.createElement('div');\n",
              "        docLink.innerHTML = docLinkHtml;\n",
              "        element.appendChild(docLink);\n",
              "      }\n",
              "    </script>\n",
              "  </div>\n",
              "\n",
              "\n",
              "<div id=\"df-594fbce5-b004-4a94-8513-6b4fda1680eb\">\n",
              "  <button class=\"colab-df-quickchart\" onclick=\"quickchart('df-594fbce5-b004-4a94-8513-6b4fda1680eb')\"\n",
              "            title=\"Suggest charts\"\n",
              "            style=\"display:none;\">\n",
              "\n",
              "<svg xmlns=\"http://www.w3.org/2000/svg\" height=\"24px\"viewBox=\"0 0 24 24\"\n",
              "     width=\"24px\">\n",
              "    <g>\n",
              "        <path d=\"M19 3H5c-1.1 0-2 .9-2 2v14c0 1.1.9 2 2 2h14c1.1 0 2-.9 2-2V5c0-1.1-.9-2-2-2zM9 17H7v-7h2v7zm4 0h-2V7h2v10zm4 0h-2v-4h2v4z\"/>\n",
              "    </g>\n",
              "</svg>\n",
              "  </button>\n",
              "\n",
              "<style>\n",
              "  .colab-df-quickchart {\n",
              "      --bg-color: #E8F0FE;\n",
              "      --fill-color: #1967D2;\n",
              "      --hover-bg-color: #E2EBFA;\n",
              "      --hover-fill-color: #174EA6;\n",
              "      --disabled-fill-color: #AAA;\n",
              "      --disabled-bg-color: #DDD;\n",
              "  }\n",
              "\n",
              "  [theme=dark] .colab-df-quickchart {\n",
              "      --bg-color: #3B4455;\n",
              "      --fill-color: #D2E3FC;\n",
              "      --hover-bg-color: #434B5C;\n",
              "      --hover-fill-color: #FFFFFF;\n",
              "      --disabled-bg-color: #3B4455;\n",
              "      --disabled-fill-color: #666;\n",
              "  }\n",
              "\n",
              "  .colab-df-quickchart {\n",
              "    background-color: var(--bg-color);\n",
              "    border: none;\n",
              "    border-radius: 50%;\n",
              "    cursor: pointer;\n",
              "    display: none;\n",
              "    fill: var(--fill-color);\n",
              "    height: 32px;\n",
              "    padding: 0;\n",
              "    width: 32px;\n",
              "  }\n",
              "\n",
              "  .colab-df-quickchart:hover {\n",
              "    background-color: var(--hover-bg-color);\n",
              "    box-shadow: 0 1px 2px rgba(60, 64, 67, 0.3), 0 1px 3px 1px rgba(60, 64, 67, 0.15);\n",
              "    fill: var(--button-hover-fill-color);\n",
              "  }\n",
              "\n",
              "  .colab-df-quickchart-complete:disabled,\n",
              "  .colab-df-quickchart-complete:disabled:hover {\n",
              "    background-color: var(--disabled-bg-color);\n",
              "    fill: var(--disabled-fill-color);\n",
              "    box-shadow: none;\n",
              "  }\n",
              "\n",
              "  .colab-df-spinner {\n",
              "    border: 2px solid var(--fill-color);\n",
              "    border-color: transparent;\n",
              "    border-bottom-color: var(--fill-color);\n",
              "    animation:\n",
              "      spin 1s steps(1) infinite;\n",
              "  }\n",
              "\n",
              "  @keyframes spin {\n",
              "    0% {\n",
              "      border-color: transparent;\n",
              "      border-bottom-color: var(--fill-color);\n",
              "      border-left-color: var(--fill-color);\n",
              "    }\n",
              "    20% {\n",
              "      border-color: transparent;\n",
              "      border-left-color: var(--fill-color);\n",
              "      border-top-color: var(--fill-color);\n",
              "    }\n",
              "    30% {\n",
              "      border-color: transparent;\n",
              "      border-left-color: var(--fill-color);\n",
              "      border-top-color: var(--fill-color);\n",
              "      border-right-color: var(--fill-color);\n",
              "    }\n",
              "    40% {\n",
              "      border-color: transparent;\n",
              "      border-right-color: var(--fill-color);\n",
              "      border-top-color: var(--fill-color);\n",
              "    }\n",
              "    60% {\n",
              "      border-color: transparent;\n",
              "      border-right-color: var(--fill-color);\n",
              "    }\n",
              "    80% {\n",
              "      border-color: transparent;\n",
              "      border-right-color: var(--fill-color);\n",
              "      border-bottom-color: var(--fill-color);\n",
              "    }\n",
              "    90% {\n",
              "      border-color: transparent;\n",
              "      border-bottom-color: var(--fill-color);\n",
              "    }\n",
              "  }\n",
              "</style>\n",
              "\n",
              "  <script>\n",
              "    async function quickchart(key) {\n",
              "      const quickchartButtonEl =\n",
              "        document.querySelector('#' + key + ' button');\n",
              "      quickchartButtonEl.disabled = true;  // To prevent multiple clicks.\n",
              "      quickchartButtonEl.classList.add('colab-df-spinner');\n",
              "      try {\n",
              "        const charts = await google.colab.kernel.invokeFunction(\n",
              "            'suggestCharts', [key], {});\n",
              "      } catch (error) {\n",
              "        console.error('Error during call to suggestCharts:', error);\n",
              "      }\n",
              "      quickchartButtonEl.classList.remove('colab-df-spinner');\n",
              "      quickchartButtonEl.classList.add('colab-df-quickchart-complete');\n",
              "    }\n",
              "    (() => {\n",
              "      let quickchartButtonEl =\n",
              "        document.querySelector('#df-594fbce5-b004-4a94-8513-6b4fda1680eb button');\n",
              "      quickchartButtonEl.style.display =\n",
              "        google.colab.kernel.accessAllowed ? 'block' : 'none';\n",
              "    })();\n",
              "  </script>\n",
              "</div>\n",
              "\n",
              "  <div id=\"id_85c2f735-9408-4381-9ef9-e4996fa8caae\">\n",
              "    <style>\n",
              "      .colab-df-generate {\n",
              "        background-color: #E8F0FE;\n",
              "        border: none;\n",
              "        border-radius: 50%;\n",
              "        cursor: pointer;\n",
              "        display: none;\n",
              "        fill: #1967D2;\n",
              "        height: 32px;\n",
              "        padding: 0 0 0 0;\n",
              "        width: 32px;\n",
              "      }\n",
              "\n",
              "      .colab-df-generate:hover {\n",
              "        background-color: #E2EBFA;\n",
              "        box-shadow: 0px 1px 2px rgba(60, 64, 67, 0.3), 0px 1px 3px 1px rgba(60, 64, 67, 0.15);\n",
              "        fill: #174EA6;\n",
              "      }\n",
              "\n",
              "      [theme=dark] .colab-df-generate {\n",
              "        background-color: #3B4455;\n",
              "        fill: #D2E3FC;\n",
              "      }\n",
              "\n",
              "      [theme=dark] .colab-df-generate:hover {\n",
              "        background-color: #434B5C;\n",
              "        box-shadow: 0px 1px 3px 1px rgba(0, 0, 0, 0.15);\n",
              "        filter: drop-shadow(0px 1px 2px rgba(0, 0, 0, 0.3));\n",
              "        fill: #FFFFFF;\n",
              "      }\n",
              "    </style>\n",
              "    <button class=\"colab-df-generate\" onclick=\"generateWithVariable('df')\"\n",
              "            title=\"Generate code using this dataframe.\"\n",
              "            style=\"display:none;\">\n",
              "\n",
              "  <svg xmlns=\"http://www.w3.org/2000/svg\" height=\"24px\"viewBox=\"0 0 24 24\"\n",
              "       width=\"24px\">\n",
              "    <path d=\"M7,19H8.4L18.45,9,17,7.55,7,17.6ZM5,21V16.75L18.45,3.32a2,2,0,0,1,2.83,0l1.4,1.43a1.91,1.91,0,0,1,.58,1.4,1.91,1.91,0,0,1-.58,1.4L9.25,21ZM18.45,9,17,7.55Zm-12,3A5.31,5.31,0,0,0,4.9,8.1,5.31,5.31,0,0,0,1,6.5,5.31,5.31,0,0,0,4.9,4.9,5.31,5.31,0,0,0,6.5,1,5.31,5.31,0,0,0,8.1,4.9,5.31,5.31,0,0,0,12,6.5,5.46,5.46,0,0,0,6.5,12Z\"/>\n",
              "  </svg>\n",
              "    </button>\n",
              "    <script>\n",
              "      (() => {\n",
              "      const buttonEl =\n",
              "        document.querySelector('#id_85c2f735-9408-4381-9ef9-e4996fa8caae button.colab-df-generate');\n",
              "      buttonEl.style.display =\n",
              "        google.colab.kernel.accessAllowed ? 'block' : 'none';\n",
              "\n",
              "      buttonEl.onclick = () => {\n",
              "        google.colab.notebook.generateWithVariable('df');\n",
              "      }\n",
              "      })();\n",
              "    </script>\n",
              "  </div>\n",
              "\n",
              "    </div>\n",
              "  </div>\n"
            ],
            "application/vnd.google.colaboratory.intrinsic+json": {
              "type": "dataframe",
              "variable_name": "df",
              "summary": "{\n  \"name\": \"df\",\n  \"rows\": 100,\n  \"fields\": [\n    {\n      \"column\": \"question\",\n      \"properties\": {\n        \"dtype\": \"string\",\n        \"num_unique_values\": 96,\n        \"samples\": [\n          \"Quais s\\u00e3o as atribui\\u00e7\\u00f5es do grupo de trabalho para Contribui\\u00e7\\u00f5es da EaD para o Ensino Remoto Emergencial?\",\n          \"O que \\u00e9 o IFSP?\",\n          \"Quem concede a retribui\\u00e7\\u00e3o por titula\\u00e7\\u00e3o para professor EBTT no Instituto Federal de Educa\\u00e7\\u00e3o, Ci\\u00eancia e Tecnologia de S\\u00e3o Paulo?\"\n        ],\n        \"semantic_type\": \"\",\n        \"description\": \"\"\n      }\n    },\n    {\n      \"column\": \"answer\",\n      \"properties\": {\n        \"dtype\": \"string\",\n        \"num_unique_values\": 87,\n        \"samples\": [\n          \"A servidora MIRIAM CRISTINA PERUZZI SOARES BELOTE, ocupante do cargo de T\\u00e9cnico em Secretariado.\",\n          \"Fernando Vernal Salina Giorjety Licorini Dias, Francisco Cesar de Oliveira, Thiago Pedro Donadon Homem e Felipe Nunes Gaia.\",\n          \"O primeiro servidor relacionado na Portaria n\\u00ba 31/2024 - DRG/BTV/IFSP de 17 de abril de 2024.\"\n        ],\n        \"semantic_type\": \"\",\n        \"description\": \"\"\n      }\n    },\n    {\n      \"column\": \"context\",\n      \"properties\": {\n        \"dtype\": \"string\",\n        \"num_unique_values\": 93,\n        \"samples\": [\n          \"Art 229 - Os estudantes que conclu\\u00edram os cursos t\\u00e9cnicos de n\\u00edvel m\\u00e9dio s\\u00e3o apresentados \\u00e0 sociedade por meio de uma solenidade de FORMATURA, que possui car\\u00e1ter n\\u00e3o obrigat\\u00f3rio e constitui ato simb\\u00f3lico.\",\n          \"DESIGNAR, servidor MARIO LUIZ FERRARI PIN, ocupante do cargo de Professor Ensino Basico Tecnico e Tecnologico, pertencente a0 Quadro Permanente deste IFSP, para substituir 0 Coordenador de Pesquisa, Inovacao Pos-Graduacao (FG-02) do Campus Boituva, no periodo de 14/03/2018 02/04/2018, por motivo de Licenca Paternidade.\",\n          \"MINIST\\u00c9RIO DA EDUCA\\u00c7\\u00c3O. INSTITUTO FEDERAL DE EDUCA\\u00c7\\u00c3O, CI\\u00caNCIA E TECNOLOGIA DE S\\u00c3O PAULO.\"\n        ],\n        \"semantic_type\": \"\",\n        \"description\": \"\"\n      }\n    },\n    {\n      \"column\": \"reference\",\n      \"properties\": {\n        \"dtype\": \"string\",\n        \"num_unique_values\": 87,\n        \"samples\": [\n          \"Portaria n\\u00ba 1/2024 - DRG/BTV/IFSP, de 5 de janeiro de 2024, Art. 1\\u00ba\",\n          \"Portaria n\\u00ba 1.324, de 26 de mar\\u00e7o de 2014, Art. 20\",\n          \"Portaria n\\u00ba 3.903, de 04 de novembro de 2015, Portaria n\\u00ba 31/2024 - DRG/BTV/IFSP de 17 de abril de 2024, Art 1\\u00ba.\"\n        ],\n        \"semantic_type\": \"\",\n        \"description\": \"\"\n      }\n    },\n    {\n      \"column\": \"document\",\n      \"properties\": {\n        \"dtype\": \"category\",\n        \"num_unique_values\": 4,\n        \"samples\": [\n          \"od_edu_basica\",\n          \"od_graduacao\",\n          \"boituva_portarias\"\n        ],\n        \"semantic_type\": \"\",\n        \"description\": \"\"\n      }\n    }\n  ]\n}"
            }
          },
          "metadata": {},
          "execution_count": 20
        }
      ]
    },
    {
      "cell_type": "code",
      "source": [
        "import pickle\n",
        "if os.path.exists(f\"{DATA_DIR}/5-evaluations/df_result-bm25.pkl\"):\n",
        "    with open(f\"{DATA_DIR}/5-evaluations/df_result-bm25.pkl\", 'rb') as f:\n",
        "        df_result = pickle.load(f)\n",
        "else:\n",
        "    df_result = df.copy()\n",
        "\n",
        "faith_evaluator     = FaithfulnessEvaluator()\n",
        "relevancy_evaluator = RelevancyEvaluator()\n",
        "correct_evaluator   = CorrectnessEvaluator()\n",
        "data = []\n",
        "\n",
        "for index, row in df_result.iterrows():\n",
        "    print(f\"Processando amostra: {index}\")\n",
        "\n",
        "    result       = {}\n",
        "    query        = row['question']\n",
        "    ground_truth = f\"{row['answer']} \\nFonte: {row['reference']}\"\n",
        "\n",
        "    # Fazendo consulta\n",
        "    response                            = query_engine.query(query)\n",
        "    df_result.at[index, 'rag_answer']   = response.response\n",
        "    df_result.at[index, 'rag_contexts'] = get_contexts(response)\n",
        "\n",
        "\n",
        "    # Avaliando Faithfulness\n",
        "    eval_result                         = faith_evaluator.evaluate_response(response=response)\n",
        "    df_result.at[index, 'faithfulness'] = eval_result.score\n",
        "\n",
        "\n",
        "    # Avaliando Relevancy\n",
        "    eval_result                      = relevancy_evaluator.evaluate_response(query=query, response=response)\n",
        "    df_result.at[index, 'relevancy'] = eval_result.score\n",
        "\n",
        "\n",
        "    # Avaliando Correctness\n",
        "    eval_result = correct_evaluator.evaluate(\n",
        "        query=query,\n",
        "        response=response.response,\n",
        "        reference=ground_truth,\n",
        "    )\n",
        "    df_result.at[index, 'correctness']          = eval_result.score\n",
        "    df_result.at[index, 'correctness_feedback'] = eval_result.feedback\n",
        "\n",
        "    df_result.to_pickle(f\"{DATA_DIR}/5-evaluations/df_result-bm25.pkl\")\n",
        "\n",
        "    if index % 2 == 0:\n",
        "        save_on_git(f\"Salvamento parcial do resultado da avaliação do BM25. Amostra: {index}\")\n",
        "\n",
        "\n",
        "df_result"
      ],
      "metadata": {
        "id": "Alkvif5P7qc9"
      },
      "execution_count": null,
      "outputs": []
    },
    {
      "cell_type": "code",
      "source": [
        "df_result.to_csv(f\"{DATA_DIR}/5-evaluations/eval_baseline.csv\")\n",
        "save_on_git(f\"Salvamento do resultado da avaliação do BM25\")"
      ],
      "metadata": {
        "id": "_5nj3c8lqtzK"
      },
      "execution_count": null,
      "outputs": []
    },
    {
      "cell_type": "markdown",
      "source": [
        "# Análise dos resultados"
      ],
      "metadata": {
        "id": "WI7voKTev7Ac"
      }
    },
    {
      "cell_type": "code",
      "source": [
        "import pandas as pd\n",
        "import matplotlib.pyplot as plt\n",
        "import numpy as np"
      ],
      "metadata": {
        "id": "3FcHFr_X8VIO"
      },
      "execution_count": 40,
      "outputs": []
    },
    {
      "cell_type": "code",
      "source": [
        "df_completo = pd.read_csv(f\"{DATA_DIR}/5-evaluations/eval_baseline.csv\")\n",
        "df_completo.drop(columns='Unnamed: 0', inplace=True)\n",
        "df_completo.describe()"
      ],
      "metadata": {
        "colab": {
          "base_uri": "https://localhost:8080/",
          "height": 300
        },
        "id": "u7lWxuTdv-Gt",
        "outputId": "54b584ed-6a5a-4f8b-d336-9fdcc641bf10"
      },
      "execution_count": 9,
      "outputs": [
        {
          "output_type": "execute_result",
          "data": {
            "text/plain": [
              "       faithfulness   relevancy  correctness\n",
              "count    100.000000  100.000000   100.000000\n",
              "mean       0.820000    0.810000     3.505000\n",
              "std        0.386123    0.394277     1.569107\n",
              "min        0.000000    0.000000     1.000000\n",
              "25%        1.000000    1.000000     2.000000\n",
              "50%        1.000000    1.000000     4.500000\n",
              "75%        1.000000    1.000000     5.000000\n",
              "max        1.000000    1.000000     5.000000"
            ],
            "text/html": [
              "\n",
              "  <div id=\"df-c7a4d858-31e6-43f0-831f-edc56d266b2b\" class=\"colab-df-container\">\n",
              "    <div>\n",
              "<style scoped>\n",
              "    .dataframe tbody tr th:only-of-type {\n",
              "        vertical-align: middle;\n",
              "    }\n",
              "\n",
              "    .dataframe tbody tr th {\n",
              "        vertical-align: top;\n",
              "    }\n",
              "\n",
              "    .dataframe thead th {\n",
              "        text-align: right;\n",
              "    }\n",
              "</style>\n",
              "<table border=\"1\" class=\"dataframe\">\n",
              "  <thead>\n",
              "    <tr style=\"text-align: right;\">\n",
              "      <th></th>\n",
              "      <th>faithfulness</th>\n",
              "      <th>relevancy</th>\n",
              "      <th>correctness</th>\n",
              "    </tr>\n",
              "  </thead>\n",
              "  <tbody>\n",
              "    <tr>\n",
              "      <th>count</th>\n",
              "      <td>100.000000</td>\n",
              "      <td>100.000000</td>\n",
              "      <td>100.000000</td>\n",
              "    </tr>\n",
              "    <tr>\n",
              "      <th>mean</th>\n",
              "      <td>0.820000</td>\n",
              "      <td>0.810000</td>\n",
              "      <td>3.505000</td>\n",
              "    </tr>\n",
              "    <tr>\n",
              "      <th>std</th>\n",
              "      <td>0.386123</td>\n",
              "      <td>0.394277</td>\n",
              "      <td>1.569107</td>\n",
              "    </tr>\n",
              "    <tr>\n",
              "      <th>min</th>\n",
              "      <td>0.000000</td>\n",
              "      <td>0.000000</td>\n",
              "      <td>1.000000</td>\n",
              "    </tr>\n",
              "    <tr>\n",
              "      <th>25%</th>\n",
              "      <td>1.000000</td>\n",
              "      <td>1.000000</td>\n",
              "      <td>2.000000</td>\n",
              "    </tr>\n",
              "    <tr>\n",
              "      <th>50%</th>\n",
              "      <td>1.000000</td>\n",
              "      <td>1.000000</td>\n",
              "      <td>4.500000</td>\n",
              "    </tr>\n",
              "    <tr>\n",
              "      <th>75%</th>\n",
              "      <td>1.000000</td>\n",
              "      <td>1.000000</td>\n",
              "      <td>5.000000</td>\n",
              "    </tr>\n",
              "    <tr>\n",
              "      <th>max</th>\n",
              "      <td>1.000000</td>\n",
              "      <td>1.000000</td>\n",
              "      <td>5.000000</td>\n",
              "    </tr>\n",
              "  </tbody>\n",
              "</table>\n",
              "</div>\n",
              "    <div class=\"colab-df-buttons\">\n",
              "\n",
              "  <div class=\"colab-df-container\">\n",
              "    <button class=\"colab-df-convert\" onclick=\"convertToInteractive('df-c7a4d858-31e6-43f0-831f-edc56d266b2b')\"\n",
              "            title=\"Convert this dataframe to an interactive table.\"\n",
              "            style=\"display:none;\">\n",
              "\n",
              "  <svg xmlns=\"http://www.w3.org/2000/svg\" height=\"24px\" viewBox=\"0 -960 960 960\">\n",
              "    <path d=\"M120-120v-720h720v720H120Zm60-500h600v-160H180v160Zm220 220h160v-160H400v160Zm0 220h160v-160H400v160ZM180-400h160v-160H180v160Zm440 0h160v-160H620v160ZM180-180h160v-160H180v160Zm440 0h160v-160H620v160Z\"/>\n",
              "  </svg>\n",
              "    </button>\n",
              "\n",
              "  <style>\n",
              "    .colab-df-container {\n",
              "      display:flex;\n",
              "      gap: 12px;\n",
              "    }\n",
              "\n",
              "    .colab-df-convert {\n",
              "      background-color: #E8F0FE;\n",
              "      border: none;\n",
              "      border-radius: 50%;\n",
              "      cursor: pointer;\n",
              "      display: none;\n",
              "      fill: #1967D2;\n",
              "      height: 32px;\n",
              "      padding: 0 0 0 0;\n",
              "      width: 32px;\n",
              "    }\n",
              "\n",
              "    .colab-df-convert:hover {\n",
              "      background-color: #E2EBFA;\n",
              "      box-shadow: 0px 1px 2px rgba(60, 64, 67, 0.3), 0px 1px 3px 1px rgba(60, 64, 67, 0.15);\n",
              "      fill: #174EA6;\n",
              "    }\n",
              "\n",
              "    .colab-df-buttons div {\n",
              "      margin-bottom: 4px;\n",
              "    }\n",
              "\n",
              "    [theme=dark] .colab-df-convert {\n",
              "      background-color: #3B4455;\n",
              "      fill: #D2E3FC;\n",
              "    }\n",
              "\n",
              "    [theme=dark] .colab-df-convert:hover {\n",
              "      background-color: #434B5C;\n",
              "      box-shadow: 0px 1px 3px 1px rgba(0, 0, 0, 0.15);\n",
              "      filter: drop-shadow(0px 1px 2px rgba(0, 0, 0, 0.3));\n",
              "      fill: #FFFFFF;\n",
              "    }\n",
              "  </style>\n",
              "\n",
              "    <script>\n",
              "      const buttonEl =\n",
              "        document.querySelector('#df-c7a4d858-31e6-43f0-831f-edc56d266b2b button.colab-df-convert');\n",
              "      buttonEl.style.display =\n",
              "        google.colab.kernel.accessAllowed ? 'block' : 'none';\n",
              "\n",
              "      async function convertToInteractive(key) {\n",
              "        const element = document.querySelector('#df-c7a4d858-31e6-43f0-831f-edc56d266b2b');\n",
              "        const dataTable =\n",
              "          await google.colab.kernel.invokeFunction('convertToInteractive',\n",
              "                                                    [key], {});\n",
              "        if (!dataTable) return;\n",
              "\n",
              "        const docLinkHtml = 'Like what you see? Visit the ' +\n",
              "          '<a target=\"_blank\" href=https://colab.research.google.com/notebooks/data_table.ipynb>data table notebook</a>'\n",
              "          + ' to learn more about interactive tables.';\n",
              "        element.innerHTML = '';\n",
              "        dataTable['output_type'] = 'display_data';\n",
              "        await google.colab.output.renderOutput(dataTable, element);\n",
              "        const docLink = document.createElement('div');\n",
              "        docLink.innerHTML = docLinkHtml;\n",
              "        element.appendChild(docLink);\n",
              "      }\n",
              "    </script>\n",
              "  </div>\n",
              "\n",
              "\n",
              "<div id=\"df-2665467a-9e92-4053-b013-3504ed0f1d76\">\n",
              "  <button class=\"colab-df-quickchart\" onclick=\"quickchart('df-2665467a-9e92-4053-b013-3504ed0f1d76')\"\n",
              "            title=\"Suggest charts\"\n",
              "            style=\"display:none;\">\n",
              "\n",
              "<svg xmlns=\"http://www.w3.org/2000/svg\" height=\"24px\"viewBox=\"0 0 24 24\"\n",
              "     width=\"24px\">\n",
              "    <g>\n",
              "        <path d=\"M19 3H5c-1.1 0-2 .9-2 2v14c0 1.1.9 2 2 2h14c1.1 0 2-.9 2-2V5c0-1.1-.9-2-2-2zM9 17H7v-7h2v7zm4 0h-2V7h2v10zm4 0h-2v-4h2v4z\"/>\n",
              "    </g>\n",
              "</svg>\n",
              "  </button>\n",
              "\n",
              "<style>\n",
              "  .colab-df-quickchart {\n",
              "      --bg-color: #E8F0FE;\n",
              "      --fill-color: #1967D2;\n",
              "      --hover-bg-color: #E2EBFA;\n",
              "      --hover-fill-color: #174EA6;\n",
              "      --disabled-fill-color: #AAA;\n",
              "      --disabled-bg-color: #DDD;\n",
              "  }\n",
              "\n",
              "  [theme=dark] .colab-df-quickchart {\n",
              "      --bg-color: #3B4455;\n",
              "      --fill-color: #D2E3FC;\n",
              "      --hover-bg-color: #434B5C;\n",
              "      --hover-fill-color: #FFFFFF;\n",
              "      --disabled-bg-color: #3B4455;\n",
              "      --disabled-fill-color: #666;\n",
              "  }\n",
              "\n",
              "  .colab-df-quickchart {\n",
              "    background-color: var(--bg-color);\n",
              "    border: none;\n",
              "    border-radius: 50%;\n",
              "    cursor: pointer;\n",
              "    display: none;\n",
              "    fill: var(--fill-color);\n",
              "    height: 32px;\n",
              "    padding: 0;\n",
              "    width: 32px;\n",
              "  }\n",
              "\n",
              "  .colab-df-quickchart:hover {\n",
              "    background-color: var(--hover-bg-color);\n",
              "    box-shadow: 0 1px 2px rgba(60, 64, 67, 0.3), 0 1px 3px 1px rgba(60, 64, 67, 0.15);\n",
              "    fill: var(--button-hover-fill-color);\n",
              "  }\n",
              "\n",
              "  .colab-df-quickchart-complete:disabled,\n",
              "  .colab-df-quickchart-complete:disabled:hover {\n",
              "    background-color: var(--disabled-bg-color);\n",
              "    fill: var(--disabled-fill-color);\n",
              "    box-shadow: none;\n",
              "  }\n",
              "\n",
              "  .colab-df-spinner {\n",
              "    border: 2px solid var(--fill-color);\n",
              "    border-color: transparent;\n",
              "    border-bottom-color: var(--fill-color);\n",
              "    animation:\n",
              "      spin 1s steps(1) infinite;\n",
              "  }\n",
              "\n",
              "  @keyframes spin {\n",
              "    0% {\n",
              "      border-color: transparent;\n",
              "      border-bottom-color: var(--fill-color);\n",
              "      border-left-color: var(--fill-color);\n",
              "    }\n",
              "    20% {\n",
              "      border-color: transparent;\n",
              "      border-left-color: var(--fill-color);\n",
              "      border-top-color: var(--fill-color);\n",
              "    }\n",
              "    30% {\n",
              "      border-color: transparent;\n",
              "      border-left-color: var(--fill-color);\n",
              "      border-top-color: var(--fill-color);\n",
              "      border-right-color: var(--fill-color);\n",
              "    }\n",
              "    40% {\n",
              "      border-color: transparent;\n",
              "      border-right-color: var(--fill-color);\n",
              "      border-top-color: var(--fill-color);\n",
              "    }\n",
              "    60% {\n",
              "      border-color: transparent;\n",
              "      border-right-color: var(--fill-color);\n",
              "    }\n",
              "    80% {\n",
              "      border-color: transparent;\n",
              "      border-right-color: var(--fill-color);\n",
              "      border-bottom-color: var(--fill-color);\n",
              "    }\n",
              "    90% {\n",
              "      border-color: transparent;\n",
              "      border-bottom-color: var(--fill-color);\n",
              "    }\n",
              "  }\n",
              "</style>\n",
              "\n",
              "  <script>\n",
              "    async function quickchart(key) {\n",
              "      const quickchartButtonEl =\n",
              "        document.querySelector('#' + key + ' button');\n",
              "      quickchartButtonEl.disabled = true;  // To prevent multiple clicks.\n",
              "      quickchartButtonEl.classList.add('colab-df-spinner');\n",
              "      try {\n",
              "        const charts = await google.colab.kernel.invokeFunction(\n",
              "            'suggestCharts', [key], {});\n",
              "      } catch (error) {\n",
              "        console.error('Error during call to suggestCharts:', error);\n",
              "      }\n",
              "      quickchartButtonEl.classList.remove('colab-df-spinner');\n",
              "      quickchartButtonEl.classList.add('colab-df-quickchart-complete');\n",
              "    }\n",
              "    (() => {\n",
              "      let quickchartButtonEl =\n",
              "        document.querySelector('#df-2665467a-9e92-4053-b013-3504ed0f1d76 button');\n",
              "      quickchartButtonEl.style.display =\n",
              "        google.colab.kernel.accessAllowed ? 'block' : 'none';\n",
              "    })();\n",
              "  </script>\n",
              "</div>\n",
              "\n",
              "    </div>\n",
              "  </div>\n"
            ],
            "application/vnd.google.colaboratory.intrinsic+json": {
              "type": "dataframe",
              "summary": "{\n  \"name\": \"df_completo\",\n  \"rows\": 8,\n  \"fields\": [\n    {\n      \"column\": \"faithfulness\",\n      \"properties\": {\n        \"dtype\": \"number\",\n        \"std\": 35.094322807940685,\n        \"min\": 0.0,\n        \"max\": 100.0,\n        \"num_unique_values\": 5,\n        \"samples\": [\n          0.82,\n          1.0,\n          0.38612291966536916\n        ],\n        \"semantic_type\": \"\",\n        \"description\": \"\"\n      }\n    },\n    {\n      \"column\": \"relevancy\",\n      \"properties\": {\n        \"dtype\": \"number\",\n        \"std\": 35.09440138648652,\n        \"min\": 0.0,\n        \"max\": 100.0,\n        \"num_unique_values\": 5,\n        \"samples\": [\n          0.81,\n          1.0,\n          0.3942772444036626\n        ],\n        \"semantic_type\": \"\",\n        \"description\": \"\"\n      }\n    },\n    {\n      \"column\": \"correctness\",\n      \"properties\": {\n        \"dtype\": \"number\",\n        \"std\": 34.25105976585606,\n        \"min\": 1.0,\n        \"max\": 100.0,\n        \"num_unique_values\": 7,\n        \"samples\": [\n          100.0,\n          3.505,\n          4.5\n        ],\n        \"semantic_type\": \"\",\n        \"description\": \"\"\n      }\n    }\n  ]\n}"
            }
          },
          "metadata": {},
          "execution_count": 9
        }
      ]
    },
    {
      "cell_type": "code",
      "source": [
        "\n",
        "df_completo.plot(kind='hist', subplots=True, layout=(2, 3), figsize=(10, 8), sharey=True);\n"
      ],
      "metadata": {
        "colab": {
          "base_uri": "https://localhost:8080/",
          "height": 340
        },
        "id": "f-6bZA1zwJhY",
        "outputId": "381363c8-64c7-403b-cc87-dd3e67e39366"
      },
      "execution_count": 10,
      "outputs": [
        {
          "output_type": "display_data",
          "data": {
            "text/plain": [
              "<Figure size 1000x800 with 6 Axes>"
            ],
            "image/png": "[encoded data removed]"
          },
          "metadata": {}
        }
      ]
    },
    {
      "cell_type": "code",
      "source": [
        "df_completo['correctness'].plot(kind='box', figsize=(5, 3));"
      ],
      "metadata": {
        "colab": {
          "base_uri": "https://localhost:8080/",
          "height": 291
        },
        "id": "psnNeyoxxG78",
        "outputId": "3f55a11d-bd02-477d-81ce-a0511b97edde"
      },
      "execution_count": 11,
      "outputs": [
        {
          "output_type": "display_data",
          "data": {
            "text/plain": [
              "<Figure size 500x300 with 1 Axes>"
            ],
            "image/png": "[encoded data removed]"
          },
          "metadata": {}
        }
      ]
    },
    {
      "cell_type": "code",
      "source": [
        "df_completo[['faithfulness','relevancy','correctness']].value_counts()"
      ],
      "metadata": {
        "colab": {
          "base_uri": "https://localhost:8080/"
        },
        "id": "-9UeUV7b2SCv",
        "outputId": "86276617-66df-4081-9b13-8a44f710cb31"
      },
      "execution_count": 13,
      "outputs": [
        {
          "output_type": "execute_result",
          "data": {
            "text/plain": [
              "faithfulness  relevancy  correctness\n",
              "1.0           1.0        5.0            27\n",
              "                         4.5            22\n",
              "                         2.0             8\n",
              "0.0           0.0        1.0             7\n",
              "1.0           0.0        2.0             6\n",
              "              1.0        4.0             6\n",
              "                         1.0             5\n",
              "0.0           1.0        1.0             5\n",
              "                         2.0             3\n",
              "1.0           0.0        5.0             2\n",
              "              1.0        3.5             2\n",
              "0.0           1.0        4.0             1\n",
              "                         4.5             1\n",
              "1.0           0.0        1.0             1\n",
              "                         3.0             1\n",
              "0.0           0.0        5.0             1\n",
              "1.0           1.0        3.0             1\n",
              "              0.0        4.0             1\n",
              "Name: count, dtype: int64"
            ]
          },
          "metadata": {},
          "execution_count": 13
        }
      ]
    },
    {
      "cell_type": "code",
      "source": [
        "from sklearn.preprocessing import MinMaxScaler\n",
        "\n",
        "df_normalizado = df_completo.copy()\n",
        "\n",
        "\n",
        "# Inicializar o MinMaxScaler\n",
        "scaler = MinMaxScaler()\n",
        "\n",
        "# Normalizar a coluna 'A'\n",
        "df_normalizado['correctness_normalized'] = scaler.fit_transform(df_normalizado[['correctness']])\n",
        "df_normalizado = df_normalizado.drop(columns='correctness')\n",
        "df_normalizado = df_normalizado.rename(columns={'correctness_normalized': 'correctness'})\n",
        "df_normalizado.describe()\n"
      ],
      "metadata": {
        "colab": {
          "base_uri": "https://localhost:8080/",
          "height": 300
        },
        "id": "fmIcTZwR6o4j",
        "outputId": "f81c3651-898c-4396-d02c-ce386880c07d"
      },
      "execution_count": 21,
      "outputs": [
        {
          "output_type": "execute_result",
          "data": {
            "text/plain": [
              "       faithfulness   relevancy  correctness\n",
              "count    100.000000  100.000000   100.000000\n",
              "mean       0.820000    0.810000     0.626250\n",
              "std        0.386123    0.394277     0.392277\n",
              "min        0.000000    0.000000     0.000000\n",
              "25%        1.000000    1.000000     0.250000\n",
              "50%        1.000000    1.000000     0.875000\n",
              "75%        1.000000    1.000000     1.000000\n",
              "max        1.000000    1.000000     1.000000"
            ],
            "text/html": [
              "\n",
              "  <div id=\"df-638e8ab8-9e3f-473a-bd25-b50cd60fc1eb\" class=\"colab-df-container\">\n",
              "    <div>\n",
              "<style scoped>\n",
              "    .dataframe tbody tr th:only-of-type {\n",
              "        vertical-align: middle;\n",
              "    }\n",
              "\n",
              "    .dataframe tbody tr th {\n",
              "        vertical-align: top;\n",
              "    }\n",
              "\n",
              "    .dataframe thead th {\n",
              "        text-align: right;\n",
              "    }\n",
              "</style>\n",
              "<table border=\"1\" class=\"dataframe\">\n",
              "  <thead>\n",
              "    <tr style=\"text-align: right;\">\n",
              "      <th></th>\n",
              "      <th>faithfulness</th>\n",
              "      <th>relevancy</th>\n",
              "      <th>correctness</th>\n",
              "    </tr>\n",
              "  </thead>\n",
              "  <tbody>\n",
              "    <tr>\n",
              "      <th>count</th>\n",
              "      <td>100.000000</td>\n",
              "      <td>100.000000</td>\n",
              "      <td>100.000000</td>\n",
              "    </tr>\n",
              "    <tr>\n",
              "      <th>mean</th>\n",
              "      <td>0.820000</td>\n",
              "      <td>0.810000</td>\n",
              "      <td>0.626250</td>\n",
              "    </tr>\n",
              "    <tr>\n",
              "      <th>std</th>\n",
              "      <td>0.386123</td>\n",
              "      <td>0.394277</td>\n",
              "      <td>0.392277</td>\n",
              "    </tr>\n",
              "    <tr>\n",
              "      <th>min</th>\n",
              "      <td>0.000000</td>\n",
              "      <td>0.000000</td>\n",
              "      <td>0.000000</td>\n",
              "    </tr>\n",
              "    <tr>\n",
              "      <th>25%</th>\n",
              "      <td>1.000000</td>\n",
              "      <td>1.000000</td>\n",
              "      <td>0.250000</td>\n",
              "    </tr>\n",
              "    <tr>\n",
              "      <th>50%</th>\n",
              "      <td>1.000000</td>\n",
              "      <td>1.000000</td>\n",
              "      <td>0.875000</td>\n",
              "    </tr>\n",
              "    <tr>\n",
              "      <th>75%</th>\n",
              "      <td>1.000000</td>\n",
              "      <td>1.000000</td>\n",
              "      <td>1.000000</td>\n",
              "    </tr>\n",
              "    <tr>\n",
              "      <th>max</th>\n",
              "      <td>1.000000</td>\n",
              "      <td>1.000000</td>\n",
              "      <td>1.000000</td>\n",
              "    </tr>\n",
              "  </tbody>\n",
              "</table>\n",
              "</div>\n",
              "    <div class=\"colab-df-buttons\">\n",
              "\n",
              "  <div class=\"colab-df-container\">\n",
              "    <button class=\"colab-df-convert\" onclick=\"convertToInteractive('df-638e8ab8-9e3f-473a-bd25-b50cd60fc1eb')\"\n",
              "            title=\"Convert this dataframe to an interactive table.\"\n",
              "            style=\"display:none;\">\n",
              "\n",
              "  <svg xmlns=\"http://www.w3.org/2000/svg\" height=\"24px\" viewBox=\"0 -960 960 960\">\n",
              "    <path d=\"M120-120v-720h720v720H120Zm60-500h600v-160H180v160Zm220 220h160v-160H400v160Zm0 220h160v-160H400v160ZM180-400h160v-160H180v160Zm440 0h160v-160H620v160ZM180-180h160v-160H180v160Zm440 0h160v-160H620v160Z\"/>\n",
              "  </svg>\n",
              "    </button>\n",
              "\n",
              "  <style>\n",
              "    .colab-df-container {\n",
              "      display:flex;\n",
              "      gap: 12px;\n",
              "    }\n",
              "\n",
              "    .colab-df-convert {\n",
              "      background-color: #E8F0FE;\n",
              "      border: none;\n",
              "      border-radius: 50%;\n",
              "      cursor: pointer;\n",
              "      display: none;\n",
              "      fill: #1967D2;\n",
              "      height: 32px;\n",
              "      padding: 0 0 0 0;\n",
              "      width: 32px;\n",
              "    }\n",
              "\n",
              "    .colab-df-convert:hover {\n",
              "      background-color: #E2EBFA;\n",
              "      box-shadow: 0px 1px 2px rgba(60, 64, 67, 0.3), 0px 1px 3px 1px rgba(60, 64, 67, 0.15);\n",
              "      fill: #174EA6;\n",
              "    }\n",
              "\n",
              "    .colab-df-buttons div {\n",
              "      margin-bottom: 4px;\n",
              "    }\n",
              "\n",
              "    [theme=dark] .colab-df-convert {\n",
              "      background-color: #3B4455;\n",
              "      fill: #D2E3FC;\n",
              "    }\n",
              "\n",
              "    [theme=dark] .colab-df-convert:hover {\n",
              "      background-color: #434B5C;\n",
              "      box-shadow: 0px 1px 3px 1px rgba(0, 0, 0, 0.15);\n",
              "      filter: drop-shadow(0px 1px 2px rgba(0, 0, 0, 0.3));\n",
              "      fill: #FFFFFF;\n",
              "    }\n",
              "  </style>\n",
              "\n",
              "    <script>\n",
              "      const buttonEl =\n",
              "        document.querySelector('#df-638e8ab8-9e3f-473a-bd25-b50cd60fc1eb button.colab-df-convert');\n",
              "      buttonEl.style.display =\n",
              "        google.colab.kernel.accessAllowed ? 'block' : 'none';\n",
              "\n",
              "      async function convertToInteractive(key) {\n",
              "        const element = document.querySelector('#df-638e8ab8-9e3f-473a-bd25-b50cd60fc1eb');\n",
              "        const dataTable =\n",
              "          await google.colab.kernel.invokeFunction('convertToInteractive',\n",
              "                                                    [key], {});\n",
              "        if (!dataTable) return;\n",
              "\n",
              "        const docLinkHtml = 'Like what you see? Visit the ' +\n",
              "          '<a target=\"_blank\" href=https://colab.research.google.com/notebooks/data_table.ipynb>data table notebook</a>'\n",
              "          + ' to learn more about interactive tables.';\n",
              "        element.innerHTML = '';\n",
              "        dataTable['output_type'] = 'display_data';\n",
              "        await google.colab.output.renderOutput(dataTable, element);\n",
              "        const docLink = document.createElement('div');\n",
              "        docLink.innerHTML = docLinkHtml;\n",
              "        element.appendChild(docLink);\n",
              "      }\n",
              "    </script>\n",
              "  </div>\n",
              "\n",
              "\n",
              "<div id=\"df-6236288f-dd08-4a3a-92cd-3ddff45590b1\">\n",
              "  <button class=\"colab-df-quickchart\" onclick=\"quickchart('df-6236288f-dd08-4a3a-92cd-3ddff45590b1')\"\n",
              "            title=\"Suggest charts\"\n",
              "            style=\"display:none;\">\n",
              "\n",
              "<svg xmlns=\"http://www.w3.org/2000/svg\" height=\"24px\"viewBox=\"0 0 24 24\"\n",
              "     width=\"24px\">\n",
              "    <g>\n",
              "        <path d=\"M19 3H5c-1.1 0-2 .9-2 2v14c0 1.1.9 2 2 2h14c1.1 0 2-.9 2-2V5c0-1.1-.9-2-2-2zM9 17H7v-7h2v7zm4 0h-2V7h2v10zm4 0h-2v-4h2v4z\"/>\n",
              "    </g>\n",
              "</svg>\n",
              "  </button>\n",
              "\n",
              "<style>\n",
              "  .colab-df-quickchart {\n",
              "      --bg-color: #E8F0FE;\n",
              "      --fill-color: #1967D2;\n",
              "      --hover-bg-color: #E2EBFA;\n",
              "      --hover-fill-color: #174EA6;\n",
              "      --disabled-fill-color: #AAA;\n",
              "      --disabled-bg-color: #DDD;\n",
              "  }\n",
              "\n",
              "  [theme=dark] .colab-df-quickchart {\n",
              "      --bg-color: #3B4455;\n",
              "      --fill-color: #D2E3FC;\n",
              "      --hover-bg-color: #434B5C;\n",
              "      --hover-fill-color: #FFFFFF;\n",
              "      --disabled-bg-color: #3B4455;\n",
              "      --disabled-fill-color: #666;\n",
              "  }\n",
              "\n",
              "  .colab-df-quickchart {\n",
              "    background-color: var(--bg-color);\n",
              "    border: none;\n",
              "    border-radius: 50%;\n",
              "    cursor: pointer;\n",
              "    display: none;\n",
              "    fill: var(--fill-color);\n",
              "    height: 32px;\n",
              "    padding: 0;\n",
              "    width: 32px;\n",
              "  }\n",
              "\n",
              "  .colab-df-quickchart:hover {\n",
              "    background-color: var(--hover-bg-color);\n",
              "    box-shadow: 0 1px 2px rgba(60, 64, 67, 0.3), 0 1px 3px 1px rgba(60, 64, 67, 0.15);\n",
              "    fill: var(--button-hover-fill-color);\n",
              "  }\n",
              "\n",
              "  .colab-df-quickchart-complete:disabled,\n",
              "  .colab-df-quickchart-complete:disabled:hover {\n",
              "    background-color: var(--disabled-bg-color);\n",
              "    fill: var(--disabled-fill-color);\n",
              "    box-shadow: none;\n",
              "  }\n",
              "\n",
              "  .colab-df-spinner {\n",
              "    border: 2px solid var(--fill-color);\n",
              "    border-color: transparent;\n",
              "    border-bottom-color: var(--fill-color);\n",
              "    animation:\n",
              "      spin 1s steps(1) infinite;\n",
              "  }\n",
              "\n",
              "  @keyframes spin {\n",
              "    0% {\n",
              "      border-color: transparent;\n",
              "      border-bottom-color: var(--fill-color);\n",
              "      border-left-color: var(--fill-color);\n",
              "    }\n",
              "    20% {\n",
              "      border-color: transparent;\n",
              "      border-left-color: var(--fill-color);\n",
              "      border-top-color: var(--fill-color);\n",
              "    }\n",
              "    30% {\n",
              "      border-color: transparent;\n",
              "      border-left-color: var(--fill-color);\n",
              "      border-top-color: var(--fill-color);\n",
              "      border-right-color: var(--fill-color);\n",
              "    }\n",
              "    40% {\n",
              "      border-color: transparent;\n",
              "      border-right-color: var(--fill-color);\n",
              "      border-top-color: var(--fill-color);\n",
              "    }\n",
              "    60% {\n",
              "      border-color: transparent;\n",
              "      border-right-color: var(--fill-color);\n",
              "    }\n",
              "    80% {\n",
              "      border-color: transparent;\n",
              "      border-right-color: var(--fill-color);\n",
              "      border-bottom-color: var(--fill-color);\n",
              "    }\n",
              "    90% {\n",
              "      border-color: transparent;\n",
              "      border-bottom-color: var(--fill-color);\n",
              "    }\n",
              "  }\n",
              "</style>\n",
              "\n",
              "  <script>\n",
              "    async function quickchart(key) {\n",
              "      const quickchartButtonEl =\n",
              "        document.querySelector('#' + key + ' button');\n",
              "      quickchartButtonEl.disabled = true;  // To prevent multiple clicks.\n",
              "      quickchartButtonEl.classList.add('colab-df-spinner');\n",
              "      try {\n",
              "        const charts = await google.colab.kernel.invokeFunction(\n",
              "            'suggestCharts', [key], {});\n",
              "      } catch (error) {\n",
              "        console.error('Error during call to suggestCharts:', error);\n",
              "      }\n",
              "      quickchartButtonEl.classList.remove('colab-df-spinner');\n",
              "      quickchartButtonEl.classList.add('colab-df-quickchart-complete');\n",
              "    }\n",
              "    (() => {\n",
              "      let quickchartButtonEl =\n",
              "        document.querySelector('#df-6236288f-dd08-4a3a-92cd-3ddff45590b1 button');\n",
              "      quickchartButtonEl.style.display =\n",
              "        google.colab.kernel.accessAllowed ? 'block' : 'none';\n",
              "    })();\n",
              "  </script>\n",
              "</div>\n",
              "\n",
              "    </div>\n",
              "  </div>\n"
            ],
            "application/vnd.google.colaboratory.intrinsic+json": {
              "type": "dataframe",
              "summary": "{\n  \"name\": \"df_normalizado\",\n  \"rows\": 8,\n  \"fields\": [\n    {\n      \"column\": \"faithfulness\",\n      \"properties\": {\n        \"dtype\": \"number\",\n        \"std\": 35.094322807940685,\n        \"min\": 0.0,\n        \"max\": 100.0,\n        \"num_unique_values\": 5,\n        \"samples\": [\n          0.82,\n          1.0,\n          0.38612291966536916\n        ],\n        \"semantic_type\": \"\",\n        \"description\": \"\"\n      }\n    },\n    {\n      \"column\": \"relevancy\",\n      \"properties\": {\n        \"dtype\": \"number\",\n        \"std\": 35.09440138648652,\n        \"min\": 0.0,\n        \"max\": 100.0,\n        \"num_unique_values\": 5,\n        \"samples\": [\n          0.81,\n          1.0,\n          0.3942772444036626\n        ],\n        \"semantic_type\": \"\",\n        \"description\": \"\"\n      }\n    },\n    {\n      \"column\": \"correctness\",\n      \"properties\": {\n        \"dtype\": \"number\",\n        \"std\": 35.147932120163375,\n        \"min\": 0.0,\n        \"max\": 100.0,\n        \"num_unique_values\": 7,\n        \"samples\": [\n          100.0,\n          0.62625,\n          0.875\n        ],\n        \"semantic_type\": \"\",\n        \"description\": \"\"\n      }\n    }\n  ]\n}"
            }
          },
          "metadata": {},
          "execution_count": 21
        }
      ]
    },
    {
      "cell_type": "code",
      "source": [
        "df_normalizado.plot(kind='hist',\n",
        "                    subplots=True,\n",
        "                    layout=(2, 3),\n",
        "                    figsize=(10, 8),\n",
        "                    sharey=True);\n"
      ],
      "metadata": {
        "colab": {
          "base_uri": "https://localhost:8080/",
          "height": 340
        },
        "id": "VkVctUef7KPU",
        "outputId": "56746181-c081-40b6-d8cd-c4a9c6e7044a"
      },
      "execution_count": 22,
      "outputs": [
        {
          "output_type": "display_data",
          "data": {
            "text/plain": [
              "<Figure size 1000x800 with 6 Axes>"
            ],
            "image/png": "[encoded data removed]"
          },
          "metadata": {}
        }
      ]
    },
    {
      "cell_type": "code",
      "source": [
        "df_plot = df_normalizado[['faithfulness','relevancy','correctness']]\n",
        "\n",
        "fig, axes = plt.subplots(nrows=1, ncols=3, figsize=(8, 3))\n",
        "\n",
        "axes = axes.flatten()\n",
        "colors=['#939393', '#1c4587', '#173766']\n",
        "\n",
        "# Valor máximo entre todas as frequências\n",
        "max_count = 0\n",
        "for column in df_plot.columns:\n",
        "    counts, _ = np.histogram(df_plot[column])\n",
        "    max_count = max(max_count, counts.max())\n",
        "\n",
        "for i, column in enumerate(df_plot.columns):\n",
        "\n",
        "    df_plot[column].hist(ax=axes[i], # Define on which ax we're working on\n",
        "                    edgecolor='white', # Color of the border\n",
        "                    color=colors[i],\n",
        "                    grid=False\n",
        "                   )\n",
        "\n",
        "    # Defina os limites do eixo y\n",
        "    axes[i].set_ylim(0, max_count)\n",
        "\n",
        "    # Add title and axis label\n",
        "    #axes[i].set_title(f'{column} distribution')\n",
        "    axes[i].set_xlabel(column)\n",
        "    if i == 0:\n",
        "        axes[i].set_ylabel('Frequency')\n",
        "\n",
        "# Adjust layout\n",
        "plt.tight_layout()\n",
        "\n",
        "plt.savefig(f\"{DATA_DIR}/5-evaluations/imgs/bm25-eval-results.png\", dpi=1200, bbox_inches='tight')\n",
        "\n",
        "# Show the plot\n",
        "plt.show()"
      ],
      "metadata": {
        "colab": {
          "base_uri": "https://localhost:8080/",
          "height": 307
        },
        "id": "uzVtWmLv9mCh",
        "outputId": "3b1ab6e3-950a-4e43-c793-a1a59cabad05"
      },
      "execution_count": 44,
      "outputs": [
        {
          "output_type": "display_data",
          "data": {
            "text/plain": [
              "<Figure size 800x300 with 3 Axes>"
            ],
            "image/png": "[encoded data removed]"
          },
          "metadata": {}
        }
      ]
    },
    {
      "cell_type": "code",
      "source": [
        "save_on_git(f\"Adicionando imagem do resultado da avaliação do BM25\")"
      ],
      "metadata": {
        "colab": {
          "base_uri": "https://localhost:8080/"
        },
        "id": "K6QQInrvISNW",
        "outputId": "bc6798cb-b4dd-4789-f02f-9f44149438b6"
      },
      "execution_count": 45,
      "outputs": [
        {
          "output_type": "stream",
          "name": "stdout",
          "text": [
            "/content/ia024-projeto-rag\n",
            "From https://github.com/rsabilio/ia024-projeto-rag\n",
            " * branch            main       -> FETCH_HEAD\n",
            "Already up to date.\n",
            "[main 9f695c2] Adicionando imagem do resultado da avaliação do BM25\n",
            " 1 file changed, 0 insertions(+), 0 deletions(-)\n",
            " rewrite 5-evaluations/imgs/bm25-eval-results.png (96%)\n",
            "Enumerating objects: 9, done.\n",
            "Counting objects: 100% (9/9), done.\n",
            "Delta compression using up to 2 threads\n",
            "Compressing objects: 100% (4/4), done.\n",
            "Writing objects: 100% (5/5), 156.76 KiB | 9.80 MiB/s, done.\n",
            "Total 5 (delta 2), reused 0 (delta 0), pack-reused 0\n",
            "remote: Resolving deltas: 100% (2/2), completed with 2 local objects.\u001b[K\n",
            "To https://github.com/rsabilio/ia024-projeto-rag\n",
            "   fabcc0e..9f695c2  main -> main\n"
          ]
        }
      ]
    }
  ],
  "metadata": {
    "colab": {
      "provenance": [],
      "include_colab_link": true
    },
    "kernelspec": {
      "display_name": "Python 3",
      "name": "python3"
    },
    "language_info": {
      "name": "python"
    }
  },
  "nbformat": 4,
  "nbformat_minor": 0
}