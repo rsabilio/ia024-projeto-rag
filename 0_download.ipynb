{
  "cells": [
    {
      "cell_type": "markdown",
      "metadata": {
        "id": "view-in-github",
        "colab_type": "text"
      },
      "source": [
        "<a href=\"https://colab.research.google.com/github/rsabilio/ia024-projeto-rag/blob/main/0_download.ipynb\" target=\"_parent\"><img src=\"https://colab.research.google.com/assets/colab-badge.svg\" alt=\"Open In Colab\"/></a>"
      ]
    },
    {
      "cell_type": "markdown",
      "source": [
        "# Installing packages"
      ],
      "metadata": {
        "id": "vJTxVfSlmy3N"
      }
    },
    {
      "cell_type": "code",
      "execution_count": null,
      "metadata": {
        "id": "bEzKuyGgSDrx"
      },
      "outputs": [],
      "source": [
        "!pip install -q pydrive2"
      ]
    },
    {
      "cell_type": "markdown",
      "metadata": {
        "id": "eyQNwYR0UnAB"
      },
      "source": [
        "# Downloading the Files"
      ]
    },
    {
      "cell_type": "code",
      "execution_count": null,
      "metadata": {
        "id": "LH-i7XSFSMIf"
      },
      "outputs": [],
      "source": [
        "from pydrive2.auth import GoogleAuth\n",
        "from pydrive2.drive import GoogleDrive\n",
        "from google.colab import auth\n",
        "from oauth2client.client import GoogleCredentials\n",
        "\n",
        "# Authenticate and create the PyDrive2 client.\n",
        "auth.authenticate_user()\n",
        "gauth = GoogleAuth()\n",
        "gauth.credentials = GoogleCredentials.get_application_default()\n",
        "drive = GoogleDrive(gauth)"
      ]
    },
    {
      "cell_type": "code",
      "execution_count": null,
      "metadata": {
        "id": "K8H90jWlXDrc"
      },
      "outputs": [],
      "source": [
        "from os import makedirs\n",
        "from os.path import dirname, join\n",
        "\n",
        "def download_drive_item(drive, item_id, dest_path):\n",
        "    \"\"\"\n",
        "    Downloads a file or folder from Google Drive to the specified local destination.\n",
        "\n",
        "    Args:\n",
        "      drive (GoogleDrive): Authenticated GoogleDrive instance.\n",
        "      item_id (str): The ID of the Google Drive item (file or folder) to download.\n",
        "      dest_path (str): The local destination path to download the item.\n",
        "\n",
        "    \"\"\"\n",
        "    item = drive.CreateFile({'id': item_id})\n",
        "    item.FetchMetadata()\n",
        "\n",
        "    # Determine if the item is a folder or a file\n",
        "    if item['mimeType'] == 'application/vnd.google-apps.folder':\n",
        "        makedirs(dest_path, exist_ok=True)\n",
        "        file_list = drive.ListFile({'q': f\"'{item_id}' in parents and trashed=false\"}).GetList()\n",
        "        for file in file_list:\n",
        "            file_path = join(dest_path, file['title'])\n",
        "            if file['mimeType'] == 'application/vnd.google-apps.folder':\n",
        "                download_drive_item(drive, file['id'], file_path)\n",
        "            else:\n",
        "                makedirs(dirname(file_path), exist_ok=True)\n",
        "                print(f\"Downloading {file['title']} to {file_path}\")\n",
        "                file.GetContentFile(file_path)\n",
        "    else:\n",
        "        makedirs(dirname(dest_path), exist_ok=True)\n",
        "        print(f\"Downloading {item['title']} to {dest_path}\")\n",
        "        item.GetContentFile(dest_path)"
      ]
    },
    {
      "cell_type": "markdown",
      "metadata": {
        "id": "n4sR61zybDYe"
      },
      "source": [
        "#### IFSP Boituva Portarias"
      ]
    },
    {
      "cell_type": "code",
      "execution_count": null,
      "metadata": {
        "colab": {
          "background_save": true,
          "base_uri": "https://localhost:8080/"
        },
        "id": "6QSapOUUXJri",
        "outputId": "deda8bf2-c737-47d8-92dd-d8ec74d2f21e"
      },
      "outputs": [
        {
          "name": "stdout",
          "output_type": "stream",
          "text": [
            "Downloading Mai_Port_0033_Fiscal de contrato Vigilância.pdf to /content/shared_item/Portarias 2024/MAIO/Mai_Port_0033_Fiscal de contrato Vigilância.pdf\n",
            "Downloading Abr_Port_0032_ENADE ADS_BTV.pdf to /content/shared_item/Portarias 2024/ABRIL/Abr_Port_0032_ENADE ADS_BTV.pdf\n",
            "Downloading Abr_Port_0031_Revogar e Designar CPA DO CAMPUS_BTV.pdf to /content/shared_item/Portarias 2024/ABRIL/Abr_Port_0031_Revogar e Designar CPA DO CAMPUS_BTV.pdf\n",
            "Downloading Abr_Port_0030_Designar Orientadores de Estágio para o ano letivo de 2024.pdf to /content/shared_item/Portarias 2024/ABRIL/Abr_Port_0030_Designar Orientadores de Estágio para o ano letivo de 2024.pdf\n",
            "Downloading Abr_Port_0029_Aprovar ad referendum Projeto Pedagógico do Curso Superior de Tecnologia em Gestão da Produção Industrial.pdf to /content/shared_item/Portarias 2024/ABRIL/Abr_Port_0029_Aprovar ad referendum Projeto Pedagógico do Curso Superior de Tecnologia em Gestão da Produção Industrial.pdf\n",
            "Downloading Abr_Port_0028_Aprovar ad referendum Projeto Pedagógico do Curso Superior de Tecnologia em Processos Gerenciais.pdf to /content/shared_item/Portarias 2024/ABRIL/Abr_Port_0028_Aprovar ad referendum Projeto Pedagógico do Curso Superior de Tecnologia em Processos Gerenciais.pdf\n",
            "Downloading Mar_Port_0027_Designar NDE GPI.pdf to /content/shared_item/Portarias 2024/MARÇO/Mar_Port_0027_Designar NDE GPI.pdf\n",
            "Downloading Mar_Port_0026_Designar a CEIC do PPC de Administração Integrado ao Ensino Médio_BTV.pdf to /content/shared_item/Portarias 2024/MARÇO/Mar_Port_0026_Designar a CEIC do PPC de Administração Integrado ao Ensino Médio_BTV.pdf\n",
            "Downloading Mar_Port_0025_Comissão de Acompanhamento e Fiscalização do Acordo de Cooperação - Alimentação Escolar_BTV.pdf to /content/shared_item/Portarias 2024/MARÇO/Mar_Port_0025_Comissão de Acompanhamento e Fiscalização do Acordo de Cooperação - Alimentação Escolar_BTV.pdf\n",
            "Downloading Mar_Port_0024_Designar CAED 23431.001078.2022-91.pdf to /content/shared_item/Portarias 2024/MARÇO/Mar_Port_0024_Designar CAED 23431.001078.2022-91.pdf\n",
            "Downloading Mar_Port_0023_Alterar Equipe de Formação Continuada.pdf to /content/shared_item/Portarias 2024/MARÇO/Mar_Port_0023_Alterar Equipe de Formação Continuada.pdf\n",
            "Downloading Mar_Port_0022_Revoga e Designa membros do NDE de Licenciatura em Pedagogia_BTV.pdf to /content/shared_item/Portarias 2024/MARÇO/Mar_Port_0022_Revoga e Designa membros do NDE de Licenciatura em Pedagogia_BTV.pdf\n",
            "Downloading Mar_Port_0021_Revogar e Designar a CEIC do PPC do Curso Técnico em Secretaria Escolar_BTV.pdf to /content/shared_item/Portarias 2024/MARÇO/Mar_Port_0021_Revogar e Designar a CEIC do PPC do Curso Técnico em Secretaria Escolar_BTV.pdf\n",
            "Downloading Mar_Port_0020_Colegiado de ADS_BTV.pdf to /content/shared_item/Portarias 2024/MARÇO/Mar_Port_0020_Colegiado de ADS_BTV.pdf\n",
            "Downloading Mar_Port_0019_Designação Banca Pedagogia.pdf to /content/shared_item/Portarias 2024/MARÇO/Mar_Port_0019_Designação Banca Pedagogia.pdf\n",
            "Downloading Mar_Port_0018_Designação Banca Gestão.pdf to /content/shared_item/Portarias 2024/MARÇO/Mar_Port_0018_Designação Banca Gestão.pdf\n",
            "Downloading Mar_Port_0017_Fiscal de contrato de Almoxarifado Virtual.pdf to /content/shared_item/Portarias 2024/MARÇO/Mar_Port_0017_Fiscal de contrato de Almoxarifado Virtual.pdf\n",
            "Downloading Mar_Port_0016_ Designa CAAD Gestão_BTV.pdf to /content/shared_item/Portarias 2024/MARÇO/Mar_Port_0016_ Designa CAAD Gestão_BTV.pdf\n",
            "Downloading Fev_Port_0015_Fiscal de contrato de Impressão.pdf to /content/shared_item/Portarias 2024/FEVEREIRO/Fev_Port_0015_Fiscal de contrato de Impressão.pdf\n",
            "Downloading Fev_Port_0014_Aprovar ad referendum Projeto Pedagógico do Curso Superior em Licenciatura em Pedagogia e EPT.pdf to /content/shared_item/Portarias 2024/FEVEREIRO/Fev_Port_0014_Aprovar ad referendum Projeto Pedagógico do Curso Superior em Licenciatura em Pedagogia e EPT.pdf\n",
            "Downloading Fev_Port_0013_ Designa CAAD Informática_BTV.pdf to /content/shared_item/Portarias 2024/FEVEREIRO/Fev_Port_0013_ Designa CAAD Informática_BTV.pdf\n",
            "Downloading Fev_Port_0012_Colegiado de GTI_BTV.pdf to /content/shared_item/Portarias 2024/FEVEREIRO/Fev_Port_0012_Colegiado de GTI_BTV.pdf\n",
            "Downloading Fev_Port_0011_Designar o COMPESQ - COMITÊ DE PESQUISA, INOVAÇÃO E PÓS-GRADUAÇÃO DO CÂMPUS_BTV.pdf to /content/shared_item/Portarias 2024/FEVEREIRO/Fev_Port_0011_Designar o COMPESQ - COMITÊ DE PESQUISA, INOVAÇÃO E PÓS-GRADUAÇÃO DO CÂMPUS_BTV.pdf\n",
            "Downloading Fev_Port_0010_Conceder RT para professor BTV.pdf to /content/shared_item/Portarias 2024/FEVEREIRO/Fev_Port_0010_Conceder RT para professor BTV.pdf\n",
            "Downloading Fev_Port_0009_Conceder RT para professor BTV.pdf to /content/shared_item/Portarias 2024/FEVEREIRO/Fev_Port_0009_Conceder RT para professor BTV.pdf\n",
            "Downloading Fev_Port_0008_Conceder RT para professor BTV.pdf to /content/shared_item/Portarias 2024/FEVEREIRO/Fev_Port_0008_Conceder RT para professor BTV.pdf\n",
            "Downloading Fev_Port_0007_Conceder RT para professor BTV.pdf to /content/shared_item/Portarias 2024/FEVEREIRO/Fev_Port_0007_Conceder RT para professor BTV.pdf\n",
            "Downloading Fev_Port_0006_Comissão Eleitoral Coordenador de Secretaria Escolar_BTV.pdf to /content/shared_item/Portarias 2024/FEVEREIRO/Fev_Port_0006_Comissão Eleitoral Coordenador de Secretaria Escolar_BTV.pdf\n",
            "Downloading Fev_Port_0005_Comissão Eleitoral Coordenador de Pedagogia EPT_BTV.pdf to /content/shared_item/Portarias 2024/FEVEREIRO/Fev_Port_0005_Comissão Eleitoral Coordenador de Pedagogia EPT_BTV.pdf\n",
            "Downloading Jan_Port_0004_Alterar Comissão de Matricula 2024-1_BTV.pdf to /content/shared_item/Portarias 2024/JANEIRO/Jan_Port_0004_Alterar Comissão de Matricula 2024-1_BTV.pdf\n",
            "Downloading Jan_Port_0003_Comissão de inventário_BTV.pdf to /content/shared_item/Portarias 2024/JANEIRO/Jan_Port_0003_Comissão de inventário_BTV.pdf\n",
            "Downloading Jan_Port_0002_Fiscal de contrato Portaria.pdf to /content/shared_item/Portarias 2024/JANEIRO/Jan_Port_0002_Fiscal de contrato Portaria.pdf\n",
            "Downloading Jan_Port_0001_Comissão de Matricula 2024-1_BTV.pdf to /content/shared_item/Portarias 2024/JANEIRO/Jan_Port_0001_Comissão de Matricula 2024-1_BTV.pdf\n",
            "Downloading Dez_Port_0083_Designar Coordenador do Curso de Licenciatura em Pedagogia EPT até março/2024 to /content/shared_item/Portarias 2023/Dezembro/Dez_Port_0083_Designar Coordenador do Curso de Licenciatura em Pedagogia EPT até março/2024\n",
            "Downloading Dez_Port_0082_Altera e Revoga Portaria e Designa membros do NDE de Engenharia de Produção_BTV.pdf to /content/shared_item/Portarias 2023/Dezembro/Dez_Port_0082_Altera e Revoga Portaria e Designa membros do NDE de Engenharia de Produção_BTV.pdf\n",
            "Downloading Dez_Port_0081_Aprovar ad referendum Calendário 2024.pdf to /content/shared_item/Portarias 2023/Dezembro/Dez_Port_0081_Aprovar ad referendum Calendário 2024.pdf\n",
            "Downloading Dez_Port_0080_Comissão Eleitoral Coordenador de Pedagogia EPT_BTV.pdf to /content/shared_item/Portarias 2023/Dezembro/Dez_Port_0080_Comissão Eleitoral Coordenador de Pedagogia EPT_BTV.pdf\n",
            "Downloading Dez_Port_0079_Comissão Eleitoral Coordenador de Secretaria Escolar_BTV.pdf to /content/shared_item/Portarias 2023/Dezembro/Dez_Port_0079_Comissão Eleitoral Coordenador de Secretaria Escolar_BTV.pdf\n",
            "Downloading Dez_Port_0078_Altera Colegiado de Engenharia de Produção_BTV.pdf to /content/shared_item/Portarias 2023/Dezembro/Dez_Port_0078_Altera Colegiado de Engenharia de Produção_BTV.pdf\n",
            "Downloading Dez_Port_0077_ Designa CAAD Industria_BTV.pdf to /content/shared_item/Portarias 2023/Dezembro/Dez_Port_0077_ Designa CAAD Industria_BTV.pdf\n",
            "Downloading Dez_Port_0076_Altera e Revoga Portaria e Designa membros do NDE de Engenharia de Produção_BTV.pdf to /content/shared_item/Portarias 2023/Dezembro/Dez_Port_0076_Altera e Revoga Portaria e Designa membros do NDE de Engenharia de Produção_BTV.pdf\n",
            "Downloading Nov_Port_0075_Equipe de Formação Continuada.pdf to /content/shared_item/Portarias 2023/Novembro/Nov_Port_0075_Equipe de Formação Continuada.pdf\n",
            "Downloading Nov_Port_0074_Designação Banca Biologia.pdf to /content/shared_item/Portarias 2023/Novembro/Nov_Port_0074_Designação Banca Biologia.pdf\n",
            "Downloading Nov_Port_0073_Designação Banca Educação Física.pdf to /content/shared_item/Portarias 2023/Novembro/Nov_Port_0073_Designação Banca Educação Física.pdf\n",
            "Downloading Nov_Port_0072_Aprovar ad referendum Sábados Letivos.pdf to /content/shared_item/Portarias 2023/Novembro/Nov_Port_0072_Aprovar ad referendum Sábados Letivos.pdf\n",
            "Downloading Out_Port_0071_Designar NDE GPI.pdf to /content/shared_item/Portarias 2023/Outubro/Out_Port_0071_Designar NDE GPI.pdf\n",
            "Downloading Out_Port_0070_Colegiado de Pedagogia_BTV.pdf to /content/shared_item/Portarias 2023/Outubro/Out_Port_0070_Colegiado de Pedagogia_BTV.pdf\n",
            "Downloading Out_Port_0069_Designar NDE Pós-graduação Lato Sensu em Gestão Escolar e Organização do Trabalho Pedagógico.pdf to /content/shared_item/Portarias 2023/Outubro/Out_Port_0069_Designar NDE Pós-graduação Lato Sensu em Gestão Escolar e Organização do Trabalho Pedagógico.pdf\n",
            "Downloading Out_Port_0068_Colegiado de GPI_BTV.pdf to /content/shared_item/Portarias 2023/Outubro/Out_Port_0068_Colegiado de GPI_BTV.pdf\n",
            "Downloading Out_Port_0067_Fiscal de contrato Limpeza.pdf to /content/shared_item/Portarias 2023/Outubro/Out_Port_0067_Fiscal de contrato Limpeza.pdf\n",
            "Downloading Out_Port_0066_Comissão Eleitoral Coordenador de Redes_BTV.pdf to /content/shared_item/Portarias 2023/Outubro/Out_Port_0066_Comissão Eleitoral Coordenador de Redes_BTV.pdf\n",
            "Downloading Out_Port_0065_Designação Banca Eletroeletrônica Mecatrônica.pdf to /content/shared_item/Portarias 2023/Outubro/Out_Port_0065_Designação Banca Eletroeletrônica Mecatrônica.pdf\n",
            "Downloading Set_Port_0064_Designar Comissão de Elaboração do PPC do Curso de Pós-graduação Lato Sensu em Inteligência Artificial e Aprendizado de Máquina..pdf to /content/shared_item/Portarias 2023/Setembro/Set_Port_0064_Designar Comissão de Elaboração do PPC do Curso de Pós-graduação Lato Sensu em Inteligência Artificial e Aprendizado de Máquina..pdf\n",
            "Downloading Set_Port_0063_Designar Comissão do Processo Seletivo do Curso de Pós-graduação Lato Sensu em GTI.pdf to /content/shared_item/Portarias 2023/Setembro/Set_Port_0063_Designar Comissão do Processo Seletivo do Curso de Pós-graduação Lato Sensu em GTI.pdf\n",
            "Downloading Set_Port_0062_Designar NDE Tecnólogo em Processos Gerenciais.pdf to /content/shared_item/Portarias 2023/Setembro/Set_Port_0062_Designar NDE Tecnólogo em Processos Gerenciais.pdf\n",
            "Downloading Set_Port_0061_Colegiado de ADS_BTV.pdf to /content/shared_item/Portarias 2023/Setembro/Set_Port_0061_Colegiado de ADS_BTV.pdf\n",
            "Downloading Set_Port_0060_ Designa CAAD Informática_BTV.pdf to /content/shared_item/Portarias 2023/Setembro/Set_Port_0060_ Designa CAAD Informática_BTV.pdf\n",
            "Downloading Set_Port_0059_Fiscal de contrato recepcionista_BTV.pdf to /content/shared_item/Portarias 2023/Setembro/Set_Port_0059_Fiscal de contrato recepcionista_BTV.pdf\n",
            "Downloading Set_Port_0058_Fiscal de contrato Seguro Acidentes Pessoais para Estagiários.pdf to /content/shared_item/Portarias 2023/Setembro/Set_Port_0058_Fiscal de contrato Seguro Acidentes Pessoais para Estagiários.pdf\n",
            "Downloading Set_Port_0057_Comissão Eleitoral Recomposição Colegiado ADS_BTV.pdf to /content/shared_item/Portarias 2023/Setembro/Set_Port_0057_Comissão Eleitoral Recomposição Colegiado ADS_BTV.pdf\n",
            "Downloading Set_Port_0056_Fiscal de Contrato Seguro Patrimonial.pdf to /content/shared_item/Portarias 2023/Setembro/Set_Port_0056_Fiscal de Contrato Seguro Patrimonial.pdf\n",
            "Downloading Set_Port_0055_Comissão de Desfazimento - BTV.pdf to /content/shared_item/Portarias 2023/Setembro/Set_Port_0055_Comissão de Desfazimento - BTV.pdf\n",
            "Downloading Ago_Port_0054_Aprovar ad referendum Plano de Desenvolvimento Institucional (PDI).pdf to /content/shared_item/Portarias 2023/Agosto/Ago_Port_0054_Aprovar ad referendum Plano de Desenvolvimento Institucional (PDI).pdf\n",
            "Downloading Ago_Port_0052_Aprovar ad referendum Projeto Pedagógico do Curso Técnico em Administração.pdf to /content/shared_item/Portarias 2023/Agosto/Ago_Port_0052_Aprovar ad referendum Projeto Pedagógico do Curso Técnico em Administração.pdf\n",
            "Downloading Ago_Port_0053_Aprovar ad referendum Projeto Pedagógico do Curso Técnico em Secretaria Escolar.pdf to /content/shared_item/Portarias 2023/Agosto/Ago_Port_0053_Aprovar ad referendum Projeto Pedagógico do Curso Técnico em Secretaria Escolar.pdf\n",
            "Downloading Ago_Port_0051_Aprovar ad referendum Projeto Pedagógico do Curso Técnico em Sistemas de Energia Renovável.pdf to /content/shared_item/Portarias 2023/Agosto/Ago_Port_0051_Aprovar ad referendum Projeto Pedagógico do Curso Técnico em Sistemas de Energia Renovável.pdf\n",
            "Downloading Ago_Port_0050_Designa Fiscal de Contrato Internet_BTV.pdf to /content/shared_item/Portarias 2023/Agosto/Ago_Port_0050_Designa Fiscal de Contrato Internet_BTV.pdf\n",
            "Downloading Ago_Port_0049_Comissão de Matricula 2023-2_BTV.pdf to /content/shared_item/Portarias 2023/Agosto/Ago_Port_0049_Comissão de Matricula 2023-2_BTV.pdf\n",
            "Downloading Ago_Port_0048_Comissão Eleitoral Recomposição Colegiado Pedagogia_BTV.pdf to /content/shared_item/Portarias 2023/Agosto/Ago_Port_0048_Comissão Eleitoral Recomposição Colegiado Pedagogia_BTV.pdf\n",
            "Downloading Ago_Port_0047_Revogar e Designar Fiscalização do fornecimento de agua mineral para o Câmpus Boituva do IFSP_BTV.pdf to /content/shared_item/Portarias 2023/Agosto/Ago_Port_0047_Revogar e Designar Fiscalização do fornecimento de agua mineral para o Câmpus Boituva do IFSP_BTV.pdf\n",
            "Downloading Ago_Port_0046_Designa Comissão para Semana Nacional de Ciência e Tecnologia.pdf to /content/shared_item/Portarias 2023/Agosto/Ago_Port_0046_Designa Comissão para Semana Nacional de Ciência e Tecnologia.pdf\n",
            "Downloading Ago_Port_0045_Designar o COMPESQ - COMITÊ DE PESQUISA, INOVAÇÃO E PÓS-GRADUAÇÃO DO CÂMPUS_BTV.pdf to /content/shared_item/Portarias 2023/Agosto/Ago_Port_0045_Designar o COMPESQ - COMITÊ DE PESQUISA, INOVAÇÃO E PÓS-GRADUAÇÃO DO CÂMPUS_BTV.pdf\n",
            "Downloading Ago_Port_0044_Altera e Revoga Portaria e Designa membros do NDE de Engenharia de Produção_BTV.pdf to /content/shared_item/Portarias 2023/Agosto/Ago_Port_0044_Altera e Revoga Portaria e Designa membros do NDE de Engenharia de Produção_BTV.pdf\n",
            "Downloading Ago_Port_0043_Comissão Eleitoral ConCam_BTV.pdf to /content/shared_item/Portarias 2023/Agosto/Ago_Port_0043_Comissão Eleitoral ConCam_BTV.pdf\n",
            "Downloading Ago_Port_0042_Revoga e Designa Colegiado de Licenciatura em Pedagogia EPT_BTV.pdf to /content/shared_item/Portarias 2023/Agosto/Ago_Port_0042_Revoga e Designa Colegiado de Licenciatura em Pedagogia EPT_BTV.pdf\n",
            "Downloading Ago_Port_0041_Designar a Comissão de Divulgação do Campus Boituva 2023.pdf to /content/shared_item/Portarias 2023/Agosto/Ago_Port_0041_Designar a Comissão de Divulgação do Campus Boituva 2023.pdf\n",
            "Downloading Ago_Port_0040_Revoga e Designa Colegiado de Licenciatura em Pedagogia EPT_BTV.pdf to /content/shared_item/Portarias 2023/Agosto/Ago_Port_0040_Revoga e Designa Colegiado de Licenciatura em Pedagogia EPT_BTV.pdf\n",
            "Downloading Jul_Port_0039_Designar o COMPESQ - COMITÊ DE PESQUISA, INOVAÇÃO E PÓS-GRADUAÇÃO DO CÂMPUS_BTV.pdf to /content/shared_item/Portarias 2023/Julho/Jul_Port_0039_Designar o COMPESQ - COMITÊ DE PESQUISA, INOVAÇÃO E PÓS-GRADUAÇÃO DO CÂMPUS_BTV.pdf\n",
            "Downloading Jul_Port_0038_Altera e Revoga Portaria e Designa membros do NDE de Engenharia de Produção_BTV.pdf to /content/shared_item/Portarias 2023/Julho/Jul_Port_0038_Altera e Revoga Portaria e Designa membros do NDE de Engenharia de Produção_BTV.pdf\n",
            "Downloading Jul_Port_0037_Designa Docentes PRONATEC 2023_BTV.pdf to /content/shared_item/Portarias 2023/Julho/Jul_Port_0037_Designa Docentes PRONATEC 2023_BTV.pdf\n",
            "Downloading Jun_Port_0034_Aprovar ad referendum PPC CURSO DE LICENCIATURA EM PEDAGOGIA E EDUCAÇÃO PROFISSIONAL E TECNOLÓGICA Modalidade a Distância.pdf to /content/shared_item/Portarias 2023/Junho/Jun_Port_0034_Aprovar ad referendum PPC CURSO DE LICENCIATURA EM PEDAGOGIA E EDUCAÇÃO PROFISSIONAL E TECNOLÓGICA Modalidade a Distância.pdf\n",
            "Downloading Jun_Port_0036_Designação de Banca - Letras Espanhol.pdf to /content/shared_item/Portarias 2023/Junho/Jun_Port_0036_Designação de Banca - Letras Espanhol.pdf\n",
            "Downloading Jun_Port_0035_Designação de Banca - Artes.pdf to /content/shared_item/Portarias 2023/Junho/Jun_Port_0035_Designação de Banca - Artes.pdf\n",
            "Downloading Jun_Port_0033_Comissão de Matricula 2023-2_BTV.pdf to /content/shared_item/Portarias 2023/Junho/Jun_Port_0033_Comissão de Matricula 2023-2_BTV.pdf\n",
            "Downloading Jun_Port_0032_Revogar e Designar CPA DO CÂMPUS_BTV.pdf to /content/shared_item/Portarias 2023/Junho/Jun_Port_0032_Revogar e Designar CPA DO CÂMPUS_BTV.pdf\n",
            "Downloading Jun_Port_0031_Fiscal de contrato NEE NAPNE_BTV.pdf to /content/shared_item/Portarias 2023/Junho/Jun_Port_0031_Fiscal de contrato NEE NAPNE_BTV.pdf\n",
            "Downloading Jun_Port_0030_Fiscal de contrato copeiragem_BTV.pdf to /content/shared_item/Portarias 2023/Junho/Jun_Port_0030_Fiscal de contrato copeiragem_BTV.pdf\n",
            "Downloading Jun_Port_0029_Rev e Designar a CEIC do PPC de Administração_BTV.pdf to /content/shared_item/Portarias 2023/Junho/Jun_Port_0029_Rev e Designar a CEIC do PPC de Administração_BTV.pdf\n",
            "Downloading Mai_Port_0028_Altera Equipe Multidisciplinar para CEICs-EaD_BTV.pdf to /content/shared_item/Portarias 2023/Maio/Mai_Port_0028_Altera Equipe Multidisciplinar para CEICs-EaD_BTV.pdf\n",
            "Downloading Mai_Port_0027_Altera NDE de ADS_BTV.pdf to /content/shared_item/Portarias 2023/Maio/Mai_Port_0027_Altera NDE de ADS_BTV.pdf\n",
            "Downloading Mai_Port_0026_Altera NDE de Engenharia_BTV.pdf to /content/shared_item/Portarias 2023/Maio/Mai_Port_0026_Altera NDE de Engenharia_BTV.pdf\n",
            "Downloading Mai_Port_0025_Comissão Eleitoral Recomposição Colegiado Pedagogia_BTV.pdf to /content/shared_item/Portarias 2023/Maio/Mai_Port_0025_Comissão Eleitoral Recomposição Colegiado Pedagogia_BTV.pdf\n",
            "Downloading Mai_Port_0024_Comissão Eleitoral Recomposição Colegiado Licenciatura EPT_BTV.pdf to /content/shared_item/Portarias 2023/Maio/Mai_Port_0024_Comissão Eleitoral Recomposição Colegiado Licenciatura EPT_BTV.pdf\n",
            "Downloading Mai_Port_0023_Comissão Qualifica Mais Energif_BTV 2023 Apoio Administrativo.pdf to /content/shared_item/Portarias 2023/Maio/Mai_Port_0023_Comissão Qualifica Mais Energif_BTV 2023 Apoio Administrativo.pdf\n",
            "Downloading Mai_Port_0022_Rev e Designar a CEIC do PPC de Redes de Computadores_BTV.pdf to /content/shared_item/Portarias 2023/Maio/Mai_Port_0022_Rev e Designar a CEIC do PPC de Redes de Computadores_BTV.pdf\n",
            "Downloading Abr_Port_0021_Rev e Designar a CEIC do PPC de Redes de Computadores_BTV.pdf to /content/shared_item/Portarias 2023/Abril/Abr_Port_0021_Rev e Designar a CEIC do PPC de Redes de Computadores_BTV.pdf\n",
            "Downloading Abr_Port_0019_Comissão interna de seleção Qualifica Mais Energif_BTV.pdf to /content/shared_item/Portarias 2023/Abril/Abr_Port_0019_Comissão interna de seleção Qualifica Mais Energif_BTV.pdf\n",
            "Downloading Abr_Port_0020_Avaliação de Recurso dos Projetos de Extensão.pdf to /content/shared_item/Portarias 2023/Abril/Abr_Port_0020_Avaliação de Recurso dos Projetos de Extensão.pdf\n",
            "Downloading Abr_Port_0018_Revoga e designa composição do Napne_BTV.pdf to /content/shared_item/Portarias 2023/Abril/Abr_Port_0018_Revoga e designa composição do Napne_BTV.pdf\n",
            "Downloading Abr_Port_0014_Rev e Designa CAAD Nucleo Comum_BTV.pdf to /content/shared_item/Portarias 2023/Abril/Abr_Port_0014_Rev e Designa CAAD Nucleo Comum_BTV.pdf\n",
            "Downloading Abr_Port_0013_Rev e Designar a CEIC do PPC de Automação Industrial Concomitante-Subsequente_BTV.pdf to /content/shared_item/Portarias 2023/Abril/Abr_Port_0013_Rev e Designar a CEIC do PPC de Automação Industrial Concomitante-Subsequente_BTV.pdf\n",
            "Downloading Abr_Port_0012_Rev e Designar a CEIC do PPC de Automação Industrial Integrado_BTV.pdf to /content/shared_item/Portarias 2023/Abril/Abr_Port_0012_Rev e Designar a CEIC do PPC de Automação Industrial Integrado_BTV.pdf\n",
            "Downloading Abr_Port_0015_Revoga e designa composição do Napne_BTV.pdf to /content/shared_item/Portarias 2023/Abril/Abr_Port_0015_Revoga e designa composição do Napne_BTV.pdf\n",
            "Downloading Abr_Port_0016_Revogar e Designar a CEIC do PPC do Curso Técnico em Secretaria Escolar_BTV.pdf to /content/shared_item/Portarias 2023/Abril/Abr_Port_0016_Revogar e Designar a CEIC do PPC do Curso Técnico em Secretaria Escolar_BTV.pdf\n"
          ]
        }
      ],
      "source": [
        "item_id = '1NX5kRKEGV3t5X0k_wb3RJHNbCLASiiiw'\n",
        "destination_path = '/content/shared_item'\n",
        "download_drive_item(drive, item_id, destination_path)"
      ]
    },
    {
      "cell_type": "markdown",
      "metadata": {
        "id": "uMvkhmQnUsDF"
      },
      "source": [
        "### Estatuto"
      ]
    },
    {
      "cell_type": "code",
      "execution_count": null,
      "metadata": {
        "id": "cB867KUPUcwg"
      },
      "outputs": [],
      "source": [
        "file_id = '1XzjBDrh0N3TxUbKc4Jjs5pEaONxj7lx2'\n",
        "downloaded_file = drive.CreateFile({'id': file_id})\n",
        "downloaded_file.GetContentFile('ESTATUTO IFSP-VERSÃO VIGENTE-Resolução 08-2014--ALERAÇÃO da Resolução 872-2013.pdf')"
      ]
    }
  ],
  "metadata": {
    "colab": {
      "provenance": [],
      "include_colab_link": true
    },
    "kernelspec": {
      "display_name": "Python 3",
      "name": "python3"
    },
    "language_info": {
      "name": "python"
    }
  },
  "nbformat": 4,
  "nbformat_minor": 0
}